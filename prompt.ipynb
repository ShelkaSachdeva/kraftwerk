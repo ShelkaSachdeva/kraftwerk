{
 "cells": [
  {
   "cell_type": "markdown",
   "metadata": {
    "id": "CcUT6Fon_qRE"
   },
   "source": [
    "### Required Assignment 5.1: Will the Customer Accept the Coupon?\n",
    "\n",
    "**Context**\n",
    "\n",
    "Imagine driving through town and a coupon is delivered to your cell phone for a restaurant near where you are driving. Would you accept that coupon and take a short detour to the restaurant? Would you accept the coupon but use it on a subsequent trip? Would you ignore the coupon entirely? What if the coupon was for a bar instead of a restaurant? What about a coffee house? Would you accept a bar coupon with a minor passenger in the car? What about if it was just you and your partner in the car? Would weather impact the rate of acceptance? What about the time of day?\n",
    "\n",
    "Obviously, proximity to the business is a factor on whether the coupon is delivered to the driver or not, but what are the factors that determine whether a driver accepts the coupon once it is delivered to them? How would you determine whether a driver is likely to accept a coupon?\n",
    "\n",
    "**Overview**\n",
    "\n",
    "The goal of this project is to use what you know about visualizations and probability distributions to distinguish between customers who accepted a driving coupon versus those that did not.\n",
    "\n",
    "**Data**\n",
    "\n",
    "This data comes to us from the UCI Machine Learning repository and was collected via a survey on Amazon Mechanical Turk. The survey describes different driving scenarios including the destination, current time, weather, passenger, etc., and then ask the person whether he will accept the coupon if he is the driver. Answers that the user will drive there ‘right away’ or ‘later before the coupon expires’ are labeled as ‘Y = 1’ and answers ‘no, I do not want the coupon’ are labeled as ‘Y = 0’.  There are five different types of coupons -- less expensive restaurants (under \\$20), coffee houses, carry out & take away, bar, and more expensive restaurants (\\$20 - $50)."
   ]
  },
  {
   "cell_type": "markdown",
   "metadata": {
    "id": "1wORvMBJ_qRF"
   },
   "source": [
    "**Deliverables**\n",
    "\n",
    "Your final product should be a brief report that highlights the differences between customers who did and did not accept the coupons.  To explore the data you will utilize your knowledge of plotting, statistical summaries, and visualization using Python. You will publish your findings in a public facing github repository as your first portfolio piece.\n",
    "\n",
    "\n",
    "\n"
   ]
  },
  {
   "cell_type": "markdown",
   "metadata": {
    "id": "pG6_Ym6q_qRG"
   },
   "source": [
    "### Data Description\n",
    "Keep in mind that these values mentioned below are average values.\n",
    "\n",
    "The attributes of this data set include:\n",
    "1. User attributes\n",
    "    -  Gender: male, female\n",
    "    -  Age: below 21, 21 to 25, 26 to 30, etc.\n",
    "    -  Marital Status: single, married partner, unmarried partner, or widowed\n",
    "    -  Number of children: 0, 1, or more than 1\n",
    "    -  Education: high school, bachelors degree, associates degree, or graduate degree\n",
    "    -  Occupation: architecture & engineering, business & financial, etc.\n",
    "    -  Annual income: less than \\\\$12500, \\\\$12500 - \\\\$24999, \\\\$25000 - \\\\$37499, etc.\n",
    "    -  Number of times that he/she goes to a bar: 0, less than 1, 1 to 3, 4 to 8 or greater than 8\n",
    "    -  Number of times that he/she buys takeaway food: 0, less than 1, 1 to 3, 4 to 8 or greater\n",
    "    than 8\n",
    "    -  Number of times that he/she goes to a coffee house: 0, less than 1, 1 to 3, 4 to 8 or\n",
    "    greater than 8\n",
    "    -  Number of times that he/she eats at a restaurant with average expense less than \\\\$20 per\n",
    "    person: 0, less than 1, 1 to 3, 4 to 8 or greater than 8\n",
    "    -  Number of times that he/she goes to a bar: 0, less than 1, 1 to 3, 4 to 8 or greater than 8\n",
    "    \n",
    "\n",
    "2. Contextual attributes\n",
    "    - Driving destination: home, work, or no urgent destination\n",
    "    - Location of user, coupon and destination: we provide a map to show the geographical\n",
    "    location of the user, destination, and the venue, and we mark the distance between each\n",
    "    two places with time of driving. The user can see whether the venue is in the same\n",
    "    direction as the destination.\n",
    "    - Weather: sunny, rainy, or snowy\n",
    "    - Temperature: 30F, 55F, or 80F\n",
    "    - Time: 10AM, 2PM, or 6PM\n",
    "    - Passenger: alone, partner, kid(s), or friend(s)\n",
    "\n",
    "\n",
    "3. Coupon attributes\n",
    "    - time before it expires: 2 hours or one day"
   ]
  },
  {
   "cell_type": "code",
   "execution_count": 635,
   "metadata": {
    "id": "dzNoP3o__qRG"
   },
   "outputs": [],
   "source": [
    "import matplotlib.pyplot as plt\n",
    "import seaborn as sns\n",
    "import pandas as pd\n",
    "import numpy as np\n",
    "import plotly.express as px"
   ]
  },
  {
   "cell_type": "markdown",
   "metadata": {
    "id": "Ct8pI1uE_qRG"
   },
   "source": [
    "### Problems\n",
    "\n",
    "Use the prompts below to get started with your data analysis.  \n",
    "\n",
    "1. Read in the `coupons.csv` file.\n",
    "\n",
    "\n"
   ]
  },
  {
   "cell_type": "code",
   "execution_count": 702,
   "metadata": {
    "id": "X0vbffYg_qRH"
   },
   "outputs": [],
   "source": [
    "data = pd.read_csv('coupons.csv')"
   ]
  },
  {
   "cell_type": "code",
   "execution_count": 703,
   "metadata": {
    "id": "TXofQ_DF_qRH",
    "outputId": "2fc96a2c-1112-4b54-f24f-dbb9bc88abfb"
   },
   "outputs": [
    {
     "data": {
      "text/html": [
       "<div>\n",
       "<style scoped>\n",
       "    .dataframe tbody tr th:only-of-type {\n",
       "        vertical-align: middle;\n",
       "    }\n",
       "\n",
       "    .dataframe tbody tr th {\n",
       "        vertical-align: top;\n",
       "    }\n",
       "\n",
       "    .dataframe thead th {\n",
       "        text-align: right;\n",
       "    }\n",
       "</style>\n",
       "<table border=\"1\" class=\"dataframe\">\n",
       "  <thead>\n",
       "    <tr style=\"text-align: right;\">\n",
       "      <th></th>\n",
       "      <th>destination</th>\n",
       "      <th>passanger</th>\n",
       "      <th>weather</th>\n",
       "      <th>temperature</th>\n",
       "      <th>time</th>\n",
       "      <th>coupon</th>\n",
       "      <th>expiration</th>\n",
       "      <th>gender</th>\n",
       "      <th>age</th>\n",
       "      <th>maritalStatus</th>\n",
       "      <th>...</th>\n",
       "      <th>CoffeeHouse</th>\n",
       "      <th>CarryAway</th>\n",
       "      <th>RestaurantLessThan20</th>\n",
       "      <th>Restaurant20To50</th>\n",
       "      <th>toCoupon_GEQ5min</th>\n",
       "      <th>toCoupon_GEQ15min</th>\n",
       "      <th>toCoupon_GEQ25min</th>\n",
       "      <th>direction_same</th>\n",
       "      <th>direction_opp</th>\n",
       "      <th>Y</th>\n",
       "    </tr>\n",
       "  </thead>\n",
       "  <tbody>\n",
       "    <tr>\n",
       "      <th>0</th>\n",
       "      <td>No Urgent Place</td>\n",
       "      <td>Alone</td>\n",
       "      <td>Sunny</td>\n",
       "      <td>55</td>\n",
       "      <td>2PM</td>\n",
       "      <td>Restaurant(&lt;20)</td>\n",
       "      <td>1d</td>\n",
       "      <td>Female</td>\n",
       "      <td>21</td>\n",
       "      <td>Unmarried partner</td>\n",
       "      <td>...</td>\n",
       "      <td>never</td>\n",
       "      <td>NaN</td>\n",
       "      <td>4~8</td>\n",
       "      <td>1~3</td>\n",
       "      <td>1</td>\n",
       "      <td>0</td>\n",
       "      <td>0</td>\n",
       "      <td>0</td>\n",
       "      <td>1</td>\n",
       "      <td>1</td>\n",
       "    </tr>\n",
       "    <tr>\n",
       "      <th>1</th>\n",
       "      <td>No Urgent Place</td>\n",
       "      <td>Friend(s)</td>\n",
       "      <td>Sunny</td>\n",
       "      <td>80</td>\n",
       "      <td>10AM</td>\n",
       "      <td>Coffee House</td>\n",
       "      <td>2h</td>\n",
       "      <td>Female</td>\n",
       "      <td>21</td>\n",
       "      <td>Unmarried partner</td>\n",
       "      <td>...</td>\n",
       "      <td>never</td>\n",
       "      <td>NaN</td>\n",
       "      <td>4~8</td>\n",
       "      <td>1~3</td>\n",
       "      <td>1</td>\n",
       "      <td>0</td>\n",
       "      <td>0</td>\n",
       "      <td>0</td>\n",
       "      <td>1</td>\n",
       "      <td>0</td>\n",
       "    </tr>\n",
       "    <tr>\n",
       "      <th>2</th>\n",
       "      <td>No Urgent Place</td>\n",
       "      <td>Friend(s)</td>\n",
       "      <td>Sunny</td>\n",
       "      <td>80</td>\n",
       "      <td>10AM</td>\n",
       "      <td>Carry out &amp; Take away</td>\n",
       "      <td>2h</td>\n",
       "      <td>Female</td>\n",
       "      <td>21</td>\n",
       "      <td>Unmarried partner</td>\n",
       "      <td>...</td>\n",
       "      <td>never</td>\n",
       "      <td>NaN</td>\n",
       "      <td>4~8</td>\n",
       "      <td>1~3</td>\n",
       "      <td>1</td>\n",
       "      <td>1</td>\n",
       "      <td>0</td>\n",
       "      <td>0</td>\n",
       "      <td>1</td>\n",
       "      <td>1</td>\n",
       "    </tr>\n",
       "    <tr>\n",
       "      <th>3</th>\n",
       "      <td>No Urgent Place</td>\n",
       "      <td>Friend(s)</td>\n",
       "      <td>Sunny</td>\n",
       "      <td>80</td>\n",
       "      <td>2PM</td>\n",
       "      <td>Coffee House</td>\n",
       "      <td>2h</td>\n",
       "      <td>Female</td>\n",
       "      <td>21</td>\n",
       "      <td>Unmarried partner</td>\n",
       "      <td>...</td>\n",
       "      <td>never</td>\n",
       "      <td>NaN</td>\n",
       "      <td>4~8</td>\n",
       "      <td>1~3</td>\n",
       "      <td>1</td>\n",
       "      <td>1</td>\n",
       "      <td>0</td>\n",
       "      <td>0</td>\n",
       "      <td>1</td>\n",
       "      <td>0</td>\n",
       "    </tr>\n",
       "    <tr>\n",
       "      <th>4</th>\n",
       "      <td>No Urgent Place</td>\n",
       "      <td>Friend(s)</td>\n",
       "      <td>Sunny</td>\n",
       "      <td>80</td>\n",
       "      <td>2PM</td>\n",
       "      <td>Coffee House</td>\n",
       "      <td>1d</td>\n",
       "      <td>Female</td>\n",
       "      <td>21</td>\n",
       "      <td>Unmarried partner</td>\n",
       "      <td>...</td>\n",
       "      <td>never</td>\n",
       "      <td>NaN</td>\n",
       "      <td>4~8</td>\n",
       "      <td>1~3</td>\n",
       "      <td>1</td>\n",
       "      <td>1</td>\n",
       "      <td>0</td>\n",
       "      <td>0</td>\n",
       "      <td>1</td>\n",
       "      <td>0</td>\n",
       "    </tr>\n",
       "  </tbody>\n",
       "</table>\n",
       "<p>5 rows × 26 columns</p>\n",
       "</div>"
      ],
      "text/plain": [
       "       destination  passanger weather  temperature  time  \\\n",
       "0  No Urgent Place      Alone   Sunny           55   2PM   \n",
       "1  No Urgent Place  Friend(s)   Sunny           80  10AM   \n",
       "2  No Urgent Place  Friend(s)   Sunny           80  10AM   \n",
       "3  No Urgent Place  Friend(s)   Sunny           80   2PM   \n",
       "4  No Urgent Place  Friend(s)   Sunny           80   2PM   \n",
       "\n",
       "                  coupon expiration  gender age      maritalStatus  ...  \\\n",
       "0        Restaurant(<20)         1d  Female  21  Unmarried partner  ...   \n",
       "1           Coffee House         2h  Female  21  Unmarried partner  ...   \n",
       "2  Carry out & Take away         2h  Female  21  Unmarried partner  ...   \n",
       "3           Coffee House         2h  Female  21  Unmarried partner  ...   \n",
       "4           Coffee House         1d  Female  21  Unmarried partner  ...   \n",
       "\n",
       "   CoffeeHouse CarryAway RestaurantLessThan20 Restaurant20To50  \\\n",
       "0        never       NaN                  4~8              1~3   \n",
       "1        never       NaN                  4~8              1~3   \n",
       "2        never       NaN                  4~8              1~3   \n",
       "3        never       NaN                  4~8              1~3   \n",
       "4        never       NaN                  4~8              1~3   \n",
       "\n",
       "  toCoupon_GEQ5min toCoupon_GEQ15min toCoupon_GEQ25min direction_same  \\\n",
       "0                1                 0                 0              0   \n",
       "1                1                 0                 0              0   \n",
       "2                1                 1                 0              0   \n",
       "3                1                 1                 0              0   \n",
       "4                1                 1                 0              0   \n",
       "\n",
       "  direction_opp  Y  \n",
       "0             1  1  \n",
       "1             1  0  \n",
       "2             1  1  \n",
       "3             1  0  \n",
       "4             1  0  \n",
       "\n",
       "[5 rows x 26 columns]"
      ]
     },
     "execution_count": 703,
     "metadata": {},
     "output_type": "execute_result"
    }
   ],
   "source": [
    "data.head()"
   ]
  },
  {
   "cell_type": "markdown",
   "metadata": {
    "id": "GcDs78ZH_qRH"
   },
   "source": [
    "2. Investigate the dataset for missing or problematic data."
   ]
  },
  {
   "cell_type": "code",
   "execution_count": 330,
   "metadata": {},
   "outputs": [
    {
     "data": {
      "application/vnd.plotly.v1+json": {
       "config": {
        "plotlyServerURL": "https://plot.ly"
       },
       "data": [
        {
         "alignmentgroup": "True",
         "hovertemplate": "Category=%{x}<br>Missing Count=%{text}<extra></extra>",
         "legendgroup": "",
         "marker": {
          "color": "#636efa",
          "pattern": {
           "shape": ""
          }
         },
         "name": "",
         "offsetgroup": "",
         "orientation": "v",
         "showlegend": false,
         "text": [
          0,
          0,
          0,
          0,
          0,
          0,
          0,
          0,
          0,
          0,
          0,
          0,
          0,
          0,
          0,
          0,
          0,
          0,
          0,
          0,
          107,
          130,
          151,
          189,
          217,
          12576
         ],
         "textposition": "outside",
         "type": "bar",
         "x": [
          "destination",
          "direction_same",
          "toCoupon_GEQ25min",
          "toCoupon_GEQ15min",
          "toCoupon_GEQ5min",
          "income",
          "direction_opp",
          "education",
          "has_children",
          "occupation",
          "age",
          "gender",
          "expiration",
          "coupon",
          "time",
          "temperature",
          "weather",
          "passanger",
          "maritalStatus",
          "Y",
          "Bar",
          "RestaurantLessThan20",
          "CarryAway",
          "Restaurant20To50",
          "CoffeeHouse",
          "car"
         ],
         "xaxis": "x",
         "y": [
          0,
          0,
          0,
          0,
          0,
          0,
          0,
          0,
          0,
          0,
          0,
          0,
          0,
          0,
          0,
          0,
          0,
          0,
          0,
          0,
          107,
          130,
          151,
          189,
          217,
          12576
         ],
         "yaxis": "y"
        }
       ],
       "layout": {
        "barmode": "relative",
        "height": 600,
        "legend": {
         "tracegroupgap": 0
        },
        "template": {
         "data": {
          "bar": [
           {
            "error_x": {
             "color": "#2a3f5f"
            },
            "error_y": {
             "color": "#2a3f5f"
            },
            "marker": {
             "line": {
              "color": "#E5ECF6",
              "width": 0.5
             },
             "pattern": {
              "fillmode": "overlay",
              "size": 10,
              "solidity": 0.2
             }
            },
            "type": "bar"
           }
          ],
          "barpolar": [
           {
            "marker": {
             "line": {
              "color": "#E5ECF6",
              "width": 0.5
             },
             "pattern": {
              "fillmode": "overlay",
              "size": 10,
              "solidity": 0.2
             }
            },
            "type": "barpolar"
           }
          ],
          "carpet": [
           {
            "aaxis": {
             "endlinecolor": "#2a3f5f",
             "gridcolor": "white",
             "linecolor": "white",
             "minorgridcolor": "white",
             "startlinecolor": "#2a3f5f"
            },
            "baxis": {
             "endlinecolor": "#2a3f5f",
             "gridcolor": "white",
             "linecolor": "white",
             "minorgridcolor": "white",
             "startlinecolor": "#2a3f5f"
            },
            "type": "carpet"
           }
          ],
          "choropleth": [
           {
            "colorbar": {
             "outlinewidth": 0,
             "ticks": ""
            },
            "type": "choropleth"
           }
          ],
          "contour": [
           {
            "colorbar": {
             "outlinewidth": 0,
             "ticks": ""
            },
            "colorscale": [
             [
              0,
              "#0d0887"
             ],
             [
              0.1111111111111111,
              "#46039f"
             ],
             [
              0.2222222222222222,
              "#7201a8"
             ],
             [
              0.3333333333333333,
              "#9c179e"
             ],
             [
              0.4444444444444444,
              "#bd3786"
             ],
             [
              0.5555555555555556,
              "#d8576b"
             ],
             [
              0.6666666666666666,
              "#ed7953"
             ],
             [
              0.7777777777777778,
              "#fb9f3a"
             ],
             [
              0.8888888888888888,
              "#fdca26"
             ],
             [
              1,
              "#f0f921"
             ]
            ],
            "type": "contour"
           }
          ],
          "contourcarpet": [
           {
            "colorbar": {
             "outlinewidth": 0,
             "ticks": ""
            },
            "type": "contourcarpet"
           }
          ],
          "heatmap": [
           {
            "colorbar": {
             "outlinewidth": 0,
             "ticks": ""
            },
            "colorscale": [
             [
              0,
              "#0d0887"
             ],
             [
              0.1111111111111111,
              "#46039f"
             ],
             [
              0.2222222222222222,
              "#7201a8"
             ],
             [
              0.3333333333333333,
              "#9c179e"
             ],
             [
              0.4444444444444444,
              "#bd3786"
             ],
             [
              0.5555555555555556,
              "#d8576b"
             ],
             [
              0.6666666666666666,
              "#ed7953"
             ],
             [
              0.7777777777777778,
              "#fb9f3a"
             ],
             [
              0.8888888888888888,
              "#fdca26"
             ],
             [
              1,
              "#f0f921"
             ]
            ],
            "type": "heatmap"
           }
          ],
          "heatmapgl": [
           {
            "colorbar": {
             "outlinewidth": 0,
             "ticks": ""
            },
            "colorscale": [
             [
              0,
              "#0d0887"
             ],
             [
              0.1111111111111111,
              "#46039f"
             ],
             [
              0.2222222222222222,
              "#7201a8"
             ],
             [
              0.3333333333333333,
              "#9c179e"
             ],
             [
              0.4444444444444444,
              "#bd3786"
             ],
             [
              0.5555555555555556,
              "#d8576b"
             ],
             [
              0.6666666666666666,
              "#ed7953"
             ],
             [
              0.7777777777777778,
              "#fb9f3a"
             ],
             [
              0.8888888888888888,
              "#fdca26"
             ],
             [
              1,
              "#f0f921"
             ]
            ],
            "type": "heatmapgl"
           }
          ],
          "histogram": [
           {
            "marker": {
             "pattern": {
              "fillmode": "overlay",
              "size": 10,
              "solidity": 0.2
             }
            },
            "type": "histogram"
           }
          ],
          "histogram2d": [
           {
            "colorbar": {
             "outlinewidth": 0,
             "ticks": ""
            },
            "colorscale": [
             [
              0,
              "#0d0887"
             ],
             [
              0.1111111111111111,
              "#46039f"
             ],
             [
              0.2222222222222222,
              "#7201a8"
             ],
             [
              0.3333333333333333,
              "#9c179e"
             ],
             [
              0.4444444444444444,
              "#bd3786"
             ],
             [
              0.5555555555555556,
              "#d8576b"
             ],
             [
              0.6666666666666666,
              "#ed7953"
             ],
             [
              0.7777777777777778,
              "#fb9f3a"
             ],
             [
              0.8888888888888888,
              "#fdca26"
             ],
             [
              1,
              "#f0f921"
             ]
            ],
            "type": "histogram2d"
           }
          ],
          "histogram2dcontour": [
           {
            "colorbar": {
             "outlinewidth": 0,
             "ticks": ""
            },
            "colorscale": [
             [
              0,
              "#0d0887"
             ],
             [
              0.1111111111111111,
              "#46039f"
             ],
             [
              0.2222222222222222,
              "#7201a8"
             ],
             [
              0.3333333333333333,
              "#9c179e"
             ],
             [
              0.4444444444444444,
              "#bd3786"
             ],
             [
              0.5555555555555556,
              "#d8576b"
             ],
             [
              0.6666666666666666,
              "#ed7953"
             ],
             [
              0.7777777777777778,
              "#fb9f3a"
             ],
             [
              0.8888888888888888,
              "#fdca26"
             ],
             [
              1,
              "#f0f921"
             ]
            ],
            "type": "histogram2dcontour"
           }
          ],
          "mesh3d": [
           {
            "colorbar": {
             "outlinewidth": 0,
             "ticks": ""
            },
            "type": "mesh3d"
           }
          ],
          "parcoords": [
           {
            "line": {
             "colorbar": {
              "outlinewidth": 0,
              "ticks": ""
             }
            },
            "type": "parcoords"
           }
          ],
          "pie": [
           {
            "automargin": true,
            "type": "pie"
           }
          ],
          "scatter": [
           {
            "fillpattern": {
             "fillmode": "overlay",
             "size": 10,
             "solidity": 0.2
            },
            "type": "scatter"
           }
          ],
          "scatter3d": [
           {
            "line": {
             "colorbar": {
              "outlinewidth": 0,
              "ticks": ""
             }
            },
            "marker": {
             "colorbar": {
              "outlinewidth": 0,
              "ticks": ""
             }
            },
            "type": "scatter3d"
           }
          ],
          "scattercarpet": [
           {
            "marker": {
             "colorbar": {
              "outlinewidth": 0,
              "ticks": ""
             }
            },
            "type": "scattercarpet"
           }
          ],
          "scattergeo": [
           {
            "marker": {
             "colorbar": {
              "outlinewidth": 0,
              "ticks": ""
             }
            },
            "type": "scattergeo"
           }
          ],
          "scattergl": [
           {
            "marker": {
             "colorbar": {
              "outlinewidth": 0,
              "ticks": ""
             }
            },
            "type": "scattergl"
           }
          ],
          "scattermapbox": [
           {
            "marker": {
             "colorbar": {
              "outlinewidth": 0,
              "ticks": ""
             }
            },
            "type": "scattermapbox"
           }
          ],
          "scatterpolar": [
           {
            "marker": {
             "colorbar": {
              "outlinewidth": 0,
              "ticks": ""
             }
            },
            "type": "scatterpolar"
           }
          ],
          "scatterpolargl": [
           {
            "marker": {
             "colorbar": {
              "outlinewidth": 0,
              "ticks": ""
             }
            },
            "type": "scatterpolargl"
           }
          ],
          "scatterternary": [
           {
            "marker": {
             "colorbar": {
              "outlinewidth": 0,
              "ticks": ""
             }
            },
            "type": "scatterternary"
           }
          ],
          "surface": [
           {
            "colorbar": {
             "outlinewidth": 0,
             "ticks": ""
            },
            "colorscale": [
             [
              0,
              "#0d0887"
             ],
             [
              0.1111111111111111,
              "#46039f"
             ],
             [
              0.2222222222222222,
              "#7201a8"
             ],
             [
              0.3333333333333333,
              "#9c179e"
             ],
             [
              0.4444444444444444,
              "#bd3786"
             ],
             [
              0.5555555555555556,
              "#d8576b"
             ],
             [
              0.6666666666666666,
              "#ed7953"
             ],
             [
              0.7777777777777778,
              "#fb9f3a"
             ],
             [
              0.8888888888888888,
              "#fdca26"
             ],
             [
              1,
              "#f0f921"
             ]
            ],
            "type": "surface"
           }
          ],
          "table": [
           {
            "cells": {
             "fill": {
              "color": "#EBF0F8"
             },
             "line": {
              "color": "white"
             }
            },
            "header": {
             "fill": {
              "color": "#C8D4E3"
             },
             "line": {
              "color": "white"
             }
            },
            "type": "table"
           }
          ]
         },
         "layout": {
          "annotationdefaults": {
           "arrowcolor": "#2a3f5f",
           "arrowhead": 0,
           "arrowwidth": 1
          },
          "autotypenumbers": "strict",
          "coloraxis": {
           "colorbar": {
            "outlinewidth": 0,
            "ticks": ""
           }
          },
          "colorscale": {
           "diverging": [
            [
             0,
             "#8e0152"
            ],
            [
             0.1,
             "#c51b7d"
            ],
            [
             0.2,
             "#de77ae"
            ],
            [
             0.3,
             "#f1b6da"
            ],
            [
             0.4,
             "#fde0ef"
            ],
            [
             0.5,
             "#f7f7f7"
            ],
            [
             0.6,
             "#e6f5d0"
            ],
            [
             0.7,
             "#b8e186"
            ],
            [
             0.8,
             "#7fbc41"
            ],
            [
             0.9,
             "#4d9221"
            ],
            [
             1,
             "#276419"
            ]
           ],
           "sequential": [
            [
             0,
             "#0d0887"
            ],
            [
             0.1111111111111111,
             "#46039f"
            ],
            [
             0.2222222222222222,
             "#7201a8"
            ],
            [
             0.3333333333333333,
             "#9c179e"
            ],
            [
             0.4444444444444444,
             "#bd3786"
            ],
            [
             0.5555555555555556,
             "#d8576b"
            ],
            [
             0.6666666666666666,
             "#ed7953"
            ],
            [
             0.7777777777777778,
             "#fb9f3a"
            ],
            [
             0.8888888888888888,
             "#fdca26"
            ],
            [
             1,
             "#f0f921"
            ]
           ],
           "sequentialminus": [
            [
             0,
             "#0d0887"
            ],
            [
             0.1111111111111111,
             "#46039f"
            ],
            [
             0.2222222222222222,
             "#7201a8"
            ],
            [
             0.3333333333333333,
             "#9c179e"
            ],
            [
             0.4444444444444444,
             "#bd3786"
            ],
            [
             0.5555555555555556,
             "#d8576b"
            ],
            [
             0.6666666666666666,
             "#ed7953"
            ],
            [
             0.7777777777777778,
             "#fb9f3a"
            ],
            [
             0.8888888888888888,
             "#fdca26"
            ],
            [
             1,
             "#f0f921"
            ]
           ]
          },
          "colorway": [
           "#636efa",
           "#EF553B",
           "#00cc96",
           "#ab63fa",
           "#FFA15A",
           "#19d3f3",
           "#FF6692",
           "#B6E880",
           "#FF97FF",
           "#FECB52"
          ],
          "font": {
           "color": "#2a3f5f"
          },
          "geo": {
           "bgcolor": "white",
           "lakecolor": "white",
           "landcolor": "#E5ECF6",
           "showlakes": true,
           "showland": true,
           "subunitcolor": "white"
          },
          "hoverlabel": {
           "align": "left"
          },
          "hovermode": "closest",
          "mapbox": {
           "style": "light"
          },
          "paper_bgcolor": "white",
          "plot_bgcolor": "#E5ECF6",
          "polar": {
           "angularaxis": {
            "gridcolor": "white",
            "linecolor": "white",
            "ticks": ""
           },
           "bgcolor": "#E5ECF6",
           "radialaxis": {
            "gridcolor": "white",
            "linecolor": "white",
            "ticks": ""
           }
          },
          "scene": {
           "xaxis": {
            "backgroundcolor": "#E5ECF6",
            "gridcolor": "white",
            "gridwidth": 2,
            "linecolor": "white",
            "showbackground": true,
            "ticks": "",
            "zerolinecolor": "white"
           },
           "yaxis": {
            "backgroundcolor": "#E5ECF6",
            "gridcolor": "white",
            "gridwidth": 2,
            "linecolor": "white",
            "showbackground": true,
            "ticks": "",
            "zerolinecolor": "white"
           },
           "zaxis": {
            "backgroundcolor": "#E5ECF6",
            "gridcolor": "white",
            "gridwidth": 2,
            "linecolor": "white",
            "showbackground": true,
            "ticks": "",
            "zerolinecolor": "white"
           }
          },
          "shapedefaults": {
           "line": {
            "color": "#2a3f5f"
           }
          },
          "ternary": {
           "aaxis": {
            "gridcolor": "white",
            "linecolor": "white",
            "ticks": ""
           },
           "baxis": {
            "gridcolor": "white",
            "linecolor": "white",
            "ticks": ""
           },
           "bgcolor": "#E5ECF6",
           "caxis": {
            "gridcolor": "white",
            "linecolor": "white",
            "ticks": ""
           }
          },
          "title": {
           "x": 0.05
          },
          "xaxis": {
           "automargin": true,
           "gridcolor": "white",
           "linecolor": "white",
           "ticks": "",
           "title": {
            "standoff": 15
           },
           "zerolinecolor": "white",
           "zerolinewidth": 2
          },
          "yaxis": {
           "automargin": true,
           "gridcolor": "white",
           "linecolor": "white",
           "ticks": "",
           "title": {
            "standoff": 15
           },
           "zerolinecolor": "white",
           "zerolinewidth": 2
          }
         }
        },
        "title": {
         "text": "Missing Values or NULL in Each Category"
        },
        "width": 1000,
        "xaxis": {
         "anchor": "y",
         "domain": [
          0,
          1
         ],
         "tickangle": -45,
         "title": {
          "text": "Categories"
         }
        },
        "yaxis": {
         "anchor": "x",
         "domain": [
          0,
          1
         ],
         "title": {
          "text": "Missing Values Count"
         }
        }
       }
      },
      "text/html": [
       "<div>                            <div id=\"745590f3-3748-4c72-853f-75c52c5c5835\" class=\"plotly-graph-div\" style=\"height:600px; width:1000px;\"></div>            <script type=\"text/javascript\">                require([\"plotly\"], function(Plotly) {                    window.PLOTLYENV=window.PLOTLYENV || {};                                    if (document.getElementById(\"745590f3-3748-4c72-853f-75c52c5c5835\")) {                    Plotly.newPlot(                        \"745590f3-3748-4c72-853f-75c52c5c5835\",                        [{\"alignmentgroup\":\"True\",\"hovertemplate\":\"Category=%{x}\\u003cbr\\u003eMissing Count=%{text}\\u003cextra\\u003e\\u003c\\u002fextra\\u003e\",\"legendgroup\":\"\",\"marker\":{\"color\":\"#636efa\",\"pattern\":{\"shape\":\"\"}},\"name\":\"\",\"offsetgroup\":\"\",\"orientation\":\"v\",\"showlegend\":false,\"text\":[0.0,0.0,0.0,0.0,0.0,0.0,0.0,0.0,0.0,0.0,0.0,0.0,0.0,0.0,0.0,0.0,0.0,0.0,0.0,0.0,107.0,130.0,151.0,189.0,217.0,12576.0],\"textposition\":\"outside\",\"x\":[\"destination\",\"direction_same\",\"toCoupon_GEQ25min\",\"toCoupon_GEQ15min\",\"toCoupon_GEQ5min\",\"income\",\"direction_opp\",\"education\",\"has_children\",\"occupation\",\"age\",\"gender\",\"expiration\",\"coupon\",\"time\",\"temperature\",\"weather\",\"passanger\",\"maritalStatus\",\"Y\",\"Bar\",\"RestaurantLessThan20\",\"CarryAway\",\"Restaurant20To50\",\"CoffeeHouse\",\"car\"],\"xaxis\":\"x\",\"y\":[0,0,0,0,0,0,0,0,0,0,0,0,0,0,0,0,0,0,0,0,107,130,151,189,217,12576],\"yaxis\":\"y\",\"type\":\"bar\"}],                        {\"template\":{\"data\":{\"histogram2dcontour\":[{\"type\":\"histogram2dcontour\",\"colorbar\":{\"outlinewidth\":0,\"ticks\":\"\"},\"colorscale\":[[0.0,\"#0d0887\"],[0.1111111111111111,\"#46039f\"],[0.2222222222222222,\"#7201a8\"],[0.3333333333333333,\"#9c179e\"],[0.4444444444444444,\"#bd3786\"],[0.5555555555555556,\"#d8576b\"],[0.6666666666666666,\"#ed7953\"],[0.7777777777777778,\"#fb9f3a\"],[0.8888888888888888,\"#fdca26\"],[1.0,\"#f0f921\"]]}],\"choropleth\":[{\"type\":\"choropleth\",\"colorbar\":{\"outlinewidth\":0,\"ticks\":\"\"}}],\"histogram2d\":[{\"type\":\"histogram2d\",\"colorbar\":{\"outlinewidth\":0,\"ticks\":\"\"},\"colorscale\":[[0.0,\"#0d0887\"],[0.1111111111111111,\"#46039f\"],[0.2222222222222222,\"#7201a8\"],[0.3333333333333333,\"#9c179e\"],[0.4444444444444444,\"#bd3786\"],[0.5555555555555556,\"#d8576b\"],[0.6666666666666666,\"#ed7953\"],[0.7777777777777778,\"#fb9f3a\"],[0.8888888888888888,\"#fdca26\"],[1.0,\"#f0f921\"]]}],\"heatmap\":[{\"type\":\"heatmap\",\"colorbar\":{\"outlinewidth\":0,\"ticks\":\"\"},\"colorscale\":[[0.0,\"#0d0887\"],[0.1111111111111111,\"#46039f\"],[0.2222222222222222,\"#7201a8\"],[0.3333333333333333,\"#9c179e\"],[0.4444444444444444,\"#bd3786\"],[0.5555555555555556,\"#d8576b\"],[0.6666666666666666,\"#ed7953\"],[0.7777777777777778,\"#fb9f3a\"],[0.8888888888888888,\"#fdca26\"],[1.0,\"#f0f921\"]]}],\"heatmapgl\":[{\"type\":\"heatmapgl\",\"colorbar\":{\"outlinewidth\":0,\"ticks\":\"\"},\"colorscale\":[[0.0,\"#0d0887\"],[0.1111111111111111,\"#46039f\"],[0.2222222222222222,\"#7201a8\"],[0.3333333333333333,\"#9c179e\"],[0.4444444444444444,\"#bd3786\"],[0.5555555555555556,\"#d8576b\"],[0.6666666666666666,\"#ed7953\"],[0.7777777777777778,\"#fb9f3a\"],[0.8888888888888888,\"#fdca26\"],[1.0,\"#f0f921\"]]}],\"contourcarpet\":[{\"type\":\"contourcarpet\",\"colorbar\":{\"outlinewidth\":0,\"ticks\":\"\"}}],\"contour\":[{\"type\":\"contour\",\"colorbar\":{\"outlinewidth\":0,\"ticks\":\"\"},\"colorscale\":[[0.0,\"#0d0887\"],[0.1111111111111111,\"#46039f\"],[0.2222222222222222,\"#7201a8\"],[0.3333333333333333,\"#9c179e\"],[0.4444444444444444,\"#bd3786\"],[0.5555555555555556,\"#d8576b\"],[0.6666666666666666,\"#ed7953\"],[0.7777777777777778,\"#fb9f3a\"],[0.8888888888888888,\"#fdca26\"],[1.0,\"#f0f921\"]]}],\"surface\":[{\"type\":\"surface\",\"colorbar\":{\"outlinewidth\":0,\"ticks\":\"\"},\"colorscale\":[[0.0,\"#0d0887\"],[0.1111111111111111,\"#46039f\"],[0.2222222222222222,\"#7201a8\"],[0.3333333333333333,\"#9c179e\"],[0.4444444444444444,\"#bd3786\"],[0.5555555555555556,\"#d8576b\"],[0.6666666666666666,\"#ed7953\"],[0.7777777777777778,\"#fb9f3a\"],[0.8888888888888888,\"#fdca26\"],[1.0,\"#f0f921\"]]}],\"mesh3d\":[{\"type\":\"mesh3d\",\"colorbar\":{\"outlinewidth\":0,\"ticks\":\"\"}}],\"scatter\":[{\"fillpattern\":{\"fillmode\":\"overlay\",\"size\":10,\"solidity\":0.2},\"type\":\"scatter\"}],\"parcoords\":[{\"type\":\"parcoords\",\"line\":{\"colorbar\":{\"outlinewidth\":0,\"ticks\":\"\"}}}],\"scatterpolargl\":[{\"type\":\"scatterpolargl\",\"marker\":{\"colorbar\":{\"outlinewidth\":0,\"ticks\":\"\"}}}],\"bar\":[{\"error_x\":{\"color\":\"#2a3f5f\"},\"error_y\":{\"color\":\"#2a3f5f\"},\"marker\":{\"line\":{\"color\":\"#E5ECF6\",\"width\":0.5},\"pattern\":{\"fillmode\":\"overlay\",\"size\":10,\"solidity\":0.2}},\"type\":\"bar\"}],\"scattergeo\":[{\"type\":\"scattergeo\",\"marker\":{\"colorbar\":{\"outlinewidth\":0,\"ticks\":\"\"}}}],\"scatterpolar\":[{\"type\":\"scatterpolar\",\"marker\":{\"colorbar\":{\"outlinewidth\":0,\"ticks\":\"\"}}}],\"histogram\":[{\"marker\":{\"pattern\":{\"fillmode\":\"overlay\",\"size\":10,\"solidity\":0.2}},\"type\":\"histogram\"}],\"scattergl\":[{\"type\":\"scattergl\",\"marker\":{\"colorbar\":{\"outlinewidth\":0,\"ticks\":\"\"}}}],\"scatter3d\":[{\"type\":\"scatter3d\",\"line\":{\"colorbar\":{\"outlinewidth\":0,\"ticks\":\"\"}},\"marker\":{\"colorbar\":{\"outlinewidth\":0,\"ticks\":\"\"}}}],\"scattermapbox\":[{\"type\":\"scattermapbox\",\"marker\":{\"colorbar\":{\"outlinewidth\":0,\"ticks\":\"\"}}}],\"scatterternary\":[{\"type\":\"scatterternary\",\"marker\":{\"colorbar\":{\"outlinewidth\":0,\"ticks\":\"\"}}}],\"scattercarpet\":[{\"type\":\"scattercarpet\",\"marker\":{\"colorbar\":{\"outlinewidth\":0,\"ticks\":\"\"}}}],\"carpet\":[{\"aaxis\":{\"endlinecolor\":\"#2a3f5f\",\"gridcolor\":\"white\",\"linecolor\":\"white\",\"minorgridcolor\":\"white\",\"startlinecolor\":\"#2a3f5f\"},\"baxis\":{\"endlinecolor\":\"#2a3f5f\",\"gridcolor\":\"white\",\"linecolor\":\"white\",\"minorgridcolor\":\"white\",\"startlinecolor\":\"#2a3f5f\"},\"type\":\"carpet\"}],\"table\":[{\"cells\":{\"fill\":{\"color\":\"#EBF0F8\"},\"line\":{\"color\":\"white\"}},\"header\":{\"fill\":{\"color\":\"#C8D4E3\"},\"line\":{\"color\":\"white\"}},\"type\":\"table\"}],\"barpolar\":[{\"marker\":{\"line\":{\"color\":\"#E5ECF6\",\"width\":0.5},\"pattern\":{\"fillmode\":\"overlay\",\"size\":10,\"solidity\":0.2}},\"type\":\"barpolar\"}],\"pie\":[{\"automargin\":true,\"type\":\"pie\"}]},\"layout\":{\"autotypenumbers\":\"strict\",\"colorway\":[\"#636efa\",\"#EF553B\",\"#00cc96\",\"#ab63fa\",\"#FFA15A\",\"#19d3f3\",\"#FF6692\",\"#B6E880\",\"#FF97FF\",\"#FECB52\"],\"font\":{\"color\":\"#2a3f5f\"},\"hovermode\":\"closest\",\"hoverlabel\":{\"align\":\"left\"},\"paper_bgcolor\":\"white\",\"plot_bgcolor\":\"#E5ECF6\",\"polar\":{\"bgcolor\":\"#E5ECF6\",\"angularaxis\":{\"gridcolor\":\"white\",\"linecolor\":\"white\",\"ticks\":\"\"},\"radialaxis\":{\"gridcolor\":\"white\",\"linecolor\":\"white\",\"ticks\":\"\"}},\"ternary\":{\"bgcolor\":\"#E5ECF6\",\"aaxis\":{\"gridcolor\":\"white\",\"linecolor\":\"white\",\"ticks\":\"\"},\"baxis\":{\"gridcolor\":\"white\",\"linecolor\":\"white\",\"ticks\":\"\"},\"caxis\":{\"gridcolor\":\"white\",\"linecolor\":\"white\",\"ticks\":\"\"}},\"coloraxis\":{\"colorbar\":{\"outlinewidth\":0,\"ticks\":\"\"}},\"colorscale\":{\"sequential\":[[0.0,\"#0d0887\"],[0.1111111111111111,\"#46039f\"],[0.2222222222222222,\"#7201a8\"],[0.3333333333333333,\"#9c179e\"],[0.4444444444444444,\"#bd3786\"],[0.5555555555555556,\"#d8576b\"],[0.6666666666666666,\"#ed7953\"],[0.7777777777777778,\"#fb9f3a\"],[0.8888888888888888,\"#fdca26\"],[1.0,\"#f0f921\"]],\"sequentialminus\":[[0.0,\"#0d0887\"],[0.1111111111111111,\"#46039f\"],[0.2222222222222222,\"#7201a8\"],[0.3333333333333333,\"#9c179e\"],[0.4444444444444444,\"#bd3786\"],[0.5555555555555556,\"#d8576b\"],[0.6666666666666666,\"#ed7953\"],[0.7777777777777778,\"#fb9f3a\"],[0.8888888888888888,\"#fdca26\"],[1.0,\"#f0f921\"]],\"diverging\":[[0,\"#8e0152\"],[0.1,\"#c51b7d\"],[0.2,\"#de77ae\"],[0.3,\"#f1b6da\"],[0.4,\"#fde0ef\"],[0.5,\"#f7f7f7\"],[0.6,\"#e6f5d0\"],[0.7,\"#b8e186\"],[0.8,\"#7fbc41\"],[0.9,\"#4d9221\"],[1,\"#276419\"]]},\"xaxis\":{\"gridcolor\":\"white\",\"linecolor\":\"white\",\"ticks\":\"\",\"title\":{\"standoff\":15},\"zerolinecolor\":\"white\",\"automargin\":true,\"zerolinewidth\":2},\"yaxis\":{\"gridcolor\":\"white\",\"linecolor\":\"white\",\"ticks\":\"\",\"title\":{\"standoff\":15},\"zerolinecolor\":\"white\",\"automargin\":true,\"zerolinewidth\":2},\"scene\":{\"xaxis\":{\"backgroundcolor\":\"#E5ECF6\",\"gridcolor\":\"white\",\"linecolor\":\"white\",\"showbackground\":true,\"ticks\":\"\",\"zerolinecolor\":\"white\",\"gridwidth\":2},\"yaxis\":{\"backgroundcolor\":\"#E5ECF6\",\"gridcolor\":\"white\",\"linecolor\":\"white\",\"showbackground\":true,\"ticks\":\"\",\"zerolinecolor\":\"white\",\"gridwidth\":2},\"zaxis\":{\"backgroundcolor\":\"#E5ECF6\",\"gridcolor\":\"white\",\"linecolor\":\"white\",\"showbackground\":true,\"ticks\":\"\",\"zerolinecolor\":\"white\",\"gridwidth\":2}},\"shapedefaults\":{\"line\":{\"color\":\"#2a3f5f\"}},\"annotationdefaults\":{\"arrowcolor\":\"#2a3f5f\",\"arrowhead\":0,\"arrowwidth\":1},\"geo\":{\"bgcolor\":\"white\",\"landcolor\":\"#E5ECF6\",\"subunitcolor\":\"white\",\"showland\":true,\"showlakes\":true,\"lakecolor\":\"white\"},\"title\":{\"x\":0.05},\"mapbox\":{\"style\":\"light\"}}},\"xaxis\":{\"anchor\":\"y\",\"domain\":[0.0,1.0],\"title\":{\"text\":\"Categories\"},\"tickangle\":-45},\"yaxis\":{\"anchor\":\"x\",\"domain\":[0.0,1.0],\"title\":{\"text\":\"Missing Values Count\"}},\"legend\":{\"tracegroupgap\":0},\"title\":{\"text\":\"Missing Values or NULL in Each Category\"},\"barmode\":\"relative\",\"height\":600,\"width\":1000},                        {\"responsive\": true}                    ).then(function(){\n",
       "                            \n",
       "var gd = document.getElementById('745590f3-3748-4c72-853f-75c52c5c5835');\n",
       "var x = new MutationObserver(function (mutations, observer) {{\n",
       "        var display = window.getComputedStyle(gd).display;\n",
       "        if (!display || display === 'none') {{\n",
       "            console.log([gd, 'removed!']);\n",
       "            Plotly.purge(gd);\n",
       "            observer.disconnect();\n",
       "        }}\n",
       "}});\n",
       "\n",
       "// Listen for the removal of the full notebook cells\n",
       "var notebookContainer = gd.closest('#notebook-container');\n",
       "if (notebookContainer) {{\n",
       "    x.observe(notebookContainer, {childList: true});\n",
       "}}\n",
       "\n",
       "// Listen for the clearing of the current output cell\n",
       "var outputEl = gd.closest('.output');\n",
       "if (outputEl) {{\n",
       "    x.observe(outputEl, {childList: true});\n",
       "}}\n",
       "\n",
       "                        })                };                });            </script>        </div>"
      ]
     },
     "metadata": {},
     "output_type": "display_data"
    }
   ],
   "source": [
    "# Count nulls AND create dataframe\n",
    "counts = data.isnull().sum().sort_values()\n",
    "missing_df = pd.DataFrame({'Category': counts.index, 'Missing Count': counts.values})\n",
    "\n",
    "# Create bar chart\n",
    "fig = px.bar(\n",
    "    missing_df, \n",
    "    x='Category', \n",
    "    y='Missing Count', \n",
    "    text='Missing Count', \n",
    "    title=\"Missing Values or NULL in Each Category\"\n",
    ")\n",
    "\n",
    "fig.update_traces(textposition='outside')\n",
    "fig.update_layout(\n",
    "    xaxis_tickangle=-45,  # Rotate x-axis labels\n",
    "    yaxis_title=\"Missing Values Count\",\n",
    "    xaxis_title=\"Categories\",\n",
    "    height=600, width=1000\n",
    ")\n",
    "\n",
    "fig.show()\n"
   ]
  },
  {
   "cell_type": "code",
   "execution_count": 39,
   "metadata": {},
   "outputs": [],
   "source": [
    "def find_bad_data(df):\n",
    "    # Convert each column to string and check if it contains a string\n",
    "    bad_data_mask = df.map(lambda x: isinstance(x, str))\n",
    "    \n",
    "    # Select rows where at least one column has bad data\n",
    "    bad_data_indices = df[bad_data_mask.any(axis=1)]\n",
    "    \n",
    "    return bad_data_indices\n",
    "\n",
    "# Example usage\n",
    "bad_data_rows = find_bad_data(data)\n"
   ]
  },
  {
   "cell_type": "code",
   "execution_count": 84,
   "metadata": {},
   "outputs": [],
   "source": [
    "# Count occurrences of bad data in 'checking_status'\n",
    "bad_data_counts = bad_data_rows['age'].astype(str).value_counts().reset_index()"
   ]
  },
  {
   "cell_type": "code",
   "execution_count": 85,
   "metadata": {},
   "outputs": [
    {
     "data": {
      "application/vnd.plotly.v1+json": {
       "config": {
        "plotlyServerURL": "https://plot.ly"
       },
       "data": [
        {
         "alignmentgroup": "True",
         "hovertemplate": "All Data Values=%{x}<br>Count=%{text}<extra></extra>",
         "legendgroup": "below21",
         "marker": {
          "color": "#636efa",
          "pattern": {
           "shape": ""
          }
         },
         "name": "below21",
         "offsetgroup": "below21",
         "orientation": "v",
         "showlegend": true,
         "text": [
          547
         ],
         "textposition": "outside",
         "type": "bar",
         "x": [
          "below21"
         ],
         "xaxis": "x",
         "y": [
          547
         ],
         "yaxis": "y"
        },
        {
         "alignmentgroup": "True",
         "hovertemplate": "All Data Values=%{x}<br>Count=%{text}<extra></extra>",
         "legendgroup": "46",
         "marker": {
          "color": "#EF553B",
          "pattern": {
           "shape": ""
          }
         },
         "name": "46",
         "offsetgroup": "46",
         "orientation": "v",
         "showlegend": true,
         "text": [
          686
         ],
         "textposition": "outside",
         "type": "bar",
         "x": [
          "46"
         ],
         "xaxis": "x",
         "y": [
          686
         ],
         "yaxis": "y"
        },
        {
         "alignmentgroup": "True",
         "hovertemplate": "All Data Values=%{x}<br>Count=%{text}<extra></extra>",
         "legendgroup": "41",
         "marker": {
          "color": "#00cc96",
          "pattern": {
           "shape": ""
          }
         },
         "name": "41",
         "offsetgroup": "41",
         "orientation": "v",
         "showlegend": true,
         "text": [
          1093
         ],
         "textposition": "outside",
         "type": "bar",
         "x": [
          "41"
         ],
         "xaxis": "x",
         "y": [
          1093
         ],
         "yaxis": "y"
        },
        {
         "alignmentgroup": "True",
         "hovertemplate": "All Data Values=%{x}<br>Count=%{text}<extra></extra>",
         "legendgroup": "36",
         "marker": {
          "color": "#ab63fa",
          "pattern": {
           "shape": ""
          }
         },
         "name": "36",
         "offsetgroup": "36",
         "orientation": "v",
         "showlegend": true,
         "text": [
          1319
         ],
         "textposition": "outside",
         "type": "bar",
         "x": [
          "36"
         ],
         "xaxis": "x",
         "y": [
          1319
         ],
         "yaxis": "y"
        },
        {
         "alignmentgroup": "True",
         "hovertemplate": "All Data Values=%{x}<br>Count=%{text}<extra></extra>",
         "legendgroup": "50plus",
         "marker": {
          "color": "#FFA15A",
          "pattern": {
           "shape": ""
          }
         },
         "name": "50plus",
         "offsetgroup": "50plus",
         "orientation": "v",
         "showlegend": true,
         "text": [
          1788
         ],
         "textposition": "outside",
         "type": "bar",
         "x": [
          "50plus"
         ],
         "xaxis": "x",
         "y": [
          1788
         ],
         "yaxis": "y"
        },
        {
         "alignmentgroup": "True",
         "hovertemplate": "All Data Values=%{x}<br>Count=%{text}<extra></extra>",
         "legendgroup": "31",
         "marker": {
          "color": "#19d3f3",
          "pattern": {
           "shape": ""
          }
         },
         "name": "31",
         "offsetgroup": "31",
         "orientation": "v",
         "showlegend": true,
         "text": [
          2039
         ],
         "textposition": "outside",
         "type": "bar",
         "x": [
          "31"
         ],
         "xaxis": "x",
         "y": [
          2039
         ],
         "yaxis": "y"
        },
        {
         "alignmentgroup": "True",
         "hovertemplate": "All Data Values=%{x}<br>Count=%{text}<extra></extra>",
         "legendgroup": "26",
         "marker": {
          "color": "#FF6692",
          "pattern": {
           "shape": ""
          }
         },
         "name": "26",
         "offsetgroup": "26",
         "orientation": "v",
         "showlegend": true,
         "text": [
          2559
         ],
         "textposition": "outside",
         "type": "bar",
         "x": [
          "26"
         ],
         "xaxis": "x",
         "y": [
          2559
         ],
         "yaxis": "y"
        },
        {
         "alignmentgroup": "True",
         "hovertemplate": "All Data Values=%{x}<br>Count=%{text}<extra></extra>",
         "legendgroup": "21",
         "marker": {
          "color": "#B6E880",
          "pattern": {
           "shape": ""
          }
         },
         "name": "21",
         "offsetgroup": "21",
         "orientation": "v",
         "showlegend": true,
         "text": [
          2653
         ],
         "textposition": "outside",
         "type": "bar",
         "x": [
          "21"
         ],
         "xaxis": "x",
         "y": [
          2653
         ],
         "yaxis": "y"
        }
       ],
       "layout": {
        "barmode": "relative",
        "height": 500,
        "legend": {
         "title": {
          "text": "All Data Values"
         },
         "tracegroupgap": 0
        },
        "template": {
         "data": {
          "bar": [
           {
            "error_x": {
             "color": "#2a3f5f"
            },
            "error_y": {
             "color": "#2a3f5f"
            },
            "marker": {
             "line": {
              "color": "#E5ECF6",
              "width": 0.5
             },
             "pattern": {
              "fillmode": "overlay",
              "size": 10,
              "solidity": 0.2
             }
            },
            "type": "bar"
           }
          ],
          "barpolar": [
           {
            "marker": {
             "line": {
              "color": "#E5ECF6",
              "width": 0.5
             },
             "pattern": {
              "fillmode": "overlay",
              "size": 10,
              "solidity": 0.2
             }
            },
            "type": "barpolar"
           }
          ],
          "carpet": [
           {
            "aaxis": {
             "endlinecolor": "#2a3f5f",
             "gridcolor": "white",
             "linecolor": "white",
             "minorgridcolor": "white",
             "startlinecolor": "#2a3f5f"
            },
            "baxis": {
             "endlinecolor": "#2a3f5f",
             "gridcolor": "white",
             "linecolor": "white",
             "minorgridcolor": "white",
             "startlinecolor": "#2a3f5f"
            },
            "type": "carpet"
           }
          ],
          "choropleth": [
           {
            "colorbar": {
             "outlinewidth": 0,
             "ticks": ""
            },
            "type": "choropleth"
           }
          ],
          "contour": [
           {
            "colorbar": {
             "outlinewidth": 0,
             "ticks": ""
            },
            "colorscale": [
             [
              0,
              "#0d0887"
             ],
             [
              0.1111111111111111,
              "#46039f"
             ],
             [
              0.2222222222222222,
              "#7201a8"
             ],
             [
              0.3333333333333333,
              "#9c179e"
             ],
             [
              0.4444444444444444,
              "#bd3786"
             ],
             [
              0.5555555555555556,
              "#d8576b"
             ],
             [
              0.6666666666666666,
              "#ed7953"
             ],
             [
              0.7777777777777778,
              "#fb9f3a"
             ],
             [
              0.8888888888888888,
              "#fdca26"
             ],
             [
              1,
              "#f0f921"
             ]
            ],
            "type": "contour"
           }
          ],
          "contourcarpet": [
           {
            "colorbar": {
             "outlinewidth": 0,
             "ticks": ""
            },
            "type": "contourcarpet"
           }
          ],
          "heatmap": [
           {
            "colorbar": {
             "outlinewidth": 0,
             "ticks": ""
            },
            "colorscale": [
             [
              0,
              "#0d0887"
             ],
             [
              0.1111111111111111,
              "#46039f"
             ],
             [
              0.2222222222222222,
              "#7201a8"
             ],
             [
              0.3333333333333333,
              "#9c179e"
             ],
             [
              0.4444444444444444,
              "#bd3786"
             ],
             [
              0.5555555555555556,
              "#d8576b"
             ],
             [
              0.6666666666666666,
              "#ed7953"
             ],
             [
              0.7777777777777778,
              "#fb9f3a"
             ],
             [
              0.8888888888888888,
              "#fdca26"
             ],
             [
              1,
              "#f0f921"
             ]
            ],
            "type": "heatmap"
           }
          ],
          "heatmapgl": [
           {
            "colorbar": {
             "outlinewidth": 0,
             "ticks": ""
            },
            "colorscale": [
             [
              0,
              "#0d0887"
             ],
             [
              0.1111111111111111,
              "#46039f"
             ],
             [
              0.2222222222222222,
              "#7201a8"
             ],
             [
              0.3333333333333333,
              "#9c179e"
             ],
             [
              0.4444444444444444,
              "#bd3786"
             ],
             [
              0.5555555555555556,
              "#d8576b"
             ],
             [
              0.6666666666666666,
              "#ed7953"
             ],
             [
              0.7777777777777778,
              "#fb9f3a"
             ],
             [
              0.8888888888888888,
              "#fdca26"
             ],
             [
              1,
              "#f0f921"
             ]
            ],
            "type": "heatmapgl"
           }
          ],
          "histogram": [
           {
            "marker": {
             "pattern": {
              "fillmode": "overlay",
              "size": 10,
              "solidity": 0.2
             }
            },
            "type": "histogram"
           }
          ],
          "histogram2d": [
           {
            "colorbar": {
             "outlinewidth": 0,
             "ticks": ""
            },
            "colorscale": [
             [
              0,
              "#0d0887"
             ],
             [
              0.1111111111111111,
              "#46039f"
             ],
             [
              0.2222222222222222,
              "#7201a8"
             ],
             [
              0.3333333333333333,
              "#9c179e"
             ],
             [
              0.4444444444444444,
              "#bd3786"
             ],
             [
              0.5555555555555556,
              "#d8576b"
             ],
             [
              0.6666666666666666,
              "#ed7953"
             ],
             [
              0.7777777777777778,
              "#fb9f3a"
             ],
             [
              0.8888888888888888,
              "#fdca26"
             ],
             [
              1,
              "#f0f921"
             ]
            ],
            "type": "histogram2d"
           }
          ],
          "histogram2dcontour": [
           {
            "colorbar": {
             "outlinewidth": 0,
             "ticks": ""
            },
            "colorscale": [
             [
              0,
              "#0d0887"
             ],
             [
              0.1111111111111111,
              "#46039f"
             ],
             [
              0.2222222222222222,
              "#7201a8"
             ],
             [
              0.3333333333333333,
              "#9c179e"
             ],
             [
              0.4444444444444444,
              "#bd3786"
             ],
             [
              0.5555555555555556,
              "#d8576b"
             ],
             [
              0.6666666666666666,
              "#ed7953"
             ],
             [
              0.7777777777777778,
              "#fb9f3a"
             ],
             [
              0.8888888888888888,
              "#fdca26"
             ],
             [
              1,
              "#f0f921"
             ]
            ],
            "type": "histogram2dcontour"
           }
          ],
          "mesh3d": [
           {
            "colorbar": {
             "outlinewidth": 0,
             "ticks": ""
            },
            "type": "mesh3d"
           }
          ],
          "parcoords": [
           {
            "line": {
             "colorbar": {
              "outlinewidth": 0,
              "ticks": ""
             }
            },
            "type": "parcoords"
           }
          ],
          "pie": [
           {
            "automargin": true,
            "type": "pie"
           }
          ],
          "scatter": [
           {
            "fillpattern": {
             "fillmode": "overlay",
             "size": 10,
             "solidity": 0.2
            },
            "type": "scatter"
           }
          ],
          "scatter3d": [
           {
            "line": {
             "colorbar": {
              "outlinewidth": 0,
              "ticks": ""
             }
            },
            "marker": {
             "colorbar": {
              "outlinewidth": 0,
              "ticks": ""
             }
            },
            "type": "scatter3d"
           }
          ],
          "scattercarpet": [
           {
            "marker": {
             "colorbar": {
              "outlinewidth": 0,
              "ticks": ""
             }
            },
            "type": "scattercarpet"
           }
          ],
          "scattergeo": [
           {
            "marker": {
             "colorbar": {
              "outlinewidth": 0,
              "ticks": ""
             }
            },
            "type": "scattergeo"
           }
          ],
          "scattergl": [
           {
            "marker": {
             "colorbar": {
              "outlinewidth": 0,
              "ticks": ""
             }
            },
            "type": "scattergl"
           }
          ],
          "scattermapbox": [
           {
            "marker": {
             "colorbar": {
              "outlinewidth": 0,
              "ticks": ""
             }
            },
            "type": "scattermapbox"
           }
          ],
          "scatterpolar": [
           {
            "marker": {
             "colorbar": {
              "outlinewidth": 0,
              "ticks": ""
             }
            },
            "type": "scatterpolar"
           }
          ],
          "scatterpolargl": [
           {
            "marker": {
             "colorbar": {
              "outlinewidth": 0,
              "ticks": ""
             }
            },
            "type": "scatterpolargl"
           }
          ],
          "scatterternary": [
           {
            "marker": {
             "colorbar": {
              "outlinewidth": 0,
              "ticks": ""
             }
            },
            "type": "scatterternary"
           }
          ],
          "surface": [
           {
            "colorbar": {
             "outlinewidth": 0,
             "ticks": ""
            },
            "colorscale": [
             [
              0,
              "#0d0887"
             ],
             [
              0.1111111111111111,
              "#46039f"
             ],
             [
              0.2222222222222222,
              "#7201a8"
             ],
             [
              0.3333333333333333,
              "#9c179e"
             ],
             [
              0.4444444444444444,
              "#bd3786"
             ],
             [
              0.5555555555555556,
              "#d8576b"
             ],
             [
              0.6666666666666666,
              "#ed7953"
             ],
             [
              0.7777777777777778,
              "#fb9f3a"
             ],
             [
              0.8888888888888888,
              "#fdca26"
             ],
             [
              1,
              "#f0f921"
             ]
            ],
            "type": "surface"
           }
          ],
          "table": [
           {
            "cells": {
             "fill": {
              "color": "#EBF0F8"
             },
             "line": {
              "color": "white"
             }
            },
            "header": {
             "fill": {
              "color": "#C8D4E3"
             },
             "line": {
              "color": "white"
             }
            },
            "type": "table"
           }
          ]
         },
         "layout": {
          "annotationdefaults": {
           "arrowcolor": "#2a3f5f",
           "arrowhead": 0,
           "arrowwidth": 1
          },
          "autotypenumbers": "strict",
          "coloraxis": {
           "colorbar": {
            "outlinewidth": 0,
            "ticks": ""
           }
          },
          "colorscale": {
           "diverging": [
            [
             0,
             "#8e0152"
            ],
            [
             0.1,
             "#c51b7d"
            ],
            [
             0.2,
             "#de77ae"
            ],
            [
             0.3,
             "#f1b6da"
            ],
            [
             0.4,
             "#fde0ef"
            ],
            [
             0.5,
             "#f7f7f7"
            ],
            [
             0.6,
             "#e6f5d0"
            ],
            [
             0.7,
             "#b8e186"
            ],
            [
             0.8,
             "#7fbc41"
            ],
            [
             0.9,
             "#4d9221"
            ],
            [
             1,
             "#276419"
            ]
           ],
           "sequential": [
            [
             0,
             "#0d0887"
            ],
            [
             0.1111111111111111,
             "#46039f"
            ],
            [
             0.2222222222222222,
             "#7201a8"
            ],
            [
             0.3333333333333333,
             "#9c179e"
            ],
            [
             0.4444444444444444,
             "#bd3786"
            ],
            [
             0.5555555555555556,
             "#d8576b"
            ],
            [
             0.6666666666666666,
             "#ed7953"
            ],
            [
             0.7777777777777778,
             "#fb9f3a"
            ],
            [
             0.8888888888888888,
             "#fdca26"
            ],
            [
             1,
             "#f0f921"
            ]
           ],
           "sequentialminus": [
            [
             0,
             "#0d0887"
            ],
            [
             0.1111111111111111,
             "#46039f"
            ],
            [
             0.2222222222222222,
             "#7201a8"
            ],
            [
             0.3333333333333333,
             "#9c179e"
            ],
            [
             0.4444444444444444,
             "#bd3786"
            ],
            [
             0.5555555555555556,
             "#d8576b"
            ],
            [
             0.6666666666666666,
             "#ed7953"
            ],
            [
             0.7777777777777778,
             "#fb9f3a"
            ],
            [
             0.8888888888888888,
             "#fdca26"
            ],
            [
             1,
             "#f0f921"
            ]
           ]
          },
          "colorway": [
           "#636efa",
           "#EF553B",
           "#00cc96",
           "#ab63fa",
           "#FFA15A",
           "#19d3f3",
           "#FF6692",
           "#B6E880",
           "#FF97FF",
           "#FECB52"
          ],
          "font": {
           "color": "#2a3f5f"
          },
          "geo": {
           "bgcolor": "white",
           "lakecolor": "white",
           "landcolor": "#E5ECF6",
           "showlakes": true,
           "showland": true,
           "subunitcolor": "white"
          },
          "hoverlabel": {
           "align": "left"
          },
          "hovermode": "closest",
          "mapbox": {
           "style": "light"
          },
          "paper_bgcolor": "white",
          "plot_bgcolor": "#E5ECF6",
          "polar": {
           "angularaxis": {
            "gridcolor": "white",
            "linecolor": "white",
            "ticks": ""
           },
           "bgcolor": "#E5ECF6",
           "radialaxis": {
            "gridcolor": "white",
            "linecolor": "white",
            "ticks": ""
           }
          },
          "scene": {
           "xaxis": {
            "backgroundcolor": "#E5ECF6",
            "gridcolor": "white",
            "gridwidth": 2,
            "linecolor": "white",
            "showbackground": true,
            "ticks": "",
            "zerolinecolor": "white"
           },
           "yaxis": {
            "backgroundcolor": "#E5ECF6",
            "gridcolor": "white",
            "gridwidth": 2,
            "linecolor": "white",
            "showbackground": true,
            "ticks": "",
            "zerolinecolor": "white"
           },
           "zaxis": {
            "backgroundcolor": "#E5ECF6",
            "gridcolor": "white",
            "gridwidth": 2,
            "linecolor": "white",
            "showbackground": true,
            "ticks": "",
            "zerolinecolor": "white"
           }
          },
          "shapedefaults": {
           "line": {
            "color": "#2a3f5f"
           }
          },
          "ternary": {
           "aaxis": {
            "gridcolor": "white",
            "linecolor": "white",
            "ticks": ""
           },
           "baxis": {
            "gridcolor": "white",
            "linecolor": "white",
            "ticks": ""
           },
           "bgcolor": "#E5ECF6",
           "caxis": {
            "gridcolor": "white",
            "linecolor": "white",
            "ticks": ""
           }
          },
          "title": {
           "x": 0.05
          },
          "xaxis": {
           "automargin": true,
           "gridcolor": "white",
           "linecolor": "white",
           "ticks": "",
           "title": {
            "standoff": 15
           },
           "zerolinecolor": "white",
           "zerolinewidth": 2
          },
          "yaxis": {
           "automargin": true,
           "gridcolor": "white",
           "linecolor": "white",
           "ticks": "",
           "title": {
            "standoff": 15
           },
           "zerolinecolor": "white",
           "zerolinewidth": 2
          }
         }
        },
        "title": {
         "text": "Data in 'Age' Column"
        },
        "width": 800,
        "xaxis": {
         "anchor": "y",
         "categoryarray": [
          "below21",
          "46",
          "41",
          "36",
          "50plus",
          "31",
          "26",
          "21"
         ],
         "categoryorder": "array",
         "domain": [
          0,
          1
         ],
         "tickangle": 45,
         "title": {
          "text": "All Data Values"
         }
        },
        "yaxis": {
         "anchor": "x",
         "domain": [
          0,
          1
         ],
         "title": {
          "text": "Count"
         }
        }
       }
      },
      "text/html": [
       "<div>                            <div id=\"55df4f84-c685-4551-b70c-b90462206592\" class=\"plotly-graph-div\" style=\"height:500px; width:800px;\"></div>            <script type=\"text/javascript\">                require([\"plotly\"], function(Plotly) {                    window.PLOTLYENV=window.PLOTLYENV || {};                                    if (document.getElementById(\"55df4f84-c685-4551-b70c-b90462206592\")) {                    Plotly.newPlot(                        \"55df4f84-c685-4551-b70c-b90462206592\",                        [{\"alignmentgroup\":\"True\",\"hovertemplate\":\"All Data Values=%{x}\\u003cbr\\u003eCount=%{text}\\u003cextra\\u003e\\u003c\\u002fextra\\u003e\",\"legendgroup\":\"below21\",\"marker\":{\"color\":\"#636efa\",\"pattern\":{\"shape\":\"\"}},\"name\":\"below21\",\"offsetgroup\":\"below21\",\"orientation\":\"v\",\"showlegend\":true,\"text\":[547.0],\"textposition\":\"outside\",\"x\":[\"below21\"],\"xaxis\":\"x\",\"y\":[547],\"yaxis\":\"y\",\"type\":\"bar\"},{\"alignmentgroup\":\"True\",\"hovertemplate\":\"All Data Values=%{x}\\u003cbr\\u003eCount=%{text}\\u003cextra\\u003e\\u003c\\u002fextra\\u003e\",\"legendgroup\":\"46\",\"marker\":{\"color\":\"#EF553B\",\"pattern\":{\"shape\":\"\"}},\"name\":\"46\",\"offsetgroup\":\"46\",\"orientation\":\"v\",\"showlegend\":true,\"text\":[686.0],\"textposition\":\"outside\",\"x\":[\"46\"],\"xaxis\":\"x\",\"y\":[686],\"yaxis\":\"y\",\"type\":\"bar\"},{\"alignmentgroup\":\"True\",\"hovertemplate\":\"All Data Values=%{x}\\u003cbr\\u003eCount=%{text}\\u003cextra\\u003e\\u003c\\u002fextra\\u003e\",\"legendgroup\":\"41\",\"marker\":{\"color\":\"#00cc96\",\"pattern\":{\"shape\":\"\"}},\"name\":\"41\",\"offsetgroup\":\"41\",\"orientation\":\"v\",\"showlegend\":true,\"text\":[1093.0],\"textposition\":\"outside\",\"x\":[\"41\"],\"xaxis\":\"x\",\"y\":[1093],\"yaxis\":\"y\",\"type\":\"bar\"},{\"alignmentgroup\":\"True\",\"hovertemplate\":\"All Data Values=%{x}\\u003cbr\\u003eCount=%{text}\\u003cextra\\u003e\\u003c\\u002fextra\\u003e\",\"legendgroup\":\"36\",\"marker\":{\"color\":\"#ab63fa\",\"pattern\":{\"shape\":\"\"}},\"name\":\"36\",\"offsetgroup\":\"36\",\"orientation\":\"v\",\"showlegend\":true,\"text\":[1319.0],\"textposition\":\"outside\",\"x\":[\"36\"],\"xaxis\":\"x\",\"y\":[1319],\"yaxis\":\"y\",\"type\":\"bar\"},{\"alignmentgroup\":\"True\",\"hovertemplate\":\"All Data Values=%{x}\\u003cbr\\u003eCount=%{text}\\u003cextra\\u003e\\u003c\\u002fextra\\u003e\",\"legendgroup\":\"50plus\",\"marker\":{\"color\":\"#FFA15A\",\"pattern\":{\"shape\":\"\"}},\"name\":\"50plus\",\"offsetgroup\":\"50plus\",\"orientation\":\"v\",\"showlegend\":true,\"text\":[1788.0],\"textposition\":\"outside\",\"x\":[\"50plus\"],\"xaxis\":\"x\",\"y\":[1788],\"yaxis\":\"y\",\"type\":\"bar\"},{\"alignmentgroup\":\"True\",\"hovertemplate\":\"All Data Values=%{x}\\u003cbr\\u003eCount=%{text}\\u003cextra\\u003e\\u003c\\u002fextra\\u003e\",\"legendgroup\":\"31\",\"marker\":{\"color\":\"#19d3f3\",\"pattern\":{\"shape\":\"\"}},\"name\":\"31\",\"offsetgroup\":\"31\",\"orientation\":\"v\",\"showlegend\":true,\"text\":[2039.0],\"textposition\":\"outside\",\"x\":[\"31\"],\"xaxis\":\"x\",\"y\":[2039],\"yaxis\":\"y\",\"type\":\"bar\"},{\"alignmentgroup\":\"True\",\"hovertemplate\":\"All Data Values=%{x}\\u003cbr\\u003eCount=%{text}\\u003cextra\\u003e\\u003c\\u002fextra\\u003e\",\"legendgroup\":\"26\",\"marker\":{\"color\":\"#FF6692\",\"pattern\":{\"shape\":\"\"}},\"name\":\"26\",\"offsetgroup\":\"26\",\"orientation\":\"v\",\"showlegend\":true,\"text\":[2559.0],\"textposition\":\"outside\",\"x\":[\"26\"],\"xaxis\":\"x\",\"y\":[2559],\"yaxis\":\"y\",\"type\":\"bar\"},{\"alignmentgroup\":\"True\",\"hovertemplate\":\"All Data Values=%{x}\\u003cbr\\u003eCount=%{text}\\u003cextra\\u003e\\u003c\\u002fextra\\u003e\",\"legendgroup\":\"21\",\"marker\":{\"color\":\"#B6E880\",\"pattern\":{\"shape\":\"\"}},\"name\":\"21\",\"offsetgroup\":\"21\",\"orientation\":\"v\",\"showlegend\":true,\"text\":[2653.0],\"textposition\":\"outside\",\"x\":[\"21\"],\"xaxis\":\"x\",\"y\":[2653],\"yaxis\":\"y\",\"type\":\"bar\"}],                        {\"template\":{\"data\":{\"histogram2dcontour\":[{\"type\":\"histogram2dcontour\",\"colorbar\":{\"outlinewidth\":0,\"ticks\":\"\"},\"colorscale\":[[0.0,\"#0d0887\"],[0.1111111111111111,\"#46039f\"],[0.2222222222222222,\"#7201a8\"],[0.3333333333333333,\"#9c179e\"],[0.4444444444444444,\"#bd3786\"],[0.5555555555555556,\"#d8576b\"],[0.6666666666666666,\"#ed7953\"],[0.7777777777777778,\"#fb9f3a\"],[0.8888888888888888,\"#fdca26\"],[1.0,\"#f0f921\"]]}],\"choropleth\":[{\"type\":\"choropleth\",\"colorbar\":{\"outlinewidth\":0,\"ticks\":\"\"}}],\"histogram2d\":[{\"type\":\"histogram2d\",\"colorbar\":{\"outlinewidth\":0,\"ticks\":\"\"},\"colorscale\":[[0.0,\"#0d0887\"],[0.1111111111111111,\"#46039f\"],[0.2222222222222222,\"#7201a8\"],[0.3333333333333333,\"#9c179e\"],[0.4444444444444444,\"#bd3786\"],[0.5555555555555556,\"#d8576b\"],[0.6666666666666666,\"#ed7953\"],[0.7777777777777778,\"#fb9f3a\"],[0.8888888888888888,\"#fdca26\"],[1.0,\"#f0f921\"]]}],\"heatmap\":[{\"type\":\"heatmap\",\"colorbar\":{\"outlinewidth\":0,\"ticks\":\"\"},\"colorscale\":[[0.0,\"#0d0887\"],[0.1111111111111111,\"#46039f\"],[0.2222222222222222,\"#7201a8\"],[0.3333333333333333,\"#9c179e\"],[0.4444444444444444,\"#bd3786\"],[0.5555555555555556,\"#d8576b\"],[0.6666666666666666,\"#ed7953\"],[0.7777777777777778,\"#fb9f3a\"],[0.8888888888888888,\"#fdca26\"],[1.0,\"#f0f921\"]]}],\"heatmapgl\":[{\"type\":\"heatmapgl\",\"colorbar\":{\"outlinewidth\":0,\"ticks\":\"\"},\"colorscale\":[[0.0,\"#0d0887\"],[0.1111111111111111,\"#46039f\"],[0.2222222222222222,\"#7201a8\"],[0.3333333333333333,\"#9c179e\"],[0.4444444444444444,\"#bd3786\"],[0.5555555555555556,\"#d8576b\"],[0.6666666666666666,\"#ed7953\"],[0.7777777777777778,\"#fb9f3a\"],[0.8888888888888888,\"#fdca26\"],[1.0,\"#f0f921\"]]}],\"contourcarpet\":[{\"type\":\"contourcarpet\",\"colorbar\":{\"outlinewidth\":0,\"ticks\":\"\"}}],\"contour\":[{\"type\":\"contour\",\"colorbar\":{\"outlinewidth\":0,\"ticks\":\"\"},\"colorscale\":[[0.0,\"#0d0887\"],[0.1111111111111111,\"#46039f\"],[0.2222222222222222,\"#7201a8\"],[0.3333333333333333,\"#9c179e\"],[0.4444444444444444,\"#bd3786\"],[0.5555555555555556,\"#d8576b\"],[0.6666666666666666,\"#ed7953\"],[0.7777777777777778,\"#fb9f3a\"],[0.8888888888888888,\"#fdca26\"],[1.0,\"#f0f921\"]]}],\"surface\":[{\"type\":\"surface\",\"colorbar\":{\"outlinewidth\":0,\"ticks\":\"\"},\"colorscale\":[[0.0,\"#0d0887\"],[0.1111111111111111,\"#46039f\"],[0.2222222222222222,\"#7201a8\"],[0.3333333333333333,\"#9c179e\"],[0.4444444444444444,\"#bd3786\"],[0.5555555555555556,\"#d8576b\"],[0.6666666666666666,\"#ed7953\"],[0.7777777777777778,\"#fb9f3a\"],[0.8888888888888888,\"#fdca26\"],[1.0,\"#f0f921\"]]}],\"mesh3d\":[{\"type\":\"mesh3d\",\"colorbar\":{\"outlinewidth\":0,\"ticks\":\"\"}}],\"scatter\":[{\"fillpattern\":{\"fillmode\":\"overlay\",\"size\":10,\"solidity\":0.2},\"type\":\"scatter\"}],\"parcoords\":[{\"type\":\"parcoords\",\"line\":{\"colorbar\":{\"outlinewidth\":0,\"ticks\":\"\"}}}],\"scatterpolargl\":[{\"type\":\"scatterpolargl\",\"marker\":{\"colorbar\":{\"outlinewidth\":0,\"ticks\":\"\"}}}],\"bar\":[{\"error_x\":{\"color\":\"#2a3f5f\"},\"error_y\":{\"color\":\"#2a3f5f\"},\"marker\":{\"line\":{\"color\":\"#E5ECF6\",\"width\":0.5},\"pattern\":{\"fillmode\":\"overlay\",\"size\":10,\"solidity\":0.2}},\"type\":\"bar\"}],\"scattergeo\":[{\"type\":\"scattergeo\",\"marker\":{\"colorbar\":{\"outlinewidth\":0,\"ticks\":\"\"}}}],\"scatterpolar\":[{\"type\":\"scatterpolar\",\"marker\":{\"colorbar\":{\"outlinewidth\":0,\"ticks\":\"\"}}}],\"histogram\":[{\"marker\":{\"pattern\":{\"fillmode\":\"overlay\",\"size\":10,\"solidity\":0.2}},\"type\":\"histogram\"}],\"scattergl\":[{\"type\":\"scattergl\",\"marker\":{\"colorbar\":{\"outlinewidth\":0,\"ticks\":\"\"}}}],\"scatter3d\":[{\"type\":\"scatter3d\",\"line\":{\"colorbar\":{\"outlinewidth\":0,\"ticks\":\"\"}},\"marker\":{\"colorbar\":{\"outlinewidth\":0,\"ticks\":\"\"}}}],\"scattermapbox\":[{\"type\":\"scattermapbox\",\"marker\":{\"colorbar\":{\"outlinewidth\":0,\"ticks\":\"\"}}}],\"scatterternary\":[{\"type\":\"scatterternary\",\"marker\":{\"colorbar\":{\"outlinewidth\":0,\"ticks\":\"\"}}}],\"scattercarpet\":[{\"type\":\"scattercarpet\",\"marker\":{\"colorbar\":{\"outlinewidth\":0,\"ticks\":\"\"}}}],\"carpet\":[{\"aaxis\":{\"endlinecolor\":\"#2a3f5f\",\"gridcolor\":\"white\",\"linecolor\":\"white\",\"minorgridcolor\":\"white\",\"startlinecolor\":\"#2a3f5f\"},\"baxis\":{\"endlinecolor\":\"#2a3f5f\",\"gridcolor\":\"white\",\"linecolor\":\"white\",\"minorgridcolor\":\"white\",\"startlinecolor\":\"#2a3f5f\"},\"type\":\"carpet\"}],\"table\":[{\"cells\":{\"fill\":{\"color\":\"#EBF0F8\"},\"line\":{\"color\":\"white\"}},\"header\":{\"fill\":{\"color\":\"#C8D4E3\"},\"line\":{\"color\":\"white\"}},\"type\":\"table\"}],\"barpolar\":[{\"marker\":{\"line\":{\"color\":\"#E5ECF6\",\"width\":0.5},\"pattern\":{\"fillmode\":\"overlay\",\"size\":10,\"solidity\":0.2}},\"type\":\"barpolar\"}],\"pie\":[{\"automargin\":true,\"type\":\"pie\"}]},\"layout\":{\"autotypenumbers\":\"strict\",\"colorway\":[\"#636efa\",\"#EF553B\",\"#00cc96\",\"#ab63fa\",\"#FFA15A\",\"#19d3f3\",\"#FF6692\",\"#B6E880\",\"#FF97FF\",\"#FECB52\"],\"font\":{\"color\":\"#2a3f5f\"},\"hovermode\":\"closest\",\"hoverlabel\":{\"align\":\"left\"},\"paper_bgcolor\":\"white\",\"plot_bgcolor\":\"#E5ECF6\",\"polar\":{\"bgcolor\":\"#E5ECF6\",\"angularaxis\":{\"gridcolor\":\"white\",\"linecolor\":\"white\",\"ticks\":\"\"},\"radialaxis\":{\"gridcolor\":\"white\",\"linecolor\":\"white\",\"ticks\":\"\"}},\"ternary\":{\"bgcolor\":\"#E5ECF6\",\"aaxis\":{\"gridcolor\":\"white\",\"linecolor\":\"white\",\"ticks\":\"\"},\"baxis\":{\"gridcolor\":\"white\",\"linecolor\":\"white\",\"ticks\":\"\"},\"caxis\":{\"gridcolor\":\"white\",\"linecolor\":\"white\",\"ticks\":\"\"}},\"coloraxis\":{\"colorbar\":{\"outlinewidth\":0,\"ticks\":\"\"}},\"colorscale\":{\"sequential\":[[0.0,\"#0d0887\"],[0.1111111111111111,\"#46039f\"],[0.2222222222222222,\"#7201a8\"],[0.3333333333333333,\"#9c179e\"],[0.4444444444444444,\"#bd3786\"],[0.5555555555555556,\"#d8576b\"],[0.6666666666666666,\"#ed7953\"],[0.7777777777777778,\"#fb9f3a\"],[0.8888888888888888,\"#fdca26\"],[1.0,\"#f0f921\"]],\"sequentialminus\":[[0.0,\"#0d0887\"],[0.1111111111111111,\"#46039f\"],[0.2222222222222222,\"#7201a8\"],[0.3333333333333333,\"#9c179e\"],[0.4444444444444444,\"#bd3786\"],[0.5555555555555556,\"#d8576b\"],[0.6666666666666666,\"#ed7953\"],[0.7777777777777778,\"#fb9f3a\"],[0.8888888888888888,\"#fdca26\"],[1.0,\"#f0f921\"]],\"diverging\":[[0,\"#8e0152\"],[0.1,\"#c51b7d\"],[0.2,\"#de77ae\"],[0.3,\"#f1b6da\"],[0.4,\"#fde0ef\"],[0.5,\"#f7f7f7\"],[0.6,\"#e6f5d0\"],[0.7,\"#b8e186\"],[0.8,\"#7fbc41\"],[0.9,\"#4d9221\"],[1,\"#276419\"]]},\"xaxis\":{\"gridcolor\":\"white\",\"linecolor\":\"white\",\"ticks\":\"\",\"title\":{\"standoff\":15},\"zerolinecolor\":\"white\",\"automargin\":true,\"zerolinewidth\":2},\"yaxis\":{\"gridcolor\":\"white\",\"linecolor\":\"white\",\"ticks\":\"\",\"title\":{\"standoff\":15},\"zerolinecolor\":\"white\",\"automargin\":true,\"zerolinewidth\":2},\"scene\":{\"xaxis\":{\"backgroundcolor\":\"#E5ECF6\",\"gridcolor\":\"white\",\"linecolor\":\"white\",\"showbackground\":true,\"ticks\":\"\",\"zerolinecolor\":\"white\",\"gridwidth\":2},\"yaxis\":{\"backgroundcolor\":\"#E5ECF6\",\"gridcolor\":\"white\",\"linecolor\":\"white\",\"showbackground\":true,\"ticks\":\"\",\"zerolinecolor\":\"white\",\"gridwidth\":2},\"zaxis\":{\"backgroundcolor\":\"#E5ECF6\",\"gridcolor\":\"white\",\"linecolor\":\"white\",\"showbackground\":true,\"ticks\":\"\",\"zerolinecolor\":\"white\",\"gridwidth\":2}},\"shapedefaults\":{\"line\":{\"color\":\"#2a3f5f\"}},\"annotationdefaults\":{\"arrowcolor\":\"#2a3f5f\",\"arrowhead\":0,\"arrowwidth\":1},\"geo\":{\"bgcolor\":\"white\",\"landcolor\":\"#E5ECF6\",\"subunitcolor\":\"white\",\"showland\":true,\"showlakes\":true,\"lakecolor\":\"white\"},\"title\":{\"x\":0.05},\"mapbox\":{\"style\":\"light\"}}},\"xaxis\":{\"anchor\":\"y\",\"domain\":[0.0,1.0],\"title\":{\"text\":\"All Data Values\"},\"categoryorder\":\"array\",\"categoryarray\":[\"below21\",\"46\",\"41\",\"36\",\"50plus\",\"31\",\"26\",\"21\"],\"tickangle\":45},\"yaxis\":{\"anchor\":\"x\",\"domain\":[0.0,1.0],\"title\":{\"text\":\"Count\"}},\"legend\":{\"title\":{\"text\":\"All Data Values\"},\"tracegroupgap\":0},\"title\":{\"text\":\"Data in 'Age' Column\"},\"barmode\":\"relative\",\"width\":800,\"height\":500},                        {\"responsive\": true}                    ).then(function(){\n",
       "                            \n",
       "var gd = document.getElementById('55df4f84-c685-4551-b70c-b90462206592');\n",
       "var x = new MutationObserver(function (mutations, observer) {{\n",
       "        var display = window.getComputedStyle(gd).display;\n",
       "        if (!display || display === 'none') {{\n",
       "            console.log([gd, 'removed!']);\n",
       "            Plotly.purge(gd);\n",
       "            observer.disconnect();\n",
       "        }}\n",
       "}});\n",
       "\n",
       "// Listen for the removal of the full notebook cells\n",
       "var notebookContainer = gd.closest('#notebook-container');\n",
       "if (notebookContainer) {{\n",
       "    x.observe(notebookContainer, {childList: true});\n",
       "}}\n",
       "\n",
       "// Listen for the clearing of the current output cell\n",
       "var outputEl = gd.closest('.output');\n",
       "if (outputEl) {{\n",
       "    x.observe(outputEl, {childList: true});\n",
       "}}\n",
       "\n",
       "                        })                };                });            </script>        </div>"
      ]
     },
     "metadata": {},
     "output_type": "display_data"
    }
   ],
   "source": [
    "#### Check Other problematic data : All Strings #####\n",
    "\n",
    "bad_data_counts.columns = ['Bad Data Type', 'Count']\n",
    "\n",
    "# Sort values before plotting\n",
    "bad_data_counts = bad_data_counts.sort_values(by='Count')\n",
    "\n",
    "# Create a bar chart in Plotly\n",
    "fig = px.bar(\n",
    "    bad_data_counts, \n",
    "    x='Bad Data Type', \n",
    "    y='Count', \n",
    "    text='Count', \n",
    "    title=\"Data in 'Age' Column\",\n",
    "    labels={'Bad Data Type': 'All Data Values', 'Count': 'Count'},\n",
    "    color='Bad Data Type'  \n",
    "\n",
    "\n",
    "fig.update_traces(textposition='outside')\n",
    "\n",
    "fig.update_layout(width=800, height=500, xaxis_tickangle=45)"
   ]
  },
  {
   "cell_type": "code",
   "execution_count": 62,
   "metadata": {},
   "outputs": [
    {
     "data": {
      "text/plain": [
       "age\n",
       "21         2653\n",
       "26         2559\n",
       "31         2039\n",
       "50plus     1788\n",
       "36         1319\n",
       "41         1093\n",
       "46          686\n",
       "below21     547\n",
       "Name: count, dtype: int64"
      ]
     },
     "execution_count": 62,
     "metadata": {},
     "output_type": "execute_result"
    }
   ],
   "source": [
    "data['age'].value_counts()"
   ]
  },
  {
   "cell_type": "code",
   "execution_count": 47,
   "metadata": {},
   "outputs": [],
   "source": [
    "bad_data_counts = bad_data_rows['CoffeeHouse'].astype(str).value_counts().reset_index()"
   ]
  },
  {
   "cell_type": "code",
   "execution_count": 48,
   "metadata": {},
   "outputs": [
    {
     "data": {
      "application/vnd.plotly.v1+json": {
       "config": {
        "plotlyServerURL": "https://plot.ly"
       },
       "data": [
        {
         "alignmentgroup": "True",
         "hovertemplate": "All Data Values=%{x}<br>Count=%{text}<extra></extra>",
         "legendgroup": "nan",
         "marker": {
          "color": "#636efa",
          "pattern": {
           "shape": ""
          }
         },
         "name": "nan",
         "offsetgroup": "nan",
         "orientation": "v",
         "showlegend": true,
         "text": [
          217
         ],
         "textposition": "outside",
         "type": "bar",
         "x": [
          "nan"
         ],
         "xaxis": "x",
         "y": [
          217
         ],
         "yaxis": "y"
        },
        {
         "alignmentgroup": "True",
         "hovertemplate": "All Data Values=%{x}<br>Count=%{text}<extra></extra>",
         "legendgroup": "gt8",
         "marker": {
          "color": "#EF553B",
          "pattern": {
           "shape": ""
          }
         },
         "name": "gt8",
         "offsetgroup": "gt8",
         "orientation": "v",
         "showlegend": true,
         "text": [
          1111
         ],
         "textposition": "outside",
         "type": "bar",
         "x": [
          "gt8"
         ],
         "xaxis": "x",
         "y": [
          1111
         ],
         "yaxis": "y"
        },
        {
         "alignmentgroup": "True",
         "hovertemplate": "All Data Values=%{x}<br>Count=%{text}<extra></extra>",
         "legendgroup": "4~8",
         "marker": {
          "color": "#00cc96",
          "pattern": {
           "shape": ""
          }
         },
         "name": "4~8",
         "offsetgroup": "4~8",
         "orientation": "v",
         "showlegend": true,
         "text": [
          1784
         ],
         "textposition": "outside",
         "type": "bar",
         "x": [
          "4~8"
         ],
         "xaxis": "x",
         "y": [
          1784
         ],
         "yaxis": "y"
        },
        {
         "alignmentgroup": "True",
         "hovertemplate": "All Data Values=%{x}<br>Count=%{text}<extra></extra>",
         "legendgroup": "never",
         "marker": {
          "color": "#ab63fa",
          "pattern": {
           "shape": ""
          }
         },
         "name": "never",
         "offsetgroup": "never",
         "orientation": "v",
         "showlegend": true,
         "text": [
          2962
         ],
         "textposition": "outside",
         "type": "bar",
         "x": [
          "never"
         ],
         "xaxis": "x",
         "y": [
          2962
         ],
         "yaxis": "y"
        },
        {
         "alignmentgroup": "True",
         "hovertemplate": "All Data Values=%{x}<br>Count=%{text}<extra></extra>",
         "legendgroup": "1~3",
         "marker": {
          "color": "#FFA15A",
          "pattern": {
           "shape": ""
          }
         },
         "name": "1~3",
         "offsetgroup": "1~3",
         "orientation": "v",
         "showlegend": true,
         "text": [
          3225
         ],
         "textposition": "outside",
         "type": "bar",
         "x": [
          "1~3"
         ],
         "xaxis": "x",
         "y": [
          3225
         ],
         "yaxis": "y"
        },
        {
         "alignmentgroup": "True",
         "hovertemplate": "All Data Values=%{x}<br>Count=%{text}<extra></extra>",
         "legendgroup": "less1",
         "marker": {
          "color": "#19d3f3",
          "pattern": {
           "shape": ""
          }
         },
         "name": "less1",
         "offsetgroup": "less1",
         "orientation": "v",
         "showlegend": true,
         "text": [
          3385
         ],
         "textposition": "outside",
         "type": "bar",
         "x": [
          "less1"
         ],
         "xaxis": "x",
         "y": [
          3385
         ],
         "yaxis": "y"
        }
       ],
       "layout": {
        "barmode": "relative",
        "height": 500,
        "legend": {
         "title": {
          "text": "All Data Values"
         },
         "tracegroupgap": 0
        },
        "template": {
         "data": {
          "bar": [
           {
            "error_x": {
             "color": "#2a3f5f"
            },
            "error_y": {
             "color": "#2a3f5f"
            },
            "marker": {
             "line": {
              "color": "#E5ECF6",
              "width": 0.5
             },
             "pattern": {
              "fillmode": "overlay",
              "size": 10,
              "solidity": 0.2
             }
            },
            "type": "bar"
           }
          ],
          "barpolar": [
           {
            "marker": {
             "line": {
              "color": "#E5ECF6",
              "width": 0.5
             },
             "pattern": {
              "fillmode": "overlay",
              "size": 10,
              "solidity": 0.2
             }
            },
            "type": "barpolar"
           }
          ],
          "carpet": [
           {
            "aaxis": {
             "endlinecolor": "#2a3f5f",
             "gridcolor": "white",
             "linecolor": "white",
             "minorgridcolor": "white",
             "startlinecolor": "#2a3f5f"
            },
            "baxis": {
             "endlinecolor": "#2a3f5f",
             "gridcolor": "white",
             "linecolor": "white",
             "minorgridcolor": "white",
             "startlinecolor": "#2a3f5f"
            },
            "type": "carpet"
           }
          ],
          "choropleth": [
           {
            "colorbar": {
             "outlinewidth": 0,
             "ticks": ""
            },
            "type": "choropleth"
           }
          ],
          "contour": [
           {
            "colorbar": {
             "outlinewidth": 0,
             "ticks": ""
            },
            "colorscale": [
             [
              0,
              "#0d0887"
             ],
             [
              0.1111111111111111,
              "#46039f"
             ],
             [
              0.2222222222222222,
              "#7201a8"
             ],
             [
              0.3333333333333333,
              "#9c179e"
             ],
             [
              0.4444444444444444,
              "#bd3786"
             ],
             [
              0.5555555555555556,
              "#d8576b"
             ],
             [
              0.6666666666666666,
              "#ed7953"
             ],
             [
              0.7777777777777778,
              "#fb9f3a"
             ],
             [
              0.8888888888888888,
              "#fdca26"
             ],
             [
              1,
              "#f0f921"
             ]
            ],
            "type": "contour"
           }
          ],
          "contourcarpet": [
           {
            "colorbar": {
             "outlinewidth": 0,
             "ticks": ""
            },
            "type": "contourcarpet"
           }
          ],
          "heatmap": [
           {
            "colorbar": {
             "outlinewidth": 0,
             "ticks": ""
            },
            "colorscale": [
             [
              0,
              "#0d0887"
             ],
             [
              0.1111111111111111,
              "#46039f"
             ],
             [
              0.2222222222222222,
              "#7201a8"
             ],
             [
              0.3333333333333333,
              "#9c179e"
             ],
             [
              0.4444444444444444,
              "#bd3786"
             ],
             [
              0.5555555555555556,
              "#d8576b"
             ],
             [
              0.6666666666666666,
              "#ed7953"
             ],
             [
              0.7777777777777778,
              "#fb9f3a"
             ],
             [
              0.8888888888888888,
              "#fdca26"
             ],
             [
              1,
              "#f0f921"
             ]
            ],
            "type": "heatmap"
           }
          ],
          "heatmapgl": [
           {
            "colorbar": {
             "outlinewidth": 0,
             "ticks": ""
            },
            "colorscale": [
             [
              0,
              "#0d0887"
             ],
             [
              0.1111111111111111,
              "#46039f"
             ],
             [
              0.2222222222222222,
              "#7201a8"
             ],
             [
              0.3333333333333333,
              "#9c179e"
             ],
             [
              0.4444444444444444,
              "#bd3786"
             ],
             [
              0.5555555555555556,
              "#d8576b"
             ],
             [
              0.6666666666666666,
              "#ed7953"
             ],
             [
              0.7777777777777778,
              "#fb9f3a"
             ],
             [
              0.8888888888888888,
              "#fdca26"
             ],
             [
              1,
              "#f0f921"
             ]
            ],
            "type": "heatmapgl"
           }
          ],
          "histogram": [
           {
            "marker": {
             "pattern": {
              "fillmode": "overlay",
              "size": 10,
              "solidity": 0.2
             }
            },
            "type": "histogram"
           }
          ],
          "histogram2d": [
           {
            "colorbar": {
             "outlinewidth": 0,
             "ticks": ""
            },
            "colorscale": [
             [
              0,
              "#0d0887"
             ],
             [
              0.1111111111111111,
              "#46039f"
             ],
             [
              0.2222222222222222,
              "#7201a8"
             ],
             [
              0.3333333333333333,
              "#9c179e"
             ],
             [
              0.4444444444444444,
              "#bd3786"
             ],
             [
              0.5555555555555556,
              "#d8576b"
             ],
             [
              0.6666666666666666,
              "#ed7953"
             ],
             [
              0.7777777777777778,
              "#fb9f3a"
             ],
             [
              0.8888888888888888,
              "#fdca26"
             ],
             [
              1,
              "#f0f921"
             ]
            ],
            "type": "histogram2d"
           }
          ],
          "histogram2dcontour": [
           {
            "colorbar": {
             "outlinewidth": 0,
             "ticks": ""
            },
            "colorscale": [
             [
              0,
              "#0d0887"
             ],
             [
              0.1111111111111111,
              "#46039f"
             ],
             [
              0.2222222222222222,
              "#7201a8"
             ],
             [
              0.3333333333333333,
              "#9c179e"
             ],
             [
              0.4444444444444444,
              "#bd3786"
             ],
             [
              0.5555555555555556,
              "#d8576b"
             ],
             [
              0.6666666666666666,
              "#ed7953"
             ],
             [
              0.7777777777777778,
              "#fb9f3a"
             ],
             [
              0.8888888888888888,
              "#fdca26"
             ],
             [
              1,
              "#f0f921"
             ]
            ],
            "type": "histogram2dcontour"
           }
          ],
          "mesh3d": [
           {
            "colorbar": {
             "outlinewidth": 0,
             "ticks": ""
            },
            "type": "mesh3d"
           }
          ],
          "parcoords": [
           {
            "line": {
             "colorbar": {
              "outlinewidth": 0,
              "ticks": ""
             }
            },
            "type": "parcoords"
           }
          ],
          "pie": [
           {
            "automargin": true,
            "type": "pie"
           }
          ],
          "scatter": [
           {
            "fillpattern": {
             "fillmode": "overlay",
             "size": 10,
             "solidity": 0.2
            },
            "type": "scatter"
           }
          ],
          "scatter3d": [
           {
            "line": {
             "colorbar": {
              "outlinewidth": 0,
              "ticks": ""
             }
            },
            "marker": {
             "colorbar": {
              "outlinewidth": 0,
              "ticks": ""
             }
            },
            "type": "scatter3d"
           }
          ],
          "scattercarpet": [
           {
            "marker": {
             "colorbar": {
              "outlinewidth": 0,
              "ticks": ""
             }
            },
            "type": "scattercarpet"
           }
          ],
          "scattergeo": [
           {
            "marker": {
             "colorbar": {
              "outlinewidth": 0,
              "ticks": ""
             }
            },
            "type": "scattergeo"
           }
          ],
          "scattergl": [
           {
            "marker": {
             "colorbar": {
              "outlinewidth": 0,
              "ticks": ""
             }
            },
            "type": "scattergl"
           }
          ],
          "scattermapbox": [
           {
            "marker": {
             "colorbar": {
              "outlinewidth": 0,
              "ticks": ""
             }
            },
            "type": "scattermapbox"
           }
          ],
          "scatterpolar": [
           {
            "marker": {
             "colorbar": {
              "outlinewidth": 0,
              "ticks": ""
             }
            },
            "type": "scatterpolar"
           }
          ],
          "scatterpolargl": [
           {
            "marker": {
             "colorbar": {
              "outlinewidth": 0,
              "ticks": ""
             }
            },
            "type": "scatterpolargl"
           }
          ],
          "scatterternary": [
           {
            "marker": {
             "colorbar": {
              "outlinewidth": 0,
              "ticks": ""
             }
            },
            "type": "scatterternary"
           }
          ],
          "surface": [
           {
            "colorbar": {
             "outlinewidth": 0,
             "ticks": ""
            },
            "colorscale": [
             [
              0,
              "#0d0887"
             ],
             [
              0.1111111111111111,
              "#46039f"
             ],
             [
              0.2222222222222222,
              "#7201a8"
             ],
             [
              0.3333333333333333,
              "#9c179e"
             ],
             [
              0.4444444444444444,
              "#bd3786"
             ],
             [
              0.5555555555555556,
              "#d8576b"
             ],
             [
              0.6666666666666666,
              "#ed7953"
             ],
             [
              0.7777777777777778,
              "#fb9f3a"
             ],
             [
              0.8888888888888888,
              "#fdca26"
             ],
             [
              1,
              "#f0f921"
             ]
            ],
            "type": "surface"
           }
          ],
          "table": [
           {
            "cells": {
             "fill": {
              "color": "#EBF0F8"
             },
             "line": {
              "color": "white"
             }
            },
            "header": {
             "fill": {
              "color": "#C8D4E3"
             },
             "line": {
              "color": "white"
             }
            },
            "type": "table"
           }
          ]
         },
         "layout": {
          "annotationdefaults": {
           "arrowcolor": "#2a3f5f",
           "arrowhead": 0,
           "arrowwidth": 1
          },
          "autotypenumbers": "strict",
          "coloraxis": {
           "colorbar": {
            "outlinewidth": 0,
            "ticks": ""
           }
          },
          "colorscale": {
           "diverging": [
            [
             0,
             "#8e0152"
            ],
            [
             0.1,
             "#c51b7d"
            ],
            [
             0.2,
             "#de77ae"
            ],
            [
             0.3,
             "#f1b6da"
            ],
            [
             0.4,
             "#fde0ef"
            ],
            [
             0.5,
             "#f7f7f7"
            ],
            [
             0.6,
             "#e6f5d0"
            ],
            [
             0.7,
             "#b8e186"
            ],
            [
             0.8,
             "#7fbc41"
            ],
            [
             0.9,
             "#4d9221"
            ],
            [
             1,
             "#276419"
            ]
           ],
           "sequential": [
            [
             0,
             "#0d0887"
            ],
            [
             0.1111111111111111,
             "#46039f"
            ],
            [
             0.2222222222222222,
             "#7201a8"
            ],
            [
             0.3333333333333333,
             "#9c179e"
            ],
            [
             0.4444444444444444,
             "#bd3786"
            ],
            [
             0.5555555555555556,
             "#d8576b"
            ],
            [
             0.6666666666666666,
             "#ed7953"
            ],
            [
             0.7777777777777778,
             "#fb9f3a"
            ],
            [
             0.8888888888888888,
             "#fdca26"
            ],
            [
             1,
             "#f0f921"
            ]
           ],
           "sequentialminus": [
            [
             0,
             "#0d0887"
            ],
            [
             0.1111111111111111,
             "#46039f"
            ],
            [
             0.2222222222222222,
             "#7201a8"
            ],
            [
             0.3333333333333333,
             "#9c179e"
            ],
            [
             0.4444444444444444,
             "#bd3786"
            ],
            [
             0.5555555555555556,
             "#d8576b"
            ],
            [
             0.6666666666666666,
             "#ed7953"
            ],
            [
             0.7777777777777778,
             "#fb9f3a"
            ],
            [
             0.8888888888888888,
             "#fdca26"
            ],
            [
             1,
             "#f0f921"
            ]
           ]
          },
          "colorway": [
           "#636efa",
           "#EF553B",
           "#00cc96",
           "#ab63fa",
           "#FFA15A",
           "#19d3f3",
           "#FF6692",
           "#B6E880",
           "#FF97FF",
           "#FECB52"
          ],
          "font": {
           "color": "#2a3f5f"
          },
          "geo": {
           "bgcolor": "white",
           "lakecolor": "white",
           "landcolor": "#E5ECF6",
           "showlakes": true,
           "showland": true,
           "subunitcolor": "white"
          },
          "hoverlabel": {
           "align": "left"
          },
          "hovermode": "closest",
          "mapbox": {
           "style": "light"
          },
          "paper_bgcolor": "white",
          "plot_bgcolor": "#E5ECF6",
          "polar": {
           "angularaxis": {
            "gridcolor": "white",
            "linecolor": "white",
            "ticks": ""
           },
           "bgcolor": "#E5ECF6",
           "radialaxis": {
            "gridcolor": "white",
            "linecolor": "white",
            "ticks": ""
           }
          },
          "scene": {
           "xaxis": {
            "backgroundcolor": "#E5ECF6",
            "gridcolor": "white",
            "gridwidth": 2,
            "linecolor": "white",
            "showbackground": true,
            "ticks": "",
            "zerolinecolor": "white"
           },
           "yaxis": {
            "backgroundcolor": "#E5ECF6",
            "gridcolor": "white",
            "gridwidth": 2,
            "linecolor": "white",
            "showbackground": true,
            "ticks": "",
            "zerolinecolor": "white"
           },
           "zaxis": {
            "backgroundcolor": "#E5ECF6",
            "gridcolor": "white",
            "gridwidth": 2,
            "linecolor": "white",
            "showbackground": true,
            "ticks": "",
            "zerolinecolor": "white"
           }
          },
          "shapedefaults": {
           "line": {
            "color": "#2a3f5f"
           }
          },
          "ternary": {
           "aaxis": {
            "gridcolor": "white",
            "linecolor": "white",
            "ticks": ""
           },
           "baxis": {
            "gridcolor": "white",
            "linecolor": "white",
            "ticks": ""
           },
           "bgcolor": "#E5ECF6",
           "caxis": {
            "gridcolor": "white",
            "linecolor": "white",
            "ticks": ""
           }
          },
          "title": {
           "x": 0.05
          },
          "xaxis": {
           "automargin": true,
           "gridcolor": "white",
           "linecolor": "white",
           "ticks": "",
           "title": {
            "standoff": 15
           },
           "zerolinecolor": "white",
           "zerolinewidth": 2
          },
          "yaxis": {
           "automargin": true,
           "gridcolor": "white",
           "linecolor": "white",
           "ticks": "",
           "title": {
            "standoff": 15
           },
           "zerolinecolor": "white",
           "zerolinewidth": 2
          }
         }
        },
        "title": {
         "text": "Data in 'Coffee House' Column"
        },
        "width": 800,
        "xaxis": {
         "anchor": "y",
         "categoryarray": [
          "nan",
          "gt8",
          "4~8",
          "never",
          "1~3",
          "less1"
         ],
         "categoryorder": "array",
         "domain": [
          0,
          1
         ],
         "tickangle": 45,
         "title": {
          "text": "All Data Values"
         }
        },
        "yaxis": {
         "anchor": "x",
         "domain": [
          0,
          1
         ],
         "title": {
          "text": "Count"
         }
        }
       }
      },
      "text/html": [
       "<div>                            <div id=\"db641797-c29a-4c62-8aaf-204e3dd17943\" class=\"plotly-graph-div\" style=\"height:500px; width:800px;\"></div>            <script type=\"text/javascript\">                require([\"plotly\"], function(Plotly) {                    window.PLOTLYENV=window.PLOTLYENV || {};                                    if (document.getElementById(\"db641797-c29a-4c62-8aaf-204e3dd17943\")) {                    Plotly.newPlot(                        \"db641797-c29a-4c62-8aaf-204e3dd17943\",                        [{\"alignmentgroup\":\"True\",\"hovertemplate\":\"All Data Values=%{x}\\u003cbr\\u003eCount=%{text}\\u003cextra\\u003e\\u003c\\u002fextra\\u003e\",\"legendgroup\":\"nan\",\"marker\":{\"color\":\"#636efa\",\"pattern\":{\"shape\":\"\"}},\"name\":\"nan\",\"offsetgroup\":\"nan\",\"orientation\":\"v\",\"showlegend\":true,\"text\":[217.0],\"textposition\":\"outside\",\"x\":[\"nan\"],\"xaxis\":\"x\",\"y\":[217],\"yaxis\":\"y\",\"type\":\"bar\"},{\"alignmentgroup\":\"True\",\"hovertemplate\":\"All Data Values=%{x}\\u003cbr\\u003eCount=%{text}\\u003cextra\\u003e\\u003c\\u002fextra\\u003e\",\"legendgroup\":\"gt8\",\"marker\":{\"color\":\"#EF553B\",\"pattern\":{\"shape\":\"\"}},\"name\":\"gt8\",\"offsetgroup\":\"gt8\",\"orientation\":\"v\",\"showlegend\":true,\"text\":[1111.0],\"textposition\":\"outside\",\"x\":[\"gt8\"],\"xaxis\":\"x\",\"y\":[1111],\"yaxis\":\"y\",\"type\":\"bar\"},{\"alignmentgroup\":\"True\",\"hovertemplate\":\"All Data Values=%{x}\\u003cbr\\u003eCount=%{text}\\u003cextra\\u003e\\u003c\\u002fextra\\u003e\",\"legendgroup\":\"4~8\",\"marker\":{\"color\":\"#00cc96\",\"pattern\":{\"shape\":\"\"}},\"name\":\"4~8\",\"offsetgroup\":\"4~8\",\"orientation\":\"v\",\"showlegend\":true,\"text\":[1784.0],\"textposition\":\"outside\",\"x\":[\"4~8\"],\"xaxis\":\"x\",\"y\":[1784],\"yaxis\":\"y\",\"type\":\"bar\"},{\"alignmentgroup\":\"True\",\"hovertemplate\":\"All Data Values=%{x}\\u003cbr\\u003eCount=%{text}\\u003cextra\\u003e\\u003c\\u002fextra\\u003e\",\"legendgroup\":\"never\",\"marker\":{\"color\":\"#ab63fa\",\"pattern\":{\"shape\":\"\"}},\"name\":\"never\",\"offsetgroup\":\"never\",\"orientation\":\"v\",\"showlegend\":true,\"text\":[2962.0],\"textposition\":\"outside\",\"x\":[\"never\"],\"xaxis\":\"x\",\"y\":[2962],\"yaxis\":\"y\",\"type\":\"bar\"},{\"alignmentgroup\":\"True\",\"hovertemplate\":\"All Data Values=%{x}\\u003cbr\\u003eCount=%{text}\\u003cextra\\u003e\\u003c\\u002fextra\\u003e\",\"legendgroup\":\"1~3\",\"marker\":{\"color\":\"#FFA15A\",\"pattern\":{\"shape\":\"\"}},\"name\":\"1~3\",\"offsetgroup\":\"1~3\",\"orientation\":\"v\",\"showlegend\":true,\"text\":[3225.0],\"textposition\":\"outside\",\"x\":[\"1~3\"],\"xaxis\":\"x\",\"y\":[3225],\"yaxis\":\"y\",\"type\":\"bar\"},{\"alignmentgroup\":\"True\",\"hovertemplate\":\"All Data Values=%{x}\\u003cbr\\u003eCount=%{text}\\u003cextra\\u003e\\u003c\\u002fextra\\u003e\",\"legendgroup\":\"less1\",\"marker\":{\"color\":\"#19d3f3\",\"pattern\":{\"shape\":\"\"}},\"name\":\"less1\",\"offsetgroup\":\"less1\",\"orientation\":\"v\",\"showlegend\":true,\"text\":[3385.0],\"textposition\":\"outside\",\"x\":[\"less1\"],\"xaxis\":\"x\",\"y\":[3385],\"yaxis\":\"y\",\"type\":\"bar\"}],                        {\"template\":{\"data\":{\"histogram2dcontour\":[{\"type\":\"histogram2dcontour\",\"colorbar\":{\"outlinewidth\":0,\"ticks\":\"\"},\"colorscale\":[[0.0,\"#0d0887\"],[0.1111111111111111,\"#46039f\"],[0.2222222222222222,\"#7201a8\"],[0.3333333333333333,\"#9c179e\"],[0.4444444444444444,\"#bd3786\"],[0.5555555555555556,\"#d8576b\"],[0.6666666666666666,\"#ed7953\"],[0.7777777777777778,\"#fb9f3a\"],[0.8888888888888888,\"#fdca26\"],[1.0,\"#f0f921\"]]}],\"choropleth\":[{\"type\":\"choropleth\",\"colorbar\":{\"outlinewidth\":0,\"ticks\":\"\"}}],\"histogram2d\":[{\"type\":\"histogram2d\",\"colorbar\":{\"outlinewidth\":0,\"ticks\":\"\"},\"colorscale\":[[0.0,\"#0d0887\"],[0.1111111111111111,\"#46039f\"],[0.2222222222222222,\"#7201a8\"],[0.3333333333333333,\"#9c179e\"],[0.4444444444444444,\"#bd3786\"],[0.5555555555555556,\"#d8576b\"],[0.6666666666666666,\"#ed7953\"],[0.7777777777777778,\"#fb9f3a\"],[0.8888888888888888,\"#fdca26\"],[1.0,\"#f0f921\"]]}],\"heatmap\":[{\"type\":\"heatmap\",\"colorbar\":{\"outlinewidth\":0,\"ticks\":\"\"},\"colorscale\":[[0.0,\"#0d0887\"],[0.1111111111111111,\"#46039f\"],[0.2222222222222222,\"#7201a8\"],[0.3333333333333333,\"#9c179e\"],[0.4444444444444444,\"#bd3786\"],[0.5555555555555556,\"#d8576b\"],[0.6666666666666666,\"#ed7953\"],[0.7777777777777778,\"#fb9f3a\"],[0.8888888888888888,\"#fdca26\"],[1.0,\"#f0f921\"]]}],\"heatmapgl\":[{\"type\":\"heatmapgl\",\"colorbar\":{\"outlinewidth\":0,\"ticks\":\"\"},\"colorscale\":[[0.0,\"#0d0887\"],[0.1111111111111111,\"#46039f\"],[0.2222222222222222,\"#7201a8\"],[0.3333333333333333,\"#9c179e\"],[0.4444444444444444,\"#bd3786\"],[0.5555555555555556,\"#d8576b\"],[0.6666666666666666,\"#ed7953\"],[0.7777777777777778,\"#fb9f3a\"],[0.8888888888888888,\"#fdca26\"],[1.0,\"#f0f921\"]]}],\"contourcarpet\":[{\"type\":\"contourcarpet\",\"colorbar\":{\"outlinewidth\":0,\"ticks\":\"\"}}],\"contour\":[{\"type\":\"contour\",\"colorbar\":{\"outlinewidth\":0,\"ticks\":\"\"},\"colorscale\":[[0.0,\"#0d0887\"],[0.1111111111111111,\"#46039f\"],[0.2222222222222222,\"#7201a8\"],[0.3333333333333333,\"#9c179e\"],[0.4444444444444444,\"#bd3786\"],[0.5555555555555556,\"#d8576b\"],[0.6666666666666666,\"#ed7953\"],[0.7777777777777778,\"#fb9f3a\"],[0.8888888888888888,\"#fdca26\"],[1.0,\"#f0f921\"]]}],\"surface\":[{\"type\":\"surface\",\"colorbar\":{\"outlinewidth\":0,\"ticks\":\"\"},\"colorscale\":[[0.0,\"#0d0887\"],[0.1111111111111111,\"#46039f\"],[0.2222222222222222,\"#7201a8\"],[0.3333333333333333,\"#9c179e\"],[0.4444444444444444,\"#bd3786\"],[0.5555555555555556,\"#d8576b\"],[0.6666666666666666,\"#ed7953\"],[0.7777777777777778,\"#fb9f3a\"],[0.8888888888888888,\"#fdca26\"],[1.0,\"#f0f921\"]]}],\"mesh3d\":[{\"type\":\"mesh3d\",\"colorbar\":{\"outlinewidth\":0,\"ticks\":\"\"}}],\"scatter\":[{\"fillpattern\":{\"fillmode\":\"overlay\",\"size\":10,\"solidity\":0.2},\"type\":\"scatter\"}],\"parcoords\":[{\"type\":\"parcoords\",\"line\":{\"colorbar\":{\"outlinewidth\":0,\"ticks\":\"\"}}}],\"scatterpolargl\":[{\"type\":\"scatterpolargl\",\"marker\":{\"colorbar\":{\"outlinewidth\":0,\"ticks\":\"\"}}}],\"bar\":[{\"error_x\":{\"color\":\"#2a3f5f\"},\"error_y\":{\"color\":\"#2a3f5f\"},\"marker\":{\"line\":{\"color\":\"#E5ECF6\",\"width\":0.5},\"pattern\":{\"fillmode\":\"overlay\",\"size\":10,\"solidity\":0.2}},\"type\":\"bar\"}],\"scattergeo\":[{\"type\":\"scattergeo\",\"marker\":{\"colorbar\":{\"outlinewidth\":0,\"ticks\":\"\"}}}],\"scatterpolar\":[{\"type\":\"scatterpolar\",\"marker\":{\"colorbar\":{\"outlinewidth\":0,\"ticks\":\"\"}}}],\"histogram\":[{\"marker\":{\"pattern\":{\"fillmode\":\"overlay\",\"size\":10,\"solidity\":0.2}},\"type\":\"histogram\"}],\"scattergl\":[{\"type\":\"scattergl\",\"marker\":{\"colorbar\":{\"outlinewidth\":0,\"ticks\":\"\"}}}],\"scatter3d\":[{\"type\":\"scatter3d\",\"line\":{\"colorbar\":{\"outlinewidth\":0,\"ticks\":\"\"}},\"marker\":{\"colorbar\":{\"outlinewidth\":0,\"ticks\":\"\"}}}],\"scattermapbox\":[{\"type\":\"scattermapbox\",\"marker\":{\"colorbar\":{\"outlinewidth\":0,\"ticks\":\"\"}}}],\"scatterternary\":[{\"type\":\"scatterternary\",\"marker\":{\"colorbar\":{\"outlinewidth\":0,\"ticks\":\"\"}}}],\"scattercarpet\":[{\"type\":\"scattercarpet\",\"marker\":{\"colorbar\":{\"outlinewidth\":0,\"ticks\":\"\"}}}],\"carpet\":[{\"aaxis\":{\"endlinecolor\":\"#2a3f5f\",\"gridcolor\":\"white\",\"linecolor\":\"white\",\"minorgridcolor\":\"white\",\"startlinecolor\":\"#2a3f5f\"},\"baxis\":{\"endlinecolor\":\"#2a3f5f\",\"gridcolor\":\"white\",\"linecolor\":\"white\",\"minorgridcolor\":\"white\",\"startlinecolor\":\"#2a3f5f\"},\"type\":\"carpet\"}],\"table\":[{\"cells\":{\"fill\":{\"color\":\"#EBF0F8\"},\"line\":{\"color\":\"white\"}},\"header\":{\"fill\":{\"color\":\"#C8D4E3\"},\"line\":{\"color\":\"white\"}},\"type\":\"table\"}],\"barpolar\":[{\"marker\":{\"line\":{\"color\":\"#E5ECF6\",\"width\":0.5},\"pattern\":{\"fillmode\":\"overlay\",\"size\":10,\"solidity\":0.2}},\"type\":\"barpolar\"}],\"pie\":[{\"automargin\":true,\"type\":\"pie\"}]},\"layout\":{\"autotypenumbers\":\"strict\",\"colorway\":[\"#636efa\",\"#EF553B\",\"#00cc96\",\"#ab63fa\",\"#FFA15A\",\"#19d3f3\",\"#FF6692\",\"#B6E880\",\"#FF97FF\",\"#FECB52\"],\"font\":{\"color\":\"#2a3f5f\"},\"hovermode\":\"closest\",\"hoverlabel\":{\"align\":\"left\"},\"paper_bgcolor\":\"white\",\"plot_bgcolor\":\"#E5ECF6\",\"polar\":{\"bgcolor\":\"#E5ECF6\",\"angularaxis\":{\"gridcolor\":\"white\",\"linecolor\":\"white\",\"ticks\":\"\"},\"radialaxis\":{\"gridcolor\":\"white\",\"linecolor\":\"white\",\"ticks\":\"\"}},\"ternary\":{\"bgcolor\":\"#E5ECF6\",\"aaxis\":{\"gridcolor\":\"white\",\"linecolor\":\"white\",\"ticks\":\"\"},\"baxis\":{\"gridcolor\":\"white\",\"linecolor\":\"white\",\"ticks\":\"\"},\"caxis\":{\"gridcolor\":\"white\",\"linecolor\":\"white\",\"ticks\":\"\"}},\"coloraxis\":{\"colorbar\":{\"outlinewidth\":0,\"ticks\":\"\"}},\"colorscale\":{\"sequential\":[[0.0,\"#0d0887\"],[0.1111111111111111,\"#46039f\"],[0.2222222222222222,\"#7201a8\"],[0.3333333333333333,\"#9c179e\"],[0.4444444444444444,\"#bd3786\"],[0.5555555555555556,\"#d8576b\"],[0.6666666666666666,\"#ed7953\"],[0.7777777777777778,\"#fb9f3a\"],[0.8888888888888888,\"#fdca26\"],[1.0,\"#f0f921\"]],\"sequentialminus\":[[0.0,\"#0d0887\"],[0.1111111111111111,\"#46039f\"],[0.2222222222222222,\"#7201a8\"],[0.3333333333333333,\"#9c179e\"],[0.4444444444444444,\"#bd3786\"],[0.5555555555555556,\"#d8576b\"],[0.6666666666666666,\"#ed7953\"],[0.7777777777777778,\"#fb9f3a\"],[0.8888888888888888,\"#fdca26\"],[1.0,\"#f0f921\"]],\"diverging\":[[0,\"#8e0152\"],[0.1,\"#c51b7d\"],[0.2,\"#de77ae\"],[0.3,\"#f1b6da\"],[0.4,\"#fde0ef\"],[0.5,\"#f7f7f7\"],[0.6,\"#e6f5d0\"],[0.7,\"#b8e186\"],[0.8,\"#7fbc41\"],[0.9,\"#4d9221\"],[1,\"#276419\"]]},\"xaxis\":{\"gridcolor\":\"white\",\"linecolor\":\"white\",\"ticks\":\"\",\"title\":{\"standoff\":15},\"zerolinecolor\":\"white\",\"automargin\":true,\"zerolinewidth\":2},\"yaxis\":{\"gridcolor\":\"white\",\"linecolor\":\"white\",\"ticks\":\"\",\"title\":{\"standoff\":15},\"zerolinecolor\":\"white\",\"automargin\":true,\"zerolinewidth\":2},\"scene\":{\"xaxis\":{\"backgroundcolor\":\"#E5ECF6\",\"gridcolor\":\"white\",\"linecolor\":\"white\",\"showbackground\":true,\"ticks\":\"\",\"zerolinecolor\":\"white\",\"gridwidth\":2},\"yaxis\":{\"backgroundcolor\":\"#E5ECF6\",\"gridcolor\":\"white\",\"linecolor\":\"white\",\"showbackground\":true,\"ticks\":\"\",\"zerolinecolor\":\"white\",\"gridwidth\":2},\"zaxis\":{\"backgroundcolor\":\"#E5ECF6\",\"gridcolor\":\"white\",\"linecolor\":\"white\",\"showbackground\":true,\"ticks\":\"\",\"zerolinecolor\":\"white\",\"gridwidth\":2}},\"shapedefaults\":{\"line\":{\"color\":\"#2a3f5f\"}},\"annotationdefaults\":{\"arrowcolor\":\"#2a3f5f\",\"arrowhead\":0,\"arrowwidth\":1},\"geo\":{\"bgcolor\":\"white\",\"landcolor\":\"#E5ECF6\",\"subunitcolor\":\"white\",\"showland\":true,\"showlakes\":true,\"lakecolor\":\"white\"},\"title\":{\"x\":0.05},\"mapbox\":{\"style\":\"light\"}}},\"xaxis\":{\"anchor\":\"y\",\"domain\":[0.0,1.0],\"title\":{\"text\":\"All Data Values\"},\"categoryorder\":\"array\",\"categoryarray\":[\"nan\",\"gt8\",\"4~8\",\"never\",\"1~3\",\"less1\"],\"tickangle\":45},\"yaxis\":{\"anchor\":\"x\",\"domain\":[0.0,1.0],\"title\":{\"text\":\"Count\"}},\"legend\":{\"title\":{\"text\":\"All Data Values\"},\"tracegroupgap\":0},\"title\":{\"text\":\"Data in 'Coffee House' Column\"},\"barmode\":\"relative\",\"width\":800,\"height\":500},                        {\"responsive\": true}                    ).then(function(){\n",
       "                            \n",
       "var gd = document.getElementById('db641797-c29a-4c62-8aaf-204e3dd17943');\n",
       "var x = new MutationObserver(function (mutations, observer) {{\n",
       "        var display = window.getComputedStyle(gd).display;\n",
       "        if (!display || display === 'none') {{\n",
       "            console.log([gd, 'removed!']);\n",
       "            Plotly.purge(gd);\n",
       "            observer.disconnect();\n",
       "        }}\n",
       "}});\n",
       "\n",
       "// Listen for the removal of the full notebook cells\n",
       "var notebookContainer = gd.closest('#notebook-container');\n",
       "if (notebookContainer) {{\n",
       "    x.observe(notebookContainer, {childList: true});\n",
       "}}\n",
       "\n",
       "// Listen for the clearing of the current output cell\n",
       "var outputEl = gd.closest('.output');\n",
       "if (outputEl) {{\n",
       "    x.observe(outputEl, {childList: true});\n",
       "}}\n",
       "\n",
       "                        })                };                });            </script>        </div>"
      ]
     },
     "metadata": {},
     "output_type": "display_data"
    }
   ],
   "source": [
    "\n",
    "bad_data_counts.columns = ['Bad Data Type', 'Count']\n",
    "\n",
    "# Sort values before plotting\n",
    "bad_data_counts = bad_data_counts.sort_values(by='Count')\n",
    "\n",
    "# Create a bar chart in Plotly\n",
    "fig = px.bar(\n",
    "    bad_data_counts, \n",
    "    x='Bad Data Type', \n",
    "    y='Count', \n",
    "    text='Count', \n",
    "    title=\"Data in 'Coffee House' Column\",\n",
    "    labels={'Bad Data Type': 'All Data Values', 'Count': 'Count'},\n",
    "    color='Bad Data Type' \n",
    ")\n",
    "\n",
    "# Format the text labels on bars\n",
    "fig.update_traces(textposition='outside')\n",
    "\n",
    "# Set figure size and rotate x-axis labels\n",
    "fig.update_layout(width=800, height=500, xaxis_tickangle=45)"
   ]
  },
  {
   "cell_type": "code",
   "execution_count": 328,
   "metadata": {},
   "outputs": [
    {
     "name": "stdout",
     "output_type": "stream",
     "text": [
      "<class 'pandas.core.frame.DataFrame'>\n",
      "RangeIndex: 12684 entries, 0 to 12683\n",
      "Data columns (total 26 columns):\n",
      " #   Column                Non-Null Count  Dtype \n",
      "---  ------                --------------  ----- \n",
      " 0   destination           12684 non-null  object\n",
      " 1   passanger             12684 non-null  object\n",
      " 2   weather               12684 non-null  object\n",
      " 3   temperature           12684 non-null  int64 \n",
      " 4   time                  12684 non-null  object\n",
      " 5   coupon                12684 non-null  object\n",
      " 6   expiration            12684 non-null  object\n",
      " 7   gender                12684 non-null  object\n",
      " 8   age                   12684 non-null  object\n",
      " 9   maritalStatus         12684 non-null  object\n",
      " 10  has_children          12684 non-null  int64 \n",
      " 11  education             12684 non-null  object\n",
      " 12  occupation            12684 non-null  object\n",
      " 13  income                12684 non-null  object\n",
      " 14  car                   108 non-null    object\n",
      " 15  Bar                   12577 non-null  object\n",
      " 16  CoffeeHouse           12467 non-null  object\n",
      " 17  CarryAway             12533 non-null  object\n",
      " 18  RestaurantLessThan20  12554 non-null  object\n",
      " 19  Restaurant20To50      12495 non-null  object\n",
      " 20  toCoupon_GEQ5min      12684 non-null  int64 \n",
      " 21  toCoupon_GEQ15min     12684 non-null  int64 \n",
      " 22  toCoupon_GEQ25min     12684 non-null  int64 \n",
      " 23  direction_same        12684 non-null  int64 \n",
      " 24  direction_opp         12684 non-null  int64 \n",
      " 25  Y                     12684 non-null  int64 \n",
      "dtypes: int64(8), object(18)\n",
      "memory usage: 2.5+ MB\n"
     ]
    }
   ],
   "source": [
    "data.info()"
   ]
  },
  {
   "cell_type": "code",
   "execution_count": 94,
   "metadata": {},
   "outputs": [
    {
     "data": {
      "text/plain": [
       "destination\n",
       "No Urgent Place    6283\n",
       "Home               3237\n",
       "Work               3164\n",
       "Name: count, dtype: int64"
      ]
     },
     "execution_count": 94,
     "metadata": {},
     "output_type": "execute_result"
    }
   ],
   "source": [
    "data['destination'].value_counts() # NO Issues"
   ]
  },
  {
   "cell_type": "code",
   "execution_count": 95,
   "metadata": {},
   "outputs": [
    {
     "data": {
      "text/plain": [
       "passanger\n",
       "Alone        7305\n",
       "Friend(s)    3298\n",
       "Partner      1075\n",
       "Kid(s)       1006\n",
       "Name: count, dtype: int64"
      ]
     },
     "execution_count": 95,
     "metadata": {},
     "output_type": "execute_result"
    }
   ],
   "source": [
    "data['passanger'].value_counts() # minor issues (s)"
   ]
  },
  {
   "cell_type": "code",
   "execution_count": 96,
   "metadata": {},
   "outputs": [
    {
     "data": {
      "text/plain": [
       "weather\n",
       "Sunny    10069\n",
       "Snowy     1405\n",
       "Rainy     1210\n",
       "Name: count, dtype: int64"
      ]
     },
     "execution_count": 96,
     "metadata": {},
     "output_type": "execute_result"
    }
   ],
   "source": [
    "data['weather'].value_counts() # NO Issues"
   ]
  },
  {
   "cell_type": "code",
   "execution_count": 97,
   "metadata": {},
   "outputs": [
    {
     "data": {
      "text/plain": [
       "temperature\n",
       "80    6528\n",
       "55    3840\n",
       "30    2316\n",
       "Name: count, dtype: int64"
      ]
     },
     "execution_count": 97,
     "metadata": {},
     "output_type": "execute_result"
    }
   ],
   "source": [
    "data['temperature'].value_counts() # NO Issues"
   ]
  },
  {
   "cell_type": "code",
   "execution_count": 98,
   "metadata": {},
   "outputs": [
    {
     "data": {
      "text/plain": [
       "time\n",
       "6PM     3230\n",
       "7AM     3164\n",
       "10AM    2275\n",
       "2PM     2009\n",
       "10PM    2006\n",
       "Name: count, dtype: int64"
      ]
     },
     "execution_count": 98,
     "metadata": {},
     "output_type": "execute_result"
    }
   ],
   "source": [
    "data['time'].value_counts() # NO Issues"
   ]
  },
  {
   "cell_type": "code",
   "execution_count": 99,
   "metadata": {},
   "outputs": [
    {
     "data": {
      "text/plain": [
       "coupon\n",
       "Coffee House             3996\n",
       "Restaurant(<20)          2786\n",
       "Carry out & Take away    2393\n",
       "Bar                      2017\n",
       "Restaurant(20-50)        1492\n",
       "Name: count, dtype: int64"
      ]
     },
     "execution_count": 99,
     "metadata": {},
     "output_type": "execute_result"
    }
   ],
   "source": [
    "data['coupon'].value_counts() # Yes Minor Issues - Restaurant(20-50), Restaurant(<20)"
   ]
  },
  {
   "cell_type": "code",
   "execution_count": 100,
   "metadata": {},
   "outputs": [
    {
     "data": {
      "text/plain": [
       "expiration\n",
       "1d    7091\n",
       "2h    5593\n",
       "Name: count, dtype: int64"
      ]
     },
     "execution_count": 100,
     "metadata": {},
     "output_type": "execute_result"
    }
   ],
   "source": [
    "data['expiration'].value_counts() # NO Issues"
   ]
  },
  {
   "cell_type": "code",
   "execution_count": 101,
   "metadata": {},
   "outputs": [
    {
     "data": {
      "text/plain": [
       "gender\n",
       "Female    6511\n",
       "Male      6173\n",
       "Name: count, dtype: int64"
      ]
     },
     "execution_count": 101,
     "metadata": {},
     "output_type": "execute_result"
    }
   ],
   "source": [
    "data['gender'].value_counts() # NO Issues"
   ]
  },
  {
   "cell_type": "code",
   "execution_count": 83,
   "metadata": {},
   "outputs": [
    {
     "data": {
      "text/plain": [
       "age\n",
       "21         2653\n",
       "26         2559\n",
       "31         2039\n",
       "50plus     1788\n",
       "36         1319\n",
       "41         1093\n",
       "46          686\n",
       "below21     547\n",
       "Name: count, dtype: int64"
      ]
     },
     "execution_count": 83,
     "metadata": {},
     "output_type": "execute_result"
    }
   ],
   "source": [
    "data['age'].value_counts() # NO Issues"
   ]
  },
  {
   "cell_type": "code",
   "execution_count": 103,
   "metadata": {},
   "outputs": [
    {
     "data": {
      "text/plain": [
       "maritalStatus\n",
       "Married partner      5100\n",
       "Single               4752\n",
       "Unmarried partner    2186\n",
       "Divorced              516\n",
       "Widowed               130\n",
       "Name: count, dtype: int64"
      ]
     },
     "execution_count": 103,
     "metadata": {},
     "output_type": "execute_result"
    }
   ],
   "source": [
    "data['maritalStatus'].value_counts() # No Issues"
   ]
  },
  {
   "cell_type": "code",
   "execution_count": 104,
   "metadata": {},
   "outputs": [
    {
     "data": {
      "text/plain": [
       "has_children\n",
       "0    7431\n",
       "1    5253\n",
       "Name: count, dtype: int64"
      ]
     },
     "execution_count": 104,
     "metadata": {},
     "output_type": "execute_result"
    }
   ],
   "source": [
    "data['has_children'].value_counts() # No Issues"
   ]
  },
  {
   "cell_type": "code",
   "execution_count": 105,
   "metadata": {},
   "outputs": [
    {
     "data": {
      "text/plain": [
       "education\n",
       "Some college - no degree                  4351\n",
       "Bachelors degree                          4335\n",
       "Graduate degree (Masters or Doctorate)    1852\n",
       "Associates degree                         1153\n",
       "High School Graduate                       905\n",
       "Some High School                            88\n",
       "Name: count, dtype: int64"
      ]
     },
     "execution_count": 105,
     "metadata": {},
     "output_type": "execute_result"
    }
   ],
   "source": [
    "data['education'].value_counts() # No Issues"
   ]
  },
  {
   "cell_type": "code",
   "execution_count": 106,
   "metadata": {},
   "outputs": [
    {
     "data": {
      "text/plain": [
       "occupation\n",
       "Unemployed                                   1870\n",
       "Student                                      1584\n",
       "Computer & Mathematical                      1408\n",
       "Sales & Related                              1093\n",
       "Education&Training&Library                    943\n",
       "Management                                    838\n",
       "Office & Administrative Support               639\n",
       "Arts Design Entertainment Sports & Media      629\n",
       "Business & Financial                          544\n",
       "Retired                                       495\n",
       "Food Preparation & Serving Related            298\n",
       "Healthcare Practitioners & Technical          244\n",
       "Healthcare Support                            242\n",
       "Community & Social Services                   241\n",
       "Legal                                         219\n",
       "Transportation & Material Moving              218\n",
       "Architecture & Engineering                    175\n",
       "Personal Care & Service                       175\n",
       "Protective Service                            175\n",
       "Life Physical Social Science                  170\n",
       "Construction & Extraction                     154\n",
       "Installation Maintenance & Repair             133\n",
       "Production Occupations                        110\n",
       "Building & Grounds Cleaning & Maintenance      44\n",
       "Farming Fishing & Forestry                     43\n",
       "Name: count, dtype: int64"
      ]
     },
     "execution_count": 106,
     "metadata": {},
     "output_type": "execute_result"
    }
   ],
   "source": [
    "data['occupation'].value_counts() # YES Minor Issues  Education&Training&Library occupation"
   ]
  },
  {
   "cell_type": "code",
   "execution_count": 70,
   "metadata": {},
   "outputs": [
    {
     "data": {
      "text/plain": [
       "income\n",
       "$25000 - $37499     2013\n",
       "$12500 - $24999     1831\n",
       "$37500 - $49999     1805\n",
       "$100000 or More     1736\n",
       "$50000 - $62499     1659\n",
       "Less than $12500    1042\n",
       "$87500 - $99999      895\n",
       "$75000 - $87499      857\n",
       "$62500 - $74999      846\n",
       "Name: count, dtype: int64"
      ]
     },
     "execution_count": 70,
     "metadata": {},
     "output_type": "execute_result"
    }
   ],
   "source": [
    "data['income'].value_counts() # YES ISSUES"
   ]
  },
  {
   "cell_type": "code",
   "execution_count": 109,
   "metadata": {},
   "outputs": [
    {
     "data": {
      "text/plain": [
       "car\n",
       "Scooter and motorcycle                      22\n",
       "Mazda5                                      22\n",
       "do not drive                                22\n",
       "crossover                                   21\n",
       "Car that is too old to install Onstar :D    21\n",
       "Name: count, dtype: int64"
      ]
     },
     "execution_count": 109,
     "metadata": {},
     "output_type": "execute_result"
    }
   ],
   "source": [
    "data['car'].value_counts() # Some Issues ...Yes Car that is too old to install Onstar :D "
   ]
  },
  {
   "cell_type": "code",
   "execution_count": 110,
   "metadata": {},
   "outputs": [
    {
     "data": {
      "text/plain": [
       "12576"
      ]
     },
     "execution_count": 110,
     "metadata": {},
     "output_type": "execute_result"
    }
   ],
   "source": [
    "data['car'].isnull().sum()"
   ]
  },
  {
   "cell_type": "code",
   "execution_count": 333,
   "metadata": {},
   "outputs": [
    {
     "data": {
      "text/plain": [
       "Bar\n",
       "never    5197\n",
       "less1    3482\n",
       "1~3      2473\n",
       "4~8      1076\n",
       "gt8       349\n",
       "Name: count, dtype: int64"
      ]
     },
     "execution_count": 333,
     "metadata": {},
     "output_type": "execute_result"
    }
   ],
   "source": [
    "data['Bar'].value_counts() # NO ISSUES "
   ]
  },
  {
   "cell_type": "code",
   "execution_count": 111,
   "metadata": {},
   "outputs": [
    {
     "data": {
      "text/plain": [
       "CoffeeHouse\n",
       "less1    3385\n",
       "1~3      3225\n",
       "never    2962\n",
       "4~8      1784\n",
       "gt8      1111\n",
       "Name: count, dtype: int64"
      ]
     },
     "execution_count": 111,
     "metadata": {},
     "output_type": "execute_result"
    }
   ],
   "source": [
    "data['CoffeeHouse'].value_counts()   # NO ISSUES"
   ]
  },
  {
   "cell_type": "code",
   "execution_count": 112,
   "metadata": {},
   "outputs": [
    {
     "data": {
      "text/plain": [
       "CarryAway\n",
       "1~3      4672\n",
       "4~8      4258\n",
       "less1    1856\n",
       "gt8      1594\n",
       "never     153\n",
       "Name: count, dtype: int64"
      ]
     },
     "execution_count": 112,
     "metadata": {},
     "output_type": "execute_result"
    }
   ],
   "source": [
    "data['CarryAway'].value_counts()   # NO ISSUES"
   ]
  },
  {
   "cell_type": "code",
   "execution_count": 76,
   "metadata": {},
   "outputs": [
    {
     "data": {
      "text/plain": [
       "RestaurantLessThan20\n",
       "1~3      5376\n",
       "4~8      3580\n",
       "less1    2093\n",
       "gt8      1285\n",
       "never     220\n",
       "Name: count, dtype: int64"
      ]
     },
     "execution_count": 76,
     "metadata": {},
     "output_type": "execute_result"
    }
   ],
   "source": [
    "data['RestaurantLessThan20'].value_counts() # NO ISSUES"
   ]
  },
  {
   "cell_type": "code",
   "execution_count": 113,
   "metadata": {},
   "outputs": [
    {
     "data": {
      "text/plain": [
       "Restaurant20To50\n",
       "less1    6077\n",
       "1~3      3290\n",
       "never    2136\n",
       "4~8       728\n",
       "gt8       264\n",
       "Name: count, dtype: int64"
      ]
     },
     "execution_count": 113,
     "metadata": {},
     "output_type": "execute_result"
    }
   ],
   "source": [
    "data['Restaurant20To50'].value_counts() # NO ISSUES"
   ]
  },
  {
   "cell_type": "code",
   "execution_count": 77,
   "metadata": {},
   "outputs": [
    {
     "data": {
      "text/plain": [
       "toCoupon_GEQ5min\n",
       "1    12684\n",
       "Name: count, dtype: int64"
      ]
     },
     "execution_count": 77,
     "metadata": {},
     "output_type": "execute_result"
    }
   ],
   "source": [
    "data['toCoupon_GEQ5min'].value_counts() # NO ISSUE"
   ]
  },
  {
   "cell_type": "code",
   "execution_count": 87,
   "metadata": {},
   "outputs": [
    {
     "data": {
      "text/plain": [
       "toCoupon_GEQ15min\n",
       "1    7122\n",
       "0    5562\n",
       "Name: count, dtype: int64"
      ]
     },
     "execution_count": 87,
     "metadata": {},
     "output_type": "execute_result"
    }
   ],
   "source": [
    "data['toCoupon_GEQ15min'].value_counts() # NO ISSUE"
   ]
  },
  {
   "cell_type": "code",
   "execution_count": 88,
   "metadata": {},
   "outputs": [
    {
     "data": {
      "text/plain": [
       "toCoupon_GEQ25min\n",
       "0    11173\n",
       "1     1511\n",
       "Name: count, dtype: int64"
      ]
     },
     "execution_count": 88,
     "metadata": {},
     "output_type": "execute_result"
    }
   ],
   "source": [
    "data['toCoupon_GEQ25min'].value_counts()  # NO ISSUE"
   ]
  },
  {
   "cell_type": "code",
   "execution_count": 89,
   "metadata": {},
   "outputs": [
    {
     "data": {
      "text/plain": [
       "direction_same\n",
       "0    9960\n",
       "1    2724\n",
       "Name: count, dtype: int64"
      ]
     },
     "execution_count": 89,
     "metadata": {},
     "output_type": "execute_result"
    }
   ],
   "source": [
    "data['direction_same'].value_counts() # NO ISSUE"
   ]
  },
  {
   "cell_type": "code",
   "execution_count": 90,
   "metadata": {},
   "outputs": [
    {
     "data": {
      "text/plain": [
       "direction_opp\n",
       "1    9960\n",
       "0    2724\n",
       "Name: count, dtype: int64"
      ]
     },
     "execution_count": 90,
     "metadata": {},
     "output_type": "execute_result"
    }
   ],
   "source": [
    "data['direction_opp'].value_counts() # NO ISSUE"
   ]
  },
  {
   "cell_type": "code",
   "execution_count": 82,
   "metadata": {},
   "outputs": [
    {
     "data": {
      "text/plain": [
       "Y\n",
       "1    7210\n",
       "0    5474\n",
       "Name: count, dtype: int64"
      ]
     },
     "execution_count": 82,
     "metadata": {},
     "output_type": "execute_result"
    }
   ],
   "source": [
    "data['Y'].value_counts() # NO ISSUE"
   ]
  },
  {
   "cell_type": "code",
   "execution_count": null,
   "metadata": {},
   "outputs": [],
   "source": [
    "#********************* END *************************"
   ]
  },
  {
   "cell_type": "markdown",
   "metadata": {
    "id": "bSdVSpYB_qRH"
   },
   "source": [
    "3. Decide what to do about your missing data -- drop, replace, other..."
   ]
  },
  {
   "cell_type": "code",
   "execution_count": null,
   "metadata": {
    "id": "tyvoAC5F_qRI"
   },
   "outputs": [],
   "source": [
    "########## Decide what to do about your missing data -- drop, replace, other...#########"
   ]
  },
  {
   "cell_type": "code",
   "execution_count": 143,
   "metadata": {},
   "outputs": [
    {
     "data": {
      "text/plain": [
       "0    No Data Available\n",
       "1    No Data Available\n",
       "2    No Data Available\n",
       "3    No Data Available\n",
       "4    No Data Available\n",
       "Name: car, dtype: object"
      ]
     },
     "execution_count": 143,
     "metadata": {},
     "output_type": "execute_result"
    }
   ],
   "source": [
    "data['car'] = data['car'].fillna('No Data Available')\n",
    "data['car'].head(5)"
   ]
  },
  {
   "cell_type": "code",
   "execution_count": 125,
   "metadata": {},
   "outputs": [
    {
     "data": {
      "application/vnd.plotly.v1+json": {
       "config": {
        "plotlyServerURL": "https://plot.ly"
       },
       "data": [
        {
         "alignmentgroup": "True",
         "hovertemplate": "Category=%{x}<br>Missing Count=%{text}<extra></extra>",
         "legendgroup": "",
         "marker": {
          "color": "#636efa",
          "pattern": {
           "shape": ""
          }
         },
         "name": "",
         "offsetgroup": "",
         "orientation": "v",
         "showlegend": false,
         "text": [
          0,
          0,
          0,
          0,
          0,
          0,
          0,
          0,
          0,
          0,
          0,
          0,
          0,
          0,
          0,
          0,
          0,
          0,
          0,
          0,
          0,
          107,
          130,
          151,
          189,
          217
         ],
         "textposition": "outside",
         "type": "bar",
         "x": [
          "destination",
          "direction_same",
          "toCoupon_GEQ25min",
          "toCoupon_GEQ15min",
          "toCoupon_GEQ5min",
          "car",
          "income",
          "direction_opp",
          "education",
          "has_children",
          "occupation",
          "age",
          "gender",
          "expiration",
          "coupon",
          "time",
          "temperature",
          "weather",
          "passanger",
          "maritalStatus",
          "Y",
          "Bar",
          "RestaurantLessThan20",
          "CarryAway",
          "Restaurant20To50",
          "CoffeeHouse"
         ],
         "xaxis": "x",
         "y": [
          0,
          0,
          0,
          0,
          0,
          0,
          0,
          0,
          0,
          0,
          0,
          0,
          0,
          0,
          0,
          0,
          0,
          0,
          0,
          0,
          0,
          107,
          130,
          151,
          189,
          217
         ],
         "yaxis": "y"
        }
       ],
       "layout": {
        "barmode": "relative",
        "height": 600,
        "legend": {
         "tracegroupgap": 0
        },
        "template": {
         "data": {
          "bar": [
           {
            "error_x": {
             "color": "#2a3f5f"
            },
            "error_y": {
             "color": "#2a3f5f"
            },
            "marker": {
             "line": {
              "color": "#E5ECF6",
              "width": 0.5
             },
             "pattern": {
              "fillmode": "overlay",
              "size": 10,
              "solidity": 0.2
             }
            },
            "type": "bar"
           }
          ],
          "barpolar": [
           {
            "marker": {
             "line": {
              "color": "#E5ECF6",
              "width": 0.5
             },
             "pattern": {
              "fillmode": "overlay",
              "size": 10,
              "solidity": 0.2
             }
            },
            "type": "barpolar"
           }
          ],
          "carpet": [
           {
            "aaxis": {
             "endlinecolor": "#2a3f5f",
             "gridcolor": "white",
             "linecolor": "white",
             "minorgridcolor": "white",
             "startlinecolor": "#2a3f5f"
            },
            "baxis": {
             "endlinecolor": "#2a3f5f",
             "gridcolor": "white",
             "linecolor": "white",
             "minorgridcolor": "white",
             "startlinecolor": "#2a3f5f"
            },
            "type": "carpet"
           }
          ],
          "choropleth": [
           {
            "colorbar": {
             "outlinewidth": 0,
             "ticks": ""
            },
            "type": "choropleth"
           }
          ],
          "contour": [
           {
            "colorbar": {
             "outlinewidth": 0,
             "ticks": ""
            },
            "colorscale": [
             [
              0,
              "#0d0887"
             ],
             [
              0.1111111111111111,
              "#46039f"
             ],
             [
              0.2222222222222222,
              "#7201a8"
             ],
             [
              0.3333333333333333,
              "#9c179e"
             ],
             [
              0.4444444444444444,
              "#bd3786"
             ],
             [
              0.5555555555555556,
              "#d8576b"
             ],
             [
              0.6666666666666666,
              "#ed7953"
             ],
             [
              0.7777777777777778,
              "#fb9f3a"
             ],
             [
              0.8888888888888888,
              "#fdca26"
             ],
             [
              1,
              "#f0f921"
             ]
            ],
            "type": "contour"
           }
          ],
          "contourcarpet": [
           {
            "colorbar": {
             "outlinewidth": 0,
             "ticks": ""
            },
            "type": "contourcarpet"
           }
          ],
          "heatmap": [
           {
            "colorbar": {
             "outlinewidth": 0,
             "ticks": ""
            },
            "colorscale": [
             [
              0,
              "#0d0887"
             ],
             [
              0.1111111111111111,
              "#46039f"
             ],
             [
              0.2222222222222222,
              "#7201a8"
             ],
             [
              0.3333333333333333,
              "#9c179e"
             ],
             [
              0.4444444444444444,
              "#bd3786"
             ],
             [
              0.5555555555555556,
              "#d8576b"
             ],
             [
              0.6666666666666666,
              "#ed7953"
             ],
             [
              0.7777777777777778,
              "#fb9f3a"
             ],
             [
              0.8888888888888888,
              "#fdca26"
             ],
             [
              1,
              "#f0f921"
             ]
            ],
            "type": "heatmap"
           }
          ],
          "heatmapgl": [
           {
            "colorbar": {
             "outlinewidth": 0,
             "ticks": ""
            },
            "colorscale": [
             [
              0,
              "#0d0887"
             ],
             [
              0.1111111111111111,
              "#46039f"
             ],
             [
              0.2222222222222222,
              "#7201a8"
             ],
             [
              0.3333333333333333,
              "#9c179e"
             ],
             [
              0.4444444444444444,
              "#bd3786"
             ],
             [
              0.5555555555555556,
              "#d8576b"
             ],
             [
              0.6666666666666666,
              "#ed7953"
             ],
             [
              0.7777777777777778,
              "#fb9f3a"
             ],
             [
              0.8888888888888888,
              "#fdca26"
             ],
             [
              1,
              "#f0f921"
             ]
            ],
            "type": "heatmapgl"
           }
          ],
          "histogram": [
           {
            "marker": {
             "pattern": {
              "fillmode": "overlay",
              "size": 10,
              "solidity": 0.2
             }
            },
            "type": "histogram"
           }
          ],
          "histogram2d": [
           {
            "colorbar": {
             "outlinewidth": 0,
             "ticks": ""
            },
            "colorscale": [
             [
              0,
              "#0d0887"
             ],
             [
              0.1111111111111111,
              "#46039f"
             ],
             [
              0.2222222222222222,
              "#7201a8"
             ],
             [
              0.3333333333333333,
              "#9c179e"
             ],
             [
              0.4444444444444444,
              "#bd3786"
             ],
             [
              0.5555555555555556,
              "#d8576b"
             ],
             [
              0.6666666666666666,
              "#ed7953"
             ],
             [
              0.7777777777777778,
              "#fb9f3a"
             ],
             [
              0.8888888888888888,
              "#fdca26"
             ],
             [
              1,
              "#f0f921"
             ]
            ],
            "type": "histogram2d"
           }
          ],
          "histogram2dcontour": [
           {
            "colorbar": {
             "outlinewidth": 0,
             "ticks": ""
            },
            "colorscale": [
             [
              0,
              "#0d0887"
             ],
             [
              0.1111111111111111,
              "#46039f"
             ],
             [
              0.2222222222222222,
              "#7201a8"
             ],
             [
              0.3333333333333333,
              "#9c179e"
             ],
             [
              0.4444444444444444,
              "#bd3786"
             ],
             [
              0.5555555555555556,
              "#d8576b"
             ],
             [
              0.6666666666666666,
              "#ed7953"
             ],
             [
              0.7777777777777778,
              "#fb9f3a"
             ],
             [
              0.8888888888888888,
              "#fdca26"
             ],
             [
              1,
              "#f0f921"
             ]
            ],
            "type": "histogram2dcontour"
           }
          ],
          "mesh3d": [
           {
            "colorbar": {
             "outlinewidth": 0,
             "ticks": ""
            },
            "type": "mesh3d"
           }
          ],
          "parcoords": [
           {
            "line": {
             "colorbar": {
              "outlinewidth": 0,
              "ticks": ""
             }
            },
            "type": "parcoords"
           }
          ],
          "pie": [
           {
            "automargin": true,
            "type": "pie"
           }
          ],
          "scatter": [
           {
            "fillpattern": {
             "fillmode": "overlay",
             "size": 10,
             "solidity": 0.2
            },
            "type": "scatter"
           }
          ],
          "scatter3d": [
           {
            "line": {
             "colorbar": {
              "outlinewidth": 0,
              "ticks": ""
             }
            },
            "marker": {
             "colorbar": {
              "outlinewidth": 0,
              "ticks": ""
             }
            },
            "type": "scatter3d"
           }
          ],
          "scattercarpet": [
           {
            "marker": {
             "colorbar": {
              "outlinewidth": 0,
              "ticks": ""
             }
            },
            "type": "scattercarpet"
           }
          ],
          "scattergeo": [
           {
            "marker": {
             "colorbar": {
              "outlinewidth": 0,
              "ticks": ""
             }
            },
            "type": "scattergeo"
           }
          ],
          "scattergl": [
           {
            "marker": {
             "colorbar": {
              "outlinewidth": 0,
              "ticks": ""
             }
            },
            "type": "scattergl"
           }
          ],
          "scattermapbox": [
           {
            "marker": {
             "colorbar": {
              "outlinewidth": 0,
              "ticks": ""
             }
            },
            "type": "scattermapbox"
           }
          ],
          "scatterpolar": [
           {
            "marker": {
             "colorbar": {
              "outlinewidth": 0,
              "ticks": ""
             }
            },
            "type": "scatterpolar"
           }
          ],
          "scatterpolargl": [
           {
            "marker": {
             "colorbar": {
              "outlinewidth": 0,
              "ticks": ""
             }
            },
            "type": "scatterpolargl"
           }
          ],
          "scatterternary": [
           {
            "marker": {
             "colorbar": {
              "outlinewidth": 0,
              "ticks": ""
             }
            },
            "type": "scatterternary"
           }
          ],
          "surface": [
           {
            "colorbar": {
             "outlinewidth": 0,
             "ticks": ""
            },
            "colorscale": [
             [
              0,
              "#0d0887"
             ],
             [
              0.1111111111111111,
              "#46039f"
             ],
             [
              0.2222222222222222,
              "#7201a8"
             ],
             [
              0.3333333333333333,
              "#9c179e"
             ],
             [
              0.4444444444444444,
              "#bd3786"
             ],
             [
              0.5555555555555556,
              "#d8576b"
             ],
             [
              0.6666666666666666,
              "#ed7953"
             ],
             [
              0.7777777777777778,
              "#fb9f3a"
             ],
             [
              0.8888888888888888,
              "#fdca26"
             ],
             [
              1,
              "#f0f921"
             ]
            ],
            "type": "surface"
           }
          ],
          "table": [
           {
            "cells": {
             "fill": {
              "color": "#EBF0F8"
             },
             "line": {
              "color": "white"
             }
            },
            "header": {
             "fill": {
              "color": "#C8D4E3"
             },
             "line": {
              "color": "white"
             }
            },
            "type": "table"
           }
          ]
         },
         "layout": {
          "annotationdefaults": {
           "arrowcolor": "#2a3f5f",
           "arrowhead": 0,
           "arrowwidth": 1
          },
          "autotypenumbers": "strict",
          "coloraxis": {
           "colorbar": {
            "outlinewidth": 0,
            "ticks": ""
           }
          },
          "colorscale": {
           "diverging": [
            [
             0,
             "#8e0152"
            ],
            [
             0.1,
             "#c51b7d"
            ],
            [
             0.2,
             "#de77ae"
            ],
            [
             0.3,
             "#f1b6da"
            ],
            [
             0.4,
             "#fde0ef"
            ],
            [
             0.5,
             "#f7f7f7"
            ],
            [
             0.6,
             "#e6f5d0"
            ],
            [
             0.7,
             "#b8e186"
            ],
            [
             0.8,
             "#7fbc41"
            ],
            [
             0.9,
             "#4d9221"
            ],
            [
             1,
             "#276419"
            ]
           ],
           "sequential": [
            [
             0,
             "#0d0887"
            ],
            [
             0.1111111111111111,
             "#46039f"
            ],
            [
             0.2222222222222222,
             "#7201a8"
            ],
            [
             0.3333333333333333,
             "#9c179e"
            ],
            [
             0.4444444444444444,
             "#bd3786"
            ],
            [
             0.5555555555555556,
             "#d8576b"
            ],
            [
             0.6666666666666666,
             "#ed7953"
            ],
            [
             0.7777777777777778,
             "#fb9f3a"
            ],
            [
             0.8888888888888888,
             "#fdca26"
            ],
            [
             1,
             "#f0f921"
            ]
           ],
           "sequentialminus": [
            [
             0,
             "#0d0887"
            ],
            [
             0.1111111111111111,
             "#46039f"
            ],
            [
             0.2222222222222222,
             "#7201a8"
            ],
            [
             0.3333333333333333,
             "#9c179e"
            ],
            [
             0.4444444444444444,
             "#bd3786"
            ],
            [
             0.5555555555555556,
             "#d8576b"
            ],
            [
             0.6666666666666666,
             "#ed7953"
            ],
            [
             0.7777777777777778,
             "#fb9f3a"
            ],
            [
             0.8888888888888888,
             "#fdca26"
            ],
            [
             1,
             "#f0f921"
            ]
           ]
          },
          "colorway": [
           "#636efa",
           "#EF553B",
           "#00cc96",
           "#ab63fa",
           "#FFA15A",
           "#19d3f3",
           "#FF6692",
           "#B6E880",
           "#FF97FF",
           "#FECB52"
          ],
          "font": {
           "color": "#2a3f5f"
          },
          "geo": {
           "bgcolor": "white",
           "lakecolor": "white",
           "landcolor": "#E5ECF6",
           "showlakes": true,
           "showland": true,
           "subunitcolor": "white"
          },
          "hoverlabel": {
           "align": "left"
          },
          "hovermode": "closest",
          "mapbox": {
           "style": "light"
          },
          "paper_bgcolor": "white",
          "plot_bgcolor": "#E5ECF6",
          "polar": {
           "angularaxis": {
            "gridcolor": "white",
            "linecolor": "white",
            "ticks": ""
           },
           "bgcolor": "#E5ECF6",
           "radialaxis": {
            "gridcolor": "white",
            "linecolor": "white",
            "ticks": ""
           }
          },
          "scene": {
           "xaxis": {
            "backgroundcolor": "#E5ECF6",
            "gridcolor": "white",
            "gridwidth": 2,
            "linecolor": "white",
            "showbackground": true,
            "ticks": "",
            "zerolinecolor": "white"
           },
           "yaxis": {
            "backgroundcolor": "#E5ECF6",
            "gridcolor": "white",
            "gridwidth": 2,
            "linecolor": "white",
            "showbackground": true,
            "ticks": "",
            "zerolinecolor": "white"
           },
           "zaxis": {
            "backgroundcolor": "#E5ECF6",
            "gridcolor": "white",
            "gridwidth": 2,
            "linecolor": "white",
            "showbackground": true,
            "ticks": "",
            "zerolinecolor": "white"
           }
          },
          "shapedefaults": {
           "line": {
            "color": "#2a3f5f"
           }
          },
          "ternary": {
           "aaxis": {
            "gridcolor": "white",
            "linecolor": "white",
            "ticks": ""
           },
           "baxis": {
            "gridcolor": "white",
            "linecolor": "white",
            "ticks": ""
           },
           "bgcolor": "#E5ECF6",
           "caxis": {
            "gridcolor": "white",
            "linecolor": "white",
            "ticks": ""
           }
          },
          "title": {
           "x": 0.05
          },
          "xaxis": {
           "automargin": true,
           "gridcolor": "white",
           "linecolor": "white",
           "ticks": "",
           "title": {
            "standoff": 15
           },
           "zerolinecolor": "white",
           "zerolinewidth": 2
          },
          "yaxis": {
           "automargin": true,
           "gridcolor": "white",
           "linecolor": "white",
           "ticks": "",
           "title": {
            "standoff": 15
           },
           "zerolinecolor": "white",
           "zerolinewidth": 2
          }
         }
        },
        "title": {
         "text": "Missing Values in Each Category"
        },
        "width": 1000,
        "xaxis": {
         "anchor": "y",
         "domain": [
          0,
          1
         ],
         "tickangle": -45,
         "title": {
          "text": "Categories"
         }
        },
        "yaxis": {
         "anchor": "x",
         "domain": [
          0,
          1
         ],
         "title": {
          "text": "Missing Values Count"
         }
        }
       }
      },
      "text/html": [
       "<div>                            <div id=\"2e62a9ec-ea84-495b-900c-7c6c4d557dbb\" class=\"plotly-graph-div\" style=\"height:600px; width:1000px;\"></div>            <script type=\"text/javascript\">                require([\"plotly\"], function(Plotly) {                    window.PLOTLYENV=window.PLOTLYENV || {};                                    if (document.getElementById(\"2e62a9ec-ea84-495b-900c-7c6c4d557dbb\")) {                    Plotly.newPlot(                        \"2e62a9ec-ea84-495b-900c-7c6c4d557dbb\",                        [{\"alignmentgroup\":\"True\",\"hovertemplate\":\"Category=%{x}\\u003cbr\\u003eMissing Count=%{text}\\u003cextra\\u003e\\u003c\\u002fextra\\u003e\",\"legendgroup\":\"\",\"marker\":{\"color\":\"#636efa\",\"pattern\":{\"shape\":\"\"}},\"name\":\"\",\"offsetgroup\":\"\",\"orientation\":\"v\",\"showlegend\":false,\"text\":[0.0,0.0,0.0,0.0,0.0,0.0,0.0,0.0,0.0,0.0,0.0,0.0,0.0,0.0,0.0,0.0,0.0,0.0,0.0,0.0,0.0,107.0,130.0,151.0,189.0,217.0],\"textposition\":\"outside\",\"x\":[\"destination\",\"direction_same\",\"toCoupon_GEQ25min\",\"toCoupon_GEQ15min\",\"toCoupon_GEQ5min\",\"car\",\"income\",\"direction_opp\",\"education\",\"has_children\",\"occupation\",\"age\",\"gender\",\"expiration\",\"coupon\",\"time\",\"temperature\",\"weather\",\"passanger\",\"maritalStatus\",\"Y\",\"Bar\",\"RestaurantLessThan20\",\"CarryAway\",\"Restaurant20To50\",\"CoffeeHouse\"],\"xaxis\":\"x\",\"y\":[0,0,0,0,0,0,0,0,0,0,0,0,0,0,0,0,0,0,0,0,0,107,130,151,189,217],\"yaxis\":\"y\",\"type\":\"bar\"}],                        {\"template\":{\"data\":{\"histogram2dcontour\":[{\"type\":\"histogram2dcontour\",\"colorbar\":{\"outlinewidth\":0,\"ticks\":\"\"},\"colorscale\":[[0.0,\"#0d0887\"],[0.1111111111111111,\"#46039f\"],[0.2222222222222222,\"#7201a8\"],[0.3333333333333333,\"#9c179e\"],[0.4444444444444444,\"#bd3786\"],[0.5555555555555556,\"#d8576b\"],[0.6666666666666666,\"#ed7953\"],[0.7777777777777778,\"#fb9f3a\"],[0.8888888888888888,\"#fdca26\"],[1.0,\"#f0f921\"]]}],\"choropleth\":[{\"type\":\"choropleth\",\"colorbar\":{\"outlinewidth\":0,\"ticks\":\"\"}}],\"histogram2d\":[{\"type\":\"histogram2d\",\"colorbar\":{\"outlinewidth\":0,\"ticks\":\"\"},\"colorscale\":[[0.0,\"#0d0887\"],[0.1111111111111111,\"#46039f\"],[0.2222222222222222,\"#7201a8\"],[0.3333333333333333,\"#9c179e\"],[0.4444444444444444,\"#bd3786\"],[0.5555555555555556,\"#d8576b\"],[0.6666666666666666,\"#ed7953\"],[0.7777777777777778,\"#fb9f3a\"],[0.8888888888888888,\"#fdca26\"],[1.0,\"#f0f921\"]]}],\"heatmap\":[{\"type\":\"heatmap\",\"colorbar\":{\"outlinewidth\":0,\"ticks\":\"\"},\"colorscale\":[[0.0,\"#0d0887\"],[0.1111111111111111,\"#46039f\"],[0.2222222222222222,\"#7201a8\"],[0.3333333333333333,\"#9c179e\"],[0.4444444444444444,\"#bd3786\"],[0.5555555555555556,\"#d8576b\"],[0.6666666666666666,\"#ed7953\"],[0.7777777777777778,\"#fb9f3a\"],[0.8888888888888888,\"#fdca26\"],[1.0,\"#f0f921\"]]}],\"heatmapgl\":[{\"type\":\"heatmapgl\",\"colorbar\":{\"outlinewidth\":0,\"ticks\":\"\"},\"colorscale\":[[0.0,\"#0d0887\"],[0.1111111111111111,\"#46039f\"],[0.2222222222222222,\"#7201a8\"],[0.3333333333333333,\"#9c179e\"],[0.4444444444444444,\"#bd3786\"],[0.5555555555555556,\"#d8576b\"],[0.6666666666666666,\"#ed7953\"],[0.7777777777777778,\"#fb9f3a\"],[0.8888888888888888,\"#fdca26\"],[1.0,\"#f0f921\"]]}],\"contourcarpet\":[{\"type\":\"contourcarpet\",\"colorbar\":{\"outlinewidth\":0,\"ticks\":\"\"}}],\"contour\":[{\"type\":\"contour\",\"colorbar\":{\"outlinewidth\":0,\"ticks\":\"\"},\"colorscale\":[[0.0,\"#0d0887\"],[0.1111111111111111,\"#46039f\"],[0.2222222222222222,\"#7201a8\"],[0.3333333333333333,\"#9c179e\"],[0.4444444444444444,\"#bd3786\"],[0.5555555555555556,\"#d8576b\"],[0.6666666666666666,\"#ed7953\"],[0.7777777777777778,\"#fb9f3a\"],[0.8888888888888888,\"#fdca26\"],[1.0,\"#f0f921\"]]}],\"surface\":[{\"type\":\"surface\",\"colorbar\":{\"outlinewidth\":0,\"ticks\":\"\"},\"colorscale\":[[0.0,\"#0d0887\"],[0.1111111111111111,\"#46039f\"],[0.2222222222222222,\"#7201a8\"],[0.3333333333333333,\"#9c179e\"],[0.4444444444444444,\"#bd3786\"],[0.5555555555555556,\"#d8576b\"],[0.6666666666666666,\"#ed7953\"],[0.7777777777777778,\"#fb9f3a\"],[0.8888888888888888,\"#fdca26\"],[1.0,\"#f0f921\"]]}],\"mesh3d\":[{\"type\":\"mesh3d\",\"colorbar\":{\"outlinewidth\":0,\"ticks\":\"\"}}],\"scatter\":[{\"fillpattern\":{\"fillmode\":\"overlay\",\"size\":10,\"solidity\":0.2},\"type\":\"scatter\"}],\"parcoords\":[{\"type\":\"parcoords\",\"line\":{\"colorbar\":{\"outlinewidth\":0,\"ticks\":\"\"}}}],\"scatterpolargl\":[{\"type\":\"scatterpolargl\",\"marker\":{\"colorbar\":{\"outlinewidth\":0,\"ticks\":\"\"}}}],\"bar\":[{\"error_x\":{\"color\":\"#2a3f5f\"},\"error_y\":{\"color\":\"#2a3f5f\"},\"marker\":{\"line\":{\"color\":\"#E5ECF6\",\"width\":0.5},\"pattern\":{\"fillmode\":\"overlay\",\"size\":10,\"solidity\":0.2}},\"type\":\"bar\"}],\"scattergeo\":[{\"type\":\"scattergeo\",\"marker\":{\"colorbar\":{\"outlinewidth\":0,\"ticks\":\"\"}}}],\"scatterpolar\":[{\"type\":\"scatterpolar\",\"marker\":{\"colorbar\":{\"outlinewidth\":0,\"ticks\":\"\"}}}],\"histogram\":[{\"marker\":{\"pattern\":{\"fillmode\":\"overlay\",\"size\":10,\"solidity\":0.2}},\"type\":\"histogram\"}],\"scattergl\":[{\"type\":\"scattergl\",\"marker\":{\"colorbar\":{\"outlinewidth\":0,\"ticks\":\"\"}}}],\"scatter3d\":[{\"type\":\"scatter3d\",\"line\":{\"colorbar\":{\"outlinewidth\":0,\"ticks\":\"\"}},\"marker\":{\"colorbar\":{\"outlinewidth\":0,\"ticks\":\"\"}}}],\"scattermapbox\":[{\"type\":\"scattermapbox\",\"marker\":{\"colorbar\":{\"outlinewidth\":0,\"ticks\":\"\"}}}],\"scatterternary\":[{\"type\":\"scatterternary\",\"marker\":{\"colorbar\":{\"outlinewidth\":0,\"ticks\":\"\"}}}],\"scattercarpet\":[{\"type\":\"scattercarpet\",\"marker\":{\"colorbar\":{\"outlinewidth\":0,\"ticks\":\"\"}}}],\"carpet\":[{\"aaxis\":{\"endlinecolor\":\"#2a3f5f\",\"gridcolor\":\"white\",\"linecolor\":\"white\",\"minorgridcolor\":\"white\",\"startlinecolor\":\"#2a3f5f\"},\"baxis\":{\"endlinecolor\":\"#2a3f5f\",\"gridcolor\":\"white\",\"linecolor\":\"white\",\"minorgridcolor\":\"white\",\"startlinecolor\":\"#2a3f5f\"},\"type\":\"carpet\"}],\"table\":[{\"cells\":{\"fill\":{\"color\":\"#EBF0F8\"},\"line\":{\"color\":\"white\"}},\"header\":{\"fill\":{\"color\":\"#C8D4E3\"},\"line\":{\"color\":\"white\"}},\"type\":\"table\"}],\"barpolar\":[{\"marker\":{\"line\":{\"color\":\"#E5ECF6\",\"width\":0.5},\"pattern\":{\"fillmode\":\"overlay\",\"size\":10,\"solidity\":0.2}},\"type\":\"barpolar\"}],\"pie\":[{\"automargin\":true,\"type\":\"pie\"}]},\"layout\":{\"autotypenumbers\":\"strict\",\"colorway\":[\"#636efa\",\"#EF553B\",\"#00cc96\",\"#ab63fa\",\"#FFA15A\",\"#19d3f3\",\"#FF6692\",\"#B6E880\",\"#FF97FF\",\"#FECB52\"],\"font\":{\"color\":\"#2a3f5f\"},\"hovermode\":\"closest\",\"hoverlabel\":{\"align\":\"left\"},\"paper_bgcolor\":\"white\",\"plot_bgcolor\":\"#E5ECF6\",\"polar\":{\"bgcolor\":\"#E5ECF6\",\"angularaxis\":{\"gridcolor\":\"white\",\"linecolor\":\"white\",\"ticks\":\"\"},\"radialaxis\":{\"gridcolor\":\"white\",\"linecolor\":\"white\",\"ticks\":\"\"}},\"ternary\":{\"bgcolor\":\"#E5ECF6\",\"aaxis\":{\"gridcolor\":\"white\",\"linecolor\":\"white\",\"ticks\":\"\"},\"baxis\":{\"gridcolor\":\"white\",\"linecolor\":\"white\",\"ticks\":\"\"},\"caxis\":{\"gridcolor\":\"white\",\"linecolor\":\"white\",\"ticks\":\"\"}},\"coloraxis\":{\"colorbar\":{\"outlinewidth\":0,\"ticks\":\"\"}},\"colorscale\":{\"sequential\":[[0.0,\"#0d0887\"],[0.1111111111111111,\"#46039f\"],[0.2222222222222222,\"#7201a8\"],[0.3333333333333333,\"#9c179e\"],[0.4444444444444444,\"#bd3786\"],[0.5555555555555556,\"#d8576b\"],[0.6666666666666666,\"#ed7953\"],[0.7777777777777778,\"#fb9f3a\"],[0.8888888888888888,\"#fdca26\"],[1.0,\"#f0f921\"]],\"sequentialminus\":[[0.0,\"#0d0887\"],[0.1111111111111111,\"#46039f\"],[0.2222222222222222,\"#7201a8\"],[0.3333333333333333,\"#9c179e\"],[0.4444444444444444,\"#bd3786\"],[0.5555555555555556,\"#d8576b\"],[0.6666666666666666,\"#ed7953\"],[0.7777777777777778,\"#fb9f3a\"],[0.8888888888888888,\"#fdca26\"],[1.0,\"#f0f921\"]],\"diverging\":[[0,\"#8e0152\"],[0.1,\"#c51b7d\"],[0.2,\"#de77ae\"],[0.3,\"#f1b6da\"],[0.4,\"#fde0ef\"],[0.5,\"#f7f7f7\"],[0.6,\"#e6f5d0\"],[0.7,\"#b8e186\"],[0.8,\"#7fbc41\"],[0.9,\"#4d9221\"],[1,\"#276419\"]]},\"xaxis\":{\"gridcolor\":\"white\",\"linecolor\":\"white\",\"ticks\":\"\",\"title\":{\"standoff\":15},\"zerolinecolor\":\"white\",\"automargin\":true,\"zerolinewidth\":2},\"yaxis\":{\"gridcolor\":\"white\",\"linecolor\":\"white\",\"ticks\":\"\",\"title\":{\"standoff\":15},\"zerolinecolor\":\"white\",\"automargin\":true,\"zerolinewidth\":2},\"scene\":{\"xaxis\":{\"backgroundcolor\":\"#E5ECF6\",\"gridcolor\":\"white\",\"linecolor\":\"white\",\"showbackground\":true,\"ticks\":\"\",\"zerolinecolor\":\"white\",\"gridwidth\":2},\"yaxis\":{\"backgroundcolor\":\"#E5ECF6\",\"gridcolor\":\"white\",\"linecolor\":\"white\",\"showbackground\":true,\"ticks\":\"\",\"zerolinecolor\":\"white\",\"gridwidth\":2},\"zaxis\":{\"backgroundcolor\":\"#E5ECF6\",\"gridcolor\":\"white\",\"linecolor\":\"white\",\"showbackground\":true,\"ticks\":\"\",\"zerolinecolor\":\"white\",\"gridwidth\":2}},\"shapedefaults\":{\"line\":{\"color\":\"#2a3f5f\"}},\"annotationdefaults\":{\"arrowcolor\":\"#2a3f5f\",\"arrowhead\":0,\"arrowwidth\":1},\"geo\":{\"bgcolor\":\"white\",\"landcolor\":\"#E5ECF6\",\"subunitcolor\":\"white\",\"showland\":true,\"showlakes\":true,\"lakecolor\":\"white\"},\"title\":{\"x\":0.05},\"mapbox\":{\"style\":\"light\"}}},\"xaxis\":{\"anchor\":\"y\",\"domain\":[0.0,1.0],\"title\":{\"text\":\"Categories\"},\"tickangle\":-45},\"yaxis\":{\"anchor\":\"x\",\"domain\":[0.0,1.0],\"title\":{\"text\":\"Missing Values Count\"}},\"legend\":{\"tracegroupgap\":0},\"title\":{\"text\":\"Missing Values in Each Category\"},\"barmode\":\"relative\",\"height\":600,\"width\":1000},                        {\"responsive\": true}                    ).then(function(){\n",
       "                            \n",
       "var gd = document.getElementById('2e62a9ec-ea84-495b-900c-7c6c4d557dbb');\n",
       "var x = new MutationObserver(function (mutations, observer) {{\n",
       "        var display = window.getComputedStyle(gd).display;\n",
       "        if (!display || display === 'none') {{\n",
       "            console.log([gd, 'removed!']);\n",
       "            Plotly.purge(gd);\n",
       "            observer.disconnect();\n",
       "        }}\n",
       "}});\n",
       "\n",
       "// Listen for the removal of the full notebook cells\n",
       "var notebookContainer = gd.closest('#notebook-container');\n",
       "if (notebookContainer) {{\n",
       "    x.observe(notebookContainer, {childList: true});\n",
       "}}\n",
       "\n",
       "// Listen for the clearing of the current output cell\n",
       "var outputEl = gd.closest('.output');\n",
       "if (outputEl) {{\n",
       "    x.observe(outputEl, {childList: true});\n",
       "}}\n",
       "\n",
       "                        })                };                });            </script>        </div>"
      ]
     },
     "metadata": {},
     "output_type": "display_data"
    }
   ],
   "source": [
    "# Count missing values\n",
    "counts = data.isnull().sum().sort_values()\n",
    "\n",
    "# Create a DataFrame for Plotly\n",
    "missing_df = pd.DataFrame({'Category': counts.index, 'Missing Count': counts.values})\n",
    "\n",
    "# Create bar chart using Plotly\n",
    "fig = px.bar(\n",
    "    missing_df, \n",
    "    x='Category', \n",
    "    y='Missing Count', \n",
    "    text='Missing Count',  # Add total count labels on each bar\n",
    "    title=\"Missing Values in Each Category\"\n",
    ")\n",
    "\n",
    "# Update text position and style\n",
    "fig.update_traces(textposition='outside')\n",
    "\n",
    "# Update layout for better readability\n",
    "fig.update_layout(\n",
    "    xaxis_tickangle=-45,  # Rotate x-axis labels\n",
    "    yaxis_title=\"Missing Values Count\",\n",
    "    xaxis_title=\"Categories\",\n",
    "    height=600, width=1000\n",
    ")\n",
    "\n",
    "# Show plot\n",
    "fig.show()\n",
    "\n",
    "# Save plot as an HTML file \n",
    "fig.write_html(\"missing_plot.html\")\n"
   ]
  },
  {
   "cell_type": "code",
   "execution_count": 129,
   "metadata": {},
   "outputs": [
    {
     "data": {
      "text/plain": [
       "0    never\n",
       "1    never\n",
       "2    never\n",
       "3    never\n",
       "4    never\n",
       "Name: Bar, dtype: object"
      ]
     },
     "execution_count": 129,
     "metadata": {},
     "output_type": "execute_result"
    }
   ],
   "source": [
    "data['Bar'] = data['Bar'].fillna('No Data Available')\n",
    "data['Bar'].head(5)"
   ]
  },
  {
   "cell_type": "code",
   "execution_count": 134,
   "metadata": {},
   "outputs": [
    {
     "data": {
      "text/plain": [
       "0    4~8\n",
       "1    4~8\n",
       "2    4~8\n",
       "3    4~8\n",
       "4    4~8\n",
       "Name: RestaurantLessThan20, dtype: object"
      ]
     },
     "execution_count": 134,
     "metadata": {},
     "output_type": "execute_result"
    }
   ],
   "source": [
    "data['RestaurantLessThan20'] = data['RestaurantLessThan20'].fillna('No Data Available')\n",
    "data['RestaurantLessThan20'].head(5)"
   ]
  },
  {
   "cell_type": "code",
   "execution_count": 137,
   "metadata": {},
   "outputs": [
    {
     "data": {
      "text/plain": [
       "0    No Data Available\n",
       "1    No Data Available\n",
       "2    No Data Available\n",
       "3    No Data Available\n",
       "4    No Data Available\n",
       "Name: CarryAway, dtype: object"
      ]
     },
     "execution_count": 137,
     "metadata": {},
     "output_type": "execute_result"
    }
   ],
   "source": [
    "data['CarryAway'] = data['CarryAway'].fillna('No Data Available')\n",
    "data['CarryAway'].head(5)"
   ]
  },
  {
   "cell_type": "code",
   "execution_count": 139,
   "metadata": {},
   "outputs": [
    {
     "data": {
      "text/plain": [
       "0    1~3\n",
       "1    1~3\n",
       "2    1~3\n",
       "3    1~3\n",
       "4    1~3\n",
       "Name: Restaurant20To50, dtype: object"
      ]
     },
     "execution_count": 139,
     "metadata": {},
     "output_type": "execute_result"
    }
   ],
   "source": [
    "data['Restaurant20To50'] = data['Restaurant20To50'].fillna('No Data Available')\n",
    "data['Restaurant20To50'].head(5)"
   ]
  },
  {
   "cell_type": "code",
   "execution_count": 140,
   "metadata": {},
   "outputs": [
    {
     "data": {
      "text/plain": [
       "0    never\n",
       "1    never\n",
       "2    never\n",
       "3    never\n",
       "4    never\n",
       "Name: CoffeeHouse, dtype: object"
      ]
     },
     "execution_count": 140,
     "metadata": {},
     "output_type": "execute_result"
    }
   ],
   "source": [
    "data['CoffeeHouse'] = data['CoffeeHouse'].fillna('No Data Available')\n",
    "data['CoffeeHouse'].head(5)"
   ]
  },
  {
   "cell_type": "code",
   "execution_count": 141,
   "metadata": {},
   "outputs": [
    {
     "data": {
      "application/vnd.plotly.v1+json": {
       "config": {
        "plotlyServerURL": "https://plot.ly"
       },
       "data": [
        {
         "alignmentgroup": "True",
         "hovertemplate": "Category=%{x}<br>Missing Count=%{text}<extra></extra>",
         "legendgroup": "",
         "marker": {
          "color": "#636efa",
          "pattern": {
           "shape": ""
          }
         },
         "name": "",
         "offsetgroup": "",
         "orientation": "v",
         "showlegend": false,
         "text": [
          0,
          0,
          0,
          0,
          0,
          0,
          0,
          0,
          0,
          0,
          0,
          0,
          0,
          0,
          0,
          0,
          0,
          0,
          0,
          0,
          0,
          0,
          0,
          0,
          0,
          0
         ],
         "textposition": "outside",
         "type": "bar",
         "x": [
          "destination",
          "direction_same",
          "toCoupon_GEQ25min",
          "toCoupon_GEQ15min",
          "toCoupon_GEQ5min",
          "Restaurant20To50",
          "RestaurantLessThan20",
          "CarryAway",
          "CoffeeHouse",
          "Bar",
          "car",
          "income",
          "occupation",
          "education",
          "has_children",
          "maritalStatus",
          "age",
          "gender",
          "expiration",
          "coupon",
          "time",
          "temperature",
          "weather",
          "passanger",
          "direction_opp",
          "Y"
         ],
         "xaxis": "x",
         "y": [
          0,
          0,
          0,
          0,
          0,
          0,
          0,
          0,
          0,
          0,
          0,
          0,
          0,
          0,
          0,
          0,
          0,
          0,
          0,
          0,
          0,
          0,
          0,
          0,
          0,
          0
         ],
         "yaxis": "y"
        }
       ],
       "layout": {
        "barmode": "relative",
        "height": 600,
        "legend": {
         "tracegroupgap": 0
        },
        "template": {
         "data": {
          "bar": [
           {
            "error_x": {
             "color": "#2a3f5f"
            },
            "error_y": {
             "color": "#2a3f5f"
            },
            "marker": {
             "line": {
              "color": "#E5ECF6",
              "width": 0.5
             },
             "pattern": {
              "fillmode": "overlay",
              "size": 10,
              "solidity": 0.2
             }
            },
            "type": "bar"
           }
          ],
          "barpolar": [
           {
            "marker": {
             "line": {
              "color": "#E5ECF6",
              "width": 0.5
             },
             "pattern": {
              "fillmode": "overlay",
              "size": 10,
              "solidity": 0.2
             }
            },
            "type": "barpolar"
           }
          ],
          "carpet": [
           {
            "aaxis": {
             "endlinecolor": "#2a3f5f",
             "gridcolor": "white",
             "linecolor": "white",
             "minorgridcolor": "white",
             "startlinecolor": "#2a3f5f"
            },
            "baxis": {
             "endlinecolor": "#2a3f5f",
             "gridcolor": "white",
             "linecolor": "white",
             "minorgridcolor": "white",
             "startlinecolor": "#2a3f5f"
            },
            "type": "carpet"
           }
          ],
          "choropleth": [
           {
            "colorbar": {
             "outlinewidth": 0,
             "ticks": ""
            },
            "type": "choropleth"
           }
          ],
          "contour": [
           {
            "colorbar": {
             "outlinewidth": 0,
             "ticks": ""
            },
            "colorscale": [
             [
              0,
              "#0d0887"
             ],
             [
              0.1111111111111111,
              "#46039f"
             ],
             [
              0.2222222222222222,
              "#7201a8"
             ],
             [
              0.3333333333333333,
              "#9c179e"
             ],
             [
              0.4444444444444444,
              "#bd3786"
             ],
             [
              0.5555555555555556,
              "#d8576b"
             ],
             [
              0.6666666666666666,
              "#ed7953"
             ],
             [
              0.7777777777777778,
              "#fb9f3a"
             ],
             [
              0.8888888888888888,
              "#fdca26"
             ],
             [
              1,
              "#f0f921"
             ]
            ],
            "type": "contour"
           }
          ],
          "contourcarpet": [
           {
            "colorbar": {
             "outlinewidth": 0,
             "ticks": ""
            },
            "type": "contourcarpet"
           }
          ],
          "heatmap": [
           {
            "colorbar": {
             "outlinewidth": 0,
             "ticks": ""
            },
            "colorscale": [
             [
              0,
              "#0d0887"
             ],
             [
              0.1111111111111111,
              "#46039f"
             ],
             [
              0.2222222222222222,
              "#7201a8"
             ],
             [
              0.3333333333333333,
              "#9c179e"
             ],
             [
              0.4444444444444444,
              "#bd3786"
             ],
             [
              0.5555555555555556,
              "#d8576b"
             ],
             [
              0.6666666666666666,
              "#ed7953"
             ],
             [
              0.7777777777777778,
              "#fb9f3a"
             ],
             [
              0.8888888888888888,
              "#fdca26"
             ],
             [
              1,
              "#f0f921"
             ]
            ],
            "type": "heatmap"
           }
          ],
          "heatmapgl": [
           {
            "colorbar": {
             "outlinewidth": 0,
             "ticks": ""
            },
            "colorscale": [
             [
              0,
              "#0d0887"
             ],
             [
              0.1111111111111111,
              "#46039f"
             ],
             [
              0.2222222222222222,
              "#7201a8"
             ],
             [
              0.3333333333333333,
              "#9c179e"
             ],
             [
              0.4444444444444444,
              "#bd3786"
             ],
             [
              0.5555555555555556,
              "#d8576b"
             ],
             [
              0.6666666666666666,
              "#ed7953"
             ],
             [
              0.7777777777777778,
              "#fb9f3a"
             ],
             [
              0.8888888888888888,
              "#fdca26"
             ],
             [
              1,
              "#f0f921"
             ]
            ],
            "type": "heatmapgl"
           }
          ],
          "histogram": [
           {
            "marker": {
             "pattern": {
              "fillmode": "overlay",
              "size": 10,
              "solidity": 0.2
             }
            },
            "type": "histogram"
           }
          ],
          "histogram2d": [
           {
            "colorbar": {
             "outlinewidth": 0,
             "ticks": ""
            },
            "colorscale": [
             [
              0,
              "#0d0887"
             ],
             [
              0.1111111111111111,
              "#46039f"
             ],
             [
              0.2222222222222222,
              "#7201a8"
             ],
             [
              0.3333333333333333,
              "#9c179e"
             ],
             [
              0.4444444444444444,
              "#bd3786"
             ],
             [
              0.5555555555555556,
              "#d8576b"
             ],
             [
              0.6666666666666666,
              "#ed7953"
             ],
             [
              0.7777777777777778,
              "#fb9f3a"
             ],
             [
              0.8888888888888888,
              "#fdca26"
             ],
             [
              1,
              "#f0f921"
             ]
            ],
            "type": "histogram2d"
           }
          ],
          "histogram2dcontour": [
           {
            "colorbar": {
             "outlinewidth": 0,
             "ticks": ""
            },
            "colorscale": [
             [
              0,
              "#0d0887"
             ],
             [
              0.1111111111111111,
              "#46039f"
             ],
             [
              0.2222222222222222,
              "#7201a8"
             ],
             [
              0.3333333333333333,
              "#9c179e"
             ],
             [
              0.4444444444444444,
              "#bd3786"
             ],
             [
              0.5555555555555556,
              "#d8576b"
             ],
             [
              0.6666666666666666,
              "#ed7953"
             ],
             [
              0.7777777777777778,
              "#fb9f3a"
             ],
             [
              0.8888888888888888,
              "#fdca26"
             ],
             [
              1,
              "#f0f921"
             ]
            ],
            "type": "histogram2dcontour"
           }
          ],
          "mesh3d": [
           {
            "colorbar": {
             "outlinewidth": 0,
             "ticks": ""
            },
            "type": "mesh3d"
           }
          ],
          "parcoords": [
           {
            "line": {
             "colorbar": {
              "outlinewidth": 0,
              "ticks": ""
             }
            },
            "type": "parcoords"
           }
          ],
          "pie": [
           {
            "automargin": true,
            "type": "pie"
           }
          ],
          "scatter": [
           {
            "fillpattern": {
             "fillmode": "overlay",
             "size": 10,
             "solidity": 0.2
            },
            "type": "scatter"
           }
          ],
          "scatter3d": [
           {
            "line": {
             "colorbar": {
              "outlinewidth": 0,
              "ticks": ""
             }
            },
            "marker": {
             "colorbar": {
              "outlinewidth": 0,
              "ticks": ""
             }
            },
            "type": "scatter3d"
           }
          ],
          "scattercarpet": [
           {
            "marker": {
             "colorbar": {
              "outlinewidth": 0,
              "ticks": ""
             }
            },
            "type": "scattercarpet"
           }
          ],
          "scattergeo": [
           {
            "marker": {
             "colorbar": {
              "outlinewidth": 0,
              "ticks": ""
             }
            },
            "type": "scattergeo"
           }
          ],
          "scattergl": [
           {
            "marker": {
             "colorbar": {
              "outlinewidth": 0,
              "ticks": ""
             }
            },
            "type": "scattergl"
           }
          ],
          "scattermapbox": [
           {
            "marker": {
             "colorbar": {
              "outlinewidth": 0,
              "ticks": ""
             }
            },
            "type": "scattermapbox"
           }
          ],
          "scatterpolar": [
           {
            "marker": {
             "colorbar": {
              "outlinewidth": 0,
              "ticks": ""
             }
            },
            "type": "scatterpolar"
           }
          ],
          "scatterpolargl": [
           {
            "marker": {
             "colorbar": {
              "outlinewidth": 0,
              "ticks": ""
             }
            },
            "type": "scatterpolargl"
           }
          ],
          "scatterternary": [
           {
            "marker": {
             "colorbar": {
              "outlinewidth": 0,
              "ticks": ""
             }
            },
            "type": "scatterternary"
           }
          ],
          "surface": [
           {
            "colorbar": {
             "outlinewidth": 0,
             "ticks": ""
            },
            "colorscale": [
             [
              0,
              "#0d0887"
             ],
             [
              0.1111111111111111,
              "#46039f"
             ],
             [
              0.2222222222222222,
              "#7201a8"
             ],
             [
              0.3333333333333333,
              "#9c179e"
             ],
             [
              0.4444444444444444,
              "#bd3786"
             ],
             [
              0.5555555555555556,
              "#d8576b"
             ],
             [
              0.6666666666666666,
              "#ed7953"
             ],
             [
              0.7777777777777778,
              "#fb9f3a"
             ],
             [
              0.8888888888888888,
              "#fdca26"
             ],
             [
              1,
              "#f0f921"
             ]
            ],
            "type": "surface"
           }
          ],
          "table": [
           {
            "cells": {
             "fill": {
              "color": "#EBF0F8"
             },
             "line": {
              "color": "white"
             }
            },
            "header": {
             "fill": {
              "color": "#C8D4E3"
             },
             "line": {
              "color": "white"
             }
            },
            "type": "table"
           }
          ]
         },
         "layout": {
          "annotationdefaults": {
           "arrowcolor": "#2a3f5f",
           "arrowhead": 0,
           "arrowwidth": 1
          },
          "autotypenumbers": "strict",
          "coloraxis": {
           "colorbar": {
            "outlinewidth": 0,
            "ticks": ""
           }
          },
          "colorscale": {
           "diverging": [
            [
             0,
             "#8e0152"
            ],
            [
             0.1,
             "#c51b7d"
            ],
            [
             0.2,
             "#de77ae"
            ],
            [
             0.3,
             "#f1b6da"
            ],
            [
             0.4,
             "#fde0ef"
            ],
            [
             0.5,
             "#f7f7f7"
            ],
            [
             0.6,
             "#e6f5d0"
            ],
            [
             0.7,
             "#b8e186"
            ],
            [
             0.8,
             "#7fbc41"
            ],
            [
             0.9,
             "#4d9221"
            ],
            [
             1,
             "#276419"
            ]
           ],
           "sequential": [
            [
             0,
             "#0d0887"
            ],
            [
             0.1111111111111111,
             "#46039f"
            ],
            [
             0.2222222222222222,
             "#7201a8"
            ],
            [
             0.3333333333333333,
             "#9c179e"
            ],
            [
             0.4444444444444444,
             "#bd3786"
            ],
            [
             0.5555555555555556,
             "#d8576b"
            ],
            [
             0.6666666666666666,
             "#ed7953"
            ],
            [
             0.7777777777777778,
             "#fb9f3a"
            ],
            [
             0.8888888888888888,
             "#fdca26"
            ],
            [
             1,
             "#f0f921"
            ]
           ],
           "sequentialminus": [
            [
             0,
             "#0d0887"
            ],
            [
             0.1111111111111111,
             "#46039f"
            ],
            [
             0.2222222222222222,
             "#7201a8"
            ],
            [
             0.3333333333333333,
             "#9c179e"
            ],
            [
             0.4444444444444444,
             "#bd3786"
            ],
            [
             0.5555555555555556,
             "#d8576b"
            ],
            [
             0.6666666666666666,
             "#ed7953"
            ],
            [
             0.7777777777777778,
             "#fb9f3a"
            ],
            [
             0.8888888888888888,
             "#fdca26"
            ],
            [
             1,
             "#f0f921"
            ]
           ]
          },
          "colorway": [
           "#636efa",
           "#EF553B",
           "#00cc96",
           "#ab63fa",
           "#FFA15A",
           "#19d3f3",
           "#FF6692",
           "#B6E880",
           "#FF97FF",
           "#FECB52"
          ],
          "font": {
           "color": "#2a3f5f"
          },
          "geo": {
           "bgcolor": "white",
           "lakecolor": "white",
           "landcolor": "#E5ECF6",
           "showlakes": true,
           "showland": true,
           "subunitcolor": "white"
          },
          "hoverlabel": {
           "align": "left"
          },
          "hovermode": "closest",
          "mapbox": {
           "style": "light"
          },
          "paper_bgcolor": "white",
          "plot_bgcolor": "#E5ECF6",
          "polar": {
           "angularaxis": {
            "gridcolor": "white",
            "linecolor": "white",
            "ticks": ""
           },
           "bgcolor": "#E5ECF6",
           "radialaxis": {
            "gridcolor": "white",
            "linecolor": "white",
            "ticks": ""
           }
          },
          "scene": {
           "xaxis": {
            "backgroundcolor": "#E5ECF6",
            "gridcolor": "white",
            "gridwidth": 2,
            "linecolor": "white",
            "showbackground": true,
            "ticks": "",
            "zerolinecolor": "white"
           },
           "yaxis": {
            "backgroundcolor": "#E5ECF6",
            "gridcolor": "white",
            "gridwidth": 2,
            "linecolor": "white",
            "showbackground": true,
            "ticks": "",
            "zerolinecolor": "white"
           },
           "zaxis": {
            "backgroundcolor": "#E5ECF6",
            "gridcolor": "white",
            "gridwidth": 2,
            "linecolor": "white",
            "showbackground": true,
            "ticks": "",
            "zerolinecolor": "white"
           }
          },
          "shapedefaults": {
           "line": {
            "color": "#2a3f5f"
           }
          },
          "ternary": {
           "aaxis": {
            "gridcolor": "white",
            "linecolor": "white",
            "ticks": ""
           },
           "baxis": {
            "gridcolor": "white",
            "linecolor": "white",
            "ticks": ""
           },
           "bgcolor": "#E5ECF6",
           "caxis": {
            "gridcolor": "white",
            "linecolor": "white",
            "ticks": ""
           }
          },
          "title": {
           "x": 0.05
          },
          "xaxis": {
           "automargin": true,
           "gridcolor": "white",
           "linecolor": "white",
           "ticks": "",
           "title": {
            "standoff": 15
           },
           "zerolinecolor": "white",
           "zerolinewidth": 2
          },
          "yaxis": {
           "automargin": true,
           "gridcolor": "white",
           "linecolor": "white",
           "ticks": "",
           "title": {
            "standoff": 15
           },
           "zerolinecolor": "white",
           "zerolinewidth": 2
          }
         }
        },
        "title": {
         "text": "Missing Values in Each Category"
        },
        "width": 1000,
        "xaxis": {
         "anchor": "y",
         "domain": [
          0,
          1
         ],
         "tickangle": -45,
         "title": {
          "text": "Categories"
         }
        },
        "yaxis": {
         "anchor": "x",
         "domain": [
          0,
          1
         ],
         "title": {
          "text": "Missing Values Count"
         }
        }
       }
      },
      "text/html": [
       "<div>                            <div id=\"f798f05d-5628-441d-9d09-767861b0fc04\" class=\"plotly-graph-div\" style=\"height:600px; width:1000px;\"></div>            <script type=\"text/javascript\">                require([\"plotly\"], function(Plotly) {                    window.PLOTLYENV=window.PLOTLYENV || {};                                    if (document.getElementById(\"f798f05d-5628-441d-9d09-767861b0fc04\")) {                    Plotly.newPlot(                        \"f798f05d-5628-441d-9d09-767861b0fc04\",                        [{\"alignmentgroup\":\"True\",\"hovertemplate\":\"Category=%{x}\\u003cbr\\u003eMissing Count=%{text}\\u003cextra\\u003e\\u003c\\u002fextra\\u003e\",\"legendgroup\":\"\",\"marker\":{\"color\":\"#636efa\",\"pattern\":{\"shape\":\"\"}},\"name\":\"\",\"offsetgroup\":\"\",\"orientation\":\"v\",\"showlegend\":false,\"text\":[0.0,0.0,0.0,0.0,0.0,0.0,0.0,0.0,0.0,0.0,0.0,0.0,0.0,0.0,0.0,0.0,0.0,0.0,0.0,0.0,0.0,0.0,0.0,0.0,0.0,0.0],\"textposition\":\"outside\",\"x\":[\"destination\",\"direction_same\",\"toCoupon_GEQ25min\",\"toCoupon_GEQ15min\",\"toCoupon_GEQ5min\",\"Restaurant20To50\",\"RestaurantLessThan20\",\"CarryAway\",\"CoffeeHouse\",\"Bar\",\"car\",\"income\",\"occupation\",\"education\",\"has_children\",\"maritalStatus\",\"age\",\"gender\",\"expiration\",\"coupon\",\"time\",\"temperature\",\"weather\",\"passanger\",\"direction_opp\",\"Y\"],\"xaxis\":\"x\",\"y\":[0,0,0,0,0,0,0,0,0,0,0,0,0,0,0,0,0,0,0,0,0,0,0,0,0,0],\"yaxis\":\"y\",\"type\":\"bar\"}],                        {\"template\":{\"data\":{\"histogram2dcontour\":[{\"type\":\"histogram2dcontour\",\"colorbar\":{\"outlinewidth\":0,\"ticks\":\"\"},\"colorscale\":[[0.0,\"#0d0887\"],[0.1111111111111111,\"#46039f\"],[0.2222222222222222,\"#7201a8\"],[0.3333333333333333,\"#9c179e\"],[0.4444444444444444,\"#bd3786\"],[0.5555555555555556,\"#d8576b\"],[0.6666666666666666,\"#ed7953\"],[0.7777777777777778,\"#fb9f3a\"],[0.8888888888888888,\"#fdca26\"],[1.0,\"#f0f921\"]]}],\"choropleth\":[{\"type\":\"choropleth\",\"colorbar\":{\"outlinewidth\":0,\"ticks\":\"\"}}],\"histogram2d\":[{\"type\":\"histogram2d\",\"colorbar\":{\"outlinewidth\":0,\"ticks\":\"\"},\"colorscale\":[[0.0,\"#0d0887\"],[0.1111111111111111,\"#46039f\"],[0.2222222222222222,\"#7201a8\"],[0.3333333333333333,\"#9c179e\"],[0.4444444444444444,\"#bd3786\"],[0.5555555555555556,\"#d8576b\"],[0.6666666666666666,\"#ed7953\"],[0.7777777777777778,\"#fb9f3a\"],[0.8888888888888888,\"#fdca26\"],[1.0,\"#f0f921\"]]}],\"heatmap\":[{\"type\":\"heatmap\",\"colorbar\":{\"outlinewidth\":0,\"ticks\":\"\"},\"colorscale\":[[0.0,\"#0d0887\"],[0.1111111111111111,\"#46039f\"],[0.2222222222222222,\"#7201a8\"],[0.3333333333333333,\"#9c179e\"],[0.4444444444444444,\"#bd3786\"],[0.5555555555555556,\"#d8576b\"],[0.6666666666666666,\"#ed7953\"],[0.7777777777777778,\"#fb9f3a\"],[0.8888888888888888,\"#fdca26\"],[1.0,\"#f0f921\"]]}],\"heatmapgl\":[{\"type\":\"heatmapgl\",\"colorbar\":{\"outlinewidth\":0,\"ticks\":\"\"},\"colorscale\":[[0.0,\"#0d0887\"],[0.1111111111111111,\"#46039f\"],[0.2222222222222222,\"#7201a8\"],[0.3333333333333333,\"#9c179e\"],[0.4444444444444444,\"#bd3786\"],[0.5555555555555556,\"#d8576b\"],[0.6666666666666666,\"#ed7953\"],[0.7777777777777778,\"#fb9f3a\"],[0.8888888888888888,\"#fdca26\"],[1.0,\"#f0f921\"]]}],\"contourcarpet\":[{\"type\":\"contourcarpet\",\"colorbar\":{\"outlinewidth\":0,\"ticks\":\"\"}}],\"contour\":[{\"type\":\"contour\",\"colorbar\":{\"outlinewidth\":0,\"ticks\":\"\"},\"colorscale\":[[0.0,\"#0d0887\"],[0.1111111111111111,\"#46039f\"],[0.2222222222222222,\"#7201a8\"],[0.3333333333333333,\"#9c179e\"],[0.4444444444444444,\"#bd3786\"],[0.5555555555555556,\"#d8576b\"],[0.6666666666666666,\"#ed7953\"],[0.7777777777777778,\"#fb9f3a\"],[0.8888888888888888,\"#fdca26\"],[1.0,\"#f0f921\"]]}],\"surface\":[{\"type\":\"surface\",\"colorbar\":{\"outlinewidth\":0,\"ticks\":\"\"},\"colorscale\":[[0.0,\"#0d0887\"],[0.1111111111111111,\"#46039f\"],[0.2222222222222222,\"#7201a8\"],[0.3333333333333333,\"#9c179e\"],[0.4444444444444444,\"#bd3786\"],[0.5555555555555556,\"#d8576b\"],[0.6666666666666666,\"#ed7953\"],[0.7777777777777778,\"#fb9f3a\"],[0.8888888888888888,\"#fdca26\"],[1.0,\"#f0f921\"]]}],\"mesh3d\":[{\"type\":\"mesh3d\",\"colorbar\":{\"outlinewidth\":0,\"ticks\":\"\"}}],\"scatter\":[{\"fillpattern\":{\"fillmode\":\"overlay\",\"size\":10,\"solidity\":0.2},\"type\":\"scatter\"}],\"parcoords\":[{\"type\":\"parcoords\",\"line\":{\"colorbar\":{\"outlinewidth\":0,\"ticks\":\"\"}}}],\"scatterpolargl\":[{\"type\":\"scatterpolargl\",\"marker\":{\"colorbar\":{\"outlinewidth\":0,\"ticks\":\"\"}}}],\"bar\":[{\"error_x\":{\"color\":\"#2a3f5f\"},\"error_y\":{\"color\":\"#2a3f5f\"},\"marker\":{\"line\":{\"color\":\"#E5ECF6\",\"width\":0.5},\"pattern\":{\"fillmode\":\"overlay\",\"size\":10,\"solidity\":0.2}},\"type\":\"bar\"}],\"scattergeo\":[{\"type\":\"scattergeo\",\"marker\":{\"colorbar\":{\"outlinewidth\":0,\"ticks\":\"\"}}}],\"scatterpolar\":[{\"type\":\"scatterpolar\",\"marker\":{\"colorbar\":{\"outlinewidth\":0,\"ticks\":\"\"}}}],\"histogram\":[{\"marker\":{\"pattern\":{\"fillmode\":\"overlay\",\"size\":10,\"solidity\":0.2}},\"type\":\"histogram\"}],\"scattergl\":[{\"type\":\"scattergl\",\"marker\":{\"colorbar\":{\"outlinewidth\":0,\"ticks\":\"\"}}}],\"scatter3d\":[{\"type\":\"scatter3d\",\"line\":{\"colorbar\":{\"outlinewidth\":0,\"ticks\":\"\"}},\"marker\":{\"colorbar\":{\"outlinewidth\":0,\"ticks\":\"\"}}}],\"scattermapbox\":[{\"type\":\"scattermapbox\",\"marker\":{\"colorbar\":{\"outlinewidth\":0,\"ticks\":\"\"}}}],\"scatterternary\":[{\"type\":\"scatterternary\",\"marker\":{\"colorbar\":{\"outlinewidth\":0,\"ticks\":\"\"}}}],\"scattercarpet\":[{\"type\":\"scattercarpet\",\"marker\":{\"colorbar\":{\"outlinewidth\":0,\"ticks\":\"\"}}}],\"carpet\":[{\"aaxis\":{\"endlinecolor\":\"#2a3f5f\",\"gridcolor\":\"white\",\"linecolor\":\"white\",\"minorgridcolor\":\"white\",\"startlinecolor\":\"#2a3f5f\"},\"baxis\":{\"endlinecolor\":\"#2a3f5f\",\"gridcolor\":\"white\",\"linecolor\":\"white\",\"minorgridcolor\":\"white\",\"startlinecolor\":\"#2a3f5f\"},\"type\":\"carpet\"}],\"table\":[{\"cells\":{\"fill\":{\"color\":\"#EBF0F8\"},\"line\":{\"color\":\"white\"}},\"header\":{\"fill\":{\"color\":\"#C8D4E3\"},\"line\":{\"color\":\"white\"}},\"type\":\"table\"}],\"barpolar\":[{\"marker\":{\"line\":{\"color\":\"#E5ECF6\",\"width\":0.5},\"pattern\":{\"fillmode\":\"overlay\",\"size\":10,\"solidity\":0.2}},\"type\":\"barpolar\"}],\"pie\":[{\"automargin\":true,\"type\":\"pie\"}]},\"layout\":{\"autotypenumbers\":\"strict\",\"colorway\":[\"#636efa\",\"#EF553B\",\"#00cc96\",\"#ab63fa\",\"#FFA15A\",\"#19d3f3\",\"#FF6692\",\"#B6E880\",\"#FF97FF\",\"#FECB52\"],\"font\":{\"color\":\"#2a3f5f\"},\"hovermode\":\"closest\",\"hoverlabel\":{\"align\":\"left\"},\"paper_bgcolor\":\"white\",\"plot_bgcolor\":\"#E5ECF6\",\"polar\":{\"bgcolor\":\"#E5ECF6\",\"angularaxis\":{\"gridcolor\":\"white\",\"linecolor\":\"white\",\"ticks\":\"\"},\"radialaxis\":{\"gridcolor\":\"white\",\"linecolor\":\"white\",\"ticks\":\"\"}},\"ternary\":{\"bgcolor\":\"#E5ECF6\",\"aaxis\":{\"gridcolor\":\"white\",\"linecolor\":\"white\",\"ticks\":\"\"},\"baxis\":{\"gridcolor\":\"white\",\"linecolor\":\"white\",\"ticks\":\"\"},\"caxis\":{\"gridcolor\":\"white\",\"linecolor\":\"white\",\"ticks\":\"\"}},\"coloraxis\":{\"colorbar\":{\"outlinewidth\":0,\"ticks\":\"\"}},\"colorscale\":{\"sequential\":[[0.0,\"#0d0887\"],[0.1111111111111111,\"#46039f\"],[0.2222222222222222,\"#7201a8\"],[0.3333333333333333,\"#9c179e\"],[0.4444444444444444,\"#bd3786\"],[0.5555555555555556,\"#d8576b\"],[0.6666666666666666,\"#ed7953\"],[0.7777777777777778,\"#fb9f3a\"],[0.8888888888888888,\"#fdca26\"],[1.0,\"#f0f921\"]],\"sequentialminus\":[[0.0,\"#0d0887\"],[0.1111111111111111,\"#46039f\"],[0.2222222222222222,\"#7201a8\"],[0.3333333333333333,\"#9c179e\"],[0.4444444444444444,\"#bd3786\"],[0.5555555555555556,\"#d8576b\"],[0.6666666666666666,\"#ed7953\"],[0.7777777777777778,\"#fb9f3a\"],[0.8888888888888888,\"#fdca26\"],[1.0,\"#f0f921\"]],\"diverging\":[[0,\"#8e0152\"],[0.1,\"#c51b7d\"],[0.2,\"#de77ae\"],[0.3,\"#f1b6da\"],[0.4,\"#fde0ef\"],[0.5,\"#f7f7f7\"],[0.6,\"#e6f5d0\"],[0.7,\"#b8e186\"],[0.8,\"#7fbc41\"],[0.9,\"#4d9221\"],[1,\"#276419\"]]},\"xaxis\":{\"gridcolor\":\"white\",\"linecolor\":\"white\",\"ticks\":\"\",\"title\":{\"standoff\":15},\"zerolinecolor\":\"white\",\"automargin\":true,\"zerolinewidth\":2},\"yaxis\":{\"gridcolor\":\"white\",\"linecolor\":\"white\",\"ticks\":\"\",\"title\":{\"standoff\":15},\"zerolinecolor\":\"white\",\"automargin\":true,\"zerolinewidth\":2},\"scene\":{\"xaxis\":{\"backgroundcolor\":\"#E5ECF6\",\"gridcolor\":\"white\",\"linecolor\":\"white\",\"showbackground\":true,\"ticks\":\"\",\"zerolinecolor\":\"white\",\"gridwidth\":2},\"yaxis\":{\"backgroundcolor\":\"#E5ECF6\",\"gridcolor\":\"white\",\"linecolor\":\"white\",\"showbackground\":true,\"ticks\":\"\",\"zerolinecolor\":\"white\",\"gridwidth\":2},\"zaxis\":{\"backgroundcolor\":\"#E5ECF6\",\"gridcolor\":\"white\",\"linecolor\":\"white\",\"showbackground\":true,\"ticks\":\"\",\"zerolinecolor\":\"white\",\"gridwidth\":2}},\"shapedefaults\":{\"line\":{\"color\":\"#2a3f5f\"}},\"annotationdefaults\":{\"arrowcolor\":\"#2a3f5f\",\"arrowhead\":0,\"arrowwidth\":1},\"geo\":{\"bgcolor\":\"white\",\"landcolor\":\"#E5ECF6\",\"subunitcolor\":\"white\",\"showland\":true,\"showlakes\":true,\"lakecolor\":\"white\"},\"title\":{\"x\":0.05},\"mapbox\":{\"style\":\"light\"}}},\"xaxis\":{\"anchor\":\"y\",\"domain\":[0.0,1.0],\"title\":{\"text\":\"Categories\"},\"tickangle\":-45},\"yaxis\":{\"anchor\":\"x\",\"domain\":[0.0,1.0],\"title\":{\"text\":\"Missing Values Count\"}},\"legend\":{\"tracegroupgap\":0},\"title\":{\"text\":\"Missing Values in Each Category\"},\"barmode\":\"relative\",\"height\":600,\"width\":1000},                        {\"responsive\": true}                    ).then(function(){\n",
       "                            \n",
       "var gd = document.getElementById('f798f05d-5628-441d-9d09-767861b0fc04');\n",
       "var x = new MutationObserver(function (mutations, observer) {{\n",
       "        var display = window.getComputedStyle(gd).display;\n",
       "        if (!display || display === 'none') {{\n",
       "            console.log([gd, 'removed!']);\n",
       "            Plotly.purge(gd);\n",
       "            observer.disconnect();\n",
       "        }}\n",
       "}});\n",
       "\n",
       "// Listen for the removal of the full notebook cells\n",
       "var notebookContainer = gd.closest('#notebook-container');\n",
       "if (notebookContainer) {{\n",
       "    x.observe(notebookContainer, {childList: true});\n",
       "}}\n",
       "\n",
       "// Listen for the clearing of the current output cell\n",
       "var outputEl = gd.closest('.output');\n",
       "if (outputEl) {{\n",
       "    x.observe(outputEl, {childList: true});\n",
       "}}\n",
       "\n",
       "                        })                };                });            </script>        </div>"
      ]
     },
     "metadata": {},
     "output_type": "display_data"
    }
   ],
   "source": [
    "# Count missing values\n",
    "counts = data.isnull().sum().sort_values()\n",
    "\n",
    "# Create a DataFrame for Plotly\n",
    "missing_df = pd.DataFrame({'Category': counts.index, 'Missing Count': counts.values})\n",
    "\n",
    "# Create bar chart using Plotly\n",
    "fig = px.bar(\n",
    "    missing_df, \n",
    "    x='Category', \n",
    "    y='Missing Count', \n",
    "    text='Missing Count',  # Add total count labels on each bar\n",
    "    title=\"Missing Values in Each Category\"\n",
    ")\n",
    "\n",
    "# Update text position and style\n",
    "fig.update_traces(textposition='outside')\n",
    "\n",
    "# Update layout for better readability\n",
    "fig.update_layout(\n",
    "    xaxis_tickangle=-45,  # Rotate x-axis labels\n",
    "    yaxis_title=\"Missing Values Count\",\n",
    "    xaxis_title=\"Categories\",\n",
    "    height=600, width=1000\n",
    ")\n",
    "\n",
    "# Show plot\n",
    "fig.show()\n",
    "\n",
    "# Save plot as an HTML file \n",
    "fig.write_html(\"missing_plot.html\")"
   ]
  },
  {
   "cell_type": "code",
   "execution_count": 131,
   "metadata": {},
   "outputs": [
    {
     "name": "stdout",
     "output_type": "stream",
     "text": [
      "<class 'pandas.core.frame.DataFrame'>\n",
      "RangeIndex: 12684 entries, 0 to 12683\n",
      "Data columns (total 26 columns):\n",
      " #   Column                Non-Null Count  Dtype \n",
      "---  ------                --------------  ----- \n",
      " 0   destination           12684 non-null  object\n",
      " 1   passanger             12684 non-null  object\n",
      " 2   weather               12684 non-null  object\n",
      " 3   temperature           12684 non-null  int64 \n",
      " 4   time                  12684 non-null  object\n",
      " 5   coupon                12684 non-null  object\n",
      " 6   expiration            12684 non-null  object\n",
      " 7   gender                12684 non-null  object\n",
      " 8   age                   12684 non-null  object\n",
      " 9   maritalStatus         12684 non-null  object\n",
      " 10  has_children          12684 non-null  int64 \n",
      " 11  education             12684 non-null  object\n",
      " 12  occupation            12684 non-null  object\n",
      " 13  income                12684 non-null  object\n",
      " 14  car                   12684 non-null  object\n",
      " 15  Bar                   12684 non-null  object\n",
      " 16  CoffeeHouse           12467 non-null  object\n",
      " 17  CarryAway             12533 non-null  object\n",
      " 18  RestaurantLessThan20  12554 non-null  object\n",
      " 19  Restaurant20To50      12495 non-null  object\n",
      " 20  toCoupon_GEQ5min      12684 non-null  int64 \n",
      " 21  toCoupon_GEQ15min     12684 non-null  int64 \n",
      " 22  toCoupon_GEQ25min     12684 non-null  int64 \n",
      " 23  direction_same        12684 non-null  int64 \n",
      " 24  direction_opp         12684 non-null  int64 \n",
      " 25  Y                     12684 non-null  int64 \n",
      "dtypes: int64(8), object(18)\n",
      "memory usage: 2.5+ MB\n"
     ]
    }
   ],
   "source": [
    "data.info()"
   ]
  },
  {
   "cell_type": "code",
   "execution_count": 332,
   "metadata": {},
   "outputs": [
    {
     "data": {
      "text/html": [
       "<div>\n",
       "<style scoped>\n",
       "    .dataframe tbody tr th:only-of-type {\n",
       "        vertical-align: middle;\n",
       "    }\n",
       "\n",
       "    .dataframe tbody tr th {\n",
       "        vertical-align: top;\n",
       "    }\n",
       "\n",
       "    .dataframe thead th {\n",
       "        text-align: right;\n",
       "    }\n",
       "</style>\n",
       "<table border=\"1\" class=\"dataframe\">\n",
       "  <thead>\n",
       "    <tr style=\"text-align: right;\">\n",
       "      <th></th>\n",
       "      <th>destination</th>\n",
       "      <th>passanger</th>\n",
       "      <th>weather</th>\n",
       "      <th>temperature</th>\n",
       "      <th>time</th>\n",
       "      <th>coupon</th>\n",
       "      <th>expiration</th>\n",
       "      <th>gender</th>\n",
       "      <th>age</th>\n",
       "      <th>maritalStatus</th>\n",
       "      <th>...</th>\n",
       "      <th>CoffeeHouse</th>\n",
       "      <th>CarryAway</th>\n",
       "      <th>RestaurantLessThan20</th>\n",
       "      <th>Restaurant20To50</th>\n",
       "      <th>toCoupon_GEQ5min</th>\n",
       "      <th>toCoupon_GEQ15min</th>\n",
       "      <th>toCoupon_GEQ25min</th>\n",
       "      <th>direction_same</th>\n",
       "      <th>direction_opp</th>\n",
       "      <th>Y</th>\n",
       "    </tr>\n",
       "  </thead>\n",
       "  <tbody>\n",
       "    <tr>\n",
       "      <th>0</th>\n",
       "      <td>No Urgent Place</td>\n",
       "      <td>Alone</td>\n",
       "      <td>Sunny</td>\n",
       "      <td>55</td>\n",
       "      <td>2PM</td>\n",
       "      <td>Restaurant(&lt;20)</td>\n",
       "      <td>1d</td>\n",
       "      <td>Female</td>\n",
       "      <td>21</td>\n",
       "      <td>Unmarried partner</td>\n",
       "      <td>...</td>\n",
       "      <td>never</td>\n",
       "      <td>NaN</td>\n",
       "      <td>4~8</td>\n",
       "      <td>1~3</td>\n",
       "      <td>1</td>\n",
       "      <td>0</td>\n",
       "      <td>0</td>\n",
       "      <td>0</td>\n",
       "      <td>1</td>\n",
       "      <td>1</td>\n",
       "    </tr>\n",
       "    <tr>\n",
       "      <th>1</th>\n",
       "      <td>No Urgent Place</td>\n",
       "      <td>Friend(s)</td>\n",
       "      <td>Sunny</td>\n",
       "      <td>80</td>\n",
       "      <td>10AM</td>\n",
       "      <td>Coffee House</td>\n",
       "      <td>2h</td>\n",
       "      <td>Female</td>\n",
       "      <td>21</td>\n",
       "      <td>Unmarried partner</td>\n",
       "      <td>...</td>\n",
       "      <td>never</td>\n",
       "      <td>NaN</td>\n",
       "      <td>4~8</td>\n",
       "      <td>1~3</td>\n",
       "      <td>1</td>\n",
       "      <td>0</td>\n",
       "      <td>0</td>\n",
       "      <td>0</td>\n",
       "      <td>1</td>\n",
       "      <td>0</td>\n",
       "    </tr>\n",
       "    <tr>\n",
       "      <th>2</th>\n",
       "      <td>No Urgent Place</td>\n",
       "      <td>Friend(s)</td>\n",
       "      <td>Sunny</td>\n",
       "      <td>80</td>\n",
       "      <td>10AM</td>\n",
       "      <td>Carry out &amp; Take away</td>\n",
       "      <td>2h</td>\n",
       "      <td>Female</td>\n",
       "      <td>21</td>\n",
       "      <td>Unmarried partner</td>\n",
       "      <td>...</td>\n",
       "      <td>never</td>\n",
       "      <td>NaN</td>\n",
       "      <td>4~8</td>\n",
       "      <td>1~3</td>\n",
       "      <td>1</td>\n",
       "      <td>1</td>\n",
       "      <td>0</td>\n",
       "      <td>0</td>\n",
       "      <td>1</td>\n",
       "      <td>1</td>\n",
       "    </tr>\n",
       "    <tr>\n",
       "      <th>3</th>\n",
       "      <td>No Urgent Place</td>\n",
       "      <td>Friend(s)</td>\n",
       "      <td>Sunny</td>\n",
       "      <td>80</td>\n",
       "      <td>2PM</td>\n",
       "      <td>Coffee House</td>\n",
       "      <td>2h</td>\n",
       "      <td>Female</td>\n",
       "      <td>21</td>\n",
       "      <td>Unmarried partner</td>\n",
       "      <td>...</td>\n",
       "      <td>never</td>\n",
       "      <td>NaN</td>\n",
       "      <td>4~8</td>\n",
       "      <td>1~3</td>\n",
       "      <td>1</td>\n",
       "      <td>1</td>\n",
       "      <td>0</td>\n",
       "      <td>0</td>\n",
       "      <td>1</td>\n",
       "      <td>0</td>\n",
       "    </tr>\n",
       "    <tr>\n",
       "      <th>4</th>\n",
       "      <td>No Urgent Place</td>\n",
       "      <td>Friend(s)</td>\n",
       "      <td>Sunny</td>\n",
       "      <td>80</td>\n",
       "      <td>2PM</td>\n",
       "      <td>Coffee House</td>\n",
       "      <td>1d</td>\n",
       "      <td>Female</td>\n",
       "      <td>21</td>\n",
       "      <td>Unmarried partner</td>\n",
       "      <td>...</td>\n",
       "      <td>never</td>\n",
       "      <td>NaN</td>\n",
       "      <td>4~8</td>\n",
       "      <td>1~3</td>\n",
       "      <td>1</td>\n",
       "      <td>1</td>\n",
       "      <td>0</td>\n",
       "      <td>0</td>\n",
       "      <td>1</td>\n",
       "      <td>0</td>\n",
       "    </tr>\n",
       "    <tr>\n",
       "      <th>5</th>\n",
       "      <td>No Urgent Place</td>\n",
       "      <td>Friend(s)</td>\n",
       "      <td>Sunny</td>\n",
       "      <td>80</td>\n",
       "      <td>6PM</td>\n",
       "      <td>Restaurant(&lt;20)</td>\n",
       "      <td>2h</td>\n",
       "      <td>Female</td>\n",
       "      <td>21</td>\n",
       "      <td>Unmarried partner</td>\n",
       "      <td>...</td>\n",
       "      <td>never</td>\n",
       "      <td>NaN</td>\n",
       "      <td>4~8</td>\n",
       "      <td>1~3</td>\n",
       "      <td>1</td>\n",
       "      <td>1</td>\n",
       "      <td>0</td>\n",
       "      <td>0</td>\n",
       "      <td>1</td>\n",
       "      <td>1</td>\n",
       "    </tr>\n",
       "    <tr>\n",
       "      <th>6</th>\n",
       "      <td>No Urgent Place</td>\n",
       "      <td>Friend(s)</td>\n",
       "      <td>Sunny</td>\n",
       "      <td>55</td>\n",
       "      <td>2PM</td>\n",
       "      <td>Carry out &amp; Take away</td>\n",
       "      <td>1d</td>\n",
       "      <td>Female</td>\n",
       "      <td>21</td>\n",
       "      <td>Unmarried partner</td>\n",
       "      <td>...</td>\n",
       "      <td>never</td>\n",
       "      <td>NaN</td>\n",
       "      <td>4~8</td>\n",
       "      <td>1~3</td>\n",
       "      <td>1</td>\n",
       "      <td>1</td>\n",
       "      <td>0</td>\n",
       "      <td>0</td>\n",
       "      <td>1</td>\n",
       "      <td>1</td>\n",
       "    </tr>\n",
       "    <tr>\n",
       "      <th>7</th>\n",
       "      <td>No Urgent Place</td>\n",
       "      <td>Kid(s)</td>\n",
       "      <td>Sunny</td>\n",
       "      <td>80</td>\n",
       "      <td>10AM</td>\n",
       "      <td>Restaurant(&lt;20)</td>\n",
       "      <td>2h</td>\n",
       "      <td>Female</td>\n",
       "      <td>21</td>\n",
       "      <td>Unmarried partner</td>\n",
       "      <td>...</td>\n",
       "      <td>never</td>\n",
       "      <td>NaN</td>\n",
       "      <td>4~8</td>\n",
       "      <td>1~3</td>\n",
       "      <td>1</td>\n",
       "      <td>1</td>\n",
       "      <td>0</td>\n",
       "      <td>0</td>\n",
       "      <td>1</td>\n",
       "      <td>1</td>\n",
       "    </tr>\n",
       "    <tr>\n",
       "      <th>8</th>\n",
       "      <td>No Urgent Place</td>\n",
       "      <td>Kid(s)</td>\n",
       "      <td>Sunny</td>\n",
       "      <td>80</td>\n",
       "      <td>10AM</td>\n",
       "      <td>Carry out &amp; Take away</td>\n",
       "      <td>2h</td>\n",
       "      <td>Female</td>\n",
       "      <td>21</td>\n",
       "      <td>Unmarried partner</td>\n",
       "      <td>...</td>\n",
       "      <td>never</td>\n",
       "      <td>NaN</td>\n",
       "      <td>4~8</td>\n",
       "      <td>1~3</td>\n",
       "      <td>1</td>\n",
       "      <td>1</td>\n",
       "      <td>0</td>\n",
       "      <td>0</td>\n",
       "      <td>1</td>\n",
       "      <td>1</td>\n",
       "    </tr>\n",
       "    <tr>\n",
       "      <th>9</th>\n",
       "      <td>No Urgent Place</td>\n",
       "      <td>Kid(s)</td>\n",
       "      <td>Sunny</td>\n",
       "      <td>80</td>\n",
       "      <td>10AM</td>\n",
       "      <td>Bar</td>\n",
       "      <td>1d</td>\n",
       "      <td>Female</td>\n",
       "      <td>21</td>\n",
       "      <td>Unmarried partner</td>\n",
       "      <td>...</td>\n",
       "      <td>never</td>\n",
       "      <td>NaN</td>\n",
       "      <td>4~8</td>\n",
       "      <td>1~3</td>\n",
       "      <td>1</td>\n",
       "      <td>1</td>\n",
       "      <td>0</td>\n",
       "      <td>0</td>\n",
       "      <td>1</td>\n",
       "      <td>0</td>\n",
       "    </tr>\n",
       "  </tbody>\n",
       "</table>\n",
       "<p>10 rows × 26 columns</p>\n",
       "</div>"
      ],
      "text/plain": [
       "       destination  passanger weather  temperature  time  \\\n",
       "0  No Urgent Place      Alone   Sunny           55   2PM   \n",
       "1  No Urgent Place  Friend(s)   Sunny           80  10AM   \n",
       "2  No Urgent Place  Friend(s)   Sunny           80  10AM   \n",
       "3  No Urgent Place  Friend(s)   Sunny           80   2PM   \n",
       "4  No Urgent Place  Friend(s)   Sunny           80   2PM   \n",
       "5  No Urgent Place  Friend(s)   Sunny           80   6PM   \n",
       "6  No Urgent Place  Friend(s)   Sunny           55   2PM   \n",
       "7  No Urgent Place     Kid(s)   Sunny           80  10AM   \n",
       "8  No Urgent Place     Kid(s)   Sunny           80  10AM   \n",
       "9  No Urgent Place     Kid(s)   Sunny           80  10AM   \n",
       "\n",
       "                  coupon expiration  gender age      maritalStatus  ...  \\\n",
       "0        Restaurant(<20)         1d  Female  21  Unmarried partner  ...   \n",
       "1           Coffee House         2h  Female  21  Unmarried partner  ...   \n",
       "2  Carry out & Take away         2h  Female  21  Unmarried partner  ...   \n",
       "3           Coffee House         2h  Female  21  Unmarried partner  ...   \n",
       "4           Coffee House         1d  Female  21  Unmarried partner  ...   \n",
       "5        Restaurant(<20)         2h  Female  21  Unmarried partner  ...   \n",
       "6  Carry out & Take away         1d  Female  21  Unmarried partner  ...   \n",
       "7        Restaurant(<20)         2h  Female  21  Unmarried partner  ...   \n",
       "8  Carry out & Take away         2h  Female  21  Unmarried partner  ...   \n",
       "9                    Bar         1d  Female  21  Unmarried partner  ...   \n",
       "\n",
       "   CoffeeHouse CarryAway RestaurantLessThan20 Restaurant20To50  \\\n",
       "0        never       NaN                  4~8              1~3   \n",
       "1        never       NaN                  4~8              1~3   \n",
       "2        never       NaN                  4~8              1~3   \n",
       "3        never       NaN                  4~8              1~3   \n",
       "4        never       NaN                  4~8              1~3   \n",
       "5        never       NaN                  4~8              1~3   \n",
       "6        never       NaN                  4~8              1~3   \n",
       "7        never       NaN                  4~8              1~3   \n",
       "8        never       NaN                  4~8              1~3   \n",
       "9        never       NaN                  4~8              1~3   \n",
       "\n",
       "  toCoupon_GEQ5min toCoupon_GEQ15min toCoupon_GEQ25min direction_same  \\\n",
       "0                1                 0                 0              0   \n",
       "1                1                 0                 0              0   \n",
       "2                1                 1                 0              0   \n",
       "3                1                 1                 0              0   \n",
       "4                1                 1                 0              0   \n",
       "5                1                 1                 0              0   \n",
       "6                1                 1                 0              0   \n",
       "7                1                 1                 0              0   \n",
       "8                1                 1                 0              0   \n",
       "9                1                 1                 0              0   \n",
       "\n",
       "  direction_opp  Y  \n",
       "0             1  1  \n",
       "1             1  0  \n",
       "2             1  1  \n",
       "3             1  0  \n",
       "4             1  0  \n",
       "5             1  1  \n",
       "6             1  1  \n",
       "7             1  1  \n",
       "8             1  1  \n",
       "9             1  0  \n",
       "\n",
       "[10 rows x 26 columns]"
      ]
     },
     "execution_count": 332,
     "metadata": {},
     "output_type": "execute_result"
    }
   ],
   "source": [
    "data.head(10)"
   ]
  },
  {
   "cell_type": "markdown",
   "metadata": {
    "id": "YE6oJbXd_qRI"
   },
   "source": [
    "4. What proportion of the total observations chose to accept the coupon?\n",
    "\n"
   ]
  },
  {
   "cell_type": "code",
   "execution_count": 144,
   "metadata": {
    "id": "86GGqBTv_qRI"
   },
   "outputs": [
    {
     "data": {
      "text/plain": [
       "coupon\n",
       "Coffee House             3996\n",
       "Restaurant(<20)          2786\n",
       "Carry out & Take away    2393\n",
       "Bar                      2017\n",
       "Restaurant(20-50)        1492\n",
       "Name: count, dtype: int64"
      ]
     },
     "execution_count": 144,
     "metadata": {},
     "output_type": "execute_result"
    }
   ],
   "source": [
    "data['coupon'].value_counts() # Restaurant(20-50), Restaurant(<20) YES ISSUES"
   ]
  },
  {
   "cell_type": "code",
   "execution_count": 291,
   "metadata": {},
   "outputs": [
    {
     "data": {
      "text/html": [
       "<div>\n",
       "<style scoped>\n",
       "    .dataframe tbody tr th:only-of-type {\n",
       "        vertical-align: middle;\n",
       "    }\n",
       "\n",
       "    .dataframe tbody tr th {\n",
       "        vertical-align: top;\n",
       "    }\n",
       "\n",
       "    .dataframe thead th {\n",
       "        text-align: right;\n",
       "    }\n",
       "</style>\n",
       "<table border=\"1\" class=\"dataframe\">\n",
       "  <thead>\n",
       "    <tr style=\"text-align: right;\">\n",
       "      <th></th>\n",
       "      <th>coupon</th>\n",
       "      <th>Y</th>\n",
       "    </tr>\n",
       "  </thead>\n",
       "  <tbody>\n",
       "    <tr>\n",
       "      <th>0</th>\n",
       "      <td>Restaurant(&lt;20)</td>\n",
       "      <td>1</td>\n",
       "    </tr>\n",
       "    <tr>\n",
       "      <th>1</th>\n",
       "      <td>Coffee House</td>\n",
       "      <td>0</td>\n",
       "    </tr>\n",
       "    <tr>\n",
       "      <th>2</th>\n",
       "      <td>Carry out &amp; Take away</td>\n",
       "      <td>1</td>\n",
       "    </tr>\n",
       "    <tr>\n",
       "      <th>3</th>\n",
       "      <td>Coffee House</td>\n",
       "      <td>0</td>\n",
       "    </tr>\n",
       "    <tr>\n",
       "      <th>4</th>\n",
       "      <td>Coffee House</td>\n",
       "      <td>0</td>\n",
       "    </tr>\n",
       "    <tr>\n",
       "      <th>...</th>\n",
       "      <td>...</td>\n",
       "      <td>...</td>\n",
       "    </tr>\n",
       "    <tr>\n",
       "      <th>12679</th>\n",
       "      <td>Carry out &amp; Take away</td>\n",
       "      <td>1</td>\n",
       "    </tr>\n",
       "    <tr>\n",
       "      <th>12680</th>\n",
       "      <td>Carry out &amp; Take away</td>\n",
       "      <td>1</td>\n",
       "    </tr>\n",
       "    <tr>\n",
       "      <th>12681</th>\n",
       "      <td>Coffee House</td>\n",
       "      <td>0</td>\n",
       "    </tr>\n",
       "    <tr>\n",
       "      <th>12682</th>\n",
       "      <td>Bar</td>\n",
       "      <td>0</td>\n",
       "    </tr>\n",
       "    <tr>\n",
       "      <th>12683</th>\n",
       "      <td>Restaurant(20-50)</td>\n",
       "      <td>0</td>\n",
       "    </tr>\n",
       "  </tbody>\n",
       "</table>\n",
       "<p>12684 rows × 2 columns</p>\n",
       "</div>"
      ],
      "text/plain": [
       "                      coupon  Y\n",
       "0            Restaurant(<20)  1\n",
       "1               Coffee House  0\n",
       "2      Carry out & Take away  1\n",
       "3               Coffee House  0\n",
       "4               Coffee House  0\n",
       "...                      ... ..\n",
       "12679  Carry out & Take away  1\n",
       "12680  Carry out & Take away  1\n",
       "12681           Coffee House  0\n",
       "12682                    Bar  0\n",
       "12683      Restaurant(20-50)  0\n",
       "\n",
       "[12684 rows x 2 columns]"
      ]
     },
     "execution_count": 291,
     "metadata": {},
     "output_type": "execute_result"
    }
   ],
   "source": [
    "df = data[['coupon', 'Y']]\n",
    "df"
   ]
  },
  {
   "cell_type": "code",
   "execution_count": 182,
   "metadata": {},
   "outputs": [
    {
     "data": {
      "text/plain": [
       "12684"
      ]
     },
     "execution_count": 182,
     "metadata": {},
     "output_type": "execute_result"
    }
   ],
   "source": [
    "totalCoupon = df['coupon'].value_counts().sum()\n",
    "totalCoupon"
   ]
  },
  {
   "cell_type": "code",
   "execution_count": 301,
   "metadata": {},
   "outputs": [
    {
     "data": {
      "text/html": [
       "<div>\n",
       "<style scoped>\n",
       "    .dataframe tbody tr th:only-of-type {\n",
       "        vertical-align: middle;\n",
       "    }\n",
       "\n",
       "    .dataframe tbody tr th {\n",
       "        vertical-align: top;\n",
       "    }\n",
       "\n",
       "    .dataframe thead th {\n",
       "        text-align: right;\n",
       "    }\n",
       "</style>\n",
       "<table border=\"1\" class=\"dataframe\">\n",
       "  <thead>\n",
       "    <tr style=\"text-align: right;\">\n",
       "      <th></th>\n",
       "      <th>coupon</th>\n",
       "    </tr>\n",
       "  </thead>\n",
       "  <tbody>\n",
       "    <tr>\n",
       "      <th>0</th>\n",
       "      <td>Restaurant(&lt;20)</td>\n",
       "    </tr>\n",
       "    <tr>\n",
       "      <th>1</th>\n",
       "      <td>Carry out &amp; Take away</td>\n",
       "    </tr>\n",
       "    <tr>\n",
       "      <th>2</th>\n",
       "      <td>Restaurant(&lt;20)</td>\n",
       "    </tr>\n",
       "    <tr>\n",
       "      <th>3</th>\n",
       "      <td>Carry out &amp; Take away</td>\n",
       "    </tr>\n",
       "    <tr>\n",
       "      <th>4</th>\n",
       "      <td>Restaurant(&lt;20)</td>\n",
       "    </tr>\n",
       "    <tr>\n",
       "      <th>...</th>\n",
       "      <td>...</td>\n",
       "    </tr>\n",
       "    <tr>\n",
       "      <th>7205</th>\n",
       "      <td>Restaurant(&lt;20)</td>\n",
       "    </tr>\n",
       "    <tr>\n",
       "      <th>7206</th>\n",
       "      <td>Restaurant(20-50)</td>\n",
       "    </tr>\n",
       "    <tr>\n",
       "      <th>7207</th>\n",
       "      <td>Restaurant(&lt;20)</td>\n",
       "    </tr>\n",
       "    <tr>\n",
       "      <th>7208</th>\n",
       "      <td>Carry out &amp; Take away</td>\n",
       "    </tr>\n",
       "    <tr>\n",
       "      <th>7209</th>\n",
       "      <td>Carry out &amp; Take away</td>\n",
       "    </tr>\n",
       "  </tbody>\n",
       "</table>\n",
       "<p>7210 rows × 1 columns</p>\n",
       "</div>"
      ],
      "text/plain": [
       "                     coupon\n",
       "0           Restaurant(<20)\n",
       "1     Carry out & Take away\n",
       "2           Restaurant(<20)\n",
       "3     Carry out & Take away\n",
       "4           Restaurant(<20)\n",
       "...                     ...\n",
       "7205        Restaurant(<20)\n",
       "7206      Restaurant(20-50)\n",
       "7207        Restaurant(<20)\n",
       "7208  Carry out & Take away\n",
       "7209  Carry out & Take away\n",
       "\n",
       "[7210 rows x 1 columns]"
      ]
     },
     "execution_count": 301,
     "metadata": {},
     "output_type": "execute_result"
    }
   ],
   "source": [
    "accept_df = df.query(\"Y==1\")[['coupon']].reset_index()\n",
    "accept_df [['coupon']]"
   ]
  },
  {
   "cell_type": "code",
   "execution_count": 302,
   "metadata": {},
   "outputs": [
    {
     "data": {
      "text/plain": [
       "0.5684326710816777"
      ]
     },
     "execution_count": 302,
     "metadata": {},
     "output_type": "execute_result"
    }
   ],
   "source": [
    "######## Ratio : total observations chose to accept the coupon ##############\n",
    "ratio_accept = (accept_df[\"coupon\"].value_counts().sum())/totalCoupon\n",
    "ratio_accept"
   ]
  },
  {
   "cell_type": "markdown",
   "metadata": {
    "id": "vflz0DoE_qRI"
   },
   "source": [
    "5. Use a bar plot to visualize the `coupon` column."
   ]
  },
  {
   "cell_type": "code",
   "execution_count": 239,
   "metadata": {
    "id": "dHFh3E45_qRI"
   },
   "outputs": [
    {
     "data": {
      "application/vnd.plotly.v1+json": {
       "config": {
        "plotlyServerURL": "https://plot.ly"
       },
       "data": [
        {
         "alignmentgroup": "True",
         "hovertemplate": "Coupon Type=%{x}<br>Count=%{text}<extra></extra>",
         "legendgroup": "",
         "marker": {
          "color": "#636efa",
          "pattern": {
           "shape": ""
          }
         },
         "name": "",
         "offsetgroup": "",
         "orientation": "v",
         "showlegend": false,
         "text": [
          3996,
          2786,
          2393,
          2017,
          1492
         ],
         "textposition": "auto",
         "type": "bar",
         "x": [
          "Coffee House",
          "Restaurant(<20)",
          "Carry out & Take away",
          "Bar",
          "Restaurant(20-50)"
         ],
         "xaxis": "x",
         "y": [
          3996,
          2786,
          2393,
          2017,
          1492
         ],
         "yaxis": "y"
        }
       ],
       "layout": {
        "barmode": "relative",
        "legend": {
         "tracegroupgap": 0
        },
        "template": {
         "data": {
          "bar": [
           {
            "error_x": {
             "color": "#2a3f5f"
            },
            "error_y": {
             "color": "#2a3f5f"
            },
            "marker": {
             "line": {
              "color": "#E5ECF6",
              "width": 0.5
             },
             "pattern": {
              "fillmode": "overlay",
              "size": 10,
              "solidity": 0.2
             }
            },
            "type": "bar"
           }
          ],
          "barpolar": [
           {
            "marker": {
             "line": {
              "color": "#E5ECF6",
              "width": 0.5
             },
             "pattern": {
              "fillmode": "overlay",
              "size": 10,
              "solidity": 0.2
             }
            },
            "type": "barpolar"
           }
          ],
          "carpet": [
           {
            "aaxis": {
             "endlinecolor": "#2a3f5f",
             "gridcolor": "white",
             "linecolor": "white",
             "minorgridcolor": "white",
             "startlinecolor": "#2a3f5f"
            },
            "baxis": {
             "endlinecolor": "#2a3f5f",
             "gridcolor": "white",
             "linecolor": "white",
             "minorgridcolor": "white",
             "startlinecolor": "#2a3f5f"
            },
            "type": "carpet"
           }
          ],
          "choropleth": [
           {
            "colorbar": {
             "outlinewidth": 0,
             "ticks": ""
            },
            "type": "choropleth"
           }
          ],
          "contour": [
           {
            "colorbar": {
             "outlinewidth": 0,
             "ticks": ""
            },
            "colorscale": [
             [
              0,
              "#0d0887"
             ],
             [
              0.1111111111111111,
              "#46039f"
             ],
             [
              0.2222222222222222,
              "#7201a8"
             ],
             [
              0.3333333333333333,
              "#9c179e"
             ],
             [
              0.4444444444444444,
              "#bd3786"
             ],
             [
              0.5555555555555556,
              "#d8576b"
             ],
             [
              0.6666666666666666,
              "#ed7953"
             ],
             [
              0.7777777777777778,
              "#fb9f3a"
             ],
             [
              0.8888888888888888,
              "#fdca26"
             ],
             [
              1,
              "#f0f921"
             ]
            ],
            "type": "contour"
           }
          ],
          "contourcarpet": [
           {
            "colorbar": {
             "outlinewidth": 0,
             "ticks": ""
            },
            "type": "contourcarpet"
           }
          ],
          "heatmap": [
           {
            "colorbar": {
             "outlinewidth": 0,
             "ticks": ""
            },
            "colorscale": [
             [
              0,
              "#0d0887"
             ],
             [
              0.1111111111111111,
              "#46039f"
             ],
             [
              0.2222222222222222,
              "#7201a8"
             ],
             [
              0.3333333333333333,
              "#9c179e"
             ],
             [
              0.4444444444444444,
              "#bd3786"
             ],
             [
              0.5555555555555556,
              "#d8576b"
             ],
             [
              0.6666666666666666,
              "#ed7953"
             ],
             [
              0.7777777777777778,
              "#fb9f3a"
             ],
             [
              0.8888888888888888,
              "#fdca26"
             ],
             [
              1,
              "#f0f921"
             ]
            ],
            "type": "heatmap"
           }
          ],
          "heatmapgl": [
           {
            "colorbar": {
             "outlinewidth": 0,
             "ticks": ""
            },
            "colorscale": [
             [
              0,
              "#0d0887"
             ],
             [
              0.1111111111111111,
              "#46039f"
             ],
             [
              0.2222222222222222,
              "#7201a8"
             ],
             [
              0.3333333333333333,
              "#9c179e"
             ],
             [
              0.4444444444444444,
              "#bd3786"
             ],
             [
              0.5555555555555556,
              "#d8576b"
             ],
             [
              0.6666666666666666,
              "#ed7953"
             ],
             [
              0.7777777777777778,
              "#fb9f3a"
             ],
             [
              0.8888888888888888,
              "#fdca26"
             ],
             [
              1,
              "#f0f921"
             ]
            ],
            "type": "heatmapgl"
           }
          ],
          "histogram": [
           {
            "marker": {
             "pattern": {
              "fillmode": "overlay",
              "size": 10,
              "solidity": 0.2
             }
            },
            "type": "histogram"
           }
          ],
          "histogram2d": [
           {
            "colorbar": {
             "outlinewidth": 0,
             "ticks": ""
            },
            "colorscale": [
             [
              0,
              "#0d0887"
             ],
             [
              0.1111111111111111,
              "#46039f"
             ],
             [
              0.2222222222222222,
              "#7201a8"
             ],
             [
              0.3333333333333333,
              "#9c179e"
             ],
             [
              0.4444444444444444,
              "#bd3786"
             ],
             [
              0.5555555555555556,
              "#d8576b"
             ],
             [
              0.6666666666666666,
              "#ed7953"
             ],
             [
              0.7777777777777778,
              "#fb9f3a"
             ],
             [
              0.8888888888888888,
              "#fdca26"
             ],
             [
              1,
              "#f0f921"
             ]
            ],
            "type": "histogram2d"
           }
          ],
          "histogram2dcontour": [
           {
            "colorbar": {
             "outlinewidth": 0,
             "ticks": ""
            },
            "colorscale": [
             [
              0,
              "#0d0887"
             ],
             [
              0.1111111111111111,
              "#46039f"
             ],
             [
              0.2222222222222222,
              "#7201a8"
             ],
             [
              0.3333333333333333,
              "#9c179e"
             ],
             [
              0.4444444444444444,
              "#bd3786"
             ],
             [
              0.5555555555555556,
              "#d8576b"
             ],
             [
              0.6666666666666666,
              "#ed7953"
             ],
             [
              0.7777777777777778,
              "#fb9f3a"
             ],
             [
              0.8888888888888888,
              "#fdca26"
             ],
             [
              1,
              "#f0f921"
             ]
            ],
            "type": "histogram2dcontour"
           }
          ],
          "mesh3d": [
           {
            "colorbar": {
             "outlinewidth": 0,
             "ticks": ""
            },
            "type": "mesh3d"
           }
          ],
          "parcoords": [
           {
            "line": {
             "colorbar": {
              "outlinewidth": 0,
              "ticks": ""
             }
            },
            "type": "parcoords"
           }
          ],
          "pie": [
           {
            "automargin": true,
            "type": "pie"
           }
          ],
          "scatter": [
           {
            "fillpattern": {
             "fillmode": "overlay",
             "size": 10,
             "solidity": 0.2
            },
            "type": "scatter"
           }
          ],
          "scatter3d": [
           {
            "line": {
             "colorbar": {
              "outlinewidth": 0,
              "ticks": ""
             }
            },
            "marker": {
             "colorbar": {
              "outlinewidth": 0,
              "ticks": ""
             }
            },
            "type": "scatter3d"
           }
          ],
          "scattercarpet": [
           {
            "marker": {
             "colorbar": {
              "outlinewidth": 0,
              "ticks": ""
             }
            },
            "type": "scattercarpet"
           }
          ],
          "scattergeo": [
           {
            "marker": {
             "colorbar": {
              "outlinewidth": 0,
              "ticks": ""
             }
            },
            "type": "scattergeo"
           }
          ],
          "scattergl": [
           {
            "marker": {
             "colorbar": {
              "outlinewidth": 0,
              "ticks": ""
             }
            },
            "type": "scattergl"
           }
          ],
          "scattermapbox": [
           {
            "marker": {
             "colorbar": {
              "outlinewidth": 0,
              "ticks": ""
             }
            },
            "type": "scattermapbox"
           }
          ],
          "scatterpolar": [
           {
            "marker": {
             "colorbar": {
              "outlinewidth": 0,
              "ticks": ""
             }
            },
            "type": "scatterpolar"
           }
          ],
          "scatterpolargl": [
           {
            "marker": {
             "colorbar": {
              "outlinewidth": 0,
              "ticks": ""
             }
            },
            "type": "scatterpolargl"
           }
          ],
          "scatterternary": [
           {
            "marker": {
             "colorbar": {
              "outlinewidth": 0,
              "ticks": ""
             }
            },
            "type": "scatterternary"
           }
          ],
          "surface": [
           {
            "colorbar": {
             "outlinewidth": 0,
             "ticks": ""
            },
            "colorscale": [
             [
              0,
              "#0d0887"
             ],
             [
              0.1111111111111111,
              "#46039f"
             ],
             [
              0.2222222222222222,
              "#7201a8"
             ],
             [
              0.3333333333333333,
              "#9c179e"
             ],
             [
              0.4444444444444444,
              "#bd3786"
             ],
             [
              0.5555555555555556,
              "#d8576b"
             ],
             [
              0.6666666666666666,
              "#ed7953"
             ],
             [
              0.7777777777777778,
              "#fb9f3a"
             ],
             [
              0.8888888888888888,
              "#fdca26"
             ],
             [
              1,
              "#f0f921"
             ]
            ],
            "type": "surface"
           }
          ],
          "table": [
           {
            "cells": {
             "fill": {
              "color": "#EBF0F8"
             },
             "line": {
              "color": "white"
             }
            },
            "header": {
             "fill": {
              "color": "#C8D4E3"
             },
             "line": {
              "color": "white"
             }
            },
            "type": "table"
           }
          ]
         },
         "layout": {
          "annotationdefaults": {
           "arrowcolor": "#2a3f5f",
           "arrowhead": 0,
           "arrowwidth": 1
          },
          "autotypenumbers": "strict",
          "coloraxis": {
           "colorbar": {
            "outlinewidth": 0,
            "ticks": ""
           }
          },
          "colorscale": {
           "diverging": [
            [
             0,
             "#8e0152"
            ],
            [
             0.1,
             "#c51b7d"
            ],
            [
             0.2,
             "#de77ae"
            ],
            [
             0.3,
             "#f1b6da"
            ],
            [
             0.4,
             "#fde0ef"
            ],
            [
             0.5,
             "#f7f7f7"
            ],
            [
             0.6,
             "#e6f5d0"
            ],
            [
             0.7,
             "#b8e186"
            ],
            [
             0.8,
             "#7fbc41"
            ],
            [
             0.9,
             "#4d9221"
            ],
            [
             1,
             "#276419"
            ]
           ],
           "sequential": [
            [
             0,
             "#0d0887"
            ],
            [
             0.1111111111111111,
             "#46039f"
            ],
            [
             0.2222222222222222,
             "#7201a8"
            ],
            [
             0.3333333333333333,
             "#9c179e"
            ],
            [
             0.4444444444444444,
             "#bd3786"
            ],
            [
             0.5555555555555556,
             "#d8576b"
            ],
            [
             0.6666666666666666,
             "#ed7953"
            ],
            [
             0.7777777777777778,
             "#fb9f3a"
            ],
            [
             0.8888888888888888,
             "#fdca26"
            ],
            [
             1,
             "#f0f921"
            ]
           ],
           "sequentialminus": [
            [
             0,
             "#0d0887"
            ],
            [
             0.1111111111111111,
             "#46039f"
            ],
            [
             0.2222222222222222,
             "#7201a8"
            ],
            [
             0.3333333333333333,
             "#9c179e"
            ],
            [
             0.4444444444444444,
             "#bd3786"
            ],
            [
             0.5555555555555556,
             "#d8576b"
            ],
            [
             0.6666666666666666,
             "#ed7953"
            ],
            [
             0.7777777777777778,
             "#fb9f3a"
            ],
            [
             0.8888888888888888,
             "#fdca26"
            ],
            [
             1,
             "#f0f921"
            ]
           ]
          },
          "colorway": [
           "#636efa",
           "#EF553B",
           "#00cc96",
           "#ab63fa",
           "#FFA15A",
           "#19d3f3",
           "#FF6692",
           "#B6E880",
           "#FF97FF",
           "#FECB52"
          ],
          "font": {
           "color": "#2a3f5f"
          },
          "geo": {
           "bgcolor": "white",
           "lakecolor": "white",
           "landcolor": "#E5ECF6",
           "showlakes": true,
           "showland": true,
           "subunitcolor": "white"
          },
          "hoverlabel": {
           "align": "left"
          },
          "hovermode": "closest",
          "mapbox": {
           "style": "light"
          },
          "paper_bgcolor": "white",
          "plot_bgcolor": "#E5ECF6",
          "polar": {
           "angularaxis": {
            "gridcolor": "white",
            "linecolor": "white",
            "ticks": ""
           },
           "bgcolor": "#E5ECF6",
           "radialaxis": {
            "gridcolor": "white",
            "linecolor": "white",
            "ticks": ""
           }
          },
          "scene": {
           "xaxis": {
            "backgroundcolor": "#E5ECF6",
            "gridcolor": "white",
            "gridwidth": 2,
            "linecolor": "white",
            "showbackground": true,
            "ticks": "",
            "zerolinecolor": "white"
           },
           "yaxis": {
            "backgroundcolor": "#E5ECF6",
            "gridcolor": "white",
            "gridwidth": 2,
            "linecolor": "white",
            "showbackground": true,
            "ticks": "",
            "zerolinecolor": "white"
           },
           "zaxis": {
            "backgroundcolor": "#E5ECF6",
            "gridcolor": "white",
            "gridwidth": 2,
            "linecolor": "white",
            "showbackground": true,
            "ticks": "",
            "zerolinecolor": "white"
           }
          },
          "shapedefaults": {
           "line": {
            "color": "#2a3f5f"
           }
          },
          "ternary": {
           "aaxis": {
            "gridcolor": "white",
            "linecolor": "white",
            "ticks": ""
           },
           "baxis": {
            "gridcolor": "white",
            "linecolor": "white",
            "ticks": ""
           },
           "bgcolor": "#E5ECF6",
           "caxis": {
            "gridcolor": "white",
            "linecolor": "white",
            "ticks": ""
           }
          },
          "title": {
           "x": 0.05
          },
          "xaxis": {
           "automargin": true,
           "gridcolor": "white",
           "linecolor": "white",
           "ticks": "",
           "title": {
            "standoff": 15
           },
           "zerolinecolor": "white",
           "zerolinewidth": 2
          },
          "yaxis": {
           "automargin": true,
           "gridcolor": "white",
           "linecolor": "white",
           "ticks": "",
           "title": {
            "standoff": 15
           },
           "zerolinecolor": "white",
           "zerolinewidth": 2
          }
         }
        },
        "title": {
         "text": "Coupon Usage Count"
        },
        "xaxis": {
         "anchor": "y",
         "domain": [
          0,
          1
         ],
         "title": {
          "text": "Coupon Type"
         }
        },
        "yaxis": {
         "anchor": "x",
         "domain": [
          0,
          1
         ],
         "title": {
          "text": "Count"
         }
        }
       }
      },
      "text/html": [
       "<div>                            <div id=\"1901bef0-7150-4639-8245-93b486221523\" class=\"plotly-graph-div\" style=\"height:525px; width:100%;\"></div>            <script type=\"text/javascript\">                require([\"plotly\"], function(Plotly) {                    window.PLOTLYENV=window.PLOTLYENV || {};                                    if (document.getElementById(\"1901bef0-7150-4639-8245-93b486221523\")) {                    Plotly.newPlot(                        \"1901bef0-7150-4639-8245-93b486221523\",                        [{\"alignmentgroup\":\"True\",\"hovertemplate\":\"Coupon Type=%{x}\\u003cbr\\u003eCount=%{text}\\u003cextra\\u003e\\u003c\\u002fextra\\u003e\",\"legendgroup\":\"\",\"marker\":{\"color\":\"#636efa\",\"pattern\":{\"shape\":\"\"}},\"name\":\"\",\"offsetgroup\":\"\",\"orientation\":\"v\",\"showlegend\":false,\"text\":[3996.0,2786.0,2393.0,2017.0,1492.0],\"textposition\":\"auto\",\"x\":[\"Coffee House\",\"Restaurant(\\u003c20)\",\"Carry out & Take away\",\"Bar\",\"Restaurant(20-50)\"],\"xaxis\":\"x\",\"y\":[3996,2786,2393,2017,1492],\"yaxis\":\"y\",\"type\":\"bar\"}],                        {\"template\":{\"data\":{\"histogram2dcontour\":[{\"type\":\"histogram2dcontour\",\"colorbar\":{\"outlinewidth\":0,\"ticks\":\"\"},\"colorscale\":[[0.0,\"#0d0887\"],[0.1111111111111111,\"#46039f\"],[0.2222222222222222,\"#7201a8\"],[0.3333333333333333,\"#9c179e\"],[0.4444444444444444,\"#bd3786\"],[0.5555555555555556,\"#d8576b\"],[0.6666666666666666,\"#ed7953\"],[0.7777777777777778,\"#fb9f3a\"],[0.8888888888888888,\"#fdca26\"],[1.0,\"#f0f921\"]]}],\"choropleth\":[{\"type\":\"choropleth\",\"colorbar\":{\"outlinewidth\":0,\"ticks\":\"\"}}],\"histogram2d\":[{\"type\":\"histogram2d\",\"colorbar\":{\"outlinewidth\":0,\"ticks\":\"\"},\"colorscale\":[[0.0,\"#0d0887\"],[0.1111111111111111,\"#46039f\"],[0.2222222222222222,\"#7201a8\"],[0.3333333333333333,\"#9c179e\"],[0.4444444444444444,\"#bd3786\"],[0.5555555555555556,\"#d8576b\"],[0.6666666666666666,\"#ed7953\"],[0.7777777777777778,\"#fb9f3a\"],[0.8888888888888888,\"#fdca26\"],[1.0,\"#f0f921\"]]}],\"heatmap\":[{\"type\":\"heatmap\",\"colorbar\":{\"outlinewidth\":0,\"ticks\":\"\"},\"colorscale\":[[0.0,\"#0d0887\"],[0.1111111111111111,\"#46039f\"],[0.2222222222222222,\"#7201a8\"],[0.3333333333333333,\"#9c179e\"],[0.4444444444444444,\"#bd3786\"],[0.5555555555555556,\"#d8576b\"],[0.6666666666666666,\"#ed7953\"],[0.7777777777777778,\"#fb9f3a\"],[0.8888888888888888,\"#fdca26\"],[1.0,\"#f0f921\"]]}],\"heatmapgl\":[{\"type\":\"heatmapgl\",\"colorbar\":{\"outlinewidth\":0,\"ticks\":\"\"},\"colorscale\":[[0.0,\"#0d0887\"],[0.1111111111111111,\"#46039f\"],[0.2222222222222222,\"#7201a8\"],[0.3333333333333333,\"#9c179e\"],[0.4444444444444444,\"#bd3786\"],[0.5555555555555556,\"#d8576b\"],[0.6666666666666666,\"#ed7953\"],[0.7777777777777778,\"#fb9f3a\"],[0.8888888888888888,\"#fdca26\"],[1.0,\"#f0f921\"]]}],\"contourcarpet\":[{\"type\":\"contourcarpet\",\"colorbar\":{\"outlinewidth\":0,\"ticks\":\"\"}}],\"contour\":[{\"type\":\"contour\",\"colorbar\":{\"outlinewidth\":0,\"ticks\":\"\"},\"colorscale\":[[0.0,\"#0d0887\"],[0.1111111111111111,\"#46039f\"],[0.2222222222222222,\"#7201a8\"],[0.3333333333333333,\"#9c179e\"],[0.4444444444444444,\"#bd3786\"],[0.5555555555555556,\"#d8576b\"],[0.6666666666666666,\"#ed7953\"],[0.7777777777777778,\"#fb9f3a\"],[0.8888888888888888,\"#fdca26\"],[1.0,\"#f0f921\"]]}],\"surface\":[{\"type\":\"surface\",\"colorbar\":{\"outlinewidth\":0,\"ticks\":\"\"},\"colorscale\":[[0.0,\"#0d0887\"],[0.1111111111111111,\"#46039f\"],[0.2222222222222222,\"#7201a8\"],[0.3333333333333333,\"#9c179e\"],[0.4444444444444444,\"#bd3786\"],[0.5555555555555556,\"#d8576b\"],[0.6666666666666666,\"#ed7953\"],[0.7777777777777778,\"#fb9f3a\"],[0.8888888888888888,\"#fdca26\"],[1.0,\"#f0f921\"]]}],\"mesh3d\":[{\"type\":\"mesh3d\",\"colorbar\":{\"outlinewidth\":0,\"ticks\":\"\"}}],\"scatter\":[{\"fillpattern\":{\"fillmode\":\"overlay\",\"size\":10,\"solidity\":0.2},\"type\":\"scatter\"}],\"parcoords\":[{\"type\":\"parcoords\",\"line\":{\"colorbar\":{\"outlinewidth\":0,\"ticks\":\"\"}}}],\"scatterpolargl\":[{\"type\":\"scatterpolargl\",\"marker\":{\"colorbar\":{\"outlinewidth\":0,\"ticks\":\"\"}}}],\"bar\":[{\"error_x\":{\"color\":\"#2a3f5f\"},\"error_y\":{\"color\":\"#2a3f5f\"},\"marker\":{\"line\":{\"color\":\"#E5ECF6\",\"width\":0.5},\"pattern\":{\"fillmode\":\"overlay\",\"size\":10,\"solidity\":0.2}},\"type\":\"bar\"}],\"scattergeo\":[{\"type\":\"scattergeo\",\"marker\":{\"colorbar\":{\"outlinewidth\":0,\"ticks\":\"\"}}}],\"scatterpolar\":[{\"type\":\"scatterpolar\",\"marker\":{\"colorbar\":{\"outlinewidth\":0,\"ticks\":\"\"}}}],\"histogram\":[{\"marker\":{\"pattern\":{\"fillmode\":\"overlay\",\"size\":10,\"solidity\":0.2}},\"type\":\"histogram\"}],\"scattergl\":[{\"type\":\"scattergl\",\"marker\":{\"colorbar\":{\"outlinewidth\":0,\"ticks\":\"\"}}}],\"scatter3d\":[{\"type\":\"scatter3d\",\"line\":{\"colorbar\":{\"outlinewidth\":0,\"ticks\":\"\"}},\"marker\":{\"colorbar\":{\"outlinewidth\":0,\"ticks\":\"\"}}}],\"scattermapbox\":[{\"type\":\"scattermapbox\",\"marker\":{\"colorbar\":{\"outlinewidth\":0,\"ticks\":\"\"}}}],\"scatterternary\":[{\"type\":\"scatterternary\",\"marker\":{\"colorbar\":{\"outlinewidth\":0,\"ticks\":\"\"}}}],\"scattercarpet\":[{\"type\":\"scattercarpet\",\"marker\":{\"colorbar\":{\"outlinewidth\":0,\"ticks\":\"\"}}}],\"carpet\":[{\"aaxis\":{\"endlinecolor\":\"#2a3f5f\",\"gridcolor\":\"white\",\"linecolor\":\"white\",\"minorgridcolor\":\"white\",\"startlinecolor\":\"#2a3f5f\"},\"baxis\":{\"endlinecolor\":\"#2a3f5f\",\"gridcolor\":\"white\",\"linecolor\":\"white\",\"minorgridcolor\":\"white\",\"startlinecolor\":\"#2a3f5f\"},\"type\":\"carpet\"}],\"table\":[{\"cells\":{\"fill\":{\"color\":\"#EBF0F8\"},\"line\":{\"color\":\"white\"}},\"header\":{\"fill\":{\"color\":\"#C8D4E3\"},\"line\":{\"color\":\"white\"}},\"type\":\"table\"}],\"barpolar\":[{\"marker\":{\"line\":{\"color\":\"#E5ECF6\",\"width\":0.5},\"pattern\":{\"fillmode\":\"overlay\",\"size\":10,\"solidity\":0.2}},\"type\":\"barpolar\"}],\"pie\":[{\"automargin\":true,\"type\":\"pie\"}]},\"layout\":{\"autotypenumbers\":\"strict\",\"colorway\":[\"#636efa\",\"#EF553B\",\"#00cc96\",\"#ab63fa\",\"#FFA15A\",\"#19d3f3\",\"#FF6692\",\"#B6E880\",\"#FF97FF\",\"#FECB52\"],\"font\":{\"color\":\"#2a3f5f\"},\"hovermode\":\"closest\",\"hoverlabel\":{\"align\":\"left\"},\"paper_bgcolor\":\"white\",\"plot_bgcolor\":\"#E5ECF6\",\"polar\":{\"bgcolor\":\"#E5ECF6\",\"angularaxis\":{\"gridcolor\":\"white\",\"linecolor\":\"white\",\"ticks\":\"\"},\"radialaxis\":{\"gridcolor\":\"white\",\"linecolor\":\"white\",\"ticks\":\"\"}},\"ternary\":{\"bgcolor\":\"#E5ECF6\",\"aaxis\":{\"gridcolor\":\"white\",\"linecolor\":\"white\",\"ticks\":\"\"},\"baxis\":{\"gridcolor\":\"white\",\"linecolor\":\"white\",\"ticks\":\"\"},\"caxis\":{\"gridcolor\":\"white\",\"linecolor\":\"white\",\"ticks\":\"\"}},\"coloraxis\":{\"colorbar\":{\"outlinewidth\":0,\"ticks\":\"\"}},\"colorscale\":{\"sequential\":[[0.0,\"#0d0887\"],[0.1111111111111111,\"#46039f\"],[0.2222222222222222,\"#7201a8\"],[0.3333333333333333,\"#9c179e\"],[0.4444444444444444,\"#bd3786\"],[0.5555555555555556,\"#d8576b\"],[0.6666666666666666,\"#ed7953\"],[0.7777777777777778,\"#fb9f3a\"],[0.8888888888888888,\"#fdca26\"],[1.0,\"#f0f921\"]],\"sequentialminus\":[[0.0,\"#0d0887\"],[0.1111111111111111,\"#46039f\"],[0.2222222222222222,\"#7201a8\"],[0.3333333333333333,\"#9c179e\"],[0.4444444444444444,\"#bd3786\"],[0.5555555555555556,\"#d8576b\"],[0.6666666666666666,\"#ed7953\"],[0.7777777777777778,\"#fb9f3a\"],[0.8888888888888888,\"#fdca26\"],[1.0,\"#f0f921\"]],\"diverging\":[[0,\"#8e0152\"],[0.1,\"#c51b7d\"],[0.2,\"#de77ae\"],[0.3,\"#f1b6da\"],[0.4,\"#fde0ef\"],[0.5,\"#f7f7f7\"],[0.6,\"#e6f5d0\"],[0.7,\"#b8e186\"],[0.8,\"#7fbc41\"],[0.9,\"#4d9221\"],[1,\"#276419\"]]},\"xaxis\":{\"gridcolor\":\"white\",\"linecolor\":\"white\",\"ticks\":\"\",\"title\":{\"standoff\":15},\"zerolinecolor\":\"white\",\"automargin\":true,\"zerolinewidth\":2},\"yaxis\":{\"gridcolor\":\"white\",\"linecolor\":\"white\",\"ticks\":\"\",\"title\":{\"standoff\":15},\"zerolinecolor\":\"white\",\"automargin\":true,\"zerolinewidth\":2},\"scene\":{\"xaxis\":{\"backgroundcolor\":\"#E5ECF6\",\"gridcolor\":\"white\",\"linecolor\":\"white\",\"showbackground\":true,\"ticks\":\"\",\"zerolinecolor\":\"white\",\"gridwidth\":2},\"yaxis\":{\"backgroundcolor\":\"#E5ECF6\",\"gridcolor\":\"white\",\"linecolor\":\"white\",\"showbackground\":true,\"ticks\":\"\",\"zerolinecolor\":\"white\",\"gridwidth\":2},\"zaxis\":{\"backgroundcolor\":\"#E5ECF6\",\"gridcolor\":\"white\",\"linecolor\":\"white\",\"showbackground\":true,\"ticks\":\"\",\"zerolinecolor\":\"white\",\"gridwidth\":2}},\"shapedefaults\":{\"line\":{\"color\":\"#2a3f5f\"}},\"annotationdefaults\":{\"arrowcolor\":\"#2a3f5f\",\"arrowhead\":0,\"arrowwidth\":1},\"geo\":{\"bgcolor\":\"white\",\"landcolor\":\"#E5ECF6\",\"subunitcolor\":\"white\",\"showland\":true,\"showlakes\":true,\"lakecolor\":\"white\"},\"title\":{\"x\":0.05},\"mapbox\":{\"style\":\"light\"}}},\"xaxis\":{\"anchor\":\"y\",\"domain\":[0.0,1.0],\"title\":{\"text\":\"Coupon Type\"}},\"yaxis\":{\"anchor\":\"x\",\"domain\":[0.0,1.0],\"title\":{\"text\":\"Count\"}},\"legend\":{\"tracegroupgap\":0},\"title\":{\"text\":\"Coupon Usage Count\"},\"barmode\":\"relative\"},                        {\"responsive\": true}                    ).then(function(){\n",
       "                            \n",
       "var gd = document.getElementById('1901bef0-7150-4639-8245-93b486221523');\n",
       "var x = new MutationObserver(function (mutations, observer) {{\n",
       "        var display = window.getComputedStyle(gd).display;\n",
       "        if (!display || display === 'none') {{\n",
       "            console.log([gd, 'removed!']);\n",
       "            Plotly.purge(gd);\n",
       "            observer.disconnect();\n",
       "        }}\n",
       "}});\n",
       "\n",
       "// Listen for the removal of the full notebook cells\n",
       "var notebookContainer = gd.closest('#notebook-container');\n",
       "if (notebookContainer) {{\n",
       "    x.observe(notebookContainer, {childList: true});\n",
       "}}\n",
       "\n",
       "// Listen for the clearing of the current output cell\n",
       "var outputEl = gd.closest('.output');\n",
       "if (outputEl) {{\n",
       "    x.observe(outputEl, {childList: true});\n",
       "}}\n",
       "\n",
       "                        })                };                });            </script>        </div>"
      ]
     },
     "metadata": {},
     "output_type": "display_data"
    }
   ],
   "source": [
    "import plotly.express as px\n",
    "\n",
    "# Count occurrences of each coupon type\n",
    "coupon_counts = df['coupon'].value_counts().reset_index()\n",
    "coupon_counts.columns = ['coupon', 'count']\n",
    "\n",
    "# Create bar plot\n",
    "fig = px.bar(coupon_counts, x='coupon', y='count', \n",
    "             title='Coupon Usage Count', \n",
    "             labels={'coupon': 'Coupon Type', 'count': 'Count'}, \n",
    "             text='count')\n",
    "\n",
    "# Show figure\n",
    "fig.show()\n",
    "\n"
   ]
  },
  {
   "cell_type": "markdown",
   "metadata": {
    "id": "Qw4lCyx2_qRI"
   },
   "source": [
    "6. Use a histogram to visualize the temperature column."
   ]
  },
  {
   "cell_type": "code",
   "execution_count": 320,
   "metadata": {},
   "outputs": [
    {
     "data": {
      "application/vnd.plotly.v1+json": {
       "config": {
        "plotlyServerURL": "https://plot.ly"
       },
       "data": [
        {
         "alignmentgroup": "True",
         "bingroup": "x",
         "hovertemplate": "Temperature=%{x}<br>count=%{y}<extra></extra>",
         "legendgroup": "",
         "marker": {
          "color": "rgb(102,194,165)",
          "opacity": 0.6,
          "pattern": {
           "shape": ""
          }
         },
         "name": "",
         "nbinsx": 20,
         "offsetgroup": "",
         "orientation": "v",
         "showlegend": false,
         "type": "histogram",
         "x": [
          55,
          80,
          80,
          80,
          80,
          80,
          55,
          80,
          80,
          80,
          80,
          55,
          55,
          55,
          55,
          80,
          55,
          55,
          80,
          80,
          55,
          55,
          55,
          80,
          80,
          80,
          80,
          80,
          80,
          80,
          80,
          80,
          55,
          55,
          55,
          55,
          55,
          80,
          55,
          55,
          80,
          80,
          55,
          55,
          55,
          80,
          80,
          80,
          80,
          80,
          80,
          80,
          80,
          80,
          55,
          55,
          55,
          55,
          55,
          80,
          55,
          55,
          80,
          80,
          55,
          55,
          55,
          80,
          80,
          80,
          80,
          80,
          55,
          80,
          80,
          80,
          80,
          55,
          55,
          55,
          55,
          80,
          55,
          55,
          80,
          80,
          55,
          55,
          55,
          80,
          80,
          80,
          80,
          80,
          80,
          80,
          80,
          80,
          55,
          55,
          55,
          55,
          55,
          80,
          55,
          55,
          80,
          80,
          55,
          55,
          55,
          80,
          80,
          80,
          80,
          80,
          80,
          80,
          80,
          80,
          55,
          55,
          55,
          55,
          55,
          80,
          55,
          55,
          80,
          80,
          55,
          55,
          55,
          80,
          80,
          80,
          80,
          80,
          55,
          80,
          80,
          80,
          80,
          55,
          55,
          55,
          55,
          80,
          55,
          55,
          80,
          80,
          55,
          55,
          55,
          80,
          80,
          80,
          80,
          80,
          80,
          80,
          80,
          80,
          55,
          55,
          55,
          55,
          55,
          80,
          55,
          55,
          80,
          80,
          55,
          55,
          55,
          80,
          80,
          80,
          80,
          80,
          80,
          80,
          80,
          80,
          55,
          55,
          80,
          55,
          80,
          80,
          55,
          55,
          80,
          80,
          80,
          80,
          80,
          80,
          80,
          80,
          80,
          55,
          55,
          55,
          55,
          55,
          80,
          55,
          55,
          80,
          80,
          55,
          55,
          55,
          80,
          80,
          80,
          80,
          80,
          55,
          80,
          80,
          80,
          80,
          80,
          80,
          55,
          55,
          80,
          55,
          55,
          80,
          80,
          55,
          55,
          55,
          80,
          80,
          80,
          80,
          80,
          80,
          80,
          80,
          80,
          55,
          55,
          55,
          55,
          55,
          80,
          55,
          55,
          80,
          80,
          55,
          55,
          55,
          80,
          80,
          80,
          80,
          80,
          55,
          80,
          80,
          80,
          80,
          55,
          55,
          55,
          55,
          80,
          55,
          55,
          80,
          80,
          55,
          55,
          55,
          80,
          80,
          80,
          80,
          80,
          55,
          80,
          80,
          80,
          55,
          55,
          55,
          80,
          55,
          55,
          80,
          80,
          55,
          55,
          55,
          80,
          80,
          80,
          80,
          80,
          55,
          80,
          80,
          80,
          80,
          55,
          55,
          55,
          55,
          80,
          55,
          55,
          80,
          80,
          55,
          55,
          55,
          80,
          80,
          80,
          80,
          80,
          55,
          80,
          80,
          80,
          80,
          55,
          55,
          80,
          55,
          55,
          80,
          80,
          55,
          55,
          55,
          80,
          80,
          80,
          80,
          80,
          55,
          80,
          80,
          80,
          80,
          55,
          55,
          55,
          55,
          80,
          55,
          55,
          80,
          80,
          55,
          55,
          55,
          80,
          80,
          80,
          80,
          80,
          55,
          80,
          80,
          80,
          80,
          55,
          55,
          55,
          55,
          80,
          55,
          55,
          80,
          80,
          55,
          55,
          55,
          80,
          80,
          80,
          80,
          80,
          80,
          80,
          80,
          80,
          55,
          55,
          55,
          55,
          55,
          80,
          55,
          55,
          80,
          80,
          55,
          55,
          55,
          80,
          80,
          80,
          80,
          80,
          55,
          80,
          80,
          80,
          80,
          80,
          80,
          55,
          55,
          80,
          55,
          55,
          80,
          80,
          55,
          55,
          80,
          80,
          80,
          80,
          80,
          80,
          80,
          80,
          80,
          55,
          55,
          55,
          55,
          55,
          80,
          55,
          55,
          80,
          80,
          55,
          55,
          55,
          80,
          80,
          80,
          80,
          80,
          80,
          80,
          80,
          80,
          55,
          55,
          55,
          55,
          55,
          80,
          55,
          80,
          80,
          55,
          55,
          55,
          80,
          80,
          80,
          80,
          80,
          80,
          80,
          80,
          80,
          55,
          55,
          55,
          55,
          55,
          80,
          55,
          55,
          80,
          80,
          55,
          55,
          55,
          80,
          80,
          80,
          80,
          80,
          55,
          80,
          80,
          80,
          80,
          80,
          80,
          55,
          55,
          80,
          55,
          55,
          80,
          80,
          55,
          55,
          80,
          80,
          80,
          80,
          55,
          55,
          55,
          80,
          80,
          80,
          80,
          80,
          55,
          80,
          80,
          80,
          80,
          55,
          55,
          55,
          55,
          80,
          55,
          55,
          80,
          80,
          55,
          55,
          55,
          80,
          80,
          80,
          80,
          80,
          80,
          80,
          80,
          80,
          55,
          55,
          55,
          55,
          55,
          80,
          55,
          55,
          80,
          80,
          55,
          55,
          55,
          80,
          80,
          80,
          80,
          80,
          80,
          80,
          80,
          80,
          55,
          55,
          55,
          55,
          55,
          80,
          55,
          55,
          80,
          80,
          55,
          55,
          55,
          80,
          80,
          80,
          80,
          80,
          80,
          80,
          80,
          80,
          55,
          55,
          55,
          55,
          55,
          80,
          55,
          55,
          80,
          80,
          55,
          55,
          55,
          80,
          80,
          80,
          80,
          80,
          55,
          80,
          80,
          80,
          80,
          55,
          55,
          55,
          55,
          80,
          55,
          55,
          80,
          80,
          55,
          55,
          55,
          80,
          80,
          80,
          80,
          80,
          80,
          80,
          80,
          80,
          55,
          55,
          55,
          55,
          55,
          80,
          55,
          55,
          80,
          80,
          55,
          55,
          55,
          80,
          80,
          80,
          80,
          80,
          55,
          80,
          80,
          80,
          80,
          80,
          80,
          55,
          55,
          80,
          55,
          55,
          80,
          80,
          55,
          55,
          55,
          80,
          80,
          80,
          80,
          80,
          55,
          80,
          80,
          80,
          80,
          55,
          55,
          55,
          55,
          80,
          55,
          55,
          80,
          80,
          55,
          55,
          55,
          80,
          80,
          80,
          80,
          80,
          55,
          80,
          80,
          80,
          80,
          80,
          80,
          55,
          55,
          80,
          55,
          55,
          80,
          80,
          55,
          55,
          55,
          80,
          80,
          80,
          80,
          80,
          80,
          80,
          80,
          80,
          55,
          55,
          55,
          55,
          55,
          80,
          55,
          55,
          80,
          80,
          55,
          55,
          55,
          80,
          80,
          80,
          80,
          80,
          55,
          80,
          80,
          80,
          80,
          80,
          80,
          55,
          55,
          80,
          55,
          55,
          80,
          80,
          55,
          55,
          55,
          80,
          80,
          80,
          80,
          80,
          80,
          80,
          80,
          80,
          55,
          55,
          55,
          55,
          55,
          80,
          55,
          55,
          80,
          80,
          55,
          55,
          55,
          80,
          80,
          80,
          80,
          80,
          55,
          80,
          80,
          80,
          80,
          55,
          55,
          55,
          55,
          80,
          55,
          55,
          80,
          80,
          55,
          55,
          55,
          80,
          80,
          80,
          80,
          80,
          55,
          80,
          80,
          80,
          80,
          55,
          55,
          55,
          55,
          55,
          55,
          80,
          80,
          55,
          55,
          55,
          80,
          80,
          80,
          80,
          80,
          55,
          80,
          80,
          80,
          80,
          55,
          55,
          55,
          55,
          80,
          55,
          55,
          80,
          80,
          55,
          55,
          80,
          80,
          80,
          80,
          80,
          80,
          55,
          80,
          80,
          80,
          80,
          80,
          55,
          80,
          80,
          80,
          80,
          80,
          80,
          55,
          55,
          80,
          55,
          55,
          80,
          80,
          55,
          55,
          55,
          80,
          80,
          80,
          80,
          80,
          80,
          80,
          80,
          80,
          55,
          55,
          55,
          55,
          55,
          80,
          55,
          55,
          80,
          80,
          55,
          55,
          55,
          80,
          80,
          80,
          80,
          80,
          55,
          80,
          80,
          80,
          80,
          55,
          55,
          55,
          55,
          80,
          55,
          55,
          80,
          80,
          55,
          55,
          55,
          80,
          80,
          80,
          80,
          80,
          80,
          80,
          80,
          80,
          55,
          55,
          55,
          55,
          55,
          80,
          55,
          55,
          80,
          80,
          55,
          55,
          55,
          80,
          80,
          80,
          80,
          80,
          55,
          80,
          80,
          80,
          80,
          80,
          80,
          55,
          55,
          80,
          55,
          55,
          80,
          80,
          55,
          55,
          55,
          80,
          80,
          80,
          80,
          80,
          55,
          80,
          80,
          80,
          80,
          55,
          55,
          55,
          55,
          80,
          55,
          55,
          80,
          80,
          55,
          55,
          55,
          80,
          80,
          80,
          80,
          80,
          55,
          80,
          80,
          80,
          80,
          55,
          55,
          55,
          55,
          80,
          55,
          55,
          80,
          80,
          55,
          55,
          55,
          80,
          80,
          80,
          80,
          80,
          80,
          80,
          80,
          80,
          55,
          55,
          55,
          55,
          55,
          80,
          55,
          55,
          80,
          80,
          55,
          55,
          55,
          80,
          80,
          80,
          80,
          80,
          55,
          80,
          80,
          80,
          80,
          80,
          80,
          55,
          55,
          80,
          55,
          55,
          80,
          80,
          55,
          55,
          55,
          80,
          80,
          80,
          80,
          80,
          55,
          80,
          80,
          80,
          80,
          80,
          80,
          55,
          55,
          80,
          55,
          55,
          80,
          80,
          55,
          55,
          55,
          80,
          80,
          80,
          80,
          80,
          55,
          80,
          80,
          80,
          80,
          55,
          55,
          55,
          55,
          80,
          55,
          55,
          80,
          80,
          55,
          55,
          55,
          80,
          80,
          80,
          80,
          80,
          55,
          80,
          80,
          80,
          80,
          55,
          55,
          55,
          55,
          80,
          55,
          55,
          80,
          80,
          55,
          55,
          55,
          80,
          80,
          80,
          80,
          80,
          55,
          80,
          80,
          80,
          80,
          55,
          55,
          55,
          55,
          80,
          55,
          55,
          80,
          80,
          55,
          55,
          55,
          80,
          80,
          80,
          80,
          80,
          55,
          80,
          80,
          80,
          80,
          80,
          80,
          55,
          55,
          80,
          55,
          55,
          80,
          80,
          55,
          55,
          80,
          80,
          80,
          80,
          80,
          80,
          55,
          80,
          80,
          80,
          80,
          80,
          55,
          80,
          80,
          80,
          80,
          55,
          55,
          55,
          55,
          80,
          55,
          55,
          80,
          80,
          55,
          55,
          55,
          80,
          80,
          80,
          80,
          80,
          55,
          80,
          80,
          80,
          80,
          55,
          55,
          55,
          80,
          55,
          55,
          80,
          80,
          55,
          55,
          55,
          80,
          80,
          80,
          80,
          80,
          80,
          80,
          80,
          80,
          55,
          55,
          55,
          55,
          55,
          80,
          55,
          55,
          80,
          80,
          55,
          55,
          55,
          80,
          80,
          80,
          80,
          80,
          80,
          80,
          80,
          80,
          55,
          55,
          55,
          55,
          55,
          80,
          55,
          55,
          80,
          80,
          55,
          55,
          55,
          80,
          80,
          80,
          80,
          80,
          80,
          80,
          80,
          80,
          55,
          55,
          55,
          55,
          55,
          80,
          55,
          55,
          80,
          80,
          55,
          55,
          55,
          80,
          80,
          80,
          80,
          80,
          55,
          80,
          80,
          80,
          80,
          80,
          80,
          55,
          55,
          80,
          55,
          55,
          80,
          80,
          55,
          55,
          55,
          80,
          80,
          80,
          80,
          80,
          55,
          80,
          80,
          80,
          80,
          80,
          80,
          55,
          55,
          80,
          55,
          55,
          80,
          80,
          55,
          55,
          55,
          80,
          80,
          80,
          80,
          80,
          80,
          80,
          80,
          80,
          55,
          55,
          55,
          55,
          55,
          80,
          55,
          55,
          80,
          80,
          55,
          55,
          55,
          80,
          80,
          80,
          80,
          80,
          55,
          80,
          80,
          80,
          80,
          80,
          80,
          55,
          55,
          80,
          55,
          55,
          80,
          80,
          55,
          55,
          55,
          80,
          80,
          80,
          80,
          80,
          55,
          80,
          80,
          80,
          80,
          80,
          80,
          55,
          55,
          80,
          55,
          55,
          80,
          80,
          55,
          55,
          55,
          80,
          80,
          80,
          80,
          80,
          80,
          80,
          80,
          80,
          55,
          55,
          55,
          55,
          55,
          80,
          55,
          55,
          80,
          80,
          55,
          55,
          55,
          80,
          80,
          80,
          80,
          80,
          55,
          80,
          80,
          80,
          80,
          55,
          55,
          55,
          55,
          80,
          55,
          55,
          80,
          80,
          55,
          55,
          55,
          80,
          80,
          80,
          80,
          80,
          80,
          80,
          80,
          80,
          55,
          55,
          55,
          55,
          55,
          80,
          55,
          55,
          80,
          80,
          55,
          55,
          55,
          80,
          80,
          80,
          80,
          80,
          55,
          80,
          80,
          80,
          80,
          55,
          55,
          55,
          55,
          80,
          55,
          55,
          80,
          80,
          55,
          55,
          55,
          80,
          80,
          80,
          80,
          80,
          55,
          80,
          80,
          80,
          80,
          80,
          80,
          55,
          55,
          80,
          55,
          55,
          80,
          80,
          55,
          55,
          55,
          80,
          80,
          80,
          80,
          80,
          55,
          80,
          80,
          80,
          80,
          80,
          80,
          55,
          55,
          80,
          55,
          55,
          80,
          80,
          55,
          55,
          55,
          80,
          80,
          80,
          80,
          80,
          55,
          80,
          80,
          80,
          80,
          55,
          55,
          55,
          55,
          80,
          55,
          55,
          80,
          80,
          55,
          55,
          55,
          80,
          80,
          80,
          80,
          80,
          80,
          80,
          80,
          80,
          55,
          55,
          55,
          55,
          55,
          80,
          55,
          55,
          80,
          80,
          55,
          55,
          55,
          80,
          80,
          80,
          80,
          80,
          80,
          80,
          80,
          80,
          55,
          55,
          55,
          55,
          55,
          80,
          55,
          55,
          80,
          80,
          55,
          55,
          55,
          80,
          80,
          80,
          80,
          80,
          55,
          80,
          80,
          80,
          80,
          55,
          55,
          55,
          55,
          80,
          55,
          55,
          80,
          80,
          55,
          55,
          55,
          80,
          80,
          80,
          80,
          80,
          80,
          80,
          80,
          80,
          55,
          55,
          55,
          55,
          55,
          80,
          55,
          55,
          80,
          80,
          55,
          55,
          55,
          80,
          80,
          80,
          80,
          80,
          55,
          80,
          80,
          80,
          80,
          55,
          55,
          55,
          55,
          80,
          55,
          55,
          80,
          80,
          55,
          55,
          55,
          80,
          80,
          80,
          80,
          80,
          55,
          80,
          80,
          80,
          80,
          55,
          55,
          55,
          55,
          80,
          55,
          55,
          80,
          80,
          55,
          55,
          55,
          80,
          80,
          80,
          80,
          80,
          80,
          80,
          80,
          80,
          55,
          55,
          55,
          55,
          55,
          80,
          55,
          55,
          80,
          80,
          55,
          55,
          55,
          80,
          80,
          80,
          80,
          80,
          55,
          80,
          80,
          80,
          80,
          55,
          55,
          55,
          55,
          80,
          55,
          55,
          80,
          80,
          55,
          55,
          55,
          80,
          80,
          80,
          80,
          80,
          55,
          80,
          80,
          80,
          80,
          80,
          80,
          55,
          55,
          80,
          55,
          55,
          80,
          80,
          55,
          55,
          55,
          80,
          80,
          80,
          80,
          80,
          80,
          80,
          80,
          80,
          55,
          55,
          55,
          55,
          55,
          80,
          55,
          55,
          80,
          80,
          55,
          55,
          55,
          80,
          80,
          80,
          80,
          80,
          55,
          80,
          80,
          80,
          80,
          80,
          80,
          55,
          55,
          80,
          55,
          55,
          80,
          80,
          55,
          55,
          55,
          80,
          80,
          80,
          80,
          80,
          55,
          80,
          80,
          80,
          80,
          55,
          55,
          55,
          55,
          80,
          55,
          55,
          80,
          80,
          55,
          55,
          55,
          80,
          80,
          80,
          80,
          80,
          55,
          80,
          80,
          80,
          80,
          55,
          55,
          55,
          55,
          80,
          55,
          55,
          80,
          80,
          55,
          55,
          55,
          80,
          80,
          80,
          80,
          80,
          80,
          80,
          80,
          80,
          55,
          55,
          55,
          55,
          55,
          80,
          55,
          55,
          80,
          80,
          55,
          55,
          55,
          80,
          80,
          80,
          80,
          80,
          80,
          80,
          80,
          80,
          55,
          55,
          55,
          55,
          55,
          80,
          55,
          55,
          80,
          80,
          55,
          55,
          55,
          80,
          80,
          80,
          80,
          80,
          80,
          80,
          80,
          80,
          55,
          55,
          55,
          55,
          55,
          80,
          55,
          55,
          80,
          80,
          55,
          55,
          55,
          80,
          80,
          80,
          80,
          80,
          80,
          80,
          80,
          80,
          55,
          55,
          55,
          55,
          55,
          80,
          55,
          55,
          80,
          80,
          55,
          55,
          55,
          80,
          80,
          80,
          80,
          80,
          80,
          80,
          80,
          80,
          55,
          55,
          55,
          55,
          55,
          80,
          55,
          55,
          80,
          80,
          55,
          55,
          55,
          80,
          80,
          80,
          80,
          80,
          55,
          80,
          80,
          80,
          80,
          55,
          55,
          55,
          55,
          80,
          55,
          55,
          80,
          80,
          55,
          55,
          55,
          80,
          80,
          80,
          80,
          80,
          55,
          80,
          80,
          80,
          80,
          55,
          55,
          55,
          55,
          80,
          55,
          55,
          80,
          80,
          55,
          55,
          55,
          80,
          80,
          80,
          80,
          80,
          55,
          80,
          80,
          80,
          80,
          80,
          80,
          55,
          55,
          80,
          55,
          55,
          80,
          80,
          55,
          55,
          55,
          80,
          80,
          80,
          80,
          80,
          55,
          80,
          80,
          80,
          80,
          80,
          80,
          55,
          55,
          80,
          55,
          55,
          80,
          80,
          55,
          55,
          55,
          80,
          80,
          80,
          80,
          80,
          55,
          80,
          80,
          80,
          80,
          55,
          55,
          55,
          55,
          80,
          55,
          55,
          80,
          80,
          55,
          55,
          55,
          80,
          80,
          80,
          80,
          80,
          55,
          80,
          80,
          80,
          80,
          55,
          55,
          55,
          55,
          80,
          55,
          55,
          80,
          80,
          55,
          55,
          55,
          80,
          80,
          80,
          80,
          80,
          55,
          80,
          80,
          80,
          80,
          55,
          55,
          55,
          55,
          80,
          55,
          55,
          80,
          80,
          55,
          55,
          55,
          80,
          80,
          80,
          80,
          80,
          80,
          80,
          80,
          80,
          55,
          55,
          55,
          55,
          55,
          80,
          55,
          55,
          80,
          80,
          55,
          55,
          55,
          80,
          80,
          80,
          80,
          80,
          80,
          80,
          80,
          80,
          55,
          55,
          55,
          55,
          55,
          80,
          55,
          55,
          80,
          80,
          55,
          55,
          55,
          80,
          80,
          80,
          80,
          80,
          55,
          80,
          80,
          80,
          80,
          55,
          55,
          55,
          55,
          80,
          55,
          55,
          80,
          80,
          55,
          55,
          55,
          80,
          80,
          80,
          80,
          80,
          80,
          80,
          80,
          80,
          55,
          55,
          55,
          55,
          55,
          80,
          55,
          55,
          80,
          80,
          55,
          55,
          55,
          80,
          80,
          80,
          80,
          80,
          80,
          80,
          80,
          80,
          55,
          55,
          55,
          55,
          55,
          80,
          55,
          55,
          80,
          80,
          55,
          55,
          55,
          80,
          80,
          80,
          80,
          80,
          55,
          80,
          80,
          80,
          80,
          80,
          80,
          55,
          55,
          80,
          55,
          55,
          80,
          80,
          55,
          55,
          55,
          80,
          80,
          80,
          80,
          80,
          55,
          80,
          80,
          80,
          80,
          80,
          80,
          55,
          55,
          80,
          55,
          55,
          80,
          80,
          55,
          55,
          55,
          80,
          80,
          80,
          80,
          80,
          80,
          80,
          80,
          80,
          55,
          55,
          55,
          55,
          55,
          80,
          55,
          55,
          80,
          80,
          55,
          55,
          55,
          80,
          80,
          80,
          80,
          80,
          80,
          80,
          80,
          80,
          55,
          55,
          55,
          55,
          55,
          80,
          55,
          55,
          80,
          80,
          55,
          55,
          55,
          80,
          80,
          80,
          80,
          80,
          55,
          80,
          80,
          80,
          80,
          80,
          80,
          55,
          55,
          80,
          55,
          55,
          80,
          80,
          55,
          55,
          55,
          80,
          80,
          80,
          80,
          80,
          80,
          80,
          80,
          55,
          55,
          55,
          55,
          55,
          80,
          55,
          55,
          80,
          80,
          55,
          55,
          55,
          80,
          80,
          80,
          80,
          80,
          55,
          80,
          80,
          80,
          80,
          55,
          55,
          55,
          55,
          80,
          55,
          55,
          80,
          80,
          55,
          55,
          55,
          80,
          80,
          80,
          80,
          80,
          80,
          80,
          80,
          80,
          55,
          55,
          55,
          55,
          55,
          80,
          55,
          55,
          80,
          80,
          55,
          55,
          80,
          80,
          80,
          80,
          55,
          55,
          55,
          80,
          80,
          80,
          80,
          80,
          55,
          80,
          80,
          80,
          80,
          55,
          55,
          55,
          55,
          80,
          55,
          55,
          80,
          80,
          55,
          55,
          55,
          80,
          80,
          80,
          80,
          80,
          80,
          80,
          80,
          80,
          55,
          55,
          55,
          55,
          55,
          80,
          55,
          55,
          80,
          80,
          55,
          55,
          55,
          80,
          80,
          80,
          80,
          80,
          55,
          80,
          80,
          80,
          80,
          80,
          80,
          55,
          55,
          80,
          55,
          55,
          80,
          80,
          55,
          55,
          55,
          80,
          80,
          80,
          80,
          80,
          55,
          80,
          80,
          80,
          80,
          80,
          80,
          55,
          55,
          80,
          55,
          55,
          80,
          80,
          55,
          55,
          55,
          80,
          80,
          80,
          80,
          80,
          80,
          80,
          80,
          55,
          55,
          55,
          55,
          55,
          80,
          55,
          80,
          80,
          55,
          55,
          55,
          80,
          80,
          80,
          80,
          80,
          80,
          80,
          80,
          80,
          55,
          55,
          55,
          55,
          55,
          80,
          55,
          55,
          80,
          80,
          55,
          55,
          55,
          80,
          80,
          80,
          80,
          80,
          55,
          80,
          80,
          80,
          80,
          55,
          55,
          55,
          55,
          80,
          55,
          55,
          80,
          80,
          55,
          55,
          55,
          80,
          80,
          80,
          80,
          80,
          80,
          80,
          80,
          80,
          55,
          55,
          55,
          55,
          55,
          80,
          55,
          55,
          80,
          80,
          55,
          55,
          55,
          80,
          80,
          80,
          80,
          80,
          55,
          80,
          80,
          80,
          80,
          55,
          55,
          55,
          55,
          80,
          55,
          55,
          80,
          80,
          55,
          55,
          55,
          80,
          80,
          80,
          80,
          80,
          80,
          80,
          80,
          80,
          55,
          55,
          55,
          55,
          55,
          80,
          55,
          55,
          80,
          80,
          55,
          55,
          55,
          80,
          80,
          80,
          80,
          80,
          55,
          80,
          80,
          80,
          80,
          55,
          55,
          55,
          55,
          80,
          55,
          55,
          80,
          80,
          55,
          55,
          80,
          80,
          80,
          80,
          80,
          55,
          80,
          80,
          80,
          80,
          55,
          55,
          55,
          55,
          80,
          55,
          55,
          80,
          80,
          55,
          55,
          55,
          80,
          80,
          80,
          80,
          80,
          55,
          80,
          80,
          80,
          55,
          55,
          55,
          55,
          80,
          55,
          55,
          80,
          80,
          55,
          55,
          55,
          80,
          80,
          80,
          80,
          80,
          55,
          80,
          80,
          80,
          80,
          80,
          80,
          55,
          55,
          80,
          55,
          55,
          80,
          80,
          55,
          55,
          55,
          80,
          80,
          80,
          80,
          80,
          55,
          80,
          80,
          80,
          80,
          55,
          55,
          55,
          55,
          80,
          55,
          55,
          80,
          80,
          55,
          55,
          55,
          80,
          80,
          80,
          80,
          80,
          80,
          80,
          80,
          80,
          55,
          55,
          55,
          55,
          55,
          80,
          55,
          55,
          80,
          80,
          55,
          55,
          55,
          80,
          80,
          80,
          80,
          80,
          80,
          80,
          80,
          80,
          55,
          55,
          55,
          55,
          55,
          80,
          55,
          55,
          80,
          80,
          55,
          55,
          55,
          80,
          80,
          80,
          80,
          80,
          55,
          80,
          80,
          80,
          80,
          55,
          55,
          55,
          55,
          80,
          55,
          55,
          80,
          80,
          55,
          55,
          55,
          80,
          80,
          80,
          80,
          80,
          80,
          80,
          80,
          80,
          55,
          55,
          55,
          55,
          55,
          80,
          55,
          55,
          80,
          80,
          55,
          55,
          55,
          80,
          80,
          80,
          80,
          80,
          80,
          80,
          80,
          80,
          55,
          55,
          55,
          55,
          55,
          80,
          55,
          55,
          80,
          80,
          55,
          55,
          55,
          80,
          80,
          80,
          80,
          80,
          55,
          80,
          80,
          80,
          80,
          55,
          55,
          55,
          55,
          80,
          55,
          55,
          80,
          80,
          55,
          55,
          55,
          80,
          80,
          80,
          80,
          80,
          80,
          80,
          80,
          80,
          55,
          55,
          55,
          55,
          55,
          80,
          55,
          55,
          80,
          80,
          55,
          55,
          80,
          80,
          80,
          80,
          55,
          55,
          55,
          80,
          80,
          80,
          80,
          80,
          55,
          80,
          80,
          80,
          80,
          55,
          55,
          55,
          55,
          80,
          55,
          55,
          80,
          80,
          55,
          55,
          55,
          80,
          80,
          80,
          80,
          80,
          80,
          80,
          80,
          80,
          55,
          55,
          55,
          55,
          55,
          80,
          55,
          55,
          80,
          80,
          55,
          55,
          55,
          80,
          80,
          80,
          80,
          80,
          55,
          80,
          80,
          80,
          80,
          55,
          55,
          55,
          55,
          80,
          55,
          55,
          80,
          80,
          55,
          55,
          55,
          80,
          80,
          80,
          80,
          80,
          55,
          80,
          80,
          80,
          80,
          55,
          55,
          55,
          55,
          80,
          55,
          55,
          80,
          80,
          55,
          55,
          55,
          80,
          80,
          80,
          80,
          80,
          55,
          80,
          80,
          80,
          80,
          55,
          55,
          55,
          55,
          80,
          55,
          55,
          80,
          80,
          55,
          55,
          55,
          80,
          80,
          80,
          80,
          80,
          80,
          80,
          80,
          80,
          55,
          55,
          55,
          55,
          55,
          80,
          55,
          55,
          80,
          80,
          55,
          55,
          55,
          80,
          80,
          80,
          80,
          80,
          55,
          80,
          80,
          80,
          80,
          55,
          55,
          55,
          55,
          80,
          55,
          55,
          80,
          80,
          55,
          55,
          55,
          80,
          80,
          80,
          80,
          80,
          80,
          80,
          80,
          80,
          55,
          55,
          55,
          55,
          55,
          80,
          55,
          55,
          80,
          80,
          55,
          55,
          55,
          80,
          80,
          80,
          80,
          80,
          55,
          80,
          80,
          80,
          80,
          55,
          55,
          55,
          55,
          80,
          55,
          55,
          80,
          80,
          55,
          55,
          55,
          80,
          80,
          80,
          80,
          80,
          80,
          80,
          80,
          80,
          55,
          55,
          55,
          55,
          55,
          80,
          55,
          55,
          80,
          80,
          55,
          55,
          55,
          80,
          80,
          80,
          80,
          80,
          55,
          80,
          80,
          80,
          80,
          55,
          55,
          55,
          55,
          80,
          55,
          55,
          80,
          80,
          55,
          55,
          55,
          80,
          80,
          80,
          80,
          80,
          80,
          80,
          80,
          80,
          55,
          55,
          80,
          55,
          55,
          55,
          80,
          55,
          55,
          80,
          80,
          55,
          55,
          80,
          80,
          80,
          80,
          55,
          55,
          55,
          80,
          80,
          80,
          80,
          80,
          55,
          80,
          80,
          80,
          80,
          55,
          55,
          55,
          55,
          80,
          55,
          80,
          80,
          55,
          55,
          55,
          80,
          80,
          80,
          80,
          80,
          55,
          80,
          80,
          80,
          80,
          80,
          80,
          55,
          55,
          80,
          55,
          55,
          80,
          80,
          55,
          55,
          55,
          80,
          80,
          80,
          80,
          55,
          80,
          80,
          80,
          80,
          80,
          80,
          55,
          55,
          80,
          55,
          80,
          80,
          55,
          55,
          55,
          80,
          80,
          80,
          80,
          80,
          55,
          80,
          80,
          80,
          80,
          55,
          55,
          55,
          55,
          80,
          55,
          55,
          80,
          80,
          55,
          55,
          55,
          80,
          80,
          80,
          80,
          80,
          80,
          80,
          80,
          80,
          55,
          55,
          55,
          55,
          55,
          80,
          55,
          55,
          80,
          80,
          55,
          55,
          55,
          80,
          80,
          80,
          80,
          80,
          55,
          80,
          80,
          80,
          80,
          55,
          55,
          55,
          55,
          80,
          55,
          55,
          80,
          80,
          55,
          55,
          55,
          80,
          80,
          80,
          80,
          80,
          55,
          80,
          80,
          80,
          80,
          80,
          80,
          55,
          55,
          80,
          55,
          55,
          80,
          80,
          55,
          55,
          55,
          80,
          80,
          80,
          80,
          80,
          80,
          80,
          80,
          80,
          55,
          55,
          55,
          55,
          55,
          80,
          55,
          55,
          80,
          80,
          55,
          55,
          55,
          80,
          80,
          80,
          80,
          80,
          55,
          55,
          55,
          80,
          55,
          55,
          80,
          80,
          55,
          55,
          55,
          80,
          80,
          80,
          80,
          80,
          55,
          80,
          80,
          80,
          80,
          55,
          55,
          55,
          55,
          80,
          55,
          55,
          80,
          80,
          55,
          55,
          80,
          80,
          80,
          80,
          55,
          55,
          55,
          80,
          80,
          80,
          80,
          80,
          80,
          80,
          80,
          80,
          55,
          55,
          55,
          55,
          55,
          80,
          55,
          55,
          80,
          80,
          55,
          55,
          55,
          80,
          80,
          80,
          80,
          80,
          55,
          80,
          80,
          80,
          80,
          80,
          80,
          55,
          55,
          80,
          55,
          55,
          80,
          80,
          55,
          55,
          55,
          80,
          80,
          80,
          80,
          80,
          55,
          80,
          80,
          80,
          80,
          80,
          80,
          55,
          55,
          80,
          55,
          55,
          80,
          80,
          55,
          55,
          55,
          80,
          80,
          80,
          80,
          80,
          80,
          80,
          80,
          80,
          55,
          55,
          55,
          55,
          55,
          80,
          55,
          55,
          80,
          80,
          55,
          55,
          55,
          80,
          80,
          80,
          80,
          80,
          80,
          80,
          80,
          80,
          55,
          55,
          55,
          55,
          55,
          80,
          55,
          55,
          80,
          80,
          55,
          55,
          55,
          80,
          80,
          80,
          80,
          80,
          55,
          80,
          80,
          80,
          80,
          55,
          55,
          55,
          55,
          80,
          55,
          55,
          80,
          80,
          55,
          55,
          55,
          80,
          80,
          80,
          80,
          80,
          55,
          80,
          80,
          80,
          80,
          55,
          55,
          55,
          55,
          80,
          55,
          55,
          80,
          80,
          55,
          55,
          55,
          80,
          80,
          80,
          80,
          80,
          55,
          80,
          80,
          80,
          80,
          80,
          80,
          55,
          55,
          80,
          55,
          55,
          80,
          80,
          55,
          55,
          55,
          80,
          80,
          80,
          80,
          80,
          80,
          80,
          80,
          80,
          55,
          55,
          55,
          55,
          55,
          80,
          55,
          55,
          80,
          80,
          55,
          55,
          55,
          80,
          80,
          80,
          80,
          80,
          80,
          80,
          80,
          80,
          55,
          55,
          55,
          55,
          55,
          80,
          55,
          55,
          80,
          80,
          55,
          55,
          55,
          80,
          80,
          80,
          80,
          80,
          55,
          80,
          80,
          80,
          80,
          80,
          80,
          55,
          55,
          80,
          55,
          55,
          80,
          80,
          55,
          55,
          55,
          80,
          80,
          80,
          80,
          80,
          80,
          80,
          80,
          80,
          55,
          55,
          55,
          55,
          55,
          80,
          55,
          55,
          80,
          80,
          55,
          55,
          55,
          80,
          80,
          80,
          80,
          80,
          80,
          80,
          80,
          80,
          55,
          55,
          55,
          55,
          55,
          80,
          55,
          55,
          80,
          80,
          55,
          55,
          55,
          80,
          80,
          80,
          80,
          80,
          55,
          80,
          80,
          80,
          80,
          55,
          55,
          55,
          55,
          80,
          55,
          55,
          80,
          80,
          55,
          55,
          55,
          80,
          80,
          80,
          80,
          80,
          55,
          80,
          80,
          80,
          80,
          80,
          80,
          55,
          55,
          80,
          55,
          55,
          80,
          80,
          55,
          55,
          55,
          80,
          80,
          80,
          80,
          80,
          55,
          80,
          80,
          80,
          80,
          80,
          80,
          55,
          55,
          80,
          55,
          55,
          80,
          80,
          55,
          55,
          55,
          80,
          80,
          80,
          80,
          80,
          80,
          80,
          80,
          80,
          55,
          55,
          55,
          55,
          55,
          80,
          55,
          55,
          80,
          80,
          55,
          55,
          55,
          80,
          80,
          80,
          80,
          80,
          55,
          80,
          80,
          80,
          80,
          80,
          80,
          55,
          55,
          80,
          55,
          55,
          80,
          80,
          55,
          55,
          55,
          80,
          80,
          80,
          80,
          80,
          55,
          80,
          80,
          80,
          80,
          55,
          55,
          55,
          55,
          80,
          55,
          55,
          80,
          80,
          55,
          55,
          55,
          80,
          80,
          80,
          80,
          80,
          80,
          80,
          80,
          80,
          55,
          55,
          55,
          55,
          55,
          80,
          55,
          55,
          80,
          80,
          55,
          55,
          55,
          80,
          80,
          80,
          80,
          80,
          55,
          80,
          80,
          80,
          80,
          80,
          80,
          55,
          55,
          80,
          55,
          55,
          80,
          80,
          55,
          55,
          55,
          80,
          80,
          80,
          80,
          80,
          55,
          80,
          80,
          80,
          80,
          55,
          55,
          55,
          55,
          80,
          55,
          55,
          80,
          80,
          55,
          55,
          55,
          80,
          80,
          80,
          80,
          80,
          80,
          80,
          80,
          80,
          55,
          55,
          55,
          55,
          55,
          80,
          55,
          55,
          80,
          80,
          55,
          55,
          55,
          80,
          80,
          80,
          80,
          80,
          55,
          80,
          80,
          80,
          80,
          80,
          80,
          55,
          55,
          80,
          55,
          55,
          80,
          80,
          55,
          55,
          55,
          80,
          80,
          80,
          80,
          80,
          80,
          80,
          80,
          80,
          55,
          55,
          55,
          55,
          55,
          80,
          55,
          55,
          80,
          80,
          55,
          55,
          55,
          80,
          80,
          80,
          80,
          80,
          80,
          80,
          80,
          80,
          55,
          55,
          55,
          55,
          55,
          80,
          55,
          55,
          80,
          80,
          55,
          55,
          55,
          80,
          80,
          80,
          80,
          80,
          55,
          80,
          80,
          80,
          80,
          55,
          55,
          55,
          55,
          80,
          55,
          55,
          80,
          80,
          55,
          55,
          55,
          80,
          80,
          80,
          80,
          80,
          80,
          80,
          80,
          80,
          55,
          55,
          55,
          55,
          55,
          80,
          55,
          55,
          80,
          80,
          55,
          55,
          55,
          80,
          80,
          80,
          80,
          80,
          80,
          80,
          80,
          80,
          55,
          55,
          55,
          55,
          55,
          80,
          55,
          55,
          80,
          80,
          55,
          55,
          80,
          80,
          80,
          80,
          55,
          80,
          80,
          80,
          80,
          55,
          55,
          80,
          80,
          80,
          80,
          80,
          80,
          80,
          80,
          80,
          80,
          55,
          80,
          80,
          80,
          80,
          55,
          80,
          80,
          80,
          80,
          80,
          80,
          80,
          80,
          80,
          80,
          80,
          80,
          80,
          80,
          80,
          80,
          55,
          80,
          80,
          80,
          80,
          55,
          80,
          80,
          80,
          80,
          80,
          80,
          80,
          80,
          80,
          80,
          80,
          80,
          80,
          80,
          80,
          80,
          55,
          80,
          80,
          80,
          80,
          55,
          80,
          80,
          80,
          80,
          55,
          55,
          80,
          80,
          80,
          80,
          80,
          80,
          80,
          80,
          80,
          80,
          55,
          80,
          80,
          80,
          80,
          55,
          80,
          80,
          80,
          80,
          80,
          80,
          80,
          80,
          80,
          80,
          80,
          80,
          80,
          80,
          80,
          80,
          55,
          80,
          80,
          80,
          80,
          55,
          80,
          80,
          80,
          80,
          55,
          55,
          80,
          80,
          80,
          80,
          80,
          80,
          80,
          80,
          80,
          80,
          55,
          80,
          80,
          80,
          55,
          80,
          80,
          80,
          80,
          55,
          55,
          80,
          80,
          80,
          80,
          80,
          80,
          80,
          80,
          80,
          80,
          55,
          80,
          80,
          80,
          80,
          55,
          80,
          80,
          80,
          80,
          80,
          80,
          80,
          80,
          80,
          80,
          80,
          80,
          80,
          80,
          80,
          80,
          55,
          80,
          80,
          80,
          80,
          55,
          80,
          55,
          80,
          80,
          55,
          80,
          80,
          80,
          80,
          80,
          80,
          80,
          80,
          80,
          80,
          80,
          55,
          80,
          80,
          80,
          80,
          55,
          80,
          80,
          80,
          80,
          80,
          80,
          80,
          80,
          80,
          80,
          80,
          80,
          80,
          80,
          80,
          80,
          55,
          80,
          80,
          80,
          80,
          55,
          80,
          55,
          80,
          80,
          55,
          80,
          80,
          80,
          80,
          80,
          80,
          80,
          80,
          80,
          80,
          80,
          55,
          80,
          80,
          80,
          80,
          55,
          80,
          55,
          80,
          80,
          55,
          80,
          80,
          80,
          80,
          80,
          80,
          80,
          80,
          80,
          80,
          80,
          55,
          80,
          80,
          80,
          80,
          55,
          80,
          55,
          80,
          80,
          55,
          80,
          80,
          80,
          80,
          80,
          80,
          80,
          80,
          80,
          80,
          80,
          55,
          80,
          80,
          80,
          80,
          55,
          80,
          80,
          80,
          80,
          80,
          80,
          80,
          80,
          80,
          80,
          80,
          80,
          80,
          80,
          80,
          80,
          55,
          80,
          80,
          80,
          80,
          55,
          80,
          55,
          80,
          80,
          55,
          80,
          80,
          80,
          80,
          80,
          80,
          80,
          80,
          80,
          80,
          80,
          55,
          80,
          80,
          80,
          80,
          55,
          80,
          80,
          80,
          80,
          80,
          80,
          80,
          80,
          80,
          80,
          80,
          80,
          80,
          55,
          80,
          80,
          80,
          80,
          55,
          80,
          80,
          80,
          80,
          80,
          80,
          80,
          80,
          80,
          80,
          80,
          80,
          80,
          80,
          80,
          80,
          55,
          80,
          80,
          80,
          80,
          55,
          80,
          80,
          80,
          80,
          80,
          80,
          80,
          80,
          80,
          80,
          80,
          80,
          80,
          80,
          80,
          80,
          55,
          80,
          80,
          80,
          80,
          55,
          80,
          55,
          80,
          80,
          55,
          80,
          80,
          80,
          80,
          80,
          80,
          80,
          80,
          80,
          80,
          80,
          55,
          80,
          80,
          80,
          80,
          55,
          80,
          80,
          80,
          80,
          80,
          80,
          80,
          80,
          80,
          80,
          80,
          80,
          80,
          80,
          80,
          80,
          55,
          80,
          80,
          80,
          80,
          55,
          80,
          80,
          80,
          80,
          80,
          80,
          80,
          80,
          80,
          80,
          80,
          80,
          80,
          80,
          80,
          80,
          55,
          80,
          80,
          80,
          80,
          55,
          80,
          55,
          80,
          80,
          55,
          80,
          80,
          80,
          80,
          80,
          80,
          80,
          80,
          80,
          80,
          80,
          55,
          80,
          80,
          80,
          80,
          55,
          80,
          80,
          55,
          80,
          80,
          55,
          80,
          80,
          80,
          80,
          80,
          80,
          80,
          80,
          80,
          80,
          80,
          55,
          80,
          80,
          80,
          80,
          55,
          80,
          80,
          80,
          80,
          80,
          80,
          80,
          80,
          80,
          80,
          80,
          80,
          80,
          80,
          80,
          80,
          55,
          80,
          80,
          80,
          80,
          55,
          80,
          80,
          80,
          80,
          55,
          55,
          80,
          80,
          80,
          80,
          80,
          80,
          80,
          80,
          80,
          80,
          55,
          80,
          80,
          80,
          80,
          55,
          80,
          80,
          80,
          80,
          55,
          55,
          80,
          80,
          80,
          80,
          80,
          80,
          80,
          80,
          80,
          80,
          55,
          80,
          80,
          80,
          80,
          55,
          80,
          80,
          80,
          80,
          80,
          80,
          80,
          80,
          80,
          80,
          80,
          80,
          80,
          80,
          80,
          80,
          55,
          80,
          80,
          80,
          80,
          55,
          80,
          80,
          80,
          80,
          80,
          80,
          80,
          80,
          80,
          80,
          80,
          80,
          80,
          80,
          80,
          80,
          55,
          80,
          80,
          80,
          80,
          55,
          80,
          55,
          80,
          80,
          55,
          80,
          80,
          80,
          80,
          80,
          80,
          80,
          80,
          80,
          80,
          80,
          55,
          80,
          80,
          80,
          80,
          55,
          80,
          55,
          80,
          80,
          55,
          80,
          80,
          80,
          80,
          80,
          80,
          80,
          80,
          80,
          80,
          80,
          55,
          80,
          80,
          80,
          80,
          55,
          80,
          80,
          80,
          80,
          80,
          80,
          80,
          80,
          80,
          80,
          80,
          80,
          80,
          80,
          80,
          80,
          55,
          80,
          80,
          80,
          80,
          55,
          80,
          80,
          80,
          80,
          55,
          55,
          80,
          80,
          80,
          80,
          80,
          80,
          80,
          80,
          80,
          80,
          55,
          80,
          80,
          80,
          80,
          55,
          80,
          80,
          80,
          80,
          80,
          80,
          80,
          80,
          80,
          80,
          80,
          80,
          80,
          80,
          80,
          80,
          55,
          80,
          80,
          80,
          80,
          55,
          80,
          80,
          80,
          55,
          80,
          80,
          80,
          80,
          80,
          80,
          80,
          80,
          80,
          80,
          80,
          55,
          80,
          80,
          80,
          80,
          55,
          80,
          55,
          80,
          80,
          55,
          80,
          80,
          80,
          80,
          80,
          80,
          80,
          80,
          80,
          80,
          80,
          55,
          80,
          80,
          80,
          80,
          55,
          80,
          80,
          80,
          80,
          80,
          80,
          80,
          80,
          80,
          80,
          80,
          80,
          80,
          80,
          80,
          80,
          55,
          80,
          80,
          80,
          80,
          55,
          80,
          55,
          80,
          80,
          55,
          80,
          80,
          80,
          80,
          80,
          80,
          80,
          80,
          80,
          80,
          80,
          55,
          80,
          80,
          80,
          80,
          55,
          80,
          55,
          80,
          80,
          55,
          80,
          80,
          80,
          80,
          80,
          80,
          80,
          80,
          80,
          80,
          80,
          55,
          80,
          80,
          80,
          80,
          55,
          80,
          55,
          80,
          80,
          55,
          80,
          80,
          80,
          80,
          80,
          80,
          80,
          80,
          80,
          80,
          80,
          55,
          80,
          80,
          80,
          80,
          55,
          80,
          55,
          80,
          80,
          55,
          80,
          80,
          80,
          80,
          80,
          80,
          80,
          80,
          80,
          80,
          80,
          55,
          80,
          80,
          80,
          80,
          55,
          80,
          80,
          80,
          80,
          55,
          55,
          80,
          80,
          80,
          80,
          80,
          80,
          80,
          80,
          80,
          80,
          55,
          80,
          80,
          80,
          80,
          55,
          80,
          80,
          80,
          80,
          55,
          55,
          80,
          80,
          80,
          80,
          80,
          80,
          80,
          80,
          80,
          80,
          55,
          80,
          80,
          80,
          80,
          55,
          80,
          80,
          80,
          80,
          55,
          55,
          80,
          80,
          80,
          80,
          80,
          80,
          80,
          80,
          80,
          80,
          55,
          80,
          80,
          80,
          80,
          55,
          80,
          55,
          80,
          80,
          55,
          80,
          80,
          80,
          80,
          80,
          80,
          80,
          80,
          80,
          80,
          80,
          55,
          80,
          80,
          80,
          80,
          55,
          80,
          80,
          80,
          55,
          80,
          80,
          80,
          80,
          80,
          80,
          80,
          80,
          80,
          80,
          80,
          55,
          80,
          80,
          80,
          80,
          55,
          80,
          55,
          80,
          80,
          55,
          80,
          80,
          80,
          80,
          80,
          80,
          80,
          80,
          80,
          80,
          80,
          55,
          80,
          80,
          80,
          80,
          55,
          80,
          80,
          80,
          80,
          80,
          80,
          80,
          80,
          80,
          80,
          80,
          80,
          80,
          80,
          80,
          80,
          55,
          80,
          80,
          80,
          80,
          55,
          80,
          80,
          80,
          80,
          80,
          80,
          80,
          80,
          80,
          80,
          80,
          55,
          55,
          55,
          80,
          80,
          55,
          80,
          80,
          80,
          80,
          80,
          80,
          80,
          80,
          80,
          80,
          80,
          55,
          80,
          80,
          80,
          80,
          55,
          80,
          80,
          80,
          80,
          80,
          80,
          80,
          80,
          80,
          80,
          80,
          80,
          80,
          80,
          80,
          80,
          55,
          80,
          80,
          80,
          80,
          55,
          80,
          55,
          80,
          80,
          55,
          80,
          80,
          80,
          80,
          80,
          80,
          80,
          80,
          80,
          80,
          80,
          55,
          80,
          80,
          80,
          80,
          55,
          80,
          55,
          80,
          80,
          55,
          80,
          80,
          80,
          80,
          80,
          80,
          80,
          80,
          80,
          80,
          80,
          55,
          80,
          80,
          80,
          80,
          55,
          80,
          55,
          80,
          80,
          55,
          80,
          80,
          80,
          80,
          80,
          80,
          80,
          80,
          80,
          80,
          80,
          55,
          80,
          80,
          80,
          80,
          55,
          80,
          80,
          80,
          80,
          80,
          80,
          80,
          80,
          80,
          80,
          80,
          80,
          80,
          80,
          80,
          80,
          55,
          80,
          80,
          80,
          80,
          55,
          80,
          55,
          80,
          80,
          55,
          80,
          80,
          80,
          80,
          80,
          80,
          80,
          80,
          80,
          80,
          80,
          55,
          80,
          80,
          80,
          80,
          55,
          80,
          80,
          80,
          80,
          55,
          55,
          80,
          80,
          80,
          80,
          80,
          80,
          80,
          80,
          80,
          80,
          55,
          80,
          80,
          80,
          80,
          55,
          80,
          80,
          80,
          80,
          55,
          55,
          80,
          80,
          80,
          80,
          80,
          80,
          80,
          80,
          80,
          80,
          55,
          80,
          80,
          80,
          80,
          55,
          80,
          80,
          80,
          80,
          80,
          80,
          80,
          80,
          80,
          80,
          80,
          80,
          80,
          80,
          80,
          80,
          55,
          80,
          80,
          80,
          80,
          55,
          80,
          80,
          80,
          80,
          55,
          55,
          80,
          80,
          80,
          80,
          80,
          80,
          80,
          80,
          80,
          80,
          55,
          80,
          80,
          80,
          80,
          55,
          80,
          80,
          80,
          80,
          80,
          80,
          80,
          80,
          80,
          80,
          80,
          80,
          80,
          80,
          80,
          80,
          55,
          80,
          80,
          80,
          80,
          55,
          80,
          80,
          80,
          80,
          80,
          80,
          80,
          80,
          80,
          80,
          80,
          80,
          80,
          80,
          80,
          80,
          55,
          80,
          80,
          80,
          80,
          55,
          80,
          80,
          80,
          80,
          80,
          80,
          80,
          80,
          80,
          80,
          80,
          80,
          80,
          80,
          80,
          80,
          55,
          80,
          80,
          80,
          80,
          55,
          80,
          80,
          80,
          80,
          80,
          80,
          80,
          80,
          80,
          80,
          80,
          80,
          80,
          80,
          80,
          80,
          55,
          80,
          80,
          80,
          80,
          55,
          80,
          55,
          80,
          80,
          55,
          80,
          80,
          80,
          80,
          80,
          80,
          80,
          80,
          80,
          80,
          80,
          55,
          80,
          80,
          80,
          80,
          55,
          80,
          80,
          80,
          80,
          80,
          80,
          80,
          80,
          80,
          80,
          80,
          80,
          80,
          80,
          80,
          80,
          55,
          80,
          80,
          80,
          80,
          55,
          80,
          55,
          80,
          80,
          55,
          80,
          80,
          80,
          80,
          80,
          80,
          80,
          80,
          80,
          80,
          80,
          55,
          80,
          80,
          80,
          80,
          55,
          80,
          55,
          80,
          80,
          55,
          80,
          80,
          80,
          80,
          80,
          80,
          80,
          80,
          80,
          80,
          80,
          55,
          80,
          80,
          80,
          80,
          55,
          80,
          55,
          80,
          80,
          55,
          80,
          80,
          80,
          80,
          80,
          80,
          80,
          80,
          80,
          80,
          55,
          80,
          80,
          80,
          80,
          55,
          80,
          55,
          80,
          80,
          55,
          80,
          80,
          80,
          80,
          80,
          80,
          80,
          80,
          80,
          80,
          80,
          55,
          80,
          80,
          80,
          80,
          55,
          80,
          80,
          80,
          80,
          80,
          80,
          80,
          80,
          80,
          80,
          80,
          80,
          80,
          80,
          80,
          80,
          55,
          80,
          80,
          80,
          80,
          55,
          80,
          55,
          80,
          80,
          55,
          80,
          80,
          80,
          80,
          80,
          80,
          80,
          80,
          80,
          80,
          80,
          55,
          80,
          80,
          80,
          80,
          55,
          80,
          80,
          80,
          80,
          55,
          55,
          80,
          80,
          80,
          80,
          80,
          80,
          80,
          80,
          80,
          55,
          80,
          80,
          80,
          80,
          55,
          80,
          80,
          80,
          80,
          55,
          55,
          80,
          80,
          80,
          80,
          80,
          80,
          80,
          80,
          80,
          80,
          55,
          80,
          80,
          80,
          80,
          55,
          80,
          55,
          80,
          80,
          55,
          80,
          80,
          80,
          80,
          80,
          80,
          80,
          80,
          80,
          80,
          80,
          55,
          80,
          80,
          80,
          80,
          55,
          80,
          55,
          80,
          80,
          55,
          80,
          80,
          80,
          80,
          80,
          80,
          80,
          80,
          80,
          80,
          80,
          55,
          80,
          80,
          80,
          80,
          55,
          80,
          55,
          80,
          80,
          55,
          80,
          80,
          80,
          80,
          80,
          80,
          80,
          80,
          80,
          80,
          80,
          55,
          80,
          80,
          80,
          80,
          55,
          80,
          55,
          80,
          80,
          55,
          80,
          80,
          80,
          80,
          80,
          80,
          80,
          80,
          80,
          80,
          80,
          55,
          80,
          80,
          80,
          80,
          55,
          80,
          55,
          80,
          80,
          55,
          80,
          80,
          80,
          80,
          80,
          80,
          80,
          80,
          80,
          80,
          80,
          55,
          80,
          80,
          80,
          80,
          55,
          80,
          80,
          80,
          80,
          80,
          80,
          80,
          80,
          80,
          80,
          80,
          80,
          80,
          80,
          80,
          80,
          55,
          80,
          80,
          80,
          80,
          55,
          80,
          55,
          80,
          80,
          55,
          80,
          80,
          80,
          80,
          80,
          80,
          80,
          80,
          80,
          80,
          80,
          55,
          80,
          80,
          80,
          80,
          55,
          80,
          80,
          80,
          80,
          55,
          55,
          80,
          80,
          80,
          80,
          80,
          80,
          80,
          80,
          80,
          80,
          55,
          80,
          80,
          80,
          80,
          55,
          80,
          55,
          80,
          80,
          55,
          80,
          80,
          80,
          80,
          80,
          80,
          80,
          80,
          80,
          80,
          80,
          55,
          80,
          80,
          80,
          80,
          55,
          80,
          80,
          80,
          80,
          80,
          80,
          80,
          80,
          80,
          80,
          80,
          80,
          80,
          80,
          80,
          80,
          55,
          80,
          80,
          80,
          80,
          55,
          80,
          80,
          80,
          80,
          55,
          55,
          80,
          80,
          80,
          80,
          80,
          80,
          80,
          80,
          80,
          80,
          55,
          80,
          80,
          80,
          80,
          55,
          80,
          55,
          80,
          80,
          55,
          80,
          80,
          80,
          80,
          80,
          80,
          80,
          80,
          80,
          80,
          80,
          55,
          80,
          80,
          80,
          80,
          55,
          80,
          80,
          80,
          80,
          80,
          80,
          80,
          80,
          80,
          80,
          80,
          80,
          80,
          80,
          80,
          80,
          55,
          80,
          80,
          80,
          80,
          55,
          80,
          80,
          80,
          80,
          55,
          55,
          80,
          80,
          80,
          80,
          80,
          80,
          80,
          80,
          80,
          80,
          55,
          80,
          80,
          80,
          80,
          55,
          80,
          80,
          80,
          80,
          55,
          55,
          80,
          80,
          80,
          80,
          80,
          80,
          80,
          80,
          80,
          80,
          55,
          80,
          80,
          80,
          80,
          55,
          80,
          55,
          80,
          80,
          55,
          80,
          80,
          80,
          80,
          80,
          80,
          80,
          80,
          80,
          80,
          80,
          55,
          80,
          80,
          80,
          80,
          55,
          80,
          80,
          80,
          80,
          80,
          80,
          80,
          80,
          80,
          80,
          80,
          80,
          80,
          80,
          80,
          80,
          55,
          80,
          80,
          80,
          80,
          55,
          80,
          80,
          80,
          80,
          80,
          80,
          80,
          80,
          80,
          80,
          80,
          80,
          80,
          80,
          80,
          55,
          80,
          80,
          80,
          80,
          55,
          80,
          55,
          80,
          80,
          55,
          80,
          80,
          80,
          80,
          80,
          80,
          80,
          80,
          80,
          80,
          80,
          55,
          80,
          80,
          80,
          80,
          55,
          80,
          55,
          80,
          80,
          55,
          80,
          80,
          80,
          80,
          80,
          80,
          80,
          80,
          80,
          80,
          80,
          55,
          80,
          80,
          80,
          80,
          55,
          80,
          80,
          80,
          80,
          80,
          80,
          80,
          80,
          80,
          80,
          80,
          80,
          80,
          80,
          80,
          80,
          55,
          80,
          80,
          80,
          80,
          55,
          80,
          55,
          80,
          80,
          55,
          80,
          80,
          80,
          80,
          80,
          80,
          80,
          80,
          80,
          80,
          80,
          55,
          80,
          80,
          80,
          80,
          55,
          80,
          55,
          80,
          80,
          55,
          80,
          80,
          80,
          80,
          80,
          80,
          80,
          80,
          80,
          80,
          80,
          55,
          80,
          80,
          80,
          80,
          55,
          80,
          80,
          80,
          80,
          80,
          80,
          80,
          80,
          80,
          80,
          80,
          80,
          80,
          80,
          80,
          80,
          55,
          80,
          80,
          80,
          80,
          55,
          80,
          80,
          80,
          80,
          80,
          80,
          80,
          80,
          80,
          80,
          80,
          80,
          80,
          80,
          80,
          80,
          55,
          80,
          80,
          80,
          80,
          55,
          80,
          80,
          80,
          80,
          80,
          80,
          80,
          80,
          80,
          80,
          80,
          55,
          55,
          55,
          80,
          80,
          55,
          80,
          80,
          80,
          80,
          80,
          80,
          80,
          80,
          80,
          80,
          80,
          55,
          80,
          80,
          80,
          80,
          55,
          80,
          80,
          80,
          80,
          80,
          80,
          80,
          80,
          80,
          80,
          80,
          80,
          80,
          80,
          80,
          80,
          55,
          80,
          80,
          80,
          80,
          55,
          80,
          80,
          80,
          80,
          80,
          80,
          80,
          80,
          80,
          80,
          80,
          80,
          80,
          80,
          80,
          80,
          55,
          80,
          80,
          80,
          80,
          55,
          80,
          80,
          80,
          80,
          55,
          55,
          80,
          80,
          80,
          80,
          80,
          80,
          80,
          80,
          80,
          80,
          55,
          80,
          80,
          80,
          80,
          55,
          80,
          55,
          80,
          80,
          55,
          80,
          80,
          80,
          80,
          80,
          80,
          80,
          80,
          80,
          80,
          80,
          55,
          80,
          80,
          80,
          80,
          55,
          80,
          80,
          80,
          80,
          80,
          80,
          80,
          80,
          80,
          80,
          80,
          80,
          80,
          80,
          80,
          80,
          55,
          80,
          80,
          80,
          80,
          55,
          80,
          80,
          80,
          80,
          80,
          80,
          80,
          80,
          80,
          80,
          80,
          80,
          80,
          80,
          80,
          80,
          55,
          80,
          80,
          80,
          80,
          55,
          80,
          55,
          80,
          80,
          55,
          80,
          80,
          80,
          80,
          80,
          80,
          80,
          80,
          80,
          80,
          80,
          55,
          80,
          80,
          80,
          80,
          55,
          80,
          55,
          80,
          80,
          55,
          80,
          80,
          80,
          80,
          80,
          80,
          80,
          80,
          80,
          80,
          80,
          55,
          80,
          80,
          80,
          80,
          55,
          80,
          80,
          80,
          80,
          80,
          80,
          80,
          80,
          80,
          80,
          80,
          80,
          80,
          80,
          80,
          80,
          55,
          80,
          80,
          80,
          80,
          55,
          80,
          80,
          80,
          80,
          80,
          80,
          80,
          80,
          80,
          80,
          80,
          55,
          80,
          80,
          80,
          80,
          55,
          80,
          55,
          80,
          80,
          55,
          80,
          80,
          80,
          80,
          80,
          80,
          80,
          80,
          80,
          80,
          80,
          55,
          80,
          80,
          80,
          80,
          55,
          80,
          80,
          80,
          80,
          55,
          55,
          80,
          80,
          80,
          80,
          80,
          80,
          80,
          80,
          80,
          80,
          55,
          80,
          80,
          80,
          80,
          55,
          80,
          55,
          80,
          80,
          55,
          80,
          80,
          80,
          80,
          80,
          80,
          80,
          80,
          80,
          80,
          80,
          55,
          80,
          80,
          80,
          80,
          55,
          80,
          55,
          80,
          80,
          55,
          80,
          80,
          80,
          80,
          80,
          80,
          80,
          80,
          80,
          80,
          80,
          55,
          80,
          80,
          80,
          80,
          55,
          80,
          55,
          80,
          80,
          55,
          80,
          80,
          80,
          80,
          80,
          80,
          80,
          80,
          80,
          80,
          80,
          55,
          80,
          80,
          80,
          80,
          55,
          80,
          80,
          80,
          80,
          55,
          55,
          80,
          80,
          80,
          80,
          80,
          80,
          80,
          80,
          80,
          80,
          55,
          80,
          80,
          80,
          80,
          55,
          80,
          55,
          80,
          80,
          55,
          80,
          80,
          80,
          80,
          80,
          80,
          80,
          80,
          80,
          80,
          55,
          80,
          80,
          80,
          80,
          55,
          80,
          55,
          80,
          80,
          55,
          80,
          80,
          80,
          80,
          80,
          80,
          80,
          80,
          80,
          80,
          80,
          55,
          80,
          80,
          80,
          80,
          55,
          80,
          80,
          80,
          80,
          80,
          80,
          80,
          80,
          80,
          80,
          80,
          80,
          80,
          80,
          80,
          80,
          55,
          55,
          55,
          55,
          80,
          30,
          55,
          55,
          80,
          80,
          55,
          55,
          55,
          30,
          80,
          30,
          80,
          55,
          55,
          80,
          30,
          55,
          30,
          55,
          55,
          55,
          80,
          30,
          55,
          55,
          80,
          80,
          55,
          55,
          55,
          30,
          80,
          30,
          80,
          55,
          55,
          80,
          30,
          55,
          30,
          80,
          55,
          30,
          55,
          55,
          55,
          80,
          55,
          55,
          80,
          80,
          55,
          55,
          80,
          30,
          30,
          55,
          30,
          30,
          80,
          55,
          30,
          55,
          55,
          80,
          55,
          55,
          30,
          80,
          55,
          55,
          55,
          80,
          30,
          55,
          80,
          55,
          55,
          80,
          30,
          55,
          30,
          80,
          55,
          30,
          55,
          55,
          55,
          80,
          55,
          55,
          55,
          80,
          30,
          80,
          55,
          55,
          80,
          30,
          30,
          55,
          30,
          30,
          80,
          80,
          55,
          30,
          55,
          55,
          55,
          80,
          55,
          55,
          55,
          80,
          30,
          80,
          55,
          55,
          80,
          30,
          30,
          55,
          30,
          30,
          80,
          55,
          55,
          55,
          80,
          30,
          55,
          55,
          80,
          80,
          55,
          55,
          55,
          30,
          80,
          30,
          80,
          55,
          55,
          80,
          30,
          55,
          30,
          80,
          55,
          30,
          55,
          55,
          55,
          80,
          55,
          55,
          55,
          80,
          30,
          80,
          55,
          55,
          80,
          30,
          30,
          55,
          30,
          30,
          80,
          55,
          30,
          55,
          55,
          80,
          55,
          55,
          30,
          80,
          55,
          55,
          55,
          80,
          30,
          55,
          80,
          55,
          55,
          80,
          30,
          55,
          30,
          55,
          55,
          55,
          80,
          30,
          55,
          55,
          80,
          80,
          55,
          55,
          55,
          30,
          80,
          30,
          80,
          55,
          55,
          80,
          30,
          55,
          30,
          55,
          30,
          55,
          55,
          80,
          55,
          55,
          30,
          80,
          55,
          55,
          55,
          80,
          30,
          55,
          80,
          55,
          55,
          80,
          30,
          55,
          30,
          55,
          55,
          55,
          80,
          30,
          55,
          55,
          80,
          80,
          55,
          55,
          55,
          30,
          80,
          30,
          80,
          55,
          55,
          80,
          30,
          55,
          30,
          55,
          55,
          55,
          80,
          30,
          55,
          55,
          80,
          80,
          55,
          55,
          55,
          30,
          80,
          30,
          80,
          55,
          55,
          80,
          30,
          55,
          30,
          80,
          55,
          30,
          55,
          55,
          55,
          80,
          55,
          55,
          55,
          80,
          30,
          80,
          55,
          55,
          80,
          30,
          30,
          30,
          30,
          80,
          55,
          30,
          55,
          55,
          80,
          55,
          55,
          30,
          80,
          55,
          55,
          55,
          80,
          30,
          55,
          80,
          55,
          55,
          80,
          30,
          55,
          30,
          80,
          55,
          80,
          80,
          30,
          55,
          30,
          30,
          80,
          30,
          55,
          55,
          30,
          30,
          30,
          30,
          80,
          80,
          55,
          30,
          30,
          80,
          55,
          55,
          30,
          80,
          55,
          80,
          80,
          30,
          55,
          30,
          30,
          80,
          55,
          30,
          30,
          30,
          80,
          30,
          55,
          30,
          30,
          80,
          80,
          55,
          80,
          80,
          30,
          55,
          30,
          30,
          80,
          30,
          55,
          55,
          30,
          30,
          30,
          30,
          80,
          80,
          55,
          30,
          30,
          80,
          55,
          55,
          30,
          80,
          55,
          80,
          80,
          30,
          55,
          30,
          30,
          80,
          55,
          30,
          30,
          30,
          80,
          30,
          55,
          30,
          30,
          80,
          55,
          55,
          30,
          80,
          55,
          80,
          80,
          30,
          55,
          30,
          30,
          80,
          55,
          30,
          30,
          30,
          80,
          30,
          55,
          30,
          30,
          80,
          80,
          80,
          55,
          80,
          80,
          55,
          55,
          30,
          55,
          30,
          30,
          80,
          30,
          55,
          30,
          30,
          80,
          55,
          55,
          30,
          30,
          80,
          80,
          55,
          80,
          80,
          30,
          55,
          30,
          30,
          80,
          30,
          55,
          55,
          30,
          30,
          30,
          30,
          80,
          80,
          55,
          30,
          30,
          80,
          80,
          55,
          80,
          80,
          30,
          55,
          30,
          30,
          80,
          30,
          55,
          55,
          30,
          30,
          30,
          30,
          80,
          80,
          55,
          30,
          30,
          80,
          80,
          80,
          55,
          80,
          80,
          55,
          55,
          30,
          55,
          30,
          30,
          80,
          30,
          55,
          30,
          30,
          80,
          55,
          55,
          30,
          30,
          80,
          80,
          55,
          80,
          80,
          30,
          55,
          30,
          30,
          80,
          30,
          55,
          55,
          30,
          30,
          30,
          30,
          80,
          80,
          55,
          30,
          30,
          80,
          55,
          55,
          30,
          80,
          55,
          80,
          80,
          30,
          55,
          30,
          30,
          80,
          55,
          30,
          30,
          30,
          80,
          30,
          55,
          30,
          30,
          80,
          55,
          55,
          30,
          80,
          55,
          80,
          80,
          30,
          55,
          30,
          30,
          80,
          55,
          30,
          30,
          30,
          80,
          30,
          55,
          30,
          30,
          80,
          80,
          80,
          55,
          80,
          80,
          55,
          55,
          30,
          55,
          30,
          30,
          80,
          30,
          55,
          30,
          30,
          80,
          55,
          55,
          30,
          30,
          80,
          55,
          55,
          30,
          80,
          55,
          80,
          80,
          30,
          55,
          30,
          30,
          80,
          55,
          30,
          30,
          30,
          80,
          30,
          55,
          30,
          30,
          80,
          55,
          55,
          30,
          80,
          55,
          80,
          80,
          30,
          55,
          30,
          30,
          80,
          55,
          30,
          30,
          30,
          80,
          30,
          55,
          30,
          30,
          80,
          55,
          55,
          30,
          80,
          55,
          80,
          80,
          30,
          55,
          30,
          30,
          80,
          55,
          30,
          30,
          30,
          80,
          30,
          55,
          30,
          30,
          80,
          80,
          55,
          80,
          80,
          30,
          55,
          30,
          30,
          80,
          30,
          55,
          55,
          30,
          30,
          30,
          30,
          80,
          80,
          55,
          30,
          30,
          80,
          80,
          55,
          80,
          80,
          30,
          55,
          30,
          30,
          80,
          30,
          55,
          55,
          30,
          30,
          30,
          30,
          80,
          80,
          55,
          30,
          30,
          80,
          80,
          80,
          55,
          80,
          80,
          55,
          55,
          30,
          55,
          30,
          30,
          80,
          30,
          55,
          30,
          30,
          80,
          55,
          55,
          30,
          30,
          80,
          55,
          55,
          30,
          80,
          55,
          80,
          80,
          30,
          55,
          30,
          30,
          80,
          55,
          30,
          30,
          30,
          80,
          30,
          55,
          30,
          30,
          80,
          80,
          55,
          80,
          80,
          30,
          55,
          30,
          30,
          80,
          30,
          55,
          55,
          30,
          30,
          30,
          30,
          80,
          80,
          55,
          30,
          30,
          80,
          80,
          55,
          80,
          80,
          30,
          55,
          30,
          30,
          80,
          30,
          55,
          55,
          30,
          30,
          30,
          30,
          80,
          80,
          55,
          30,
          30,
          80,
          55,
          55,
          30,
          80,
          55,
          80,
          80,
          30,
          55,
          30,
          30,
          80,
          55,
          30,
          30,
          30,
          80,
          30,
          55,
          30,
          30,
          80,
          80,
          80,
          55,
          80,
          80,
          55,
          55,
          30,
          55,
          30,
          30,
          80,
          30,
          55,
          30,
          30,
          80,
          55,
          55,
          30,
          30,
          80,
          55,
          55,
          30,
          80,
          55,
          80,
          80,
          30,
          55,
          30,
          30,
          80,
          55,
          30,
          30,
          30,
          80,
          30,
          55,
          30,
          30,
          80,
          55,
          55,
          30,
          80,
          55,
          80,
          80,
          30,
          55,
          30,
          30,
          80,
          55,
          30,
          30,
          30,
          80,
          30,
          55,
          30,
          30,
          80,
          80,
          80,
          55,
          80,
          80,
          55,
          55,
          30,
          55,
          30,
          30,
          80,
          30,
          55,
          30,
          30,
          80,
          55,
          55,
          30,
          30,
          80,
          55,
          55,
          30,
          80,
          55,
          80,
          80,
          30,
          55,
          30,
          30,
          80,
          55,
          30,
          30,
          30,
          80,
          30,
          55,
          30,
          30,
          80,
          80,
          80,
          55,
          80,
          80,
          55,
          55,
          30,
          55,
          30,
          30,
          80,
          80,
          30,
          55,
          55,
          30,
          80,
          30,
          55,
          30,
          30,
          80,
          80,
          55,
          55,
          30,
          30,
          80,
          55,
          55,
          30,
          80,
          55,
          30,
          80,
          55,
          80,
          80,
          30,
          55,
          30,
          30,
          80,
          30,
          55,
          55,
          30,
          30,
          30,
          30,
          80,
          80,
          55,
          30,
          30,
          80,
          80,
          55,
          80,
          80,
          30,
          55,
          30,
          30,
          30,
          30,
          30,
          80,
          80,
          55,
          30,
          30,
          80,
          55,
          55,
          30,
          80,
          55,
          80,
          80,
          30,
          55,
          30,
          30,
          80,
          55,
          30,
          30,
          30,
          80,
          30,
          55,
          30,
          30,
          80,
          80,
          55,
          80,
          80,
          30,
          55,
          30,
          30,
          80,
          30,
          55,
          30,
          30,
          30,
          30,
          80,
          80,
          55,
          30,
          30,
          80,
          55,
          80,
          80,
          30,
          55,
          30,
          30,
          80,
          30,
          55,
          55,
          30,
          30,
          30,
          30,
          80,
          80,
          55,
          30,
          30,
          80,
          80,
          80,
          55,
          80,
          80,
          55,
          55,
          30,
          55,
          30,
          30,
          80,
          30,
          55,
          30,
          30,
          80,
          55,
          55,
          30,
          30,
          80,
          80,
          55,
          80,
          80,
          30,
          55,
          30,
          30,
          80,
          30,
          55,
          55,
          30,
          30,
          30,
          30,
          80,
          80,
          55,
          30,
          30,
          80,
          80,
          80,
          55,
          80,
          80,
          55,
          55,
          30,
          55,
          30,
          30,
          80,
          30,
          55,
          30,
          30,
          80,
          55,
          55,
          30,
          30,
          80,
          80,
          55,
          80,
          80,
          30,
          55,
          30,
          30,
          80,
          30,
          55,
          55,
          30,
          30,
          30,
          30,
          80,
          80,
          55,
          30,
          30,
          80,
          80,
          55,
          80,
          80,
          30,
          55,
          30,
          30,
          80,
          30,
          55,
          55,
          30,
          30,
          30,
          30,
          80,
          80,
          55,
          30,
          30,
          80,
          80,
          80,
          55,
          80,
          80,
          55,
          55,
          30,
          55,
          30,
          30,
          80,
          30,
          55,
          30,
          30,
          80,
          55,
          55,
          30,
          30,
          80,
          80,
          55,
          80,
          80,
          30,
          55,
          30,
          30,
          30,
          55,
          55,
          30,
          30,
          30,
          30,
          80,
          80,
          55,
          30,
          30,
          80,
          80,
          80,
          55,
          80,
          80,
          55,
          55,
          30,
          55,
          30,
          30,
          80,
          30,
          55,
          30,
          30,
          80,
          55,
          55,
          30,
          30,
          80,
          80,
          55,
          80,
          80,
          30,
          55,
          30,
          30,
          80,
          30,
          55,
          55,
          30,
          30,
          30,
          30,
          80,
          80,
          55,
          30,
          30,
          80,
          80,
          80,
          55,
          80,
          80,
          55,
          55,
          30,
          55,
          30,
          30,
          80,
          30,
          55,
          30,
          30,
          80,
          55,
          55,
          30,
          30,
          80,
          55,
          55,
          30,
          80,
          55,
          80,
          80,
          30,
          55,
          30,
          30,
          80,
          55,
          30,
          30,
          30,
          80,
          30,
          55,
          30,
          30,
          80,
          80,
          55,
          80,
          80,
          30,
          55,
          30,
          30,
          80,
          30,
          55,
          55,
          30,
          30,
          30,
          30,
          80,
          80,
          55,
          30,
          30,
          80,
          80,
          80,
          55,
          80,
          80,
          55,
          55,
          30,
          55,
          30,
          30,
          80,
          30,
          55,
          30,
          30,
          80,
          55,
          55,
          30,
          30,
          80,
          55,
          55,
          30,
          80,
          55,
          80,
          80,
          30,
          55,
          30,
          30,
          80,
          55,
          30,
          30,
          30,
          80,
          30,
          55,
          30,
          30,
          80,
          55,
          55,
          30,
          80,
          55,
          80,
          80,
          30,
          55,
          30,
          30,
          80,
          55,
          30,
          30,
          30,
          80,
          30,
          55,
          30,
          30,
          80,
          80,
          55,
          80,
          80,
          30,
          55,
          30,
          30,
          80,
          30,
          55,
          55,
          30,
          30,
          30,
          30,
          80,
          80,
          55,
          30,
          30,
          80,
          80,
          80,
          55,
          80,
          80,
          55,
          55,
          30,
          55,
          30,
          30,
          80,
          30,
          55,
          30,
          30,
          80,
          55,
          55,
          30,
          30,
          80,
          80,
          80,
          55,
          80,
          80,
          55,
          55,
          30,
          55,
          30,
          30,
          80,
          30,
          55,
          30,
          30,
          80,
          55,
          55,
          30,
          30,
          80,
          80,
          80,
          55,
          80,
          80,
          55,
          55,
          30,
          55,
          30,
          30,
          80,
          30,
          55,
          30,
          30,
          80,
          55,
          55,
          30,
          30,
          80,
          55,
          55,
          30,
          80,
          55,
          80,
          80,
          30,
          55,
          30,
          30,
          80,
          55,
          30,
          30,
          30,
          80,
          30,
          55,
          30,
          30,
          80,
          55,
          55,
          30,
          80,
          55,
          80,
          80,
          30,
          55,
          30,
          30,
          80,
          55,
          30,
          30,
          30,
          80,
          30,
          55,
          30,
          30,
          80,
          80,
          80,
          55,
          80,
          80,
          55,
          55,
          30,
          55,
          30,
          30,
          80,
          30,
          55,
          30,
          30,
          80,
          55,
          55,
          30,
          30,
          80,
          80,
          55,
          80,
          80,
          30,
          55,
          30,
          30,
          80,
          30,
          55,
          55,
          30,
          30,
          30,
          30,
          80,
          80,
          55,
          30,
          30,
          80,
          55,
          80,
          80,
          30,
          55,
          30,
          30,
          80,
          30,
          55,
          55,
          30,
          30,
          30,
          30,
          80,
          80,
          55,
          30,
          30,
          80,
          55,
          55,
          30,
          80,
          55,
          80,
          80,
          30,
          55,
          30,
          30,
          80,
          55,
          30,
          30,
          30,
          80,
          30,
          55,
          30,
          30,
          80,
          80,
          80,
          55,
          80,
          80,
          55,
          55,
          30,
          55,
          30,
          30,
          80,
          30,
          55,
          30,
          30,
          80,
          55,
          55,
          30,
          30,
          80,
          55,
          55,
          30,
          80,
          55,
          80,
          80,
          30,
          55,
          30,
          30,
          80,
          55,
          30,
          30,
          30,
          80,
          30,
          55,
          30,
          30,
          80,
          55,
          55,
          30,
          80,
          55,
          80,
          80,
          30,
          55,
          30,
          30,
          80,
          55,
          30,
          30,
          30,
          80,
          30,
          55,
          30,
          30,
          80,
          80,
          80,
          55,
          80,
          80,
          55,
          30,
          55,
          30,
          30,
          80,
          30,
          55,
          30,
          30,
          80,
          55,
          55,
          30,
          30,
          80,
          80,
          55,
          80,
          80,
          30,
          55,
          30,
          30,
          80,
          30,
          55,
          55,
          30,
          30,
          30,
          30,
          80,
          80,
          55,
          30,
          30,
          80,
          55,
          55,
          30,
          80,
          55,
          80,
          80,
          30,
          55,
          30,
          30,
          80,
          55,
          30,
          30,
          30,
          80,
          30,
          55,
          30,
          30,
          80,
          80,
          55,
          80,
          80,
          30,
          55,
          30,
          30,
          80,
          30,
          55,
          55,
          30,
          30,
          30,
          30,
          80,
          80,
          55,
          30,
          30,
          80,
          55,
          55,
          30,
          80,
          55,
          80,
          80,
          30,
          55,
          30,
          30,
          80,
          55,
          30,
          30,
          30,
          80,
          30,
          55,
          30,
          30,
          80,
          80,
          80,
          55,
          80,
          80,
          55,
          55,
          30,
          55,
          30,
          30,
          80,
          30,
          55,
          30,
          30,
          80,
          55,
          55,
          30,
          30,
          80,
          80,
          55,
          80,
          80,
          30,
          55,
          30,
          30,
          80,
          30,
          55,
          55,
          30,
          30,
          30,
          30,
          80,
          80,
          55,
          30,
          30,
          80,
          55,
          55,
          30,
          80,
          55,
          80,
          80,
          30,
          55,
          30,
          30,
          55,
          30,
          30,
          30,
          80,
          30,
          55,
          30,
          30,
          80,
          55,
          55,
          30,
          80,
          55,
          80,
          80,
          30,
          55,
          30,
          30,
          80,
          55,
          30,
          30,
          30,
          80,
          30,
          55,
          30,
          30,
          80,
          80,
          80,
          55,
          80,
          80,
          55,
          55,
          30,
          55,
          30,
          30,
          80,
          30,
          55,
          30,
          30,
          80,
          55,
          55,
          30,
          30,
          80,
          55,
          55,
          30,
          80,
          55,
          80,
          80,
          30,
          55,
          30,
          30,
          80,
          55,
          30,
          30,
          30,
          80,
          30,
          55,
          30,
          30,
          80,
          55,
          55,
          30,
          80,
          55,
          80,
          80,
          30,
          55,
          30,
          30,
          80,
          55,
          30,
          30,
          30,
          80,
          30,
          55,
          30,
          30,
          80,
          80,
          55,
          80,
          80,
          30,
          55,
          30,
          30,
          80,
          30,
          55,
          55,
          30,
          30,
          30,
          30,
          80,
          80,
          55,
          30,
          30,
          80,
          55,
          55,
          30,
          80,
          55,
          80,
          80,
          30,
          55,
          30,
          30,
          80,
          55,
          30,
          30,
          30,
          80,
          30,
          55,
          30,
          30,
          80,
          80,
          55,
          80,
          80,
          30,
          55,
          30,
          30,
          80,
          30,
          55,
          55,
          30,
          30,
          30,
          30,
          80,
          80,
          55,
          30,
          30,
          80,
          55,
          55,
          30,
          80,
          55,
          80,
          80,
          30,
          55,
          30,
          30,
          80,
          55,
          30,
          30,
          30,
          80,
          30,
          55,
          30,
          30,
          80,
          80,
          55,
          80,
          80,
          30,
          55,
          30,
          30,
          80,
          30,
          55,
          55,
          30,
          30,
          30,
          30,
          80,
          80,
          55,
          30,
          30,
          80,
          80,
          80,
          55,
          80,
          80,
          55,
          55,
          30,
          55,
          30,
          30,
          80,
          30,
          55,
          30,
          30,
          80,
          55,
          55,
          30,
          30,
          80,
          80,
          80,
          55,
          80,
          80,
          55,
          55,
          30,
          55,
          30,
          30,
          80,
          30,
          55,
          30,
          30,
          80,
          55,
          55,
          30,
          30,
          80,
          80,
          55,
          80,
          80,
          30,
          55,
          30,
          30,
          80,
          30,
          55,
          55,
          30,
          30,
          30,
          30,
          80,
          80,
          55,
          30,
          30,
          80,
          80,
          55,
          80,
          80,
          30,
          55,
          30,
          30,
          80,
          30,
          55,
          55,
          30,
          30,
          30,
          30,
          80,
          80,
          55,
          30,
          30,
          80,
          55,
          55,
          30,
          80,
          55,
          80,
          80,
          30,
          55,
          30,
          30,
          80,
          55,
          30,
          30,
          30,
          80,
          30,
          55,
          30,
          30,
          80,
          80,
          55,
          80,
          80,
          30,
          55,
          30,
          30,
          80,
          30,
          55,
          55,
          30,
          30,
          30,
          30,
          80,
          80,
          55,
          30,
          80,
          80,
          55,
          80,
          80,
          30,
          55,
          30,
          30,
          80,
          30,
          55,
          55,
          30,
          30,
          30,
          30,
          80,
          80,
          55,
          30,
          30,
          80,
          55,
          55,
          30,
          80,
          55,
          80,
          80,
          30,
          55,
          30,
          30,
          80,
          55,
          30,
          30,
          30,
          80,
          30,
          55,
          30,
          30,
          80,
          80,
          80,
          30,
          55,
          30,
          80,
          55,
          80,
          80,
          80,
          55,
          30,
          55,
          30,
          80,
          55,
          30,
          30,
          55,
          80,
          55,
          30,
          80,
          80,
          30,
          55,
          30,
          80,
          80,
          80,
          80,
          80,
          80,
          30,
          80,
          80,
          55,
          30,
          80,
          30,
          55,
          80,
          55,
          30,
          80,
          80,
          80,
          55,
          30,
          55,
          30,
          55,
          30,
          80,
          30,
          80,
          80,
          55,
          30,
          80,
          30,
          55,
          80,
          80,
          55,
          30,
          80,
          80,
          30,
          55,
          30,
          80,
          55,
          80,
          80,
          80,
          55,
          30,
          55,
          30,
          80,
          55,
          30,
          30,
          55,
          80,
          55,
          30,
          80,
          80,
          80,
          55,
          30,
          55,
          30,
          55,
          30,
          80,
          30,
          80,
          80,
          55,
          30,
          80,
          30,
          55,
          80,
          80,
          55,
          30,
          80,
          80,
          30,
          55,
          30,
          80,
          80,
          80,
          80,
          80,
          80,
          30,
          80,
          80,
          55,
          30,
          80,
          30,
          55,
          80,
          55,
          30,
          80,
          80,
          30,
          55,
          30,
          80,
          80,
          80,
          80,
          80,
          80,
          30,
          80,
          80,
          55,
          30,
          80,
          30,
          55,
          80,
          55,
          30,
          80,
          80,
          30,
          55,
          30,
          80,
          80,
          80,
          80,
          80,
          80,
          30,
          80,
          80,
          55,
          30,
          80,
          30,
          55,
          80,
          55,
          30,
          80,
          80,
          80,
          55,
          30,
          55,
          30,
          55,
          30,
          80,
          30,
          80,
          80,
          55,
          30,
          80,
          30,
          55,
          80,
          80,
          55,
          30,
          80,
          80,
          80,
          55,
          30,
          55,
          30,
          55,
          30,
          80,
          30,
          80,
          80,
          55,
          30,
          80,
          30,
          55,
          80,
          80,
          55,
          30,
          80,
          80,
          30,
          55,
          30,
          80,
          80,
          80,
          80,
          80,
          80,
          30,
          80,
          80,
          55,
          30,
          80,
          30,
          55,
          80,
          55,
          30,
          80,
          80,
          30,
          55,
          30,
          80,
          80,
          80,
          80,
          80,
          80,
          30,
          80,
          80,
          55,
          30,
          80,
          30,
          55,
          80,
          55,
          30,
          80,
          80,
          30,
          55,
          30,
          80,
          80,
          80,
          80,
          80,
          80,
          30,
          80,
          80,
          55,
          30,
          80,
          30,
          55,
          80,
          55,
          30,
          80,
          80,
          30,
          55,
          30,
          80,
          55,
          80,
          80,
          80,
          80,
          80,
          80,
          30,
          80,
          80,
          55,
          30,
          55,
          30,
          80,
          55,
          30,
          30,
          55,
          80,
          55,
          30,
          80,
          80,
          80,
          55,
          30,
          55,
          30,
          55,
          30,
          80,
          30,
          80,
          80,
          55,
          30,
          80,
          30,
          55,
          80,
          80,
          55,
          30,
          80,
          80,
          80,
          55,
          30,
          55,
          30,
          55,
          30,
          80,
          30,
          80,
          80,
          55,
          30,
          80,
          30,
          55,
          80,
          80,
          55,
          30,
          80,
          80,
          80,
          55,
          30,
          55,
          30,
          55,
          30,
          80,
          30,
          80,
          80,
          55,
          30,
          80,
          30,
          55,
          80,
          80,
          55,
          30,
          80,
          80,
          30,
          55,
          30,
          80,
          55,
          80,
          80,
          80,
          55,
          30,
          55,
          30,
          80,
          55,
          30,
          30,
          55,
          80,
          55,
          30,
          80,
          80,
          30,
          55,
          30,
          80,
          55,
          80,
          80,
          80,
          55,
          30,
          55,
          30,
          80,
          55,
          30,
          30,
          55,
          80,
          55,
          30,
          80,
          80,
          80,
          55,
          30,
          55,
          30,
          55,
          30,
          80,
          30,
          80,
          80,
          55,
          30,
          80,
          30,
          55,
          80,
          80,
          55,
          30,
          80,
          80,
          30,
          55,
          30,
          80,
          55,
          80,
          80,
          80,
          55,
          30,
          55,
          30,
          80,
          55,
          30,
          30,
          55,
          80,
          55,
          30,
          80,
          80,
          80,
          55,
          30,
          55,
          30,
          55,
          30,
          80,
          30,
          80,
          80,
          55,
          30,
          80,
          30,
          55,
          80,
          80,
          55,
          30,
          80,
          80,
          80,
          55,
          30,
          55,
          30,
          55,
          30,
          80,
          30,
          80,
          80,
          55,
          30,
          80,
          30,
          55,
          80,
          80,
          55,
          30,
          80,
          80,
          80,
          55,
          30,
          55,
          30,
          55,
          30,
          80,
          30,
          80,
          80,
          55,
          30,
          80,
          30,
          55,
          80,
          80,
          55,
          30,
          80,
          80,
          80,
          55,
          30,
          55,
          30,
          55,
          30,
          80,
          30,
          80,
          80,
          55,
          30,
          80,
          30,
          55,
          80,
          80,
          55,
          30,
          80,
          80,
          80,
          55,
          30,
          55,
          30,
          55,
          30,
          80,
          30,
          80,
          80,
          55,
          30,
          80,
          30,
          55,
          80,
          80,
          55,
          30,
          80,
          80,
          80,
          55,
          30,
          55,
          30,
          55,
          30,
          80,
          30,
          80,
          80,
          55,
          30,
          80,
          30,
          55,
          80,
          80,
          55,
          30,
          80,
          80,
          80,
          55,
          30,
          55,
          30,
          55,
          30,
          80,
          30,
          80,
          80,
          55,
          30,
          80,
          30,
          55,
          80,
          80,
          55,
          30,
          80,
          80,
          30,
          55,
          30,
          80,
          80,
          80,
          80,
          55,
          30,
          55,
          80,
          55,
          30,
          30,
          55,
          80,
          55,
          30,
          80,
          80,
          30,
          55,
          30,
          80,
          80,
          80,
          80,
          80,
          80,
          30,
          80,
          80,
          55,
          30,
          80,
          30,
          55,
          80,
          55,
          30,
          80,
          80,
          80,
          55,
          30,
          55,
          30,
          55,
          30,
          80,
          30,
          80,
          80,
          55,
          30,
          80,
          30,
          55,
          80,
          80,
          55,
          30,
          80,
          80,
          30,
          55,
          30,
          80,
          55,
          80,
          80,
          80,
          55,
          30,
          55,
          30,
          80,
          55,
          30,
          30,
          55,
          80,
          55,
          30,
          80,
          80,
          30,
          55,
          30,
          80,
          55,
          80,
          80,
          80,
          55,
          30,
          55,
          30,
          80,
          55,
          30,
          30,
          55,
          80,
          55,
          30,
          80,
          80,
          30,
          55,
          30,
          80,
          80,
          80,
          80,
          80,
          80,
          30,
          80,
          80,
          55,
          30,
          80,
          30,
          55,
          80,
          55,
          30,
          80,
          80,
          30,
          55,
          30,
          80,
          80,
          80,
          80,
          80,
          80,
          30,
          80,
          80,
          55,
          30,
          80,
          30,
          55,
          80,
          55,
          30,
          80,
          80,
          30,
          55,
          30,
          80,
          55,
          80,
          80,
          80,
          55,
          30,
          55,
          30,
          80,
          55,
          30,
          30,
          55,
          80,
          55,
          30,
          80,
          80,
          80,
          55,
          30,
          55,
          30,
          55,
          30,
          80,
          30,
          80,
          80,
          55,
          30,
          80,
          30,
          55,
          80,
          80,
          55,
          30,
          80,
          80,
          80,
          55,
          30,
          55,
          30,
          55,
          30,
          80,
          30,
          80,
          80,
          55,
          30,
          80,
          30,
          55,
          80,
          80,
          55,
          30,
          80,
          80,
          80,
          55,
          30,
          55,
          30,
          55,
          30,
          80,
          30,
          80,
          80,
          55,
          80,
          30,
          55,
          80,
          80,
          55,
          30,
          80,
          80,
          30,
          55,
          30,
          80,
          55,
          80,
          80,
          80,
          55,
          30,
          55,
          30,
          80,
          55,
          30,
          30,
          55,
          80,
          55,
          30,
          80,
          80,
          80,
          55,
          30,
          55,
          30,
          55,
          30,
          80,
          30,
          80,
          80,
          55,
          30,
          80,
          30,
          30,
          55,
          80,
          80,
          55,
          30,
          80,
          80,
          80,
          55,
          30,
          55,
          30,
          30,
          80,
          30,
          80,
          80,
          55,
          30,
          80,
          30,
          55,
          80,
          80,
          55,
          30,
          80,
          80,
          30,
          55,
          30,
          80,
          80,
          80,
          80,
          80,
          80,
          30,
          80,
          80,
          55,
          30,
          80,
          30,
          55,
          80,
          55,
          30,
          80,
          80,
          80,
          55,
          30,
          55,
          30,
          55,
          30,
          80,
          30,
          80,
          80,
          55,
          30,
          80,
          30,
          55,
          80,
          80,
          55,
          30,
          80,
          80,
          30,
          30,
          80,
          55,
          80,
          55,
          30,
          55,
          30,
          55,
          30,
          30,
          80,
          55,
          30,
          80,
          80,
          30,
          55,
          30,
          80,
          55,
          80,
          80,
          80,
          55,
          30,
          55,
          30,
          80,
          55,
          30,
          30,
          55,
          80,
          55,
          30,
          80,
          80,
          30,
          55,
          30,
          80,
          55,
          80,
          80,
          80,
          55,
          30,
          55,
          30,
          80,
          55,
          30,
          30,
          55,
          80,
          55,
          30,
          80,
          80,
          80,
          55,
          30,
          55,
          30,
          55,
          30,
          80,
          30,
          80,
          80,
          55,
          30,
          80,
          30,
          55,
          80,
          80,
          55,
          30,
          80,
          80,
          80,
          55,
          30,
          55,
          30,
          55,
          30,
          80,
          30,
          80,
          80,
          55,
          30,
          80,
          30,
          55,
          80,
          80,
          55,
          30,
          80,
          80,
          30,
          55,
          30,
          80,
          55,
          80,
          80,
          80,
          55,
          30,
          55,
          30,
          80,
          55,
          30,
          30,
          55,
          80,
          55,
          30,
          80,
          80,
          80,
          55,
          30,
          55,
          30,
          55,
          30,
          80,
          30,
          80,
          80,
          55,
          30,
          80,
          30,
          55,
          80,
          80,
          55,
          30,
          80,
          80,
          80,
          55,
          30,
          55,
          30,
          55,
          30,
          80,
          30,
          80,
          80,
          55,
          30,
          80,
          30,
          55,
          80,
          80,
          55,
          30,
          80,
          80,
          30,
          55,
          30,
          80,
          55,
          80,
          80,
          80,
          55,
          30,
          55,
          30,
          80,
          55,
          30,
          30,
          55,
          80,
          55,
          30,
          80,
          80,
          80,
          55,
          30,
          55,
          30,
          55,
          30,
          80,
          30,
          80,
          80,
          55,
          30,
          80,
          30,
          55,
          80,
          80,
          55,
          30,
          80,
          80,
          80,
          55,
          30,
          55,
          30,
          55,
          30,
          80,
          30,
          80,
          80,
          55,
          30,
          80,
          30,
          55,
          80,
          80,
          55,
          30,
          80,
          80,
          30,
          55,
          30,
          80,
          55,
          80,
          80,
          80,
          55,
          30,
          55,
          30,
          80,
          55,
          30,
          30,
          55,
          80,
          55,
          30,
          80,
          80,
          80,
          55,
          30,
          55,
          30,
          55,
          30,
          80,
          30,
          80,
          80,
          55,
          30,
          80,
          30,
          55,
          80,
          80,
          55,
          30,
          80,
          80,
          80,
          55,
          30,
          55,
          30,
          55,
          30,
          80,
          30,
          80,
          80,
          55,
          30,
          80,
          30,
          55,
          80,
          80,
          55,
          30,
          80,
          80,
          30,
          55,
          30,
          80,
          80,
          80,
          80,
          80,
          80,
          30,
          80,
          80,
          55,
          30,
          80,
          30,
          55,
          80,
          55,
          30,
          80,
          80,
          30,
          55,
          30,
          80,
          55,
          80,
          80,
          80,
          55,
          30,
          55,
          30,
          80,
          55,
          30,
          30,
          55,
          80,
          55,
          30,
          80,
          80,
          30,
          55,
          30,
          80,
          55,
          80,
          80,
          80,
          55,
          30,
          55,
          30,
          80,
          55,
          30,
          30,
          55,
          80,
          55,
          30,
          80,
          80,
          30,
          55,
          30,
          80,
          80,
          80,
          80,
          80,
          80,
          30,
          80,
          80,
          55,
          30,
          80,
          30,
          55,
          80,
          55,
          30,
          80,
          80,
          30,
          55,
          30,
          55,
          30,
          80,
          30,
          80,
          80,
          55,
          30,
          80,
          30,
          55,
          80,
          80,
          55,
          30,
          80,
          80,
          30,
          55,
          30,
          80,
          55,
          80,
          80,
          80,
          55,
          30,
          55,
          30,
          80,
          55,
          30,
          30,
          55,
          80,
          55,
          30,
          80,
          80,
          30,
          55,
          30,
          80,
          55,
          80,
          80,
          80,
          55,
          30,
          55,
          30,
          80,
          55,
          30,
          30,
          55,
          80,
          55,
          30,
          80,
          80,
          30,
          55,
          30,
          80,
          80,
          80,
          80,
          80,
          80,
          30,
          80,
          80,
          55,
          30,
          80,
          30,
          55,
          80,
          55,
          30,
          80,
          80,
          80,
          55,
          30,
          55,
          30,
          55,
          30,
          80,
          30,
          80,
          80,
          55,
          30,
          80,
          30,
          55,
          80,
          80,
          55,
          30,
          80,
          80,
          30,
          55,
          30,
          80,
          80,
          80,
          80,
          80,
          80,
          30,
          80,
          80,
          55,
          30,
          80,
          30,
          55,
          80,
          55,
          30,
          80,
          80,
          30,
          55,
          30,
          80,
          80,
          80,
          80,
          80,
          80,
          30,
          80,
          80,
          55,
          30,
          80,
          30,
          55,
          80,
          55,
          30,
          80,
          80,
          80,
          55,
          30,
          55,
          30,
          55,
          30,
          80,
          30,
          80,
          80,
          55,
          30,
          80,
          30,
          55,
          80,
          80,
          55,
          30,
          80,
          80,
          30,
          55,
          30,
          80,
          55,
          80,
          80,
          80,
          55,
          30,
          55,
          30,
          80,
          55,
          30,
          30,
          55,
          80,
          55,
          30,
          80,
          80,
          30,
          55,
          30,
          80,
          80,
          80,
          80,
          80,
          80,
          30,
          80,
          80,
          55,
          30,
          80,
          30,
          55,
          80,
          55,
          30,
          80,
          80,
          30,
          30,
          80,
          55,
          80,
          80,
          80,
          55,
          30,
          55,
          30,
          80,
          55,
          30,
          30,
          55,
          80,
          55,
          30,
          80,
          80,
          80,
          55,
          30,
          55,
          30,
          55,
          30,
          80,
          30,
          80,
          80,
          55,
          30,
          80,
          30,
          55,
          80,
          80,
          55,
          30,
          80,
          80,
          30,
          55,
          30,
          80,
          80,
          80,
          80,
          80,
          80,
          30,
          80,
          80,
          55,
          30,
          80,
          30,
          55,
          80,
          55,
          30,
          80,
          80,
          30,
          55,
          30,
          80,
          80,
          80,
          55,
          30,
          80,
          30,
          30,
          55,
          80,
          55,
          30,
          80,
          80,
          80,
          55,
          30,
          55,
          30,
          55,
          30,
          80,
          30,
          80,
          80,
          55,
          30,
          80,
          30,
          55,
          80,
          80,
          55,
          30,
          80,
          80,
          30,
          55,
          30,
          80,
          80,
          80,
          80,
          80,
          80,
          30,
          80,
          80,
          55,
          30,
          80,
          30,
          55,
          80,
          55,
          30,
          80,
          80,
          30,
          55,
          30,
          80,
          80,
          80,
          80,
          55,
          30,
          80,
          30,
          55,
          80,
          55,
          30,
          80,
          80,
          80,
          55,
          30,
          55,
          30,
          55,
          30,
          80,
          30,
          80,
          80,
          55,
          30,
          80,
          30,
          55,
          80,
          80,
          55,
          30,
          80,
          80,
          30,
          55,
          30,
          80,
          80,
          80,
          80,
          80,
          80,
          30,
          80,
          80,
          55,
          30,
          80,
          30,
          55,
          80,
          55,
          30,
          80,
          80,
          80,
          80,
          80,
          30,
          80,
          80,
          80,
          55,
          30,
          55,
          30,
          55,
          30,
          80,
          30,
          80,
          80,
          55,
          30,
          80,
          30,
          55,
          80,
          80,
          55,
          30,
          80,
          80,
          80,
          55,
          30,
          55,
          30,
          55,
          30,
          80,
          30,
          80,
          80,
          55,
          30,
          80,
          30,
          55,
          80,
          80,
          55,
          30,
          80,
          80,
          30,
          55,
          30,
          80,
          55,
          80,
          80,
          80,
          55,
          30,
          55,
          30,
          80,
          55,
          30,
          30,
          55,
          80,
          55,
          30,
          80,
          80,
          30,
          55,
          30,
          80,
          80,
          80,
          80,
          80,
          80,
          30,
          80,
          80,
          55,
          30,
          80,
          30,
          55,
          80,
          55,
          30,
          80,
          30,
          55,
          30,
          80,
          80,
          80,
          80,
          55,
          30,
          80,
          30,
          55,
          80,
          55,
          30,
          80,
          80,
          30,
          55,
          30,
          80,
          80,
          80,
          80,
          80,
          80,
          30,
          80,
          80,
          55,
          30,
          80,
          30,
          55,
          80,
          55,
          30,
          80,
          80,
          30,
          55,
          30,
          80,
          80,
          80,
          80,
          55,
          30,
          80,
          30,
          55,
          80,
          55,
          30,
          80,
          80,
          30,
          55,
          30,
          80,
          80,
          80,
          30,
          80,
          55,
          80,
          55,
          30,
          80,
          80,
          30,
          55,
          30,
          80,
          55,
          80,
          80,
          80,
          55,
          30,
          55,
          30,
          80,
          55,
          30,
          30,
          55,
          80,
          55,
          30,
          80,
          80,
          55,
          30,
          30,
          55,
          55,
          80,
          30,
          80,
          30,
          55,
          30,
          30,
          80,
          80,
          55,
          55,
          30,
          30,
          30,
          80,
          80,
          80,
          55,
          30,
          30,
          55,
          55,
          80,
          30,
          80,
          30,
          55,
          30,
          30,
          80,
          80,
          55,
          55,
          30,
          30,
          30,
          80,
          30,
          55,
          30,
          30,
          30,
          55,
          80,
          80,
          55,
          30,
          30,
          55,
          55,
          80,
          30,
          80,
          30,
          55,
          30,
          30,
          80,
          80,
          55,
          55,
          30,
          30,
          30,
          80,
          30,
          30,
          80,
          80,
          55,
          30,
          30,
          55,
          55,
          80,
          30,
          30,
          55,
          30,
          55,
          55,
          55,
          30,
          80,
          30,
          55,
          30,
          30,
          80,
          80,
          30,
          30,
          55,
          55,
          55,
          30,
          30,
          30,
          80,
          80,
          80,
          55,
          30,
          30,
          55,
          80,
          30,
          55,
          30,
          80,
          30,
          55,
          30,
          80,
          30,
          30,
          55,
          55,
          30,
          30,
          80,
          80,
          80,
          55,
          30,
          30,
          55,
          80,
          30,
          55,
          30,
          80,
          30,
          55,
          30,
          80,
          30,
          30,
          55,
          55,
          30,
          30,
          80,
          30,
          30,
          80,
          80,
          55,
          30,
          30,
          55,
          80,
          55,
          55,
          55,
          30,
          80,
          30,
          55,
          30,
          80,
          55,
          30,
          30,
          80,
          30,
          30,
          80,
          80,
          55,
          30,
          30,
          55,
          80,
          55,
          55,
          55,
          30,
          80,
          30,
          55,
          30,
          80,
          55,
          30,
          30,
          80,
          80,
          80,
          55,
          30,
          30,
          55,
          55,
          80,
          30,
          80,
          30,
          55,
          30,
          30,
          80,
          80,
          55,
          55,
          30,
          30,
          30,
          80,
          80,
          80,
          55,
          30,
          30,
          55,
          55,
          80,
          30,
          80,
          30,
          55,
          30,
          30,
          80,
          80,
          55,
          55,
          30,
          30,
          30,
          80,
          80,
          80,
          55,
          30,
          30,
          55,
          55,
          80,
          30,
          80,
          30,
          55,
          30,
          30,
          80,
          80,
          55,
          55,
          30,
          30,
          30,
          80,
          80,
          80,
          55,
          30,
          30,
          55,
          55,
          80,
          30,
          80,
          30,
          55,
          30,
          30,
          80,
          80,
          55,
          55,
          30,
          30,
          30,
          80,
          30,
          30,
          80,
          80,
          55,
          30,
          30,
          55,
          80,
          55,
          55,
          55,
          30,
          80,
          30,
          55,
          30,
          80,
          55,
          30,
          30,
          80,
          80,
          80,
          55,
          30,
          30,
          55,
          55,
          80,
          30,
          80,
          30,
          55,
          30,
          30,
          80,
          80,
          55,
          55,
          30,
          30,
          30,
          80,
          80,
          80,
          55,
          30,
          30,
          55,
          55,
          80,
          30,
          80,
          30,
          55,
          30,
          30,
          80,
          80,
          55,
          55,
          30,
          30,
          30,
          80,
          80,
          80,
          55,
          30,
          30,
          55,
          55,
          80,
          30,
          80,
          30,
          55,
          30,
          30,
          80,
          80,
          55,
          55,
          30,
          30,
          30,
          80,
          30,
          30,
          80,
          80,
          55,
          30,
          30,
          55,
          80,
          55,
          55,
          55,
          30,
          80,
          30,
          55,
          30,
          80,
          55,
          30,
          30,
          80,
          80,
          80,
          55,
          30,
          30,
          55,
          55,
          80,
          30,
          80,
          30,
          55,
          30,
          30,
          80,
          80,
          55,
          55,
          30,
          30,
          30,
          80,
          80,
          80,
          55,
          30,
          30,
          55,
          55,
          80,
          30,
          80,
          30,
          55,
          30,
          30,
          80,
          80,
          55,
          55,
          30,
          30,
          30,
          80,
          80,
          80,
          55,
          30,
          30,
          55,
          80,
          30,
          55,
          30,
          80,
          30,
          55,
          30,
          80,
          30,
          30,
          55,
          55,
          30,
          30,
          80,
          30,
          30,
          80,
          80,
          55,
          30,
          30,
          55,
          80,
          55,
          55,
          55,
          30,
          80,
          30,
          55,
          30,
          80,
          55,
          30,
          30,
          80,
          80,
          80,
          55,
          30,
          30,
          55,
          55,
          80,
          30,
          80,
          30,
          55,
          30,
          30,
          80,
          80,
          55,
          55,
          30,
          30,
          30,
          80,
          80,
          80,
          55,
          30,
          30,
          55,
          55,
          80,
          30,
          80,
          30,
          55,
          30,
          30,
          80,
          80,
          55,
          55,
          30,
          30,
          30,
          80,
          80,
          80,
          55,
          30,
          30,
          55,
          80,
          30,
          55,
          30,
          80,
          30,
          55,
          30,
          80,
          30,
          30,
          55,
          55,
          30,
          30,
          80,
          80,
          80,
          55,
          30,
          30,
          55,
          55,
          80,
          30,
          80,
          30,
          55,
          30,
          30,
          80,
          80,
          55,
          55,
          30,
          30,
          30,
          80,
          80,
          80,
          55,
          30,
          30,
          55,
          55,
          80,
          30,
          80,
          30,
          55,
          30,
          30,
          80,
          80,
          55,
          55,
          30,
          30,
          30,
          80,
          30,
          30,
          80,
          80,
          55,
          30,
          30,
          55,
          80,
          55,
          55,
          55,
          30,
          80,
          30,
          55,
          30,
          80,
          55,
          30,
          30,
          80,
          80,
          80,
          55,
          30,
          30,
          55,
          80,
          30,
          55,
          30,
          80,
          30,
          55,
          30,
          80,
          30,
          30,
          55,
          55,
          30,
          30,
          80,
          80,
          80,
          55,
          30,
          30,
          55,
          80,
          30,
          55,
          30,
          80,
          30,
          55,
          30,
          80,
          30,
          30,
          55,
          55,
          30,
          30,
          80,
          80,
          80,
          55,
          30,
          30,
          55,
          80,
          30,
          55,
          30,
          80,
          30,
          55,
          30,
          80,
          30,
          30,
          55,
          55,
          30,
          30,
          80,
          30,
          30,
          80,
          80,
          55,
          30,
          30,
          55,
          80,
          55,
          55,
          30,
          80,
          30,
          55,
          30,
          80,
          55,
          30,
          30,
          80,
          80,
          80,
          55,
          30,
          30,
          55,
          80,
          30,
          55,
          30,
          80,
          30,
          55,
          30,
          80,
          30,
          30,
          55,
          55,
          30,
          30,
          80,
          80,
          80,
          55,
          30,
          30,
          55,
          55,
          80,
          30,
          80,
          30,
          55,
          30,
          30,
          80,
          80,
          55,
          55,
          30,
          30,
          30,
          80,
          80,
          80,
          55,
          30,
          30,
          55,
          55,
          80,
          30,
          80,
          30,
          55,
          30,
          30,
          80,
          80,
          55,
          55,
          30,
          30,
          30,
          80,
          30,
          30,
          55,
          55,
          55,
          30,
          30,
          30,
          80,
          80,
          55,
          30,
          30,
          55,
          80,
          55,
          55,
          55,
          30,
          80,
          30,
          55,
          30,
          80,
          55,
          30,
          30,
          80,
          80,
          80,
          55,
          30,
          30,
          55,
          80,
          30,
          55,
          30,
          80,
          30,
          55,
          30,
          80,
          30,
          30,
          55,
          55,
          30,
          30,
          80,
          80,
          80,
          55,
          30,
          30,
          55,
          55,
          80,
          30,
          80,
          30,
          55,
          30,
          30,
          80,
          80,
          55,
          55,
          30,
          30,
          30,
          80,
          30,
          30,
          80,
          80,
          55,
          30,
          30,
          55,
          80,
          55,
          55,
          55,
          30,
          80,
          30,
          55,
          30,
          80,
          55,
          30,
          30,
          80,
          80,
          80,
          55,
          30,
          30,
          55,
          55,
          80,
          30,
          80,
          55,
          30,
          30,
          80,
          80,
          55,
          55,
          30,
          30,
          30,
          80,
          30,
          30,
          80,
          80,
          55,
          30,
          30,
          55,
          55,
          80,
          30,
          30,
          55,
          30,
          55,
          55,
          55,
          30,
          80,
          30,
          55,
          30,
          30,
          80,
          80,
          30,
          30,
          55,
          55,
          55,
          30,
          30,
          30,
          80,
          30,
          30,
          80,
          80,
          55,
          30,
          30,
          55,
          80,
          55,
          55,
          55,
          30,
          80,
          30,
          55,
          30,
          30,
          80,
          55,
          30,
          30,
          80,
          80,
          80,
          55,
          30,
          30,
          55,
          55,
          80,
          30,
          80,
          30,
          55,
          30,
          30,
          80,
          80,
          55,
          55,
          30,
          30,
          30,
          80,
          80,
          80,
          55,
          30,
          30,
          55,
          80,
          30,
          55,
          30,
          80,
          30,
          55,
          30,
          80,
          30,
          30,
          55,
          55,
          30,
          30,
          80,
          80,
          80,
          55,
          30,
          30,
          55,
          55,
          80,
          30,
          80,
          30,
          55,
          30,
          30,
          80,
          80,
          55,
          55,
          30,
          30,
          30,
          80,
          30,
          30,
          80,
          80,
          55,
          30,
          30,
          55,
          80,
          55,
          55,
          55,
          30,
          80,
          30,
          55,
          30,
          80,
          55,
          30,
          30,
          80,
          30,
          30,
          80,
          80,
          55,
          30,
          30,
          55,
          80,
          55,
          55,
          55,
          30,
          80,
          30,
          55,
          30,
          80,
          55,
          30,
          30,
          80,
          80,
          80,
          55,
          30,
          30,
          55,
          80,
          30,
          55,
          30,
          80,
          30,
          55,
          30,
          80,
          30,
          30,
          55,
          55,
          30,
          30,
          80,
          80,
          80,
          55,
          30,
          30,
          55,
          80,
          30,
          55,
          30,
          80,
          30,
          55,
          30,
          80,
          30,
          30,
          55,
          55,
          30,
          30,
          80,
          30,
          30,
          80,
          80,
          55,
          30,
          30,
          55,
          80,
          55,
          55,
          55,
          30,
          80,
          30,
          55,
          30,
          80,
          55,
          30,
          30,
          80,
          80,
          80,
          55,
          30,
          30,
          55,
          55,
          80,
          30,
          80,
          30,
          55,
          30,
          30,
          80,
          80,
          55,
          55,
          30,
          30,
          30,
          80,
          80,
          80,
          55,
          30,
          30,
          55,
          55,
          80,
          30,
          80,
          30,
          55,
          30,
          30,
          80,
          55,
          55,
          30,
          30,
          30,
          80,
          80,
          80,
          55,
          30,
          30,
          55,
          80,
          30,
          55,
          30,
          80,
          30,
          55,
          30,
          80,
          30,
          30,
          55,
          55,
          30,
          30,
          80,
          30,
          30,
          80,
          80,
          55,
          30,
          30,
          55,
          80,
          55,
          55,
          55,
          30,
          80,
          30,
          55,
          30,
          80,
          55,
          30,
          30,
          80,
          30,
          30,
          80,
          80,
          55,
          30,
          30,
          55,
          80,
          55,
          55,
          55,
          30,
          80,
          30,
          55,
          30,
          80,
          55,
          30,
          30,
          80,
          80,
          80,
          55,
          30,
          30,
          55,
          80,
          30,
          55,
          30,
          80,
          30,
          55,
          30,
          80,
          30,
          30,
          55,
          55,
          30,
          30,
          80,
          80,
          80,
          55,
          30,
          30,
          55,
          55,
          80,
          30,
          80,
          30,
          55,
          30,
          30,
          80,
          80,
          55,
          55,
          30,
          30,
          30,
          80,
          30,
          30,
          80,
          80,
          55,
          30,
          30,
          55,
          80,
          55,
          55,
          55,
          30,
          80,
          30,
          55,
          30,
          80,
          55,
          30,
          30,
          80,
          30,
          30,
          80,
          80,
          55,
          30,
          30,
          55,
          80,
          55,
          55,
          55,
          30,
          80,
          30,
          55,
          30,
          80,
          55,
          30,
          30,
          80,
          80,
          80,
          55,
          30,
          30,
          55,
          80,
          30,
          55,
          30,
          80,
          30,
          55,
          30,
          80,
          30,
          30,
          55,
          55,
          30,
          30,
          80,
          80,
          80,
          55,
          30,
          30,
          55,
          80,
          30,
          55,
          30,
          80,
          30,
          55,
          30,
          80,
          30,
          30,
          55,
          55,
          30,
          30,
          80,
          80,
          80,
          55,
          30,
          30,
          55,
          80,
          30,
          55,
          30,
          80,
          30,
          55,
          30,
          80,
          30,
          30,
          55,
          55,
          30,
          30,
          80,
          80,
          80,
          55,
          30,
          30,
          55,
          55,
          80,
          30,
          80,
          30,
          55,
          30,
          30,
          80,
          80,
          55,
          55,
          30,
          30,
          80,
          80,
          80,
          55,
          30,
          30,
          55,
          55,
          80,
          30,
          80,
          30,
          55,
          30,
          30,
          80,
          80,
          55,
          55,
          30,
          30,
          30,
          80,
          30,
          30,
          80,
          80,
          55,
          30,
          30,
          55,
          80,
          55,
          55,
          55,
          30,
          80,
          30,
          55,
          30,
          80,
          55,
          30,
          30,
          80,
          80,
          80,
          55,
          30,
          30,
          55,
          80,
          30,
          55,
          30,
          80,
          30,
          55,
          30,
          80,
          30,
          30,
          55,
          55,
          30,
          30,
          80,
          80,
          80,
          55,
          30,
          30,
          55,
          80,
          30,
          55,
          30,
          80,
          30,
          55,
          30,
          80,
          30,
          30,
          55,
          55,
          30,
          30,
          80,
          80,
          80,
          55,
          30,
          30,
          55,
          55,
          80,
          30,
          80,
          30,
          55,
          30,
          30,
          80,
          80,
          55,
          55,
          30,
          30,
          30,
          80,
          80,
          80,
          55,
          30,
          30,
          55,
          55,
          80,
          30,
          80,
          30,
          55,
          30,
          30,
          80,
          80,
          55,
          55,
          30,
          30,
          30,
          80,
          80,
          80,
          55,
          30,
          30,
          55,
          80,
          30,
          55,
          30,
          80,
          30,
          55,
          30,
          80,
          30,
          30,
          55,
          55,
          30,
          30,
          80,
          30,
          30,
          80,
          80,
          55,
          30,
          30,
          55,
          80,
          55,
          55,
          30,
          80,
          30,
          55,
          30,
          80,
          55,
          30,
          30,
          80,
          80,
          80,
          55,
          30,
          30,
          55,
          55,
          80,
          30,
          80,
          30,
          55,
          30,
          30,
          80,
          80,
          55,
          55,
          30,
          30,
          30,
          80,
          80,
          80,
          55,
          30,
          30,
          55,
          55,
          80,
          30,
          80,
          30,
          55,
          30,
          30,
          80,
          80,
          55,
          55,
          30,
          30,
          30,
          80,
          30,
          30,
          80,
          80,
          55,
          30,
          30,
          55,
          80,
          55,
          55,
          55,
          30,
          80,
          30,
          55,
          30,
          80,
          55,
          30,
          30,
          80,
          30,
          30,
          80,
          80,
          55,
          30,
          30,
          55,
          80,
          55,
          55,
          55,
          30,
          80,
          30,
          55,
          30,
          80,
          55,
          30,
          30,
          80,
          30,
          30,
          80,
          80,
          55,
          30,
          30,
          55,
          80,
          55,
          55,
          55,
          30,
          80,
          30,
          55,
          30,
          80,
          55,
          30,
          30,
          80,
          80,
          80,
          55,
          30,
          30,
          55,
          55,
          80,
          30,
          80,
          30,
          55,
          30,
          30,
          80,
          80,
          55,
          55,
          30,
          30,
          30,
          80,
          80,
          80,
          55,
          30,
          30,
          55,
          80,
          30,
          55,
          30,
          80,
          30,
          55,
          30,
          80,
          30,
          30,
          55,
          55,
          30,
          30,
          80,
          80,
          80,
          55,
          30,
          30,
          55,
          80,
          30,
          55,
          30,
          80,
          30,
          55,
          30,
          80,
          30,
          30,
          55,
          55,
          30,
          30,
          80,
          80,
          80,
          55,
          30,
          30,
          55,
          55,
          80,
          30,
          80,
          30,
          55,
          30,
          30,
          80,
          80,
          55,
          55,
          30,
          30,
          30,
          80,
          80,
          80,
          55,
          30,
          30,
          55,
          80,
          30,
          55,
          30,
          80,
          30,
          55,
          30,
          80,
          30,
          30,
          55,
          55,
          30,
          30,
          80,
          80,
          80,
          55,
          30,
          30,
          55,
          55,
          80,
          30,
          80,
          30,
          55,
          30,
          30,
          80,
          80,
          55,
          55,
          30,
          30,
          30,
          80,
          80,
          80,
          55,
          30,
          30,
          55,
          55,
          80,
          30,
          80,
          30,
          55,
          30,
          30,
          80,
          80,
          55,
          55,
          30,
          30,
          30,
          80,
          80,
          80,
          55,
          30,
          30,
          55,
          80,
          30,
          55,
          30,
          80,
          30,
          55,
          30,
          80,
          30,
          30,
          55,
          55,
          30,
          30,
          80,
          30,
          30,
          55,
          55,
          55,
          30,
          30,
          30,
          80,
          80,
          55,
          30,
          30,
          55,
          80,
          55,
          55,
          55,
          30,
          80,
          30,
          55,
          30,
          80,
          55,
          30,
          30,
          80,
          80,
          80,
          55,
          30,
          30,
          55,
          80,
          30,
          55,
          30,
          80,
          30,
          55,
          30,
          80,
          30,
          30,
          55,
          55,
          30,
          30,
          80
         ],
         "xaxis": "x",
         "yaxis": "y"
        }
       ],
       "layout": {
        "barmode": "relative",
        "legend": {
         "tracegroupgap": 0
        },
        "template": {
         "data": {
          "bar": [
           {
            "error_x": {
             "color": "#2a3f5f"
            },
            "error_y": {
             "color": "#2a3f5f"
            },
            "marker": {
             "line": {
              "color": "#E5ECF6",
              "width": 0.5
             },
             "pattern": {
              "fillmode": "overlay",
              "size": 10,
              "solidity": 0.2
             }
            },
            "type": "bar"
           }
          ],
          "barpolar": [
           {
            "marker": {
             "line": {
              "color": "#E5ECF6",
              "width": 0.5
             },
             "pattern": {
              "fillmode": "overlay",
              "size": 10,
              "solidity": 0.2
             }
            },
            "type": "barpolar"
           }
          ],
          "carpet": [
           {
            "aaxis": {
             "endlinecolor": "#2a3f5f",
             "gridcolor": "white",
             "linecolor": "white",
             "minorgridcolor": "white",
             "startlinecolor": "#2a3f5f"
            },
            "baxis": {
             "endlinecolor": "#2a3f5f",
             "gridcolor": "white",
             "linecolor": "white",
             "minorgridcolor": "white",
             "startlinecolor": "#2a3f5f"
            },
            "type": "carpet"
           }
          ],
          "choropleth": [
           {
            "colorbar": {
             "outlinewidth": 0,
             "ticks": ""
            },
            "type": "choropleth"
           }
          ],
          "contour": [
           {
            "colorbar": {
             "outlinewidth": 0,
             "ticks": ""
            },
            "colorscale": [
             [
              0,
              "#0d0887"
             ],
             [
              0.1111111111111111,
              "#46039f"
             ],
             [
              0.2222222222222222,
              "#7201a8"
             ],
             [
              0.3333333333333333,
              "#9c179e"
             ],
             [
              0.4444444444444444,
              "#bd3786"
             ],
             [
              0.5555555555555556,
              "#d8576b"
             ],
             [
              0.6666666666666666,
              "#ed7953"
             ],
             [
              0.7777777777777778,
              "#fb9f3a"
             ],
             [
              0.8888888888888888,
              "#fdca26"
             ],
             [
              1,
              "#f0f921"
             ]
            ],
            "type": "contour"
           }
          ],
          "contourcarpet": [
           {
            "colorbar": {
             "outlinewidth": 0,
             "ticks": ""
            },
            "type": "contourcarpet"
           }
          ],
          "heatmap": [
           {
            "colorbar": {
             "outlinewidth": 0,
             "ticks": ""
            },
            "colorscale": [
             [
              0,
              "#0d0887"
             ],
             [
              0.1111111111111111,
              "#46039f"
             ],
             [
              0.2222222222222222,
              "#7201a8"
             ],
             [
              0.3333333333333333,
              "#9c179e"
             ],
             [
              0.4444444444444444,
              "#bd3786"
             ],
             [
              0.5555555555555556,
              "#d8576b"
             ],
             [
              0.6666666666666666,
              "#ed7953"
             ],
             [
              0.7777777777777778,
              "#fb9f3a"
             ],
             [
              0.8888888888888888,
              "#fdca26"
             ],
             [
              1,
              "#f0f921"
             ]
            ],
            "type": "heatmap"
           }
          ],
          "heatmapgl": [
           {
            "colorbar": {
             "outlinewidth": 0,
             "ticks": ""
            },
            "colorscale": [
             [
              0,
              "#0d0887"
             ],
             [
              0.1111111111111111,
              "#46039f"
             ],
             [
              0.2222222222222222,
              "#7201a8"
             ],
             [
              0.3333333333333333,
              "#9c179e"
             ],
             [
              0.4444444444444444,
              "#bd3786"
             ],
             [
              0.5555555555555556,
              "#d8576b"
             ],
             [
              0.6666666666666666,
              "#ed7953"
             ],
             [
              0.7777777777777778,
              "#fb9f3a"
             ],
             [
              0.8888888888888888,
              "#fdca26"
             ],
             [
              1,
              "#f0f921"
             ]
            ],
            "type": "heatmapgl"
           }
          ],
          "histogram": [
           {
            "marker": {
             "pattern": {
              "fillmode": "overlay",
              "size": 10,
              "solidity": 0.2
             }
            },
            "type": "histogram"
           }
          ],
          "histogram2d": [
           {
            "colorbar": {
             "outlinewidth": 0,
             "ticks": ""
            },
            "colorscale": [
             [
              0,
              "#0d0887"
             ],
             [
              0.1111111111111111,
              "#46039f"
             ],
             [
              0.2222222222222222,
              "#7201a8"
             ],
             [
              0.3333333333333333,
              "#9c179e"
             ],
             [
              0.4444444444444444,
              "#bd3786"
             ],
             [
              0.5555555555555556,
              "#d8576b"
             ],
             [
              0.6666666666666666,
              "#ed7953"
             ],
             [
              0.7777777777777778,
              "#fb9f3a"
             ],
             [
              0.8888888888888888,
              "#fdca26"
             ],
             [
              1,
              "#f0f921"
             ]
            ],
            "type": "histogram2d"
           }
          ],
          "histogram2dcontour": [
           {
            "colorbar": {
             "outlinewidth": 0,
             "ticks": ""
            },
            "colorscale": [
             [
              0,
              "#0d0887"
             ],
             [
              0.1111111111111111,
              "#46039f"
             ],
             [
              0.2222222222222222,
              "#7201a8"
             ],
             [
              0.3333333333333333,
              "#9c179e"
             ],
             [
              0.4444444444444444,
              "#bd3786"
             ],
             [
              0.5555555555555556,
              "#d8576b"
             ],
             [
              0.6666666666666666,
              "#ed7953"
             ],
             [
              0.7777777777777778,
              "#fb9f3a"
             ],
             [
              0.8888888888888888,
              "#fdca26"
             ],
             [
              1,
              "#f0f921"
             ]
            ],
            "type": "histogram2dcontour"
           }
          ],
          "mesh3d": [
           {
            "colorbar": {
             "outlinewidth": 0,
             "ticks": ""
            },
            "type": "mesh3d"
           }
          ],
          "parcoords": [
           {
            "line": {
             "colorbar": {
              "outlinewidth": 0,
              "ticks": ""
             }
            },
            "type": "parcoords"
           }
          ],
          "pie": [
           {
            "automargin": true,
            "type": "pie"
           }
          ],
          "scatter": [
           {
            "fillpattern": {
             "fillmode": "overlay",
             "size": 10,
             "solidity": 0.2
            },
            "type": "scatter"
           }
          ],
          "scatter3d": [
           {
            "line": {
             "colorbar": {
              "outlinewidth": 0,
              "ticks": ""
             }
            },
            "marker": {
             "colorbar": {
              "outlinewidth": 0,
              "ticks": ""
             }
            },
            "type": "scatter3d"
           }
          ],
          "scattercarpet": [
           {
            "marker": {
             "colorbar": {
              "outlinewidth": 0,
              "ticks": ""
             }
            },
            "type": "scattercarpet"
           }
          ],
          "scattergeo": [
           {
            "marker": {
             "colorbar": {
              "outlinewidth": 0,
              "ticks": ""
             }
            },
            "type": "scattergeo"
           }
          ],
          "scattergl": [
           {
            "marker": {
             "colorbar": {
              "outlinewidth": 0,
              "ticks": ""
             }
            },
            "type": "scattergl"
           }
          ],
          "scattermapbox": [
           {
            "marker": {
             "colorbar": {
              "outlinewidth": 0,
              "ticks": ""
             }
            },
            "type": "scattermapbox"
           }
          ],
          "scatterpolar": [
           {
            "marker": {
             "colorbar": {
              "outlinewidth": 0,
              "ticks": ""
             }
            },
            "type": "scatterpolar"
           }
          ],
          "scatterpolargl": [
           {
            "marker": {
             "colorbar": {
              "outlinewidth": 0,
              "ticks": ""
             }
            },
            "type": "scatterpolargl"
           }
          ],
          "scatterternary": [
           {
            "marker": {
             "colorbar": {
              "outlinewidth": 0,
              "ticks": ""
             }
            },
            "type": "scatterternary"
           }
          ],
          "surface": [
           {
            "colorbar": {
             "outlinewidth": 0,
             "ticks": ""
            },
            "colorscale": [
             [
              0,
              "#0d0887"
             ],
             [
              0.1111111111111111,
              "#46039f"
             ],
             [
              0.2222222222222222,
              "#7201a8"
             ],
             [
              0.3333333333333333,
              "#9c179e"
             ],
             [
              0.4444444444444444,
              "#bd3786"
             ],
             [
              0.5555555555555556,
              "#d8576b"
             ],
             [
              0.6666666666666666,
              "#ed7953"
             ],
             [
              0.7777777777777778,
              "#fb9f3a"
             ],
             [
              0.8888888888888888,
              "#fdca26"
             ],
             [
              1,
              "#f0f921"
             ]
            ],
            "type": "surface"
           }
          ],
          "table": [
           {
            "cells": {
             "fill": {
              "color": "#EBF0F8"
             },
             "line": {
              "color": "white"
             }
            },
            "header": {
             "fill": {
              "color": "#C8D4E3"
             },
             "line": {
              "color": "white"
             }
            },
            "type": "table"
           }
          ]
         },
         "layout": {
          "annotationdefaults": {
           "arrowcolor": "#2a3f5f",
           "arrowhead": 0,
           "arrowwidth": 1
          },
          "autotypenumbers": "strict",
          "coloraxis": {
           "colorbar": {
            "outlinewidth": 0,
            "ticks": ""
           }
          },
          "colorscale": {
           "diverging": [
            [
             0,
             "#8e0152"
            ],
            [
             0.1,
             "#c51b7d"
            ],
            [
             0.2,
             "#de77ae"
            ],
            [
             0.3,
             "#f1b6da"
            ],
            [
             0.4,
             "#fde0ef"
            ],
            [
             0.5,
             "#f7f7f7"
            ],
            [
             0.6,
             "#e6f5d0"
            ],
            [
             0.7,
             "#b8e186"
            ],
            [
             0.8,
             "#7fbc41"
            ],
            [
             0.9,
             "#4d9221"
            ],
            [
             1,
             "#276419"
            ]
           ],
           "sequential": [
            [
             0,
             "#0d0887"
            ],
            [
             0.1111111111111111,
             "#46039f"
            ],
            [
             0.2222222222222222,
             "#7201a8"
            ],
            [
             0.3333333333333333,
             "#9c179e"
            ],
            [
             0.4444444444444444,
             "#bd3786"
            ],
            [
             0.5555555555555556,
             "#d8576b"
            ],
            [
             0.6666666666666666,
             "#ed7953"
            ],
            [
             0.7777777777777778,
             "#fb9f3a"
            ],
            [
             0.8888888888888888,
             "#fdca26"
            ],
            [
             1,
             "#f0f921"
            ]
           ],
           "sequentialminus": [
            [
             0,
             "#0d0887"
            ],
            [
             0.1111111111111111,
             "#46039f"
            ],
            [
             0.2222222222222222,
             "#7201a8"
            ],
            [
             0.3333333333333333,
             "#9c179e"
            ],
            [
             0.4444444444444444,
             "#bd3786"
            ],
            [
             0.5555555555555556,
             "#d8576b"
            ],
            [
             0.6666666666666666,
             "#ed7953"
            ],
            [
             0.7777777777777778,
             "#fb9f3a"
            ],
            [
             0.8888888888888888,
             "#fdca26"
            ],
            [
             1,
             "#f0f921"
            ]
           ]
          },
          "colorway": [
           "#636efa",
           "#EF553B",
           "#00cc96",
           "#ab63fa",
           "#FFA15A",
           "#19d3f3",
           "#FF6692",
           "#B6E880",
           "#FF97FF",
           "#FECB52"
          ],
          "font": {
           "color": "#2a3f5f"
          },
          "geo": {
           "bgcolor": "white",
           "lakecolor": "white",
           "landcolor": "#E5ECF6",
           "showlakes": true,
           "showland": true,
           "subunitcolor": "white"
          },
          "hoverlabel": {
           "align": "left"
          },
          "hovermode": "closest",
          "mapbox": {
           "style": "light"
          },
          "paper_bgcolor": "white",
          "plot_bgcolor": "#E5ECF6",
          "polar": {
           "angularaxis": {
            "gridcolor": "white",
            "linecolor": "white",
            "ticks": ""
           },
           "bgcolor": "#E5ECF6",
           "radialaxis": {
            "gridcolor": "white",
            "linecolor": "white",
            "ticks": ""
           }
          },
          "scene": {
           "xaxis": {
            "backgroundcolor": "#E5ECF6",
            "gridcolor": "white",
            "gridwidth": 2,
            "linecolor": "white",
            "showbackground": true,
            "ticks": "",
            "zerolinecolor": "white"
           },
           "yaxis": {
            "backgroundcolor": "#E5ECF6",
            "gridcolor": "white",
            "gridwidth": 2,
            "linecolor": "white",
            "showbackground": true,
            "ticks": "",
            "zerolinecolor": "white"
           },
           "zaxis": {
            "backgroundcolor": "#E5ECF6",
            "gridcolor": "white",
            "gridwidth": 2,
            "linecolor": "white",
            "showbackground": true,
            "ticks": "",
            "zerolinecolor": "white"
           }
          },
          "shapedefaults": {
           "line": {
            "color": "#2a3f5f"
           }
          },
          "ternary": {
           "aaxis": {
            "gridcolor": "white",
            "linecolor": "white",
            "ticks": ""
           },
           "baxis": {
            "gridcolor": "white",
            "linecolor": "white",
            "ticks": ""
           },
           "bgcolor": "#E5ECF6",
           "caxis": {
            "gridcolor": "white",
            "linecolor": "white",
            "ticks": ""
           }
          },
          "title": {
           "x": 0.05
          },
          "xaxis": {
           "automargin": true,
           "gridcolor": "white",
           "linecolor": "white",
           "ticks": "",
           "title": {
            "standoff": 15
           },
           "zerolinecolor": "white",
           "zerolinewidth": 2
          },
          "yaxis": {
           "automargin": true,
           "gridcolor": "white",
           "linecolor": "white",
           "ticks": "",
           "title": {
            "standoff": 15
           },
           "zerolinecolor": "white",
           "zerolinewidth": 2
          }
         }
        },
        "title": {
         "text": "Temperature Distribution"
        },
        "xaxis": {
         "anchor": "y",
         "domain": [
          0,
          1
         ],
         "title": {
          "text": "Temperature"
         }
        },
        "yaxis": {
         "anchor": "x",
         "domain": [
          0,
          1
         ],
         "title": {
          "text": "count"
         }
        }
       }
      },
      "text/html": [
       "<div>                            <div id=\"6a0e8765-5a67-4899-953d-7da658420df4\" class=\"plotly-graph-div\" style=\"height:525px; width:100%;\"></div>            <script type=\"text/javascript\">                require([\"plotly\"], function(Plotly) {                    window.PLOTLYENV=window.PLOTLYENV || {};                                    if (document.getElementById(\"6a0e8765-5a67-4899-953d-7da658420df4\")) {                    Plotly.newPlot(                        \"6a0e8765-5a67-4899-953d-7da658420df4\",                        [{\"alignmentgroup\":\"True\",\"bingroup\":\"x\",\"hovertemplate\":\"Temperature=%{x}\\u003cbr\\u003ecount=%{y}\\u003cextra\\u003e\\u003c\\u002fextra\\u003e\",\"legendgroup\":\"\",\"marker\":{\"color\":\"rgb(102,194,165)\",\"opacity\":0.6,\"pattern\":{\"shape\":\"\"}},\"name\":\"\",\"nbinsx\":20,\"offsetgroup\":\"\",\"orientation\":\"v\",\"showlegend\":false,\"x\":[55,80,80,80,80,80,55,80,80,80,80,55,55,55,55,80,55,55,80,80,55,55,55,80,80,80,80,80,80,80,80,80,55,55,55,55,55,80,55,55,80,80,55,55,55,80,80,80,80,80,80,80,80,80,55,55,55,55,55,80,55,55,80,80,55,55,55,80,80,80,80,80,55,80,80,80,80,55,55,55,55,80,55,55,80,80,55,55,55,80,80,80,80,80,80,80,80,80,55,55,55,55,55,80,55,55,80,80,55,55,55,80,80,80,80,80,80,80,80,80,55,55,55,55,55,80,55,55,80,80,55,55,55,80,80,80,80,80,55,80,80,80,80,55,55,55,55,80,55,55,80,80,55,55,55,80,80,80,80,80,80,80,80,80,55,55,55,55,55,80,55,55,80,80,55,55,55,80,80,80,80,80,80,80,80,80,55,55,80,55,80,80,55,55,80,80,80,80,80,80,80,80,80,55,55,55,55,55,80,55,55,80,80,55,55,55,80,80,80,80,80,55,80,80,80,80,80,80,55,55,80,55,55,80,80,55,55,55,80,80,80,80,80,80,80,80,80,55,55,55,55,55,80,55,55,80,80,55,55,55,80,80,80,80,80,55,80,80,80,80,55,55,55,55,80,55,55,80,80,55,55,55,80,80,80,80,80,55,80,80,80,55,55,55,80,55,55,80,80,55,55,55,80,80,80,80,80,55,80,80,80,80,55,55,55,55,80,55,55,80,80,55,55,55,80,80,80,80,80,55,80,80,80,80,55,55,80,55,55,80,80,55,55,55,80,80,80,80,80,55,80,80,80,80,55,55,55,55,80,55,55,80,80,55,55,55,80,80,80,80,80,55,80,80,80,80,55,55,55,55,80,55,55,80,80,55,55,55,80,80,80,80,80,80,80,80,80,55,55,55,55,55,80,55,55,80,80,55,55,55,80,80,80,80,80,55,80,80,80,80,80,80,55,55,80,55,55,80,80,55,55,80,80,80,80,80,80,80,80,80,55,55,55,55,55,80,55,55,80,80,55,55,55,80,80,80,80,80,80,80,80,80,55,55,55,55,55,80,55,80,80,55,55,55,80,80,80,80,80,80,80,80,80,55,55,55,55,55,80,55,55,80,80,55,55,55,80,80,80,80,80,55,80,80,80,80,80,80,55,55,80,55,55,80,80,55,55,80,80,80,80,55,55,55,80,80,80,80,80,55,80,80,80,80,55,55,55,55,80,55,55,80,80,55,55,55,80,80,80,80,80,80,80,80,80,55,55,55,55,55,80,55,55,80,80,55,55,55,80,80,80,80,80,80,80,80,80,55,55,55,55,55,80,55,55,80,80,55,55,55,80,80,80,80,80,80,80,80,80,55,55,55,55,55,80,55,55,80,80,55,55,55,80,80,80,80,80,55,80,80,80,80,55,55,55,55,80,55,55,80,80,55,55,55,80,80,80,80,80,80,80,80,80,55,55,55,55,55,80,55,55,80,80,55,55,55,80,80,80,80,80,55,80,80,80,80,80,80,55,55,80,55,55,80,80,55,55,55,80,80,80,80,80,55,80,80,80,80,55,55,55,55,80,55,55,80,80,55,55,55,80,80,80,80,80,55,80,80,80,80,80,80,55,55,80,55,55,80,80,55,55,55,80,80,80,80,80,80,80,80,80,55,55,55,55,55,80,55,55,80,80,55,55,55,80,80,80,80,80,55,80,80,80,80,80,80,55,55,80,55,55,80,80,55,55,55,80,80,80,80,80,80,80,80,80,55,55,55,55,55,80,55,55,80,80,55,55,55,80,80,80,80,80,55,80,80,80,80,55,55,55,55,80,55,55,80,80,55,55,55,80,80,80,80,80,55,80,80,80,80,55,55,55,55,55,55,80,80,55,55,55,80,80,80,80,80,55,80,80,80,80,55,55,55,55,80,55,55,80,80,55,55,80,80,80,80,80,80,55,80,80,80,80,80,55,80,80,80,80,80,80,55,55,80,55,55,80,80,55,55,55,80,80,80,80,80,80,80,80,80,55,55,55,55,55,80,55,55,80,80,55,55,55,80,80,80,80,80,55,80,80,80,80,55,55,55,55,80,55,55,80,80,55,55,55,80,80,80,80,80,80,80,80,80,55,55,55,55,55,80,55,55,80,80,55,55,55,80,80,80,80,80,55,80,80,80,80,80,80,55,55,80,55,55,80,80,55,55,55,80,80,80,80,80,55,80,80,80,80,55,55,55,55,80,55,55,80,80,55,55,55,80,80,80,80,80,55,80,80,80,80,55,55,55,55,80,55,55,80,80,55,55,55,80,80,80,80,80,80,80,80,80,55,55,55,55,55,80,55,55,80,80,55,55,55,80,80,80,80,80,55,80,80,80,80,80,80,55,55,80,55,55,80,80,55,55,55,80,80,80,80,80,55,80,80,80,80,80,80,55,55,80,55,55,80,80,55,55,55,80,80,80,80,80,55,80,80,80,80,55,55,55,55,80,55,55,80,80,55,55,55,80,80,80,80,80,55,80,80,80,80,55,55,55,55,80,55,55,80,80,55,55,55,80,80,80,80,80,55,80,80,80,80,55,55,55,55,80,55,55,80,80,55,55,55,80,80,80,80,80,55,80,80,80,80,80,80,55,55,80,55,55,80,80,55,55,80,80,80,80,80,80,55,80,80,80,80,80,55,80,80,80,80,55,55,55,55,80,55,55,80,80,55,55,55,80,80,80,80,80,55,80,80,80,80,55,55,55,80,55,55,80,80,55,55,55,80,80,80,80,80,80,80,80,80,55,55,55,55,55,80,55,55,80,80,55,55,55,80,80,80,80,80,80,80,80,80,55,55,55,55,55,80,55,55,80,80,55,55,55,80,80,80,80,80,80,80,80,80,55,55,55,55,55,80,55,55,80,80,55,55,55,80,80,80,80,80,55,80,80,80,80,80,80,55,55,80,55,55,80,80,55,55,55,80,80,80,80,80,55,80,80,80,80,80,80,55,55,80,55,55,80,80,55,55,55,80,80,80,80,80,80,80,80,80,55,55,55,55,55,80,55,55,80,80,55,55,55,80,80,80,80,80,55,80,80,80,80,80,80,55,55,80,55,55,80,80,55,55,55,80,80,80,80,80,55,80,80,80,80,80,80,55,55,80,55,55,80,80,55,55,55,80,80,80,80,80,80,80,80,80,55,55,55,55,55,80,55,55,80,80,55,55,55,80,80,80,80,80,55,80,80,80,80,55,55,55,55,80,55,55,80,80,55,55,55,80,80,80,80,80,80,80,80,80,55,55,55,55,55,80,55,55,80,80,55,55,55,80,80,80,80,80,55,80,80,80,80,55,55,55,55,80,55,55,80,80,55,55,55,80,80,80,80,80,55,80,80,80,80,80,80,55,55,80,55,55,80,80,55,55,55,80,80,80,80,80,55,80,80,80,80,80,80,55,55,80,55,55,80,80,55,55,55,80,80,80,80,80,55,80,80,80,80,55,55,55,55,80,55,55,80,80,55,55,55,80,80,80,80,80,80,80,80,80,55,55,55,55,55,80,55,55,80,80,55,55,55,80,80,80,80,80,80,80,80,80,55,55,55,55,55,80,55,55,80,80,55,55,55,80,80,80,80,80,55,80,80,80,80,55,55,55,55,80,55,55,80,80,55,55,55,80,80,80,80,80,80,80,80,80,55,55,55,55,55,80,55,55,80,80,55,55,55,80,80,80,80,80,55,80,80,80,80,55,55,55,55,80,55,55,80,80,55,55,55,80,80,80,80,80,55,80,80,80,80,55,55,55,55,80,55,55,80,80,55,55,55,80,80,80,80,80,80,80,80,80,55,55,55,55,55,80,55,55,80,80,55,55,55,80,80,80,80,80,55,80,80,80,80,55,55,55,55,80,55,55,80,80,55,55,55,80,80,80,80,80,55,80,80,80,80,80,80,55,55,80,55,55,80,80,55,55,55,80,80,80,80,80,80,80,80,80,55,55,55,55,55,80,55,55,80,80,55,55,55,80,80,80,80,80,55,80,80,80,80,80,80,55,55,80,55,55,80,80,55,55,55,80,80,80,80,80,55,80,80,80,80,55,55,55,55,80,55,55,80,80,55,55,55,80,80,80,80,80,55,80,80,80,80,55,55,55,55,80,55,55,80,80,55,55,55,80,80,80,80,80,80,80,80,80,55,55,55,55,55,80,55,55,80,80,55,55,55,80,80,80,80,80,80,80,80,80,55,55,55,55,55,80,55,55,80,80,55,55,55,80,80,80,80,80,80,80,80,80,55,55,55,55,55,80,55,55,80,80,55,55,55,80,80,80,80,80,80,80,80,80,55,55,55,55,55,80,55,55,80,80,55,55,55,80,80,80,80,80,80,80,80,80,55,55,55,55,55,80,55,55,80,80,55,55,55,80,80,80,80,80,55,80,80,80,80,55,55,55,55,80,55,55,80,80,55,55,55,80,80,80,80,80,55,80,80,80,80,55,55,55,55,80,55,55,80,80,55,55,55,80,80,80,80,80,55,80,80,80,80,80,80,55,55,80,55,55,80,80,55,55,55,80,80,80,80,80,55,80,80,80,80,80,80,55,55,80,55,55,80,80,55,55,55,80,80,80,80,80,55,80,80,80,80,55,55,55,55,80,55,55,80,80,55,55,55,80,80,80,80,80,55,80,80,80,80,55,55,55,55,80,55,55,80,80,55,55,55,80,80,80,80,80,55,80,80,80,80,55,55,55,55,80,55,55,80,80,55,55,55,80,80,80,80,80,80,80,80,80,55,55,55,55,55,80,55,55,80,80,55,55,55,80,80,80,80,80,80,80,80,80,55,55,55,55,55,80,55,55,80,80,55,55,55,80,80,80,80,80,55,80,80,80,80,55,55,55,55,80,55,55,80,80,55,55,55,80,80,80,80,80,80,80,80,80,55,55,55,55,55,80,55,55,80,80,55,55,55,80,80,80,80,80,80,80,80,80,55,55,55,55,55,80,55,55,80,80,55,55,55,80,80,80,80,80,55,80,80,80,80,80,80,55,55,80,55,55,80,80,55,55,55,80,80,80,80,80,55,80,80,80,80,80,80,55,55,80,55,55,80,80,55,55,55,80,80,80,80,80,80,80,80,80,55,55,55,55,55,80,55,55,80,80,55,55,55,80,80,80,80,80,80,80,80,80,55,55,55,55,55,80,55,55,80,80,55,55,55,80,80,80,80,80,55,80,80,80,80,80,80,55,55,80,55,55,80,80,55,55,55,80,80,80,80,80,80,80,80,55,55,55,55,55,80,55,55,80,80,55,55,55,80,80,80,80,80,55,80,80,80,80,55,55,55,55,80,55,55,80,80,55,55,55,80,80,80,80,80,80,80,80,80,55,55,55,55,55,80,55,55,80,80,55,55,80,80,80,80,55,55,55,80,80,80,80,80,55,80,80,80,80,55,55,55,55,80,55,55,80,80,55,55,55,80,80,80,80,80,80,80,80,80,55,55,55,55,55,80,55,55,80,80,55,55,55,80,80,80,80,80,55,80,80,80,80,80,80,55,55,80,55,55,80,80,55,55,55,80,80,80,80,80,55,80,80,80,80,80,80,55,55,80,55,55,80,80,55,55,55,80,80,80,80,80,80,80,80,55,55,55,55,55,80,55,80,80,55,55,55,80,80,80,80,80,80,80,80,80,55,55,55,55,55,80,55,55,80,80,55,55,55,80,80,80,80,80,55,80,80,80,80,55,55,55,55,80,55,55,80,80,55,55,55,80,80,80,80,80,80,80,80,80,55,55,55,55,55,80,55,55,80,80,55,55,55,80,80,80,80,80,55,80,80,80,80,55,55,55,55,80,55,55,80,80,55,55,55,80,80,80,80,80,80,80,80,80,55,55,55,55,55,80,55,55,80,80,55,55,55,80,80,80,80,80,55,80,80,80,80,55,55,55,55,80,55,55,80,80,55,55,80,80,80,80,80,55,80,80,80,80,55,55,55,55,80,55,55,80,80,55,55,55,80,80,80,80,80,55,80,80,80,55,55,55,55,80,55,55,80,80,55,55,55,80,80,80,80,80,55,80,80,80,80,80,80,55,55,80,55,55,80,80,55,55,55,80,80,80,80,80,55,80,80,80,80,55,55,55,55,80,55,55,80,80,55,55,55,80,80,80,80,80,80,80,80,80,55,55,55,55,55,80,55,55,80,80,55,55,55,80,80,80,80,80,80,80,80,80,55,55,55,55,55,80,55,55,80,80,55,55,55,80,80,80,80,80,55,80,80,80,80,55,55,55,55,80,55,55,80,80,55,55,55,80,80,80,80,80,80,80,80,80,55,55,55,55,55,80,55,55,80,80,55,55,55,80,80,80,80,80,80,80,80,80,55,55,55,55,55,80,55,55,80,80,55,55,55,80,80,80,80,80,55,80,80,80,80,55,55,55,55,80,55,55,80,80,55,55,55,80,80,80,80,80,80,80,80,80,55,55,55,55,55,80,55,55,80,80,55,55,80,80,80,80,55,55,55,80,80,80,80,80,55,80,80,80,80,55,55,55,55,80,55,55,80,80,55,55,55,80,80,80,80,80,80,80,80,80,55,55,55,55,55,80,55,55,80,80,55,55,55,80,80,80,80,80,55,80,80,80,80,55,55,55,55,80,55,55,80,80,55,55,55,80,80,80,80,80,55,80,80,80,80,55,55,55,55,80,55,55,80,80,55,55,55,80,80,80,80,80,55,80,80,80,80,55,55,55,55,80,55,55,80,80,55,55,55,80,80,80,80,80,80,80,80,80,55,55,55,55,55,80,55,55,80,80,55,55,55,80,80,80,80,80,55,80,80,80,80,55,55,55,55,80,55,55,80,80,55,55,55,80,80,80,80,80,80,80,80,80,55,55,55,55,55,80,55,55,80,80,55,55,55,80,80,80,80,80,55,80,80,80,80,55,55,55,55,80,55,55,80,80,55,55,55,80,80,80,80,80,80,80,80,80,55,55,55,55,55,80,55,55,80,80,55,55,55,80,80,80,80,80,55,80,80,80,80,55,55,55,55,80,55,55,80,80,55,55,55,80,80,80,80,80,80,80,80,80,55,55,80,55,55,55,80,55,55,80,80,55,55,80,80,80,80,55,55,55,80,80,80,80,80,55,80,80,80,80,55,55,55,55,80,55,80,80,55,55,55,80,80,80,80,80,55,80,80,80,80,80,80,55,55,80,55,55,80,80,55,55,55,80,80,80,80,55,80,80,80,80,80,80,55,55,80,55,80,80,55,55,55,80,80,80,80,80,55,80,80,80,80,55,55,55,55,80,55,55,80,80,55,55,55,80,80,80,80,80,80,80,80,80,55,55,55,55,55,80,55,55,80,80,55,55,55,80,80,80,80,80,55,80,80,80,80,55,55,55,55,80,55,55,80,80,55,55,55,80,80,80,80,80,55,80,80,80,80,80,80,55,55,80,55,55,80,80,55,55,55,80,80,80,80,80,80,80,80,80,55,55,55,55,55,80,55,55,80,80,55,55,55,80,80,80,80,80,55,55,55,80,55,55,80,80,55,55,55,80,80,80,80,80,55,80,80,80,80,55,55,55,55,80,55,55,80,80,55,55,80,80,80,80,55,55,55,80,80,80,80,80,80,80,80,80,55,55,55,55,55,80,55,55,80,80,55,55,55,80,80,80,80,80,55,80,80,80,80,80,80,55,55,80,55,55,80,80,55,55,55,80,80,80,80,80,55,80,80,80,80,80,80,55,55,80,55,55,80,80,55,55,55,80,80,80,80,80,80,80,80,80,55,55,55,55,55,80,55,55,80,80,55,55,55,80,80,80,80,80,80,80,80,80,55,55,55,55,55,80,55,55,80,80,55,55,55,80,80,80,80,80,55,80,80,80,80,55,55,55,55,80,55,55,80,80,55,55,55,80,80,80,80,80,55,80,80,80,80,55,55,55,55,80,55,55,80,80,55,55,55,80,80,80,80,80,55,80,80,80,80,80,80,55,55,80,55,55,80,80,55,55,55,80,80,80,80,80,80,80,80,80,55,55,55,55,55,80,55,55,80,80,55,55,55,80,80,80,80,80,80,80,80,80,55,55,55,55,55,80,55,55,80,80,55,55,55,80,80,80,80,80,55,80,80,80,80,80,80,55,55,80,55,55,80,80,55,55,55,80,80,80,80,80,80,80,80,80,55,55,55,55,55,80,55,55,80,80,55,55,55,80,80,80,80,80,80,80,80,80,55,55,55,55,55,80,55,55,80,80,55,55,55,80,80,80,80,80,55,80,80,80,80,55,55,55,55,80,55,55,80,80,55,55,55,80,80,80,80,80,55,80,80,80,80,80,80,55,55,80,55,55,80,80,55,55,55,80,80,80,80,80,55,80,80,80,80,80,80,55,55,80,55,55,80,80,55,55,55,80,80,80,80,80,80,80,80,80,55,55,55,55,55,80,55,55,80,80,55,55,55,80,80,80,80,80,55,80,80,80,80,80,80,55,55,80,55,55,80,80,55,55,55,80,80,80,80,80,55,80,80,80,80,55,55,55,55,80,55,55,80,80,55,55,55,80,80,80,80,80,80,80,80,80,55,55,55,55,55,80,55,55,80,80,55,55,55,80,80,80,80,80,55,80,80,80,80,80,80,55,55,80,55,55,80,80,55,55,55,80,80,80,80,80,55,80,80,80,80,55,55,55,55,80,55,55,80,80,55,55,55,80,80,80,80,80,80,80,80,80,55,55,55,55,55,80,55,55,80,80,55,55,55,80,80,80,80,80,55,80,80,80,80,80,80,55,55,80,55,55,80,80,55,55,55,80,80,80,80,80,80,80,80,80,55,55,55,55,55,80,55,55,80,80,55,55,55,80,80,80,80,80,80,80,80,80,55,55,55,55,55,80,55,55,80,80,55,55,55,80,80,80,80,80,55,80,80,80,80,55,55,55,55,80,55,55,80,80,55,55,55,80,80,80,80,80,80,80,80,80,55,55,55,55,55,80,55,55,80,80,55,55,55,80,80,80,80,80,80,80,80,80,55,55,55,55,55,80,55,55,80,80,55,55,80,80,80,80,55,80,80,80,80,55,55,80,80,80,80,80,80,80,80,80,80,55,80,80,80,80,55,80,80,80,80,80,80,80,80,80,80,80,80,80,80,80,80,55,80,80,80,80,55,80,80,80,80,80,80,80,80,80,80,80,80,80,80,80,80,55,80,80,80,80,55,80,80,80,80,55,55,80,80,80,80,80,80,80,80,80,80,55,80,80,80,80,55,80,80,80,80,80,80,80,80,80,80,80,80,80,80,80,80,55,80,80,80,80,55,80,80,80,80,55,55,80,80,80,80,80,80,80,80,80,80,55,80,80,80,55,80,80,80,80,55,55,80,80,80,80,80,80,80,80,80,80,55,80,80,80,80,55,80,80,80,80,80,80,80,80,80,80,80,80,80,80,80,80,55,80,80,80,80,55,80,55,80,80,55,80,80,80,80,80,80,80,80,80,80,80,55,80,80,80,80,55,80,80,80,80,80,80,80,80,80,80,80,80,80,80,80,80,55,80,80,80,80,55,80,55,80,80,55,80,80,80,80,80,80,80,80,80,80,80,55,80,80,80,80,55,80,55,80,80,55,80,80,80,80,80,80,80,80,80,80,80,55,80,80,80,80,55,80,55,80,80,55,80,80,80,80,80,80,80,80,80,80,80,55,80,80,80,80,55,80,80,80,80,80,80,80,80,80,80,80,80,80,80,80,80,55,80,80,80,80,55,80,55,80,80,55,80,80,80,80,80,80,80,80,80,80,80,55,80,80,80,80,55,80,80,80,80,80,80,80,80,80,80,80,80,80,55,80,80,80,80,55,80,80,80,80,80,80,80,80,80,80,80,80,80,80,80,80,55,80,80,80,80,55,80,80,80,80,80,80,80,80,80,80,80,80,80,80,80,80,55,80,80,80,80,55,80,55,80,80,55,80,80,80,80,80,80,80,80,80,80,80,55,80,80,80,80,55,80,80,80,80,80,80,80,80,80,80,80,80,80,80,80,80,55,80,80,80,80,55,80,80,80,80,80,80,80,80,80,80,80,80,80,80,80,80,55,80,80,80,80,55,80,55,80,80,55,80,80,80,80,80,80,80,80,80,80,80,55,80,80,80,80,55,80,80,55,80,80,55,80,80,80,80,80,80,80,80,80,80,80,55,80,80,80,80,55,80,80,80,80,80,80,80,80,80,80,80,80,80,80,80,80,55,80,80,80,80,55,80,80,80,80,55,55,80,80,80,80,80,80,80,80,80,80,55,80,80,80,80,55,80,80,80,80,55,55,80,80,80,80,80,80,80,80,80,80,55,80,80,80,80,55,80,80,80,80,80,80,80,80,80,80,80,80,80,80,80,80,55,80,80,80,80,55,80,80,80,80,80,80,80,80,80,80,80,80,80,80,80,80,55,80,80,80,80,55,80,55,80,80,55,80,80,80,80,80,80,80,80,80,80,80,55,80,80,80,80,55,80,55,80,80,55,80,80,80,80,80,80,80,80,80,80,80,55,80,80,80,80,55,80,80,80,80,80,80,80,80,80,80,80,80,80,80,80,80,55,80,80,80,80,55,80,80,80,80,55,55,80,80,80,80,80,80,80,80,80,80,55,80,80,80,80,55,80,80,80,80,80,80,80,80,80,80,80,80,80,80,80,80,55,80,80,80,80,55,80,80,80,55,80,80,80,80,80,80,80,80,80,80,80,55,80,80,80,80,55,80,55,80,80,55,80,80,80,80,80,80,80,80,80,80,80,55,80,80,80,80,55,80,80,80,80,80,80,80,80,80,80,80,80,80,80,80,80,55,80,80,80,80,55,80,55,80,80,55,80,80,80,80,80,80,80,80,80,80,80,55,80,80,80,80,55,80,55,80,80,55,80,80,80,80,80,80,80,80,80,80,80,55,80,80,80,80,55,80,55,80,80,55,80,80,80,80,80,80,80,80,80,80,80,55,80,80,80,80,55,80,55,80,80,55,80,80,80,80,80,80,80,80,80,80,80,55,80,80,80,80,55,80,80,80,80,55,55,80,80,80,80,80,80,80,80,80,80,55,80,80,80,80,55,80,80,80,80,55,55,80,80,80,80,80,80,80,80,80,80,55,80,80,80,80,55,80,80,80,80,55,55,80,80,80,80,80,80,80,80,80,80,55,80,80,80,80,55,80,55,80,80,55,80,80,80,80,80,80,80,80,80,80,80,55,80,80,80,80,55,80,80,80,55,80,80,80,80,80,80,80,80,80,80,80,55,80,80,80,80,55,80,55,80,80,55,80,80,80,80,80,80,80,80,80,80,80,55,80,80,80,80,55,80,80,80,80,80,80,80,80,80,80,80,80,80,80,80,80,55,80,80,80,80,55,80,80,80,80,80,80,80,80,80,80,80,55,55,55,80,80,55,80,80,80,80,80,80,80,80,80,80,80,55,80,80,80,80,55,80,80,80,80,80,80,80,80,80,80,80,80,80,80,80,80,55,80,80,80,80,55,80,55,80,80,55,80,80,80,80,80,80,80,80,80,80,80,55,80,80,80,80,55,80,55,80,80,55,80,80,80,80,80,80,80,80,80,80,80,55,80,80,80,80,55,80,55,80,80,55,80,80,80,80,80,80,80,80,80,80,80,55,80,80,80,80,55,80,80,80,80,80,80,80,80,80,80,80,80,80,80,80,80,55,80,80,80,80,55,80,55,80,80,55,80,80,80,80,80,80,80,80,80,80,80,55,80,80,80,80,55,80,80,80,80,55,55,80,80,80,80,80,80,80,80,80,80,55,80,80,80,80,55,80,80,80,80,55,55,80,80,80,80,80,80,80,80,80,80,55,80,80,80,80,55,80,80,80,80,80,80,80,80,80,80,80,80,80,80,80,80,55,80,80,80,80,55,80,80,80,80,55,55,80,80,80,80,80,80,80,80,80,80,55,80,80,80,80,55,80,80,80,80,80,80,80,80,80,80,80,80,80,80,80,80,55,80,80,80,80,55,80,80,80,80,80,80,80,80,80,80,80,80,80,80,80,80,55,80,80,80,80,55,80,80,80,80,80,80,80,80,80,80,80,80,80,80,80,80,55,80,80,80,80,55,80,80,80,80,80,80,80,80,80,80,80,80,80,80,80,80,55,80,80,80,80,55,80,55,80,80,55,80,80,80,80,80,80,80,80,80,80,80,55,80,80,80,80,55,80,80,80,80,80,80,80,80,80,80,80,80,80,80,80,80,55,80,80,80,80,55,80,55,80,80,55,80,80,80,80,80,80,80,80,80,80,80,55,80,80,80,80,55,80,55,80,80,55,80,80,80,80,80,80,80,80,80,80,80,55,80,80,80,80,55,80,55,80,80,55,80,80,80,80,80,80,80,80,80,80,55,80,80,80,80,55,80,55,80,80,55,80,80,80,80,80,80,80,80,80,80,80,55,80,80,80,80,55,80,80,80,80,80,80,80,80,80,80,80,80,80,80,80,80,55,80,80,80,80,55,80,55,80,80,55,80,80,80,80,80,80,80,80,80,80,80,55,80,80,80,80,55,80,80,80,80,55,55,80,80,80,80,80,80,80,80,80,55,80,80,80,80,55,80,80,80,80,55,55,80,80,80,80,80,80,80,80,80,80,55,80,80,80,80,55,80,55,80,80,55,80,80,80,80,80,80,80,80,80,80,80,55,80,80,80,80,55,80,55,80,80,55,80,80,80,80,80,80,80,80,80,80,80,55,80,80,80,80,55,80,55,80,80,55,80,80,80,80,80,80,80,80,80,80,80,55,80,80,80,80,55,80,55,80,80,55,80,80,80,80,80,80,80,80,80,80,80,55,80,80,80,80,55,80,55,80,80,55,80,80,80,80,80,80,80,80,80,80,80,55,80,80,80,80,55,80,80,80,80,80,80,80,80,80,80,80,80,80,80,80,80,55,80,80,80,80,55,80,55,80,80,55,80,80,80,80,80,80,80,80,80,80,80,55,80,80,80,80,55,80,80,80,80,55,55,80,80,80,80,80,80,80,80,80,80,55,80,80,80,80,55,80,55,80,80,55,80,80,80,80,80,80,80,80,80,80,80,55,80,80,80,80,55,80,80,80,80,80,80,80,80,80,80,80,80,80,80,80,80,55,80,80,80,80,55,80,80,80,80,55,55,80,80,80,80,80,80,80,80,80,80,55,80,80,80,80,55,80,55,80,80,55,80,80,80,80,80,80,80,80,80,80,80,55,80,80,80,80,55,80,80,80,80,80,80,80,80,80,80,80,80,80,80,80,80,55,80,80,80,80,55,80,80,80,80,55,55,80,80,80,80,80,80,80,80,80,80,55,80,80,80,80,55,80,80,80,80,55,55,80,80,80,80,80,80,80,80,80,80,55,80,80,80,80,55,80,55,80,80,55,80,80,80,80,80,80,80,80,80,80,80,55,80,80,80,80,55,80,80,80,80,80,80,80,80,80,80,80,80,80,80,80,80,55,80,80,80,80,55,80,80,80,80,80,80,80,80,80,80,80,80,80,80,80,55,80,80,80,80,55,80,55,80,80,55,80,80,80,80,80,80,80,80,80,80,80,55,80,80,80,80,55,80,55,80,80,55,80,80,80,80,80,80,80,80,80,80,80,55,80,80,80,80,55,80,80,80,80,80,80,80,80,80,80,80,80,80,80,80,80,55,80,80,80,80,55,80,55,80,80,55,80,80,80,80,80,80,80,80,80,80,80,55,80,80,80,80,55,80,55,80,80,55,80,80,80,80,80,80,80,80,80,80,80,55,80,80,80,80,55,80,80,80,80,80,80,80,80,80,80,80,80,80,80,80,80,55,80,80,80,80,55,80,80,80,80,80,80,80,80,80,80,80,80,80,80,80,80,55,80,80,80,80,55,80,80,80,80,80,80,80,80,80,80,80,55,55,55,80,80,55,80,80,80,80,80,80,80,80,80,80,80,55,80,80,80,80,55,80,80,80,80,80,80,80,80,80,80,80,80,80,80,80,80,55,80,80,80,80,55,80,80,80,80,80,80,80,80,80,80,80,80,80,80,80,80,55,80,80,80,80,55,80,80,80,80,55,55,80,80,80,80,80,80,80,80,80,80,55,80,80,80,80,55,80,55,80,80,55,80,80,80,80,80,80,80,80,80,80,80,55,80,80,80,80,55,80,80,80,80,80,80,80,80,80,80,80,80,80,80,80,80,55,80,80,80,80,55,80,80,80,80,80,80,80,80,80,80,80,80,80,80,80,80,55,80,80,80,80,55,80,55,80,80,55,80,80,80,80,80,80,80,80,80,80,80,55,80,80,80,80,55,80,55,80,80,55,80,80,80,80,80,80,80,80,80,80,80,55,80,80,80,80,55,80,80,80,80,80,80,80,80,80,80,80,80,80,80,80,80,55,80,80,80,80,55,80,80,80,80,80,80,80,80,80,80,80,55,80,80,80,80,55,80,55,80,80,55,80,80,80,80,80,80,80,80,80,80,80,55,80,80,80,80,55,80,80,80,80,55,55,80,80,80,80,80,80,80,80,80,80,55,80,80,80,80,55,80,55,80,80,55,80,80,80,80,80,80,80,80,80,80,80,55,80,80,80,80,55,80,55,80,80,55,80,80,80,80,80,80,80,80,80,80,80,55,80,80,80,80,55,80,55,80,80,55,80,80,80,80,80,80,80,80,80,80,80,55,80,80,80,80,55,80,80,80,80,55,55,80,80,80,80,80,80,80,80,80,80,55,80,80,80,80,55,80,55,80,80,55,80,80,80,80,80,80,80,80,80,80,55,80,80,80,80,55,80,55,80,80,55,80,80,80,80,80,80,80,80,80,80,80,55,80,80,80,80,55,80,80,80,80,80,80,80,80,80,80,80,80,80,80,80,80,55,55,55,55,80,30,55,55,80,80,55,55,55,30,80,30,80,55,55,80,30,55,30,55,55,55,80,30,55,55,80,80,55,55,55,30,80,30,80,55,55,80,30,55,30,80,55,30,55,55,55,80,55,55,80,80,55,55,80,30,30,55,30,30,80,55,30,55,55,80,55,55,30,80,55,55,55,80,30,55,80,55,55,80,30,55,30,80,55,30,55,55,55,80,55,55,55,80,30,80,55,55,80,30,30,55,30,30,80,80,55,30,55,55,55,80,55,55,55,80,30,80,55,55,80,30,30,55,30,30,80,55,55,55,80,30,55,55,80,80,55,55,55,30,80,30,80,55,55,80,30,55,30,80,55,30,55,55,55,80,55,55,55,80,30,80,55,55,80,30,30,55,30,30,80,55,30,55,55,80,55,55,30,80,55,55,55,80,30,55,80,55,55,80,30,55,30,55,55,55,80,30,55,55,80,80,55,55,55,30,80,30,80,55,55,80,30,55,30,55,30,55,55,80,55,55,30,80,55,55,55,80,30,55,80,55,55,80,30,55,30,55,55,55,80,30,55,55,80,80,55,55,55,30,80,30,80,55,55,80,30,55,30,55,55,55,80,30,55,55,80,80,55,55,55,30,80,30,80,55,55,80,30,55,30,80,55,30,55,55,55,80,55,55,55,80,30,80,55,55,80,30,30,30,30,80,55,30,55,55,80,55,55,30,80,55,55,55,80,30,55,80,55,55,80,30,55,30,80,55,80,80,30,55,30,30,80,30,55,55,30,30,30,30,80,80,55,30,30,80,55,55,30,80,55,80,80,30,55,30,30,80,55,30,30,30,80,30,55,30,30,80,80,55,80,80,30,55,30,30,80,30,55,55,30,30,30,30,80,80,55,30,30,80,55,55,30,80,55,80,80,30,55,30,30,80,55,30,30,30,80,30,55,30,30,80,55,55,30,80,55,80,80,30,55,30,30,80,55,30,30,30,80,30,55,30,30,80,80,80,55,80,80,55,55,30,55,30,30,80,30,55,30,30,80,55,55,30,30,80,80,55,80,80,30,55,30,30,80,30,55,55,30,30,30,30,80,80,55,30,30,80,80,55,80,80,30,55,30,30,80,30,55,55,30,30,30,30,80,80,55,30,30,80,80,80,55,80,80,55,55,30,55,30,30,80,30,55,30,30,80,55,55,30,30,80,80,55,80,80,30,55,30,30,80,30,55,55,30,30,30,30,80,80,55,30,30,80,55,55,30,80,55,80,80,30,55,30,30,80,55,30,30,30,80,30,55,30,30,80,55,55,30,80,55,80,80,30,55,30,30,80,55,30,30,30,80,30,55,30,30,80,80,80,55,80,80,55,55,30,55,30,30,80,30,55,30,30,80,55,55,30,30,80,55,55,30,80,55,80,80,30,55,30,30,80,55,30,30,30,80,30,55,30,30,80,55,55,30,80,55,80,80,30,55,30,30,80,55,30,30,30,80,30,55,30,30,80,55,55,30,80,55,80,80,30,55,30,30,80,55,30,30,30,80,30,55,30,30,80,80,55,80,80,30,55,30,30,80,30,55,55,30,30,30,30,80,80,55,30,30,80,80,55,80,80,30,55,30,30,80,30,55,55,30,30,30,30,80,80,55,30,30,80,80,80,55,80,80,55,55,30,55,30,30,80,30,55,30,30,80,55,55,30,30,80,55,55,30,80,55,80,80,30,55,30,30,80,55,30,30,30,80,30,55,30,30,80,80,55,80,80,30,55,30,30,80,30,55,55,30,30,30,30,80,80,55,30,30,80,80,55,80,80,30,55,30,30,80,30,55,55,30,30,30,30,80,80,55,30,30,80,55,55,30,80,55,80,80,30,55,30,30,80,55,30,30,30,80,30,55,30,30,80,80,80,55,80,80,55,55,30,55,30,30,80,30,55,30,30,80,55,55,30,30,80,55,55,30,80,55,80,80,30,55,30,30,80,55,30,30,30,80,30,55,30,30,80,55,55,30,80,55,80,80,30,55,30,30,80,55,30,30,30,80,30,55,30,30,80,80,80,55,80,80,55,55,30,55,30,30,80,30,55,30,30,80,55,55,30,30,80,55,55,30,80,55,80,80,30,55,30,30,80,55,30,30,30,80,30,55,30,30,80,80,80,55,80,80,55,55,30,55,30,30,80,80,30,55,55,30,80,30,55,30,30,80,80,55,55,30,30,80,55,55,30,80,55,30,80,55,80,80,30,55,30,30,80,30,55,55,30,30,30,30,80,80,55,30,30,80,80,55,80,80,30,55,30,30,30,30,30,80,80,55,30,30,80,55,55,30,80,55,80,80,30,55,30,30,80,55,30,30,30,80,30,55,30,30,80,80,55,80,80,30,55,30,30,80,30,55,30,30,30,30,80,80,55,30,30,80,55,80,80,30,55,30,30,80,30,55,55,30,30,30,30,80,80,55,30,30,80,80,80,55,80,80,55,55,30,55,30,30,80,30,55,30,30,80,55,55,30,30,80,80,55,80,80,30,55,30,30,80,30,55,55,30,30,30,30,80,80,55,30,30,80,80,80,55,80,80,55,55,30,55,30,30,80,30,55,30,30,80,55,55,30,30,80,80,55,80,80,30,55,30,30,80,30,55,55,30,30,30,30,80,80,55,30,30,80,80,55,80,80,30,55,30,30,80,30,55,55,30,30,30,30,80,80,55,30,30,80,80,80,55,80,80,55,55,30,55,30,30,80,30,55,30,30,80,55,55,30,30,80,80,55,80,80,30,55,30,30,30,55,55,30,30,30,30,80,80,55,30,30,80,80,80,55,80,80,55,55,30,55,30,30,80,30,55,30,30,80,55,55,30,30,80,80,55,80,80,30,55,30,30,80,30,55,55,30,30,30,30,80,80,55,30,30,80,80,80,55,80,80,55,55,30,55,30,30,80,30,55,30,30,80,55,55,30,30,80,55,55,30,80,55,80,80,30,55,30,30,80,55,30,30,30,80,30,55,30,30,80,80,55,80,80,30,55,30,30,80,30,55,55,30,30,30,30,80,80,55,30,30,80,80,80,55,80,80,55,55,30,55,30,30,80,30,55,30,30,80,55,55,30,30,80,55,55,30,80,55,80,80,30,55,30,30,80,55,30,30,30,80,30,55,30,30,80,55,55,30,80,55,80,80,30,55,30,30,80,55,30,30,30,80,30,55,30,30,80,80,55,80,80,30,55,30,30,80,30,55,55,30,30,30,30,80,80,55,30,30,80,80,80,55,80,80,55,55,30,55,30,30,80,30,55,30,30,80,55,55,30,30,80,80,80,55,80,80,55,55,30,55,30,30,80,30,55,30,30,80,55,55,30,30,80,80,80,55,80,80,55,55,30,55,30,30,80,30,55,30,30,80,55,55,30,30,80,55,55,30,80,55,80,80,30,55,30,30,80,55,30,30,30,80,30,55,30,30,80,55,55,30,80,55,80,80,30,55,30,30,80,55,30,30,30,80,30,55,30,30,80,80,80,55,80,80,55,55,30,55,30,30,80,30,55,30,30,80,55,55,30,30,80,80,55,80,80,30,55,30,30,80,30,55,55,30,30,30,30,80,80,55,30,30,80,55,80,80,30,55,30,30,80,30,55,55,30,30,30,30,80,80,55,30,30,80,55,55,30,80,55,80,80,30,55,30,30,80,55,30,30,30,80,30,55,30,30,80,80,80,55,80,80,55,55,30,55,30,30,80,30,55,30,30,80,55,55,30,30,80,55,55,30,80,55,80,80,30,55,30,30,80,55,30,30,30,80,30,55,30,30,80,55,55,30,80,55,80,80,30,55,30,30,80,55,30,30,30,80,30,55,30,30,80,80,80,55,80,80,55,30,55,30,30,80,30,55,30,30,80,55,55,30,30,80,80,55,80,80,30,55,30,30,80,30,55,55,30,30,30,30,80,80,55,30,30,80,55,55,30,80,55,80,80,30,55,30,30,80,55,30,30,30,80,30,55,30,30,80,80,55,80,80,30,55,30,30,80,30,55,55,30,30,30,30,80,80,55,30,30,80,55,55,30,80,55,80,80,30,55,30,30,80,55,30,30,30,80,30,55,30,30,80,80,80,55,80,80,55,55,30,55,30,30,80,30,55,30,30,80,55,55,30,30,80,80,55,80,80,30,55,30,30,80,30,55,55,30,30,30,30,80,80,55,30,30,80,55,55,30,80,55,80,80,30,55,30,30,55,30,30,30,80,30,55,30,30,80,55,55,30,80,55,80,80,30,55,30,30,80,55,30,30,30,80,30,55,30,30,80,80,80,55,80,80,55,55,30,55,30,30,80,30,55,30,30,80,55,55,30,30,80,55,55,30,80,55,80,80,30,55,30,30,80,55,30,30,30,80,30,55,30,30,80,55,55,30,80,55,80,80,30,55,30,30,80,55,30,30,30,80,30,55,30,30,80,80,55,80,80,30,55,30,30,80,30,55,55,30,30,30,30,80,80,55,30,30,80,55,55,30,80,55,80,80,30,55,30,30,80,55,30,30,30,80,30,55,30,30,80,80,55,80,80,30,55,30,30,80,30,55,55,30,30,30,30,80,80,55,30,30,80,55,55,30,80,55,80,80,30,55,30,30,80,55,30,30,30,80,30,55,30,30,80,80,55,80,80,30,55,30,30,80,30,55,55,30,30,30,30,80,80,55,30,30,80,80,80,55,80,80,55,55,30,55,30,30,80,30,55,30,30,80,55,55,30,30,80,80,80,55,80,80,55,55,30,55,30,30,80,30,55,30,30,80,55,55,30,30,80,80,55,80,80,30,55,30,30,80,30,55,55,30,30,30,30,80,80,55,30,30,80,80,55,80,80,30,55,30,30,80,30,55,55,30,30,30,30,80,80,55,30,30,80,55,55,30,80,55,80,80,30,55,30,30,80,55,30,30,30,80,30,55,30,30,80,80,55,80,80,30,55,30,30,80,30,55,55,30,30,30,30,80,80,55,30,80,80,55,80,80,30,55,30,30,80,30,55,55,30,30,30,30,80,80,55,30,30,80,55,55,30,80,55,80,80,30,55,30,30,80,55,30,30,30,80,30,55,30,30,80,80,80,30,55,30,80,55,80,80,80,55,30,55,30,80,55,30,30,55,80,55,30,80,80,30,55,30,80,80,80,80,80,80,30,80,80,55,30,80,30,55,80,55,30,80,80,80,55,30,55,30,55,30,80,30,80,80,55,30,80,30,55,80,80,55,30,80,80,30,55,30,80,55,80,80,80,55,30,55,30,80,55,30,30,55,80,55,30,80,80,80,55,30,55,30,55,30,80,30,80,80,55,30,80,30,55,80,80,55,30,80,80,30,55,30,80,80,80,80,80,80,30,80,80,55,30,80,30,55,80,55,30,80,80,30,55,30,80,80,80,80,80,80,30,80,80,55,30,80,30,55,80,55,30,80,80,30,55,30,80,80,80,80,80,80,30,80,80,55,30,80,30,55,80,55,30,80,80,80,55,30,55,30,55,30,80,30,80,80,55,30,80,30,55,80,80,55,30,80,80,80,55,30,55,30,55,30,80,30,80,80,55,30,80,30,55,80,80,55,30,80,80,30,55,30,80,80,80,80,80,80,30,80,80,55,30,80,30,55,80,55,30,80,80,30,55,30,80,80,80,80,80,80,30,80,80,55,30,80,30,55,80,55,30,80,80,30,55,30,80,80,80,80,80,80,30,80,80,55,30,80,30,55,80,55,30,80,80,30,55,30,80,55,80,80,80,80,80,80,30,80,80,55,30,55,30,80,55,30,30,55,80,55,30,80,80,80,55,30,55,30,55,30,80,30,80,80,55,30,80,30,55,80,80,55,30,80,80,80,55,30,55,30,55,30,80,30,80,80,55,30,80,30,55,80,80,55,30,80,80,80,55,30,55,30,55,30,80,30,80,80,55,30,80,30,55,80,80,55,30,80,80,30,55,30,80,55,80,80,80,55,30,55,30,80,55,30,30,55,80,55,30,80,80,30,55,30,80,55,80,80,80,55,30,55,30,80,55,30,30,55,80,55,30,80,80,80,55,30,55,30,55,30,80,30,80,80,55,30,80,30,55,80,80,55,30,80,80,30,55,30,80,55,80,80,80,55,30,55,30,80,55,30,30,55,80,55,30,80,80,80,55,30,55,30,55,30,80,30,80,80,55,30,80,30,55,80,80,55,30,80,80,80,55,30,55,30,55,30,80,30,80,80,55,30,80,30,55,80,80,55,30,80,80,80,55,30,55,30,55,30,80,30,80,80,55,30,80,30,55,80,80,55,30,80,80,80,55,30,55,30,55,30,80,30,80,80,55,30,80,30,55,80,80,55,30,80,80,80,55,30,55,30,55,30,80,30,80,80,55,30,80,30,55,80,80,55,30,80,80,80,55,30,55,30,55,30,80,30,80,80,55,30,80,30,55,80,80,55,30,80,80,80,55,30,55,30,55,30,80,30,80,80,55,30,80,30,55,80,80,55,30,80,80,30,55,30,80,80,80,80,55,30,55,80,55,30,30,55,80,55,30,80,80,30,55,30,80,80,80,80,80,80,30,80,80,55,30,80,30,55,80,55,30,80,80,80,55,30,55,30,55,30,80,30,80,80,55,30,80,30,55,80,80,55,30,80,80,30,55,30,80,55,80,80,80,55,30,55,30,80,55,30,30,55,80,55,30,80,80,30,55,30,80,55,80,80,80,55,30,55,30,80,55,30,30,55,80,55,30,80,80,30,55,30,80,80,80,80,80,80,30,80,80,55,30,80,30,55,80,55,30,80,80,30,55,30,80,80,80,80,80,80,30,80,80,55,30,80,30,55,80,55,30,80,80,30,55,30,80,55,80,80,80,55,30,55,30,80,55,30,30,55,80,55,30,80,80,80,55,30,55,30,55,30,80,30,80,80,55,30,80,30,55,80,80,55,30,80,80,80,55,30,55,30,55,30,80,30,80,80,55,30,80,30,55,80,80,55,30,80,80,80,55,30,55,30,55,30,80,30,80,80,55,80,30,55,80,80,55,30,80,80,30,55,30,80,55,80,80,80,55,30,55,30,80,55,30,30,55,80,55,30,80,80,80,55,30,55,30,55,30,80,30,80,80,55,30,80,30,30,55,80,80,55,30,80,80,80,55,30,55,30,30,80,30,80,80,55,30,80,30,55,80,80,55,30,80,80,30,55,30,80,80,80,80,80,80,30,80,80,55,30,80,30,55,80,55,30,80,80,80,55,30,55,30,55,30,80,30,80,80,55,30,80,30,55,80,80,55,30,80,80,30,30,80,55,80,55,30,55,30,55,30,30,80,55,30,80,80,30,55,30,80,55,80,80,80,55,30,55,30,80,55,30,30,55,80,55,30,80,80,30,55,30,80,55,80,80,80,55,30,55,30,80,55,30,30,55,80,55,30,80,80,80,55,30,55,30,55,30,80,30,80,80,55,30,80,30,55,80,80,55,30,80,80,80,55,30,55,30,55,30,80,30,80,80,55,30,80,30,55,80,80,55,30,80,80,30,55,30,80,55,80,80,80,55,30,55,30,80,55,30,30,55,80,55,30,80,80,80,55,30,55,30,55,30,80,30,80,80,55,30,80,30,55,80,80,55,30,80,80,80,55,30,55,30,55,30,80,30,80,80,55,30,80,30,55,80,80,55,30,80,80,30,55,30,80,55,80,80,80,55,30,55,30,80,55,30,30,55,80,55,30,80,80,80,55,30,55,30,55,30,80,30,80,80,55,30,80,30,55,80,80,55,30,80,80,80,55,30,55,30,55,30,80,30,80,80,55,30,80,30,55,80,80,55,30,80,80,30,55,30,80,55,80,80,80,55,30,55,30,80,55,30,30,55,80,55,30,80,80,80,55,30,55,30,55,30,80,30,80,80,55,30,80,30,55,80,80,55,30,80,80,80,55,30,55,30,55,30,80,30,80,80,55,30,80,30,55,80,80,55,30,80,80,30,55,30,80,80,80,80,80,80,30,80,80,55,30,80,30,55,80,55,30,80,80,30,55,30,80,55,80,80,80,55,30,55,30,80,55,30,30,55,80,55,30,80,80,30,55,30,80,55,80,80,80,55,30,55,30,80,55,30,30,55,80,55,30,80,80,30,55,30,80,80,80,80,80,80,30,80,80,55,30,80,30,55,80,55,30,80,80,30,55,30,55,30,80,30,80,80,55,30,80,30,55,80,80,55,30,80,80,30,55,30,80,55,80,80,80,55,30,55,30,80,55,30,30,55,80,55,30,80,80,30,55,30,80,55,80,80,80,55,30,55,30,80,55,30,30,55,80,55,30,80,80,30,55,30,80,80,80,80,80,80,30,80,80,55,30,80,30,55,80,55,30,80,80,80,55,30,55,30,55,30,80,30,80,80,55,30,80,30,55,80,80,55,30,80,80,30,55,30,80,80,80,80,80,80,30,80,80,55,30,80,30,55,80,55,30,80,80,30,55,30,80,80,80,80,80,80,30,80,80,55,30,80,30,55,80,55,30,80,80,80,55,30,55,30,55,30,80,30,80,80,55,30,80,30,55,80,80,55,30,80,80,30,55,30,80,55,80,80,80,55,30,55,30,80,55,30,30,55,80,55,30,80,80,30,55,30,80,80,80,80,80,80,30,80,80,55,30,80,30,55,80,55,30,80,80,30,30,80,55,80,80,80,55,30,55,30,80,55,30,30,55,80,55,30,80,80,80,55,30,55,30,55,30,80,30,80,80,55,30,80,30,55,80,80,55,30,80,80,30,55,30,80,80,80,80,80,80,30,80,80,55,30,80,30,55,80,55,30,80,80,30,55,30,80,80,80,55,30,80,30,30,55,80,55,30,80,80,80,55,30,55,30,55,30,80,30,80,80,55,30,80,30,55,80,80,55,30,80,80,30,55,30,80,80,80,80,80,80,30,80,80,55,30,80,30,55,80,55,30,80,80,30,55,30,80,80,80,80,55,30,80,30,55,80,55,30,80,80,80,55,30,55,30,55,30,80,30,80,80,55,30,80,30,55,80,80,55,30,80,80,30,55,30,80,80,80,80,80,80,30,80,80,55,30,80,30,55,80,55,30,80,80,80,80,80,30,80,80,80,55,30,55,30,55,30,80,30,80,80,55,30,80,30,55,80,80,55,30,80,80,80,55,30,55,30,55,30,80,30,80,80,55,30,80,30,55,80,80,55,30,80,80,30,55,30,80,55,80,80,80,55,30,55,30,80,55,30,30,55,80,55,30,80,80,30,55,30,80,80,80,80,80,80,30,80,80,55,30,80,30,55,80,55,30,80,30,55,30,80,80,80,80,55,30,80,30,55,80,55,30,80,80,30,55,30,80,80,80,80,80,80,30,80,80,55,30,80,30,55,80,55,30,80,80,30,55,30,80,80,80,80,55,30,80,30,55,80,55,30,80,80,30,55,30,80,80,80,30,80,55,80,55,30,80,80,30,55,30,80,55,80,80,80,55,30,55,30,80,55,30,30,55,80,55,30,80,80,55,30,30,55,55,80,30,80,30,55,30,30,80,80,55,55,30,30,30,80,80,80,55,30,30,55,55,80,30,80,30,55,30,30,80,80,55,55,30,30,30,80,30,55,30,30,30,55,80,80,55,30,30,55,55,80,30,80,30,55,30,30,80,80,55,55,30,30,30,80,30,30,80,80,55,30,30,55,55,80,30,30,55,30,55,55,55,30,80,30,55,30,30,80,80,30,30,55,55,55,30,30,30,80,80,80,55,30,30,55,80,30,55,30,80,30,55,30,80,30,30,55,55,30,30,80,80,80,55,30,30,55,80,30,55,30,80,30,55,30,80,30,30,55,55,30,30,80,30,30,80,80,55,30,30,55,80,55,55,55,30,80,30,55,30,80,55,30,30,80,30,30,80,80,55,30,30,55,80,55,55,55,30,80,30,55,30,80,55,30,30,80,80,80,55,30,30,55,55,80,30,80,30,55,30,30,80,80,55,55,30,30,30,80,80,80,55,30,30,55,55,80,30,80,30,55,30,30,80,80,55,55,30,30,30,80,80,80,55,30,30,55,55,80,30,80,30,55,30,30,80,80,55,55,30,30,30,80,80,80,55,30,30,55,55,80,30,80,30,55,30,30,80,80,55,55,30,30,30,80,30,30,80,80,55,30,30,55,80,55,55,55,30,80,30,55,30,80,55,30,30,80,80,80,55,30,30,55,55,80,30,80,30,55,30,30,80,80,55,55,30,30,30,80,80,80,55,30,30,55,55,80,30,80,30,55,30,30,80,80,55,55,30,30,30,80,80,80,55,30,30,55,55,80,30,80,30,55,30,30,80,80,55,55,30,30,30,80,30,30,80,80,55,30,30,55,80,55,55,55,30,80,30,55,30,80,55,30,30,80,80,80,55,30,30,55,55,80,30,80,30,55,30,30,80,80,55,55,30,30,30,80,80,80,55,30,30,55,55,80,30,80,30,55,30,30,80,80,55,55,30,30,30,80,80,80,55,30,30,55,80,30,55,30,80,30,55,30,80,30,30,55,55,30,30,80,30,30,80,80,55,30,30,55,80,55,55,55,30,80,30,55,30,80,55,30,30,80,80,80,55,30,30,55,55,80,30,80,30,55,30,30,80,80,55,55,30,30,30,80,80,80,55,30,30,55,55,80,30,80,30,55,30,30,80,80,55,55,30,30,30,80,80,80,55,30,30,55,80,30,55,30,80,30,55,30,80,30,30,55,55,30,30,80,80,80,55,30,30,55,55,80,30,80,30,55,30,30,80,80,55,55,30,30,30,80,80,80,55,30,30,55,55,80,30,80,30,55,30,30,80,80,55,55,30,30,30,80,30,30,80,80,55,30,30,55,80,55,55,55,30,80,30,55,30,80,55,30,30,80,80,80,55,30,30,55,80,30,55,30,80,30,55,30,80,30,30,55,55,30,30,80,80,80,55,30,30,55,80,30,55,30,80,30,55,30,80,30,30,55,55,30,30,80,80,80,55,30,30,55,80,30,55,30,80,30,55,30,80,30,30,55,55,30,30,80,30,30,80,80,55,30,30,55,80,55,55,30,80,30,55,30,80,55,30,30,80,80,80,55,30,30,55,80,30,55,30,80,30,55,30,80,30,30,55,55,30,30,80,80,80,55,30,30,55,55,80,30,80,30,55,30,30,80,80,55,55,30,30,30,80,80,80,55,30,30,55,55,80,30,80,30,55,30,30,80,80,55,55,30,30,30,80,30,30,55,55,55,30,30,30,80,80,55,30,30,55,80,55,55,55,30,80,30,55,30,80,55,30,30,80,80,80,55,30,30,55,80,30,55,30,80,30,55,30,80,30,30,55,55,30,30,80,80,80,55,30,30,55,55,80,30,80,30,55,30,30,80,80,55,55,30,30,30,80,30,30,80,80,55,30,30,55,80,55,55,55,30,80,30,55,30,80,55,30,30,80,80,80,55,30,30,55,55,80,30,80,55,30,30,80,80,55,55,30,30,30,80,30,30,80,80,55,30,30,55,55,80,30,30,55,30,55,55,55,30,80,30,55,30,30,80,80,30,30,55,55,55,30,30,30,80,30,30,80,80,55,30,30,55,80,55,55,55,30,80,30,55,30,30,80,55,30,30,80,80,80,55,30,30,55,55,80,30,80,30,55,30,30,80,80,55,55,30,30,30,80,80,80,55,30,30,55,80,30,55,30,80,30,55,30,80,30,30,55,55,30,30,80,80,80,55,30,30,55,55,80,30,80,30,55,30,30,80,80,55,55,30,30,30,80,30,30,80,80,55,30,30,55,80,55,55,55,30,80,30,55,30,80,55,30,30,80,30,30,80,80,55,30,30,55,80,55,55,55,30,80,30,55,30,80,55,30,30,80,80,80,55,30,30,55,80,30,55,30,80,30,55,30,80,30,30,55,55,30,30,80,80,80,55,30,30,55,80,30,55,30,80,30,55,30,80,30,30,55,55,30,30,80,30,30,80,80,55,30,30,55,80,55,55,55,30,80,30,55,30,80,55,30,30,80,80,80,55,30,30,55,55,80,30,80,30,55,30,30,80,80,55,55,30,30,30,80,80,80,55,30,30,55,55,80,30,80,30,55,30,30,80,55,55,30,30,30,80,80,80,55,30,30,55,80,30,55,30,80,30,55,30,80,30,30,55,55,30,30,80,30,30,80,80,55,30,30,55,80,55,55,55,30,80,30,55,30,80,55,30,30,80,30,30,80,80,55,30,30,55,80,55,55,55,30,80,30,55,30,80,55,30,30,80,80,80,55,30,30,55,80,30,55,30,80,30,55,30,80,30,30,55,55,30,30,80,80,80,55,30,30,55,55,80,30,80,30,55,30,30,80,80,55,55,30,30,30,80,30,30,80,80,55,30,30,55,80,55,55,55,30,80,30,55,30,80,55,30,30,80,30,30,80,80,55,30,30,55,80,55,55,55,30,80,30,55,30,80,55,30,30,80,80,80,55,30,30,55,80,30,55,30,80,30,55,30,80,30,30,55,55,30,30,80,80,80,55,30,30,55,80,30,55,30,80,30,55,30,80,30,30,55,55,30,30,80,80,80,55,30,30,55,80,30,55,30,80,30,55,30,80,30,30,55,55,30,30,80,80,80,55,30,30,55,55,80,30,80,30,55,30,30,80,80,55,55,30,30,80,80,80,55,30,30,55,55,80,30,80,30,55,30,30,80,80,55,55,30,30,30,80,30,30,80,80,55,30,30,55,80,55,55,55,30,80,30,55,30,80,55,30,30,80,80,80,55,30,30,55,80,30,55,30,80,30,55,30,80,30,30,55,55,30,30,80,80,80,55,30,30,55,80,30,55,30,80,30,55,30,80,30,30,55,55,30,30,80,80,80,55,30,30,55,55,80,30,80,30,55,30,30,80,80,55,55,30,30,30,80,80,80,55,30,30,55,55,80,30,80,30,55,30,30,80,80,55,55,30,30,30,80,80,80,55,30,30,55,80,30,55,30,80,30,55,30,80,30,30,55,55,30,30,80,30,30,80,80,55,30,30,55,80,55,55,30,80,30,55,30,80,55,30,30,80,80,80,55,30,30,55,55,80,30,80,30,55,30,30,80,80,55,55,30,30,30,80,80,80,55,30,30,55,55,80,30,80,30,55,30,30,80,80,55,55,30,30,30,80,30,30,80,80,55,30,30,55,80,55,55,55,30,80,30,55,30,80,55,30,30,80,30,30,80,80,55,30,30,55,80,55,55,55,30,80,30,55,30,80,55,30,30,80,30,30,80,80,55,30,30,55,80,55,55,55,30,80,30,55,30,80,55,30,30,80,80,80,55,30,30,55,55,80,30,80,30,55,30,30,80,80,55,55,30,30,30,80,80,80,55,30,30,55,80,30,55,30,80,30,55,30,80,30,30,55,55,30,30,80,80,80,55,30,30,55,80,30,55,30,80,30,55,30,80,30,30,55,55,30,30,80,80,80,55,30,30,55,55,80,30,80,30,55,30,30,80,80,55,55,30,30,30,80,80,80,55,30,30,55,80,30,55,30,80,30,55,30,80,30,30,55,55,30,30,80,80,80,55,30,30,55,55,80,30,80,30,55,30,30,80,80,55,55,30,30,30,80,80,80,55,30,30,55,55,80,30,80,30,55,30,30,80,80,55,55,30,30,30,80,80,80,55,30,30,55,80,30,55,30,80,30,55,30,80,30,30,55,55,30,30,80,30,30,55,55,55,30,30,30,80,80,55,30,30,55,80,55,55,55,30,80,30,55,30,80,55,30,30,80,80,80,55,30,30,55,80,30,55,30,80,30,55,30,80,30,30,55,55,30,30,80],\"xaxis\":\"x\",\"yaxis\":\"y\",\"type\":\"histogram\"}],                        {\"template\":{\"data\":{\"histogram2dcontour\":[{\"type\":\"histogram2dcontour\",\"colorbar\":{\"outlinewidth\":0,\"ticks\":\"\"},\"colorscale\":[[0.0,\"#0d0887\"],[0.1111111111111111,\"#46039f\"],[0.2222222222222222,\"#7201a8\"],[0.3333333333333333,\"#9c179e\"],[0.4444444444444444,\"#bd3786\"],[0.5555555555555556,\"#d8576b\"],[0.6666666666666666,\"#ed7953\"],[0.7777777777777778,\"#fb9f3a\"],[0.8888888888888888,\"#fdca26\"],[1.0,\"#f0f921\"]]}],\"choropleth\":[{\"type\":\"choropleth\",\"colorbar\":{\"outlinewidth\":0,\"ticks\":\"\"}}],\"histogram2d\":[{\"type\":\"histogram2d\",\"colorbar\":{\"outlinewidth\":0,\"ticks\":\"\"},\"colorscale\":[[0.0,\"#0d0887\"],[0.1111111111111111,\"#46039f\"],[0.2222222222222222,\"#7201a8\"],[0.3333333333333333,\"#9c179e\"],[0.4444444444444444,\"#bd3786\"],[0.5555555555555556,\"#d8576b\"],[0.6666666666666666,\"#ed7953\"],[0.7777777777777778,\"#fb9f3a\"],[0.8888888888888888,\"#fdca26\"],[1.0,\"#f0f921\"]]}],\"heatmap\":[{\"type\":\"heatmap\",\"colorbar\":{\"outlinewidth\":0,\"ticks\":\"\"},\"colorscale\":[[0.0,\"#0d0887\"],[0.1111111111111111,\"#46039f\"],[0.2222222222222222,\"#7201a8\"],[0.3333333333333333,\"#9c179e\"],[0.4444444444444444,\"#bd3786\"],[0.5555555555555556,\"#d8576b\"],[0.6666666666666666,\"#ed7953\"],[0.7777777777777778,\"#fb9f3a\"],[0.8888888888888888,\"#fdca26\"],[1.0,\"#f0f921\"]]}],\"heatmapgl\":[{\"type\":\"heatmapgl\",\"colorbar\":{\"outlinewidth\":0,\"ticks\":\"\"},\"colorscale\":[[0.0,\"#0d0887\"],[0.1111111111111111,\"#46039f\"],[0.2222222222222222,\"#7201a8\"],[0.3333333333333333,\"#9c179e\"],[0.4444444444444444,\"#bd3786\"],[0.5555555555555556,\"#d8576b\"],[0.6666666666666666,\"#ed7953\"],[0.7777777777777778,\"#fb9f3a\"],[0.8888888888888888,\"#fdca26\"],[1.0,\"#f0f921\"]]}],\"contourcarpet\":[{\"type\":\"contourcarpet\",\"colorbar\":{\"outlinewidth\":0,\"ticks\":\"\"}}],\"contour\":[{\"type\":\"contour\",\"colorbar\":{\"outlinewidth\":0,\"ticks\":\"\"},\"colorscale\":[[0.0,\"#0d0887\"],[0.1111111111111111,\"#46039f\"],[0.2222222222222222,\"#7201a8\"],[0.3333333333333333,\"#9c179e\"],[0.4444444444444444,\"#bd3786\"],[0.5555555555555556,\"#d8576b\"],[0.6666666666666666,\"#ed7953\"],[0.7777777777777778,\"#fb9f3a\"],[0.8888888888888888,\"#fdca26\"],[1.0,\"#f0f921\"]]}],\"surface\":[{\"type\":\"surface\",\"colorbar\":{\"outlinewidth\":0,\"ticks\":\"\"},\"colorscale\":[[0.0,\"#0d0887\"],[0.1111111111111111,\"#46039f\"],[0.2222222222222222,\"#7201a8\"],[0.3333333333333333,\"#9c179e\"],[0.4444444444444444,\"#bd3786\"],[0.5555555555555556,\"#d8576b\"],[0.6666666666666666,\"#ed7953\"],[0.7777777777777778,\"#fb9f3a\"],[0.8888888888888888,\"#fdca26\"],[1.0,\"#f0f921\"]]}],\"mesh3d\":[{\"type\":\"mesh3d\",\"colorbar\":{\"outlinewidth\":0,\"ticks\":\"\"}}],\"scatter\":[{\"fillpattern\":{\"fillmode\":\"overlay\",\"size\":10,\"solidity\":0.2},\"type\":\"scatter\"}],\"parcoords\":[{\"type\":\"parcoords\",\"line\":{\"colorbar\":{\"outlinewidth\":0,\"ticks\":\"\"}}}],\"scatterpolargl\":[{\"type\":\"scatterpolargl\",\"marker\":{\"colorbar\":{\"outlinewidth\":0,\"ticks\":\"\"}}}],\"bar\":[{\"error_x\":{\"color\":\"#2a3f5f\"},\"error_y\":{\"color\":\"#2a3f5f\"},\"marker\":{\"line\":{\"color\":\"#E5ECF6\",\"width\":0.5},\"pattern\":{\"fillmode\":\"overlay\",\"size\":10,\"solidity\":0.2}},\"type\":\"bar\"}],\"scattergeo\":[{\"type\":\"scattergeo\",\"marker\":{\"colorbar\":{\"outlinewidth\":0,\"ticks\":\"\"}}}],\"scatterpolar\":[{\"type\":\"scatterpolar\",\"marker\":{\"colorbar\":{\"outlinewidth\":0,\"ticks\":\"\"}}}],\"histogram\":[{\"marker\":{\"pattern\":{\"fillmode\":\"overlay\",\"size\":10,\"solidity\":0.2}},\"type\":\"histogram\"}],\"scattergl\":[{\"type\":\"scattergl\",\"marker\":{\"colorbar\":{\"outlinewidth\":0,\"ticks\":\"\"}}}],\"scatter3d\":[{\"type\":\"scatter3d\",\"line\":{\"colorbar\":{\"outlinewidth\":0,\"ticks\":\"\"}},\"marker\":{\"colorbar\":{\"outlinewidth\":0,\"ticks\":\"\"}}}],\"scattermapbox\":[{\"type\":\"scattermapbox\",\"marker\":{\"colorbar\":{\"outlinewidth\":0,\"ticks\":\"\"}}}],\"scatterternary\":[{\"type\":\"scatterternary\",\"marker\":{\"colorbar\":{\"outlinewidth\":0,\"ticks\":\"\"}}}],\"scattercarpet\":[{\"type\":\"scattercarpet\",\"marker\":{\"colorbar\":{\"outlinewidth\":0,\"ticks\":\"\"}}}],\"carpet\":[{\"aaxis\":{\"endlinecolor\":\"#2a3f5f\",\"gridcolor\":\"white\",\"linecolor\":\"white\",\"minorgridcolor\":\"white\",\"startlinecolor\":\"#2a3f5f\"},\"baxis\":{\"endlinecolor\":\"#2a3f5f\",\"gridcolor\":\"white\",\"linecolor\":\"white\",\"minorgridcolor\":\"white\",\"startlinecolor\":\"#2a3f5f\"},\"type\":\"carpet\"}],\"table\":[{\"cells\":{\"fill\":{\"color\":\"#EBF0F8\"},\"line\":{\"color\":\"white\"}},\"header\":{\"fill\":{\"color\":\"#C8D4E3\"},\"line\":{\"color\":\"white\"}},\"type\":\"table\"}],\"barpolar\":[{\"marker\":{\"line\":{\"color\":\"#E5ECF6\",\"width\":0.5},\"pattern\":{\"fillmode\":\"overlay\",\"size\":10,\"solidity\":0.2}},\"type\":\"barpolar\"}],\"pie\":[{\"automargin\":true,\"type\":\"pie\"}]},\"layout\":{\"autotypenumbers\":\"strict\",\"colorway\":[\"#636efa\",\"#EF553B\",\"#00cc96\",\"#ab63fa\",\"#FFA15A\",\"#19d3f3\",\"#FF6692\",\"#B6E880\",\"#FF97FF\",\"#FECB52\"],\"font\":{\"color\":\"#2a3f5f\"},\"hovermode\":\"closest\",\"hoverlabel\":{\"align\":\"left\"},\"paper_bgcolor\":\"white\",\"plot_bgcolor\":\"#E5ECF6\",\"polar\":{\"bgcolor\":\"#E5ECF6\",\"angularaxis\":{\"gridcolor\":\"white\",\"linecolor\":\"white\",\"ticks\":\"\"},\"radialaxis\":{\"gridcolor\":\"white\",\"linecolor\":\"white\",\"ticks\":\"\"}},\"ternary\":{\"bgcolor\":\"#E5ECF6\",\"aaxis\":{\"gridcolor\":\"white\",\"linecolor\":\"white\",\"ticks\":\"\"},\"baxis\":{\"gridcolor\":\"white\",\"linecolor\":\"white\",\"ticks\":\"\"},\"caxis\":{\"gridcolor\":\"white\",\"linecolor\":\"white\",\"ticks\":\"\"}},\"coloraxis\":{\"colorbar\":{\"outlinewidth\":0,\"ticks\":\"\"}},\"colorscale\":{\"sequential\":[[0.0,\"#0d0887\"],[0.1111111111111111,\"#46039f\"],[0.2222222222222222,\"#7201a8\"],[0.3333333333333333,\"#9c179e\"],[0.4444444444444444,\"#bd3786\"],[0.5555555555555556,\"#d8576b\"],[0.6666666666666666,\"#ed7953\"],[0.7777777777777778,\"#fb9f3a\"],[0.8888888888888888,\"#fdca26\"],[1.0,\"#f0f921\"]],\"sequentialminus\":[[0.0,\"#0d0887\"],[0.1111111111111111,\"#46039f\"],[0.2222222222222222,\"#7201a8\"],[0.3333333333333333,\"#9c179e\"],[0.4444444444444444,\"#bd3786\"],[0.5555555555555556,\"#d8576b\"],[0.6666666666666666,\"#ed7953\"],[0.7777777777777778,\"#fb9f3a\"],[0.8888888888888888,\"#fdca26\"],[1.0,\"#f0f921\"]],\"diverging\":[[0,\"#8e0152\"],[0.1,\"#c51b7d\"],[0.2,\"#de77ae\"],[0.3,\"#f1b6da\"],[0.4,\"#fde0ef\"],[0.5,\"#f7f7f7\"],[0.6,\"#e6f5d0\"],[0.7,\"#b8e186\"],[0.8,\"#7fbc41\"],[0.9,\"#4d9221\"],[1,\"#276419\"]]},\"xaxis\":{\"gridcolor\":\"white\",\"linecolor\":\"white\",\"ticks\":\"\",\"title\":{\"standoff\":15},\"zerolinecolor\":\"white\",\"automargin\":true,\"zerolinewidth\":2},\"yaxis\":{\"gridcolor\":\"white\",\"linecolor\":\"white\",\"ticks\":\"\",\"title\":{\"standoff\":15},\"zerolinecolor\":\"white\",\"automargin\":true,\"zerolinewidth\":2},\"scene\":{\"xaxis\":{\"backgroundcolor\":\"#E5ECF6\",\"gridcolor\":\"white\",\"linecolor\":\"white\",\"showbackground\":true,\"ticks\":\"\",\"zerolinecolor\":\"white\",\"gridwidth\":2},\"yaxis\":{\"backgroundcolor\":\"#E5ECF6\",\"gridcolor\":\"white\",\"linecolor\":\"white\",\"showbackground\":true,\"ticks\":\"\",\"zerolinecolor\":\"white\",\"gridwidth\":2},\"zaxis\":{\"backgroundcolor\":\"#E5ECF6\",\"gridcolor\":\"white\",\"linecolor\":\"white\",\"showbackground\":true,\"ticks\":\"\",\"zerolinecolor\":\"white\",\"gridwidth\":2}},\"shapedefaults\":{\"line\":{\"color\":\"#2a3f5f\"}},\"annotationdefaults\":{\"arrowcolor\":\"#2a3f5f\",\"arrowhead\":0,\"arrowwidth\":1},\"geo\":{\"bgcolor\":\"white\",\"landcolor\":\"#E5ECF6\",\"subunitcolor\":\"white\",\"showland\":true,\"showlakes\":true,\"lakecolor\":\"white\"},\"title\":{\"x\":0.05},\"mapbox\":{\"style\":\"light\"}}},\"xaxis\":{\"anchor\":\"y\",\"domain\":[0.0,1.0],\"title\":{\"text\":\"Temperature\"}},\"yaxis\":{\"anchor\":\"x\",\"domain\":[0.0,1.0],\"title\":{\"text\":\"count\"}},\"legend\":{\"tracegroupgap\":0},\"title\":{\"text\":\"Temperature Distribution\"},\"barmode\":\"relative\"},                        {\"responsive\": true}                    ).then(function(){\n",
       "                            \n",
       "var gd = document.getElementById('6a0e8765-5a67-4899-953d-7da658420df4');\n",
       "var x = new MutationObserver(function (mutations, observer) {{\n",
       "        var display = window.getComputedStyle(gd).display;\n",
       "        if (!display || display === 'none') {{\n",
       "            console.log([gd, 'removed!']);\n",
       "            Plotly.purge(gd);\n",
       "            observer.disconnect();\n",
       "        }}\n",
       "}});\n",
       "\n",
       "// Listen for the removal of the full notebook cells\n",
       "var notebookContainer = gd.closest('#notebook-container');\n",
       "if (notebookContainer) {{\n",
       "    x.observe(notebookContainer, {childList: true});\n",
       "}}\n",
       "\n",
       "// Listen for the clearing of the current output cell\n",
       "var outputEl = gd.closest('.output');\n",
       "if (outputEl) {{\n",
       "    x.observe(outputEl, {childList: true});\n",
       "}}\n",
       "\n",
       "                        })                };                });            </script>        </div>"
      ]
     },
     "metadata": {},
     "output_type": "display_data"
    }
   ],
   "source": [
    "# Histogram\n",
    "fig = px.histogram(data, x='temperature', \n",
    "                   title='Temperature Distribution',\n",
    "                   labels={'temperature': 'Temperature'},\n",
    "                  nbins=20,  # Adjust bins for better granularity\n",
    "                   opacity=0.6,\n",
    "                  color_discrete_sequence = px.colors.qualitative.Set2)\n",
    "\n",
    "# Show figure\n",
    "fig.show()\n"
   ]
  },
  {
   "cell_type": "markdown",
   "metadata": {
    "id": "FupfgeJk_qRJ"
   },
   "source": [
    "**Investigating the Bar Coupons**\n",
    "\n",
    "Now, we will lead you through an exploration of just the bar related coupons.  \n",
    "\n",
    "1. Create a new `DataFrame` that contains just the bar coupons.\n"
   ]
  },
  {
   "cell_type": "code",
   "execution_count": 280,
   "metadata": {
    "id": "tMBlWuGq_qRJ"
   },
   "outputs": [
    {
     "data": {
      "text/html": [
       "<div>\n",
       "<style scoped>\n",
       "    .dataframe tbody tr th:only-of-type {\n",
       "        vertical-align: middle;\n",
       "    }\n",
       "\n",
       "    .dataframe tbody tr th {\n",
       "        vertical-align: top;\n",
       "    }\n",
       "\n",
       "    .dataframe thead th {\n",
       "        text-align: right;\n",
       "    }\n",
       "</style>\n",
       "<table border=\"1\" class=\"dataframe\">\n",
       "  <thead>\n",
       "    <tr style=\"text-align: right;\">\n",
       "      <th></th>\n",
       "      <th>coupon</th>\n",
       "    </tr>\n",
       "  </thead>\n",
       "  <tbody>\n",
       "    <tr>\n",
       "      <th>0</th>\n",
       "      <td>Bar</td>\n",
       "    </tr>\n",
       "    <tr>\n",
       "      <th>1</th>\n",
       "      <td>Bar</td>\n",
       "    </tr>\n",
       "    <tr>\n",
       "      <th>2</th>\n",
       "      <td>Bar</td>\n",
       "    </tr>\n",
       "    <tr>\n",
       "      <th>3</th>\n",
       "      <td>Bar</td>\n",
       "    </tr>\n",
       "    <tr>\n",
       "      <th>4</th>\n",
       "      <td>Bar</td>\n",
       "    </tr>\n",
       "    <tr>\n",
       "      <th>...</th>\n",
       "      <td>...</td>\n",
       "    </tr>\n",
       "    <tr>\n",
       "      <th>2012</th>\n",
       "      <td>Bar</td>\n",
       "    </tr>\n",
       "    <tr>\n",
       "      <th>2013</th>\n",
       "      <td>Bar</td>\n",
       "    </tr>\n",
       "    <tr>\n",
       "      <th>2014</th>\n",
       "      <td>Bar</td>\n",
       "    </tr>\n",
       "    <tr>\n",
       "      <th>2015</th>\n",
       "      <td>Bar</td>\n",
       "    </tr>\n",
       "    <tr>\n",
       "      <th>2016</th>\n",
       "      <td>Bar</td>\n",
       "    </tr>\n",
       "  </tbody>\n",
       "</table>\n",
       "<p>2017 rows × 1 columns</p>\n",
       "</div>"
      ],
      "text/plain": [
       "     coupon\n",
       "0       Bar\n",
       "1       Bar\n",
       "2       Bar\n",
       "3       Bar\n",
       "4       Bar\n",
       "...     ...\n",
       "2012    Bar\n",
       "2013    Bar\n",
       "2014    Bar\n",
       "2015    Bar\n",
       "2016    Bar\n",
       "\n",
       "[2017 rows x 1 columns]"
      ]
     },
     "execution_count": 280,
     "metadata": {},
     "output_type": "execute_result"
    }
   ],
   "source": [
    "Bar_Coupons = data.query(\"coupon == 'Bar'\")[['coupon']].reset_index()\n",
    "Bar_Coupons [['coupon']]"
   ]
  },
  {
   "cell_type": "markdown",
   "metadata": {
    "id": "8ue6uCqf_qRJ"
   },
   "source": [
    "2. What proportion of bar coupons were accepted?\n"
   ]
  },
  {
   "cell_type": "code",
   "execution_count": 304,
   "metadata": {
    "id": "hSdte8Mi_qRK"
   },
   "outputs": [
    {
     "name": "stdout",
     "output_type": "stream",
     "text": [
      "    coupon\n",
      "0      Bar\n",
      "1      Bar\n",
      "2      Bar\n",
      "3      Bar\n",
      "4      Bar\n",
      "..     ...\n",
      "822    Bar\n",
      "823    Bar\n",
      "824    Bar\n",
      "825    Bar\n",
      "826    Bar\n",
      "\n",
      "[827 rows x 1 columns]\n"
     ]
    }
   ],
   "source": [
    "# Correct query statement\n",
    "Bar_df = df.query(\"Y == 1 and coupon == 'Bar'\")[['coupon']].reset_index(drop=True)"
   ]
  },
  {
   "cell_type": "code",
   "execution_count": 309,
   "metadata": {},
   "outputs": [
    {
     "data": {
      "text/plain": [
       "12684"
      ]
     },
     "execution_count": 309,
     "metadata": {},
     "output_type": "execute_result"
    }
   ],
   "source": [
    "totalCoupon = df['coupon'].value_counts().sum()\n",
    "totalCoupon"
   ]
  },
  {
   "cell_type": "code",
   "execution_count": 312,
   "metadata": {},
   "outputs": [
    {
     "data": {
      "text/plain": [
       "0.065200252286345"
      ]
     },
     "execution_count": 312,
     "metadata": {},
     "output_type": "execute_result"
    }
   ],
   "source": [
    "ratio_Bar = (Bar_df.value_counts().sum())/totalCoupon\n",
    "ratio_Bar"
   ]
  },
  {
   "cell_type": "markdown",
   "metadata": {
    "id": "85nA_iEi_qRK"
   },
   "source": [
    "3. Compare the acceptance rate between those who went to a bar 3 or fewer times a month to those who went more.\n"
   ]
  },
  {
   "cell_type": "code",
   "execution_count": 331,
   "metadata": {
    "id": "LBOrN-XM_qRK"
   },
   "outputs": [
    {
     "data": {
      "text/html": [
       "<div>\n",
       "<style scoped>\n",
       "    .dataframe tbody tr th:only-of-type {\n",
       "        vertical-align: middle;\n",
       "    }\n",
       "\n",
       "    .dataframe tbody tr th {\n",
       "        vertical-align: top;\n",
       "    }\n",
       "\n",
       "    .dataframe thead th {\n",
       "        text-align: right;\n",
       "    }\n",
       "</style>\n",
       "<table border=\"1\" class=\"dataframe\">\n",
       "  <thead>\n",
       "    <tr style=\"text-align: right;\">\n",
       "      <th></th>\n",
       "      <th>destination</th>\n",
       "      <th>passanger</th>\n",
       "      <th>weather</th>\n",
       "      <th>temperature</th>\n",
       "      <th>time</th>\n",
       "      <th>coupon</th>\n",
       "      <th>expiration</th>\n",
       "      <th>gender</th>\n",
       "      <th>age</th>\n",
       "      <th>maritalStatus</th>\n",
       "      <th>...</th>\n",
       "      <th>CoffeeHouse</th>\n",
       "      <th>CarryAway</th>\n",
       "      <th>RestaurantLessThan20</th>\n",
       "      <th>Restaurant20To50</th>\n",
       "      <th>toCoupon_GEQ5min</th>\n",
       "      <th>toCoupon_GEQ15min</th>\n",
       "      <th>toCoupon_GEQ25min</th>\n",
       "      <th>direction_same</th>\n",
       "      <th>direction_opp</th>\n",
       "      <th>Y</th>\n",
       "    </tr>\n",
       "  </thead>\n",
       "  <tbody>\n",
       "    <tr>\n",
       "      <th>0</th>\n",
       "      <td>No Urgent Place</td>\n",
       "      <td>Alone</td>\n",
       "      <td>Sunny</td>\n",
       "      <td>55</td>\n",
       "      <td>2PM</td>\n",
       "      <td>Restaurant(&lt;20)</td>\n",
       "      <td>1d</td>\n",
       "      <td>Female</td>\n",
       "      <td>21</td>\n",
       "      <td>Unmarried partner</td>\n",
       "      <td>...</td>\n",
       "      <td>never</td>\n",
       "      <td>NaN</td>\n",
       "      <td>4~8</td>\n",
       "      <td>1~3</td>\n",
       "      <td>1</td>\n",
       "      <td>0</td>\n",
       "      <td>0</td>\n",
       "      <td>0</td>\n",
       "      <td>1</td>\n",
       "      <td>1</td>\n",
       "    </tr>\n",
       "    <tr>\n",
       "      <th>1</th>\n",
       "      <td>No Urgent Place</td>\n",
       "      <td>Friend(s)</td>\n",
       "      <td>Sunny</td>\n",
       "      <td>80</td>\n",
       "      <td>10AM</td>\n",
       "      <td>Coffee House</td>\n",
       "      <td>2h</td>\n",
       "      <td>Female</td>\n",
       "      <td>21</td>\n",
       "      <td>Unmarried partner</td>\n",
       "      <td>...</td>\n",
       "      <td>never</td>\n",
       "      <td>NaN</td>\n",
       "      <td>4~8</td>\n",
       "      <td>1~3</td>\n",
       "      <td>1</td>\n",
       "      <td>0</td>\n",
       "      <td>0</td>\n",
       "      <td>0</td>\n",
       "      <td>1</td>\n",
       "      <td>0</td>\n",
       "    </tr>\n",
       "    <tr>\n",
       "      <th>2</th>\n",
       "      <td>No Urgent Place</td>\n",
       "      <td>Friend(s)</td>\n",
       "      <td>Sunny</td>\n",
       "      <td>80</td>\n",
       "      <td>10AM</td>\n",
       "      <td>Carry out &amp; Take away</td>\n",
       "      <td>2h</td>\n",
       "      <td>Female</td>\n",
       "      <td>21</td>\n",
       "      <td>Unmarried partner</td>\n",
       "      <td>...</td>\n",
       "      <td>never</td>\n",
       "      <td>NaN</td>\n",
       "      <td>4~8</td>\n",
       "      <td>1~3</td>\n",
       "      <td>1</td>\n",
       "      <td>1</td>\n",
       "      <td>0</td>\n",
       "      <td>0</td>\n",
       "      <td>1</td>\n",
       "      <td>1</td>\n",
       "    </tr>\n",
       "    <tr>\n",
       "      <th>3</th>\n",
       "      <td>No Urgent Place</td>\n",
       "      <td>Friend(s)</td>\n",
       "      <td>Sunny</td>\n",
       "      <td>80</td>\n",
       "      <td>2PM</td>\n",
       "      <td>Coffee House</td>\n",
       "      <td>2h</td>\n",
       "      <td>Female</td>\n",
       "      <td>21</td>\n",
       "      <td>Unmarried partner</td>\n",
       "      <td>...</td>\n",
       "      <td>never</td>\n",
       "      <td>NaN</td>\n",
       "      <td>4~8</td>\n",
       "      <td>1~3</td>\n",
       "      <td>1</td>\n",
       "      <td>1</td>\n",
       "      <td>0</td>\n",
       "      <td>0</td>\n",
       "      <td>1</td>\n",
       "      <td>0</td>\n",
       "    </tr>\n",
       "    <tr>\n",
       "      <th>4</th>\n",
       "      <td>No Urgent Place</td>\n",
       "      <td>Friend(s)</td>\n",
       "      <td>Sunny</td>\n",
       "      <td>80</td>\n",
       "      <td>2PM</td>\n",
       "      <td>Coffee House</td>\n",
       "      <td>1d</td>\n",
       "      <td>Female</td>\n",
       "      <td>21</td>\n",
       "      <td>Unmarried partner</td>\n",
       "      <td>...</td>\n",
       "      <td>never</td>\n",
       "      <td>NaN</td>\n",
       "      <td>4~8</td>\n",
       "      <td>1~3</td>\n",
       "      <td>1</td>\n",
       "      <td>1</td>\n",
       "      <td>0</td>\n",
       "      <td>0</td>\n",
       "      <td>1</td>\n",
       "      <td>0</td>\n",
       "    </tr>\n",
       "    <tr>\n",
       "      <th>5</th>\n",
       "      <td>No Urgent Place</td>\n",
       "      <td>Friend(s)</td>\n",
       "      <td>Sunny</td>\n",
       "      <td>80</td>\n",
       "      <td>6PM</td>\n",
       "      <td>Restaurant(&lt;20)</td>\n",
       "      <td>2h</td>\n",
       "      <td>Female</td>\n",
       "      <td>21</td>\n",
       "      <td>Unmarried partner</td>\n",
       "      <td>...</td>\n",
       "      <td>never</td>\n",
       "      <td>NaN</td>\n",
       "      <td>4~8</td>\n",
       "      <td>1~3</td>\n",
       "      <td>1</td>\n",
       "      <td>1</td>\n",
       "      <td>0</td>\n",
       "      <td>0</td>\n",
       "      <td>1</td>\n",
       "      <td>1</td>\n",
       "    </tr>\n",
       "    <tr>\n",
       "      <th>6</th>\n",
       "      <td>No Urgent Place</td>\n",
       "      <td>Friend(s)</td>\n",
       "      <td>Sunny</td>\n",
       "      <td>55</td>\n",
       "      <td>2PM</td>\n",
       "      <td>Carry out &amp; Take away</td>\n",
       "      <td>1d</td>\n",
       "      <td>Female</td>\n",
       "      <td>21</td>\n",
       "      <td>Unmarried partner</td>\n",
       "      <td>...</td>\n",
       "      <td>never</td>\n",
       "      <td>NaN</td>\n",
       "      <td>4~8</td>\n",
       "      <td>1~3</td>\n",
       "      <td>1</td>\n",
       "      <td>1</td>\n",
       "      <td>0</td>\n",
       "      <td>0</td>\n",
       "      <td>1</td>\n",
       "      <td>1</td>\n",
       "    </tr>\n",
       "    <tr>\n",
       "      <th>7</th>\n",
       "      <td>No Urgent Place</td>\n",
       "      <td>Kid(s)</td>\n",
       "      <td>Sunny</td>\n",
       "      <td>80</td>\n",
       "      <td>10AM</td>\n",
       "      <td>Restaurant(&lt;20)</td>\n",
       "      <td>2h</td>\n",
       "      <td>Female</td>\n",
       "      <td>21</td>\n",
       "      <td>Unmarried partner</td>\n",
       "      <td>...</td>\n",
       "      <td>never</td>\n",
       "      <td>NaN</td>\n",
       "      <td>4~8</td>\n",
       "      <td>1~3</td>\n",
       "      <td>1</td>\n",
       "      <td>1</td>\n",
       "      <td>0</td>\n",
       "      <td>0</td>\n",
       "      <td>1</td>\n",
       "      <td>1</td>\n",
       "    </tr>\n",
       "    <tr>\n",
       "      <th>8</th>\n",
       "      <td>No Urgent Place</td>\n",
       "      <td>Kid(s)</td>\n",
       "      <td>Sunny</td>\n",
       "      <td>80</td>\n",
       "      <td>10AM</td>\n",
       "      <td>Carry out &amp; Take away</td>\n",
       "      <td>2h</td>\n",
       "      <td>Female</td>\n",
       "      <td>21</td>\n",
       "      <td>Unmarried partner</td>\n",
       "      <td>...</td>\n",
       "      <td>never</td>\n",
       "      <td>NaN</td>\n",
       "      <td>4~8</td>\n",
       "      <td>1~3</td>\n",
       "      <td>1</td>\n",
       "      <td>1</td>\n",
       "      <td>0</td>\n",
       "      <td>0</td>\n",
       "      <td>1</td>\n",
       "      <td>1</td>\n",
       "    </tr>\n",
       "    <tr>\n",
       "      <th>9</th>\n",
       "      <td>No Urgent Place</td>\n",
       "      <td>Kid(s)</td>\n",
       "      <td>Sunny</td>\n",
       "      <td>80</td>\n",
       "      <td>10AM</td>\n",
       "      <td>Bar</td>\n",
       "      <td>1d</td>\n",
       "      <td>Female</td>\n",
       "      <td>21</td>\n",
       "      <td>Unmarried partner</td>\n",
       "      <td>...</td>\n",
       "      <td>never</td>\n",
       "      <td>NaN</td>\n",
       "      <td>4~8</td>\n",
       "      <td>1~3</td>\n",
       "      <td>1</td>\n",
       "      <td>1</td>\n",
       "      <td>0</td>\n",
       "      <td>0</td>\n",
       "      <td>1</td>\n",
       "      <td>0</td>\n",
       "    </tr>\n",
       "  </tbody>\n",
       "</table>\n",
       "<p>10 rows × 26 columns</p>\n",
       "</div>"
      ],
      "text/plain": [
       "       destination  passanger weather  temperature  time  \\\n",
       "0  No Urgent Place      Alone   Sunny           55   2PM   \n",
       "1  No Urgent Place  Friend(s)   Sunny           80  10AM   \n",
       "2  No Urgent Place  Friend(s)   Sunny           80  10AM   \n",
       "3  No Urgent Place  Friend(s)   Sunny           80   2PM   \n",
       "4  No Urgent Place  Friend(s)   Sunny           80   2PM   \n",
       "5  No Urgent Place  Friend(s)   Sunny           80   6PM   \n",
       "6  No Urgent Place  Friend(s)   Sunny           55   2PM   \n",
       "7  No Urgent Place     Kid(s)   Sunny           80  10AM   \n",
       "8  No Urgent Place     Kid(s)   Sunny           80  10AM   \n",
       "9  No Urgent Place     Kid(s)   Sunny           80  10AM   \n",
       "\n",
       "                  coupon expiration  gender age      maritalStatus  ...  \\\n",
       "0        Restaurant(<20)         1d  Female  21  Unmarried partner  ...   \n",
       "1           Coffee House         2h  Female  21  Unmarried partner  ...   \n",
       "2  Carry out & Take away         2h  Female  21  Unmarried partner  ...   \n",
       "3           Coffee House         2h  Female  21  Unmarried partner  ...   \n",
       "4           Coffee House         1d  Female  21  Unmarried partner  ...   \n",
       "5        Restaurant(<20)         2h  Female  21  Unmarried partner  ...   \n",
       "6  Carry out & Take away         1d  Female  21  Unmarried partner  ...   \n",
       "7        Restaurant(<20)         2h  Female  21  Unmarried partner  ...   \n",
       "8  Carry out & Take away         2h  Female  21  Unmarried partner  ...   \n",
       "9                    Bar         1d  Female  21  Unmarried partner  ...   \n",
       "\n",
       "   CoffeeHouse CarryAway RestaurantLessThan20 Restaurant20To50  \\\n",
       "0        never       NaN                  4~8              1~3   \n",
       "1        never       NaN                  4~8              1~3   \n",
       "2        never       NaN                  4~8              1~3   \n",
       "3        never       NaN                  4~8              1~3   \n",
       "4        never       NaN                  4~8              1~3   \n",
       "5        never       NaN                  4~8              1~3   \n",
       "6        never       NaN                  4~8              1~3   \n",
       "7        never       NaN                  4~8              1~3   \n",
       "8        never       NaN                  4~8              1~3   \n",
       "9        never       NaN                  4~8              1~3   \n",
       "\n",
       "  toCoupon_GEQ5min toCoupon_GEQ15min toCoupon_GEQ25min direction_same  \\\n",
       "0                1                 0                 0              0   \n",
       "1                1                 0                 0              0   \n",
       "2                1                 1                 0              0   \n",
       "3                1                 1                 0              0   \n",
       "4                1                 1                 0              0   \n",
       "5                1                 1                 0              0   \n",
       "6                1                 1                 0              0   \n",
       "7                1                 1                 0              0   \n",
       "8                1                 1                 0              0   \n",
       "9                1                 1                 0              0   \n",
       "\n",
       "  direction_opp  Y  \n",
       "0             1  1  \n",
       "1             1  0  \n",
       "2             1  1  \n",
       "3             1  0  \n",
       "4             1  0  \n",
       "5             1  1  \n",
       "6             1  1  \n",
       "7             1  1  \n",
       "8             1  1  \n",
       "9             1  0  \n",
       "\n",
       "[10 rows x 26 columns]"
      ]
     },
     "execution_count": 331,
     "metadata": {},
     "output_type": "execute_result"
    }
   ],
   "source": [
    "data.head(10)\n"
   ]
  },
  {
   "cell_type": "code",
   "execution_count": 365,
   "metadata": {},
   "outputs": [],
   "source": [
    "ThreeOrLessVisitBar_df = data.query(\"Y == 1 and coupon == 'Bar' and (Bar == '1~3' | Bar == 'less1')\")[['Y','coupon','Bar']]"
   ]
  },
  {
   "cell_type": "code",
   "execution_count": 366,
   "metadata": {},
   "outputs": [
    {
     "data": {
      "text/html": [
       "<div>\n",
       "<style scoped>\n",
       "    .dataframe tbody tr th:only-of-type {\n",
       "        vertical-align: middle;\n",
       "    }\n",
       "\n",
       "    .dataframe tbody tr th {\n",
       "        vertical-align: top;\n",
       "    }\n",
       "\n",
       "    .dataframe thead th {\n",
       "        text-align: right;\n",
       "    }\n",
       "</style>\n",
       "<table border=\"1\" class=\"dataframe\">\n",
       "  <thead>\n",
       "    <tr style=\"text-align: right;\">\n",
       "      <th></th>\n",
       "      <th>Y</th>\n",
       "      <th>coupon</th>\n",
       "      <th>Bar</th>\n",
       "    </tr>\n",
       "  </thead>\n",
       "  <tbody>\n",
       "    <tr>\n",
       "      <th>0</th>\n",
       "      <td>1</td>\n",
       "      <td>Bar</td>\n",
       "      <td>less1</td>\n",
       "    </tr>\n",
       "    <tr>\n",
       "      <th>1</th>\n",
       "      <td>1</td>\n",
       "      <td>Bar</td>\n",
       "      <td>less1</td>\n",
       "    </tr>\n",
       "    <tr>\n",
       "      <th>2</th>\n",
       "      <td>1</td>\n",
       "      <td>Bar</td>\n",
       "      <td>less1</td>\n",
       "    </tr>\n",
       "    <tr>\n",
       "      <th>3</th>\n",
       "      <td>1</td>\n",
       "      <td>Bar</td>\n",
       "      <td>1~3</td>\n",
       "    </tr>\n",
       "    <tr>\n",
       "      <th>4</th>\n",
       "      <td>1</td>\n",
       "      <td>Bar</td>\n",
       "      <td>1~3</td>\n",
       "    </tr>\n",
       "    <tr>\n",
       "      <th>...</th>\n",
       "      <td>...</td>\n",
       "      <td>...</td>\n",
       "      <td>...</td>\n",
       "    </tr>\n",
       "    <tr>\n",
       "      <th>505</th>\n",
       "      <td>1</td>\n",
       "      <td>Bar</td>\n",
       "      <td>1~3</td>\n",
       "    </tr>\n",
       "    <tr>\n",
       "      <th>506</th>\n",
       "      <td>1</td>\n",
       "      <td>Bar</td>\n",
       "      <td>1~3</td>\n",
       "    </tr>\n",
       "    <tr>\n",
       "      <th>507</th>\n",
       "      <td>1</td>\n",
       "      <td>Bar</td>\n",
       "      <td>1~3</td>\n",
       "    </tr>\n",
       "    <tr>\n",
       "      <th>508</th>\n",
       "      <td>1</td>\n",
       "      <td>Bar</td>\n",
       "      <td>less1</td>\n",
       "    </tr>\n",
       "    <tr>\n",
       "      <th>509</th>\n",
       "      <td>1</td>\n",
       "      <td>Bar</td>\n",
       "      <td>less1</td>\n",
       "    </tr>\n",
       "  </tbody>\n",
       "</table>\n",
       "<p>510 rows × 3 columns</p>\n",
       "</div>"
      ],
      "text/plain": [
       "     Y coupon    Bar\n",
       "0    1    Bar  less1\n",
       "1    1    Bar  less1\n",
       "2    1    Bar  less1\n",
       "3    1    Bar    1~3\n",
       "4    1    Bar    1~3\n",
       "..  ..    ...    ...\n",
       "505  1    Bar    1~3\n",
       "506  1    Bar    1~3\n",
       "507  1    Bar    1~3\n",
       "508  1    Bar  less1\n",
       "509  1    Bar  less1\n",
       "\n",
       "[510 rows x 3 columns]"
      ]
     },
     "execution_count": 366,
     "metadata": {},
     "output_type": "execute_result"
    }
   ],
   "source": [
    "ThreeOrLessVisitBar_df.reset_index()[['Y','coupon','Bar']]"
   ]
  },
  {
   "cell_type": "code",
   "execution_count": 380,
   "metadata": {},
   "outputs": [
    {
     "data": {
      "text/plain": [
       "510"
      ]
     },
     "execution_count": 380,
     "metadata": {},
     "output_type": "execute_result"
    }
   ],
   "source": [
    "ThreeOrLessVisitBar_Count_df = ThreeOrLessVisitBar_df.value_counts().sum()\n",
    "ThreeOrLessVisitBar_Count_df"
   ]
  },
  {
   "cell_type": "code",
   "execution_count": 376,
   "metadata": {},
   "outputs": [],
   "source": [
    "MoreVisitBar_df = data.query(\"Y == 1 and coupon == 'Bar' and (Bar == '4~8' | Bar == 'gt8')\")[['Y','coupon','Bar']]"
   ]
  },
  {
   "cell_type": "code",
   "execution_count": 377,
   "metadata": {},
   "outputs": [
    {
     "data": {
      "text/html": [
       "<div>\n",
       "<style scoped>\n",
       "    .dataframe tbody tr th:only-of-type {\n",
       "        vertical-align: middle;\n",
       "    }\n",
       "\n",
       "    .dataframe tbody tr th {\n",
       "        vertical-align: top;\n",
       "    }\n",
       "\n",
       "    .dataframe thead th {\n",
       "        text-align: right;\n",
       "    }\n",
       "</style>\n",
       "<table border=\"1\" class=\"dataframe\">\n",
       "  <thead>\n",
       "    <tr style=\"text-align: right;\">\n",
       "      <th></th>\n",
       "      <th>Y</th>\n",
       "      <th>coupon</th>\n",
       "      <th>Bar</th>\n",
       "    </tr>\n",
       "  </thead>\n",
       "  <tbody>\n",
       "    <tr>\n",
       "      <th>0</th>\n",
       "      <td>1</td>\n",
       "      <td>Bar</td>\n",
       "      <td>gt8</td>\n",
       "    </tr>\n",
       "    <tr>\n",
       "      <th>1</th>\n",
       "      <td>1</td>\n",
       "      <td>Bar</td>\n",
       "      <td>gt8</td>\n",
       "    </tr>\n",
       "    <tr>\n",
       "      <th>2</th>\n",
       "      <td>1</td>\n",
       "      <td>Bar</td>\n",
       "      <td>gt8</td>\n",
       "    </tr>\n",
       "    <tr>\n",
       "      <th>3</th>\n",
       "      <td>1</td>\n",
       "      <td>Bar</td>\n",
       "      <td>gt8</td>\n",
       "    </tr>\n",
       "    <tr>\n",
       "      <th>4</th>\n",
       "      <td>1</td>\n",
       "      <td>Bar</td>\n",
       "      <td>4~8</td>\n",
       "    </tr>\n",
       "    <tr>\n",
       "      <th>...</th>\n",
       "      <td>...</td>\n",
       "      <td>...</td>\n",
       "      <td>...</td>\n",
       "    </tr>\n",
       "    <tr>\n",
       "      <th>148</th>\n",
       "      <td>1</td>\n",
       "      <td>Bar</td>\n",
       "      <td>4~8</td>\n",
       "    </tr>\n",
       "    <tr>\n",
       "      <th>149</th>\n",
       "      <td>1</td>\n",
       "      <td>Bar</td>\n",
       "      <td>4~8</td>\n",
       "    </tr>\n",
       "    <tr>\n",
       "      <th>150</th>\n",
       "      <td>1</td>\n",
       "      <td>Bar</td>\n",
       "      <td>4~8</td>\n",
       "    </tr>\n",
       "    <tr>\n",
       "      <th>151</th>\n",
       "      <td>1</td>\n",
       "      <td>Bar</td>\n",
       "      <td>4~8</td>\n",
       "    </tr>\n",
       "    <tr>\n",
       "      <th>152</th>\n",
       "      <td>1</td>\n",
       "      <td>Bar</td>\n",
       "      <td>4~8</td>\n",
       "    </tr>\n",
       "  </tbody>\n",
       "</table>\n",
       "<p>153 rows × 3 columns</p>\n",
       "</div>"
      ],
      "text/plain": [
       "     Y coupon  Bar\n",
       "0    1    Bar  gt8\n",
       "1    1    Bar  gt8\n",
       "2    1    Bar  gt8\n",
       "3    1    Bar  gt8\n",
       "4    1    Bar  4~8\n",
       "..  ..    ...  ...\n",
       "148  1    Bar  4~8\n",
       "149  1    Bar  4~8\n",
       "150  1    Bar  4~8\n",
       "151  1    Bar  4~8\n",
       "152  1    Bar  4~8\n",
       "\n",
       "[153 rows x 3 columns]"
      ]
     },
     "execution_count": 377,
     "metadata": {},
     "output_type": "execute_result"
    }
   ],
   "source": [
    "MoreVisitBar_df.reset_index()[['Y','coupon','Bar']]"
   ]
  },
  {
   "cell_type": "code",
   "execution_count": 390,
   "metadata": {},
   "outputs": [
    {
     "data": {
      "text/plain": [
       "153"
      ]
     },
     "execution_count": 390,
     "metadata": {},
     "output_type": "execute_result"
    }
   ],
   "source": [
    "MoreVisitBar_Count_df = MoreVisitBar_df.value_counts().sum()\n",
    "MoreVisitBar_Count_df"
   ]
  },
  {
   "cell_type": "code",
   "execution_count": 389,
   "metadata": {},
   "outputs": [
    {
     "data": {
      "text/plain": [
       "7210"
      ]
     },
     "execution_count": 389,
     "metadata": {},
     "output_type": "execute_result"
    }
   ],
   "source": [
    "TotalCouponAccepted = df.query(\"Y == 1\").value_counts().sum()\n",
    "TotalCouponAccepted"
   ]
  },
  {
   "cell_type": "code",
   "execution_count": 392,
   "metadata": {},
   "outputs": [],
   "source": [
    "# Acceptance Rate who went to a bar 3 or less\n",
    "Acceptance_Rate_A = (ThreeOrLessVisitBar_Count_df/TotalCouponAccepted)*100"
   ]
  },
  {
   "cell_type": "code",
   "execution_count": 394,
   "metadata": {},
   "outputs": [],
   "source": [
    "# Acceptance Rate who went to a bar 4 or more\n",
    "Acceptance_Rate_B = (MoreVisitBar_Count_df/TotalCouponAccepted)*100"
   ]
  },
  {
   "cell_type": "code",
   "execution_count": 393,
   "metadata": {},
   "outputs": [
    {
     "data": {
      "text/plain": [
       "7.073509015256588"
      ]
     },
     "execution_count": 393,
     "metadata": {},
     "output_type": "execute_result"
    }
   ],
   "source": [
    "Acceptance_Rate_A # Acceptance Rate who went to a bar 3 or less"
   ]
  },
  {
   "cell_type": "code",
   "execution_count": 395,
   "metadata": {},
   "outputs": [
    {
     "data": {
      "text/plain": [
       "2.1220527045769764"
      ]
     },
     "execution_count": 395,
     "metadata": {},
     "output_type": "execute_result"
    }
   ],
   "source": [
    "Acceptance_Rate_B # Acceptance Rate who went to a bar 4 or more"
   ]
  },
  {
   "cell_type": "markdown",
   "metadata": {
    "id": "RBgcQwH4_qRK"
   },
   "source": [
    "4. Compare the acceptance rate between drivers who go to a bar more than once a month and are over the age of 25 to the all others.  Is there a difference?\n"
   ]
  },
  {
   "cell_type": "code",
   "execution_count": 407,
   "metadata": {
    "id": "bf28bbeX_qRK"
   },
   "outputs": [
    {
     "name": "stdout",
     "output_type": "stream",
     "text": [
      "<class 'pandas.core.frame.DataFrame'>\n",
      "RangeIndex: 12684 entries, 0 to 12683\n",
      "Data columns (total 26 columns):\n",
      " #   Column                Non-Null Count  Dtype \n",
      "---  ------                --------------  ----- \n",
      " 0   destination           12684 non-null  object\n",
      " 1   passanger             12684 non-null  object\n",
      " 2   weather               12684 non-null  object\n",
      " 3   temperature           12684 non-null  int64 \n",
      " 4   time                  12684 non-null  object\n",
      " 5   coupon                12684 non-null  object\n",
      " 6   expiration            12684 non-null  object\n",
      " 7   gender                12684 non-null  object\n",
      " 8   age                   12684 non-null  object\n",
      " 9   maritalStatus         12684 non-null  object\n",
      " 10  has_children          12684 non-null  int64 \n",
      " 11  education             12684 non-null  object\n",
      " 12  occupation            12684 non-null  object\n",
      " 13  income                12684 non-null  object\n",
      " 14  car                   108 non-null    object\n",
      " 15  Bar                   12577 non-null  object\n",
      " 16  CoffeeHouse           12467 non-null  object\n",
      " 17  CarryAway             12533 non-null  object\n",
      " 18  RestaurantLessThan20  12554 non-null  object\n",
      " 19  Restaurant20To50      12495 non-null  object\n",
      " 20  toCoupon_GEQ5min      12684 non-null  int64 \n",
      " 21  toCoupon_GEQ15min     12684 non-null  int64 \n",
      " 22  toCoupon_GEQ25min     12684 non-null  int64 \n",
      " 23  direction_same        12684 non-null  int64 \n",
      " 24  direction_opp         12684 non-null  int64 \n",
      " 25  Y                     12684 non-null  int64 \n",
      "dtypes: int64(8), object(18)\n",
      "memory usage: 2.5+ MB\n"
     ]
    }
   ],
   "source": [
    "data.info()"
   ]
  },
  {
   "cell_type": "code",
   "execution_count": 418,
   "metadata": {},
   "outputs": [],
   "source": [
    "#drivers who go to a bar more than once a month and are over the age of 25\n",
    "\n",
    "Driver_Set1_df = data.query(\"Y == 1 and (age != '21' and age != 'below21' ) and (Bar == '1~3' or Bar == '4~8' or Bar == 'gt8')\")[['Y', 'age', 'Bar']]\n"
   ]
  },
  {
   "cell_type": "code",
   "execution_count": 419,
   "metadata": {},
   "outputs": [
    {
     "data": {
      "text/html": [
       "<div>\n",
       "<style scoped>\n",
       "    .dataframe tbody tr th:only-of-type {\n",
       "        vertical-align: middle;\n",
       "    }\n",
       "\n",
       "    .dataframe tbody tr th {\n",
       "        vertical-align: top;\n",
       "    }\n",
       "\n",
       "    .dataframe thead th {\n",
       "        text-align: right;\n",
       "    }\n",
       "</style>\n",
       "<table border=\"1\" class=\"dataframe\">\n",
       "  <thead>\n",
       "    <tr style=\"text-align: right;\">\n",
       "      <th></th>\n",
       "      <th>Y</th>\n",
       "      <th>age</th>\n",
       "      <th>Bar</th>\n",
       "    </tr>\n",
       "  </thead>\n",
       "  <tbody>\n",
       "    <tr>\n",
       "      <th>0</th>\n",
       "      <td>1</td>\n",
       "      <td>26</td>\n",
       "      <td>1~3</td>\n",
       "    </tr>\n",
       "    <tr>\n",
       "      <th>1</th>\n",
       "      <td>1</td>\n",
       "      <td>26</td>\n",
       "      <td>1~3</td>\n",
       "    </tr>\n",
       "    <tr>\n",
       "      <th>2</th>\n",
       "      <td>1</td>\n",
       "      <td>26</td>\n",
       "      <td>1~3</td>\n",
       "    </tr>\n",
       "    <tr>\n",
       "      <th>3</th>\n",
       "      <td>1</td>\n",
       "      <td>26</td>\n",
       "      <td>1~3</td>\n",
       "    </tr>\n",
       "    <tr>\n",
       "      <th>4</th>\n",
       "      <td>1</td>\n",
       "      <td>26</td>\n",
       "      <td>1~3</td>\n",
       "    </tr>\n",
       "    <tr>\n",
       "      <th>...</th>\n",
       "      <td>...</td>\n",
       "      <td>...</td>\n",
       "      <td>...</td>\n",
       "    </tr>\n",
       "    <tr>\n",
       "      <th>1721</th>\n",
       "      <td>1</td>\n",
       "      <td>26</td>\n",
       "      <td>1~3</td>\n",
       "    </tr>\n",
       "    <tr>\n",
       "      <th>1722</th>\n",
       "      <td>1</td>\n",
       "      <td>26</td>\n",
       "      <td>1~3</td>\n",
       "    </tr>\n",
       "    <tr>\n",
       "      <th>1723</th>\n",
       "      <td>1</td>\n",
       "      <td>26</td>\n",
       "      <td>1~3</td>\n",
       "    </tr>\n",
       "    <tr>\n",
       "      <th>1724</th>\n",
       "      <td>1</td>\n",
       "      <td>26</td>\n",
       "      <td>1~3</td>\n",
       "    </tr>\n",
       "    <tr>\n",
       "      <th>1725</th>\n",
       "      <td>1</td>\n",
       "      <td>26</td>\n",
       "      <td>1~3</td>\n",
       "    </tr>\n",
       "  </tbody>\n",
       "</table>\n",
       "<p>1726 rows × 3 columns</p>\n",
       "</div>"
      ],
      "text/plain": [
       "      Y age  Bar\n",
       "0     1  26  1~3\n",
       "1     1  26  1~3\n",
       "2     1  26  1~3\n",
       "3     1  26  1~3\n",
       "4     1  26  1~3\n",
       "...  ..  ..  ...\n",
       "1721  1  26  1~3\n",
       "1722  1  26  1~3\n",
       "1723  1  26  1~3\n",
       "1724  1  26  1~3\n",
       "1725  1  26  1~3\n",
       "\n",
       "[1726 rows x 3 columns]"
      ]
     },
     "execution_count": 419,
     "metadata": {},
     "output_type": "execute_result"
    }
   ],
   "source": [
    "Driver_Set1_df.reset_index()[['Y','age','Bar']]"
   ]
  },
  {
   "cell_type": "code",
   "execution_count": 421,
   "metadata": {},
   "outputs": [
    {
     "data": {
      "text/plain": [
       "1726"
      ]
     },
     "execution_count": 421,
     "metadata": {},
     "output_type": "execute_result"
    }
   ],
   "source": [
    "Driver_Set1_df_counts = Driver_Set1_df.value_counts().sum()\n",
    "Driver_Set1_df_counts"
   ]
  },
  {
   "cell_type": "code",
   "execution_count": 413,
   "metadata": {},
   "outputs": [
    {
     "data": {
      "text/plain": [
       "7210"
      ]
     },
     "execution_count": 413,
     "metadata": {},
     "output_type": "execute_result"
    }
   ],
   "source": [
    "TotalCouponAccepted = df.query(\"Y == 1\").value_counts().sum()\n",
    "TotalCouponAccepted"
   ]
  },
  {
   "cell_type": "code",
   "execution_count": 441,
   "metadata": {},
   "outputs": [
    {
     "data": {
      "text/plain": [
       "23.94"
      ]
     },
     "execution_count": 441,
     "metadata": {},
     "output_type": "execute_result"
    }
   ],
   "source": [
    "# Acceptance Rate : Driver Group # 1\n",
    "\n",
    "Driver_Acceptance_Rate_Set1 = (Driver_Set1_df_counts/TotalCouponAccepted) * 100\n",
    "RoundedSet1 = Driver_Acceptance_Rate_Set1.round(2)\n",
    "RoundedSet1"
   ]
  },
  {
   "cell_type": "code",
   "execution_count": 427,
   "metadata": {},
   "outputs": [
    {
     "data": {
      "text/html": [
       "<div>\n",
       "<style scoped>\n",
       "    .dataframe tbody tr th:only-of-type {\n",
       "        vertical-align: middle;\n",
       "    }\n",
       "\n",
       "    .dataframe tbody tr th {\n",
       "        vertical-align: top;\n",
       "    }\n",
       "\n",
       "    .dataframe thead th {\n",
       "        text-align: right;\n",
       "    }\n",
       "</style>\n",
       "<table border=\"1\" class=\"dataframe\">\n",
       "  <thead>\n",
       "    <tr style=\"text-align: right;\">\n",
       "      <th></th>\n",
       "      <th>Y</th>\n",
       "      <th>age</th>\n",
       "      <th>Bar</th>\n",
       "    </tr>\n",
       "  </thead>\n",
       "  <tbody>\n",
       "    <tr>\n",
       "      <th>0</th>\n",
       "      <td>1</td>\n",
       "      <td>21</td>\n",
       "      <td>never</td>\n",
       "    </tr>\n",
       "    <tr>\n",
       "      <th>1</th>\n",
       "      <td>1</td>\n",
       "      <td>21</td>\n",
       "      <td>never</td>\n",
       "    </tr>\n",
       "    <tr>\n",
       "      <th>2</th>\n",
       "      <td>1</td>\n",
       "      <td>21</td>\n",
       "      <td>never</td>\n",
       "    </tr>\n",
       "    <tr>\n",
       "      <th>3</th>\n",
       "      <td>1</td>\n",
       "      <td>21</td>\n",
       "      <td>never</td>\n",
       "    </tr>\n",
       "    <tr>\n",
       "      <th>4</th>\n",
       "      <td>1</td>\n",
       "      <td>21</td>\n",
       "      <td>never</td>\n",
       "    </tr>\n",
       "    <tr>\n",
       "      <th>...</th>\n",
       "      <td>...</td>\n",
       "      <td>...</td>\n",
       "      <td>...</td>\n",
       "    </tr>\n",
       "    <tr>\n",
       "      <th>1226</th>\n",
       "      <td>1</td>\n",
       "      <td>21</td>\n",
       "      <td>never</td>\n",
       "    </tr>\n",
       "    <tr>\n",
       "      <th>1227</th>\n",
       "      <td>1</td>\n",
       "      <td>21</td>\n",
       "      <td>never</td>\n",
       "    </tr>\n",
       "    <tr>\n",
       "      <th>1228</th>\n",
       "      <td>1</td>\n",
       "      <td>21</td>\n",
       "      <td>never</td>\n",
       "    </tr>\n",
       "    <tr>\n",
       "      <th>1229</th>\n",
       "      <td>1</td>\n",
       "      <td>21</td>\n",
       "      <td>never</td>\n",
       "    </tr>\n",
       "    <tr>\n",
       "      <th>1230</th>\n",
       "      <td>1</td>\n",
       "      <td>21</td>\n",
       "      <td>never</td>\n",
       "    </tr>\n",
       "  </tbody>\n",
       "</table>\n",
       "<p>1231 rows × 3 columns</p>\n",
       "</div>"
      ],
      "text/plain": [
       "      Y age    Bar\n",
       "0     1  21  never\n",
       "1     1  21  never\n",
       "2     1  21  never\n",
       "3     1  21  never\n",
       "4     1  21  never\n",
       "...  ..  ..    ...\n",
       "1226  1  21  never\n",
       "1227  1  21  never\n",
       "1228  1  21  never\n",
       "1229  1  21  never\n",
       "1230  1  21  never\n",
       "\n",
       "[1231 rows x 3 columns]"
      ]
     },
     "execution_count": 427,
     "metadata": {},
     "output_type": "execute_result"
    }
   ],
   "source": [
    "#Drivers who go to a bar less than once a month and are below the age of 25\n",
    "\n",
    "Driver_Set2_df = data.query(\"Y == 1 and (age == '21' or age == 'below21' ) and (Bar == 'never' or Bar == 'less1')\")[['Y', 'age', 'Bar']]\n",
    "Driver_Set2_df.reset_index() [['Y', 'age', 'Bar']]"
   ]
  },
  {
   "cell_type": "code",
   "execution_count": 428,
   "metadata": {},
   "outputs": [
    {
     "data": {
      "text/plain": [
       "1231"
      ]
     },
     "execution_count": 428,
     "metadata": {},
     "output_type": "execute_result"
    }
   ],
   "source": [
    "Driver_Set2_df_counts = Driver_Set2_df.value_counts().sum()\n",
    "Driver_Set2_df_counts"
   ]
  },
  {
   "cell_type": "code",
   "execution_count": 440,
   "metadata": {},
   "outputs": [
    {
     "data": {
      "text/plain": [
       "17.07"
      ]
     },
     "execution_count": 440,
     "metadata": {},
     "output_type": "execute_result"
    }
   ],
   "source": [
    "# Acceptance Rate : Driver Group # 2\n",
    "\n",
    "Driver_Acceptance_Rate_Set2 = (Driver_Set2_df_counts/TotalCouponAccepted) * 100\n",
    "RoundedSet2 = Driver_Acceptance_Rate_Set2.round(2)\n",
    "RoundedSet2 "
   ]
  },
  {
   "cell_type": "code",
   "execution_count": null,
   "metadata": {},
   "outputs": [],
   "source": [
    "# Acceptance Rate is higher for drivers who go to a bar more than \n",
    "# once a month and are over the age of 25 compared to all others."
   ]
  },
  {
   "cell_type": "code",
   "execution_count": 613,
   "metadata": {},
   "outputs": [
    {
     "data": {
      "application/vnd.plotly.v1+json": {
       "config": {
        "plotlyServerURL": "https://plot.ly"
       },
       "data": [
        {
         "alignmentgroup": "True",
         "hovertemplate": "Legend Description=Bar Visits > 1 per Month & Age greater than 25<br>Category=%{x}<br>Acceptance Rate (%)=%{text}<extra></extra>",
         "legendgroup": "Bar Visits > 1 per Month & Age greater than 25",
         "marker": {
          "color": "rgb(102,194,165)",
          "pattern": {
           "shape": ""
          }
         },
         "name": "Bar Visits > 1 per Month & Age greater than 25",
         "offsetgroup": "Bar Visits > 1 per Month & Age greater than 25",
         "orientation": "v",
         "showlegend": true,
         "text": [
          23.94
         ],
         "textposition": "outside",
         "type": "bar",
         "x": [
          "Driver Group1"
         ],
         "xaxis": "x",
         "y": [
          23.94
         ],
         "yaxis": "y"
        },
        {
         "alignmentgroup": "True",
         "hovertemplate": "Legend Description=Bar Visits < 1 per Month & Age under 25<br>Category=%{x}<br>Acceptance Rate (%)=%{text}<extra></extra>",
         "legendgroup": "Bar Visits < 1 per Month & Age under 25",
         "marker": {
          "color": "rgb(252,141,98)",
          "pattern": {
           "shape": ""
          }
         },
         "name": "Bar Visits < 1 per Month & Age under 25",
         "offsetgroup": "Bar Visits < 1 per Month & Age under 25",
         "orientation": "v",
         "showlegend": true,
         "text": [
          17.07
         ],
         "textposition": "outside",
         "type": "bar",
         "x": [
          "Driver Group2"
         ],
         "xaxis": "x",
         "y": [
          17.07
         ],
         "yaxis": "y"
        }
       ],
       "layout": {
        "barmode": "relative",
        "height": 600,
        "legend": {
         "title": {
          "text": "Legend Description"
         },
         "tracegroupgap": 0
        },
        "margin": {
         "b": 80
        },
        "template": {
         "data": {
          "bar": [
           {
            "error_x": {
             "color": "#2a3f5f"
            },
            "error_y": {
             "color": "#2a3f5f"
            },
            "marker": {
             "line": {
              "color": "#E5ECF6",
              "width": 0.5
             },
             "pattern": {
              "fillmode": "overlay",
              "size": 10,
              "solidity": 0.2
             }
            },
            "type": "bar"
           }
          ],
          "barpolar": [
           {
            "marker": {
             "line": {
              "color": "#E5ECF6",
              "width": 0.5
             },
             "pattern": {
              "fillmode": "overlay",
              "size": 10,
              "solidity": 0.2
             }
            },
            "type": "barpolar"
           }
          ],
          "carpet": [
           {
            "aaxis": {
             "endlinecolor": "#2a3f5f",
             "gridcolor": "white",
             "linecolor": "white",
             "minorgridcolor": "white",
             "startlinecolor": "#2a3f5f"
            },
            "baxis": {
             "endlinecolor": "#2a3f5f",
             "gridcolor": "white",
             "linecolor": "white",
             "minorgridcolor": "white",
             "startlinecolor": "#2a3f5f"
            },
            "type": "carpet"
           }
          ],
          "choropleth": [
           {
            "colorbar": {
             "outlinewidth": 0,
             "ticks": ""
            },
            "type": "choropleth"
           }
          ],
          "contour": [
           {
            "colorbar": {
             "outlinewidth": 0,
             "ticks": ""
            },
            "colorscale": [
             [
              0,
              "#0d0887"
             ],
             [
              0.1111111111111111,
              "#46039f"
             ],
             [
              0.2222222222222222,
              "#7201a8"
             ],
             [
              0.3333333333333333,
              "#9c179e"
             ],
             [
              0.4444444444444444,
              "#bd3786"
             ],
             [
              0.5555555555555556,
              "#d8576b"
             ],
             [
              0.6666666666666666,
              "#ed7953"
             ],
             [
              0.7777777777777778,
              "#fb9f3a"
             ],
             [
              0.8888888888888888,
              "#fdca26"
             ],
             [
              1,
              "#f0f921"
             ]
            ],
            "type": "contour"
           }
          ],
          "contourcarpet": [
           {
            "colorbar": {
             "outlinewidth": 0,
             "ticks": ""
            },
            "type": "contourcarpet"
           }
          ],
          "heatmap": [
           {
            "colorbar": {
             "outlinewidth": 0,
             "ticks": ""
            },
            "colorscale": [
             [
              0,
              "#0d0887"
             ],
             [
              0.1111111111111111,
              "#46039f"
             ],
             [
              0.2222222222222222,
              "#7201a8"
             ],
             [
              0.3333333333333333,
              "#9c179e"
             ],
             [
              0.4444444444444444,
              "#bd3786"
             ],
             [
              0.5555555555555556,
              "#d8576b"
             ],
             [
              0.6666666666666666,
              "#ed7953"
             ],
             [
              0.7777777777777778,
              "#fb9f3a"
             ],
             [
              0.8888888888888888,
              "#fdca26"
             ],
             [
              1,
              "#f0f921"
             ]
            ],
            "type": "heatmap"
           }
          ],
          "heatmapgl": [
           {
            "colorbar": {
             "outlinewidth": 0,
             "ticks": ""
            },
            "colorscale": [
             [
              0,
              "#0d0887"
             ],
             [
              0.1111111111111111,
              "#46039f"
             ],
             [
              0.2222222222222222,
              "#7201a8"
             ],
             [
              0.3333333333333333,
              "#9c179e"
             ],
             [
              0.4444444444444444,
              "#bd3786"
             ],
             [
              0.5555555555555556,
              "#d8576b"
             ],
             [
              0.6666666666666666,
              "#ed7953"
             ],
             [
              0.7777777777777778,
              "#fb9f3a"
             ],
             [
              0.8888888888888888,
              "#fdca26"
             ],
             [
              1,
              "#f0f921"
             ]
            ],
            "type": "heatmapgl"
           }
          ],
          "histogram": [
           {
            "marker": {
             "pattern": {
              "fillmode": "overlay",
              "size": 10,
              "solidity": 0.2
             }
            },
            "type": "histogram"
           }
          ],
          "histogram2d": [
           {
            "colorbar": {
             "outlinewidth": 0,
             "ticks": ""
            },
            "colorscale": [
             [
              0,
              "#0d0887"
             ],
             [
              0.1111111111111111,
              "#46039f"
             ],
             [
              0.2222222222222222,
              "#7201a8"
             ],
             [
              0.3333333333333333,
              "#9c179e"
             ],
             [
              0.4444444444444444,
              "#bd3786"
             ],
             [
              0.5555555555555556,
              "#d8576b"
             ],
             [
              0.6666666666666666,
              "#ed7953"
             ],
             [
              0.7777777777777778,
              "#fb9f3a"
             ],
             [
              0.8888888888888888,
              "#fdca26"
             ],
             [
              1,
              "#f0f921"
             ]
            ],
            "type": "histogram2d"
           }
          ],
          "histogram2dcontour": [
           {
            "colorbar": {
             "outlinewidth": 0,
             "ticks": ""
            },
            "colorscale": [
             [
              0,
              "#0d0887"
             ],
             [
              0.1111111111111111,
              "#46039f"
             ],
             [
              0.2222222222222222,
              "#7201a8"
             ],
             [
              0.3333333333333333,
              "#9c179e"
             ],
             [
              0.4444444444444444,
              "#bd3786"
             ],
             [
              0.5555555555555556,
              "#d8576b"
             ],
             [
              0.6666666666666666,
              "#ed7953"
             ],
             [
              0.7777777777777778,
              "#fb9f3a"
             ],
             [
              0.8888888888888888,
              "#fdca26"
             ],
             [
              1,
              "#f0f921"
             ]
            ],
            "type": "histogram2dcontour"
           }
          ],
          "mesh3d": [
           {
            "colorbar": {
             "outlinewidth": 0,
             "ticks": ""
            },
            "type": "mesh3d"
           }
          ],
          "parcoords": [
           {
            "line": {
             "colorbar": {
              "outlinewidth": 0,
              "ticks": ""
             }
            },
            "type": "parcoords"
           }
          ],
          "pie": [
           {
            "automargin": true,
            "type": "pie"
           }
          ],
          "scatter": [
           {
            "fillpattern": {
             "fillmode": "overlay",
             "size": 10,
             "solidity": 0.2
            },
            "type": "scatter"
           }
          ],
          "scatter3d": [
           {
            "line": {
             "colorbar": {
              "outlinewidth": 0,
              "ticks": ""
             }
            },
            "marker": {
             "colorbar": {
              "outlinewidth": 0,
              "ticks": ""
             }
            },
            "type": "scatter3d"
           }
          ],
          "scattercarpet": [
           {
            "marker": {
             "colorbar": {
              "outlinewidth": 0,
              "ticks": ""
             }
            },
            "type": "scattercarpet"
           }
          ],
          "scattergeo": [
           {
            "marker": {
             "colorbar": {
              "outlinewidth": 0,
              "ticks": ""
             }
            },
            "type": "scattergeo"
           }
          ],
          "scattergl": [
           {
            "marker": {
             "colorbar": {
              "outlinewidth": 0,
              "ticks": ""
             }
            },
            "type": "scattergl"
           }
          ],
          "scattermapbox": [
           {
            "marker": {
             "colorbar": {
              "outlinewidth": 0,
              "ticks": ""
             }
            },
            "type": "scattermapbox"
           }
          ],
          "scatterpolar": [
           {
            "marker": {
             "colorbar": {
              "outlinewidth": 0,
              "ticks": ""
             }
            },
            "type": "scatterpolar"
           }
          ],
          "scatterpolargl": [
           {
            "marker": {
             "colorbar": {
              "outlinewidth": 0,
              "ticks": ""
             }
            },
            "type": "scatterpolargl"
           }
          ],
          "scatterternary": [
           {
            "marker": {
             "colorbar": {
              "outlinewidth": 0,
              "ticks": ""
             }
            },
            "type": "scatterternary"
           }
          ],
          "surface": [
           {
            "colorbar": {
             "outlinewidth": 0,
             "ticks": ""
            },
            "colorscale": [
             [
              0,
              "#0d0887"
             ],
             [
              0.1111111111111111,
              "#46039f"
             ],
             [
              0.2222222222222222,
              "#7201a8"
             ],
             [
              0.3333333333333333,
              "#9c179e"
             ],
             [
              0.4444444444444444,
              "#bd3786"
             ],
             [
              0.5555555555555556,
              "#d8576b"
             ],
             [
              0.6666666666666666,
              "#ed7953"
             ],
             [
              0.7777777777777778,
              "#fb9f3a"
             ],
             [
              0.8888888888888888,
              "#fdca26"
             ],
             [
              1,
              "#f0f921"
             ]
            ],
            "type": "surface"
           }
          ],
          "table": [
           {
            "cells": {
             "fill": {
              "color": "#EBF0F8"
             },
             "line": {
              "color": "white"
             }
            },
            "header": {
             "fill": {
              "color": "#C8D4E3"
             },
             "line": {
              "color": "white"
             }
            },
            "type": "table"
           }
          ]
         },
         "layout": {
          "annotationdefaults": {
           "arrowcolor": "#2a3f5f",
           "arrowhead": 0,
           "arrowwidth": 1
          },
          "autotypenumbers": "strict",
          "coloraxis": {
           "colorbar": {
            "outlinewidth": 0,
            "ticks": ""
           }
          },
          "colorscale": {
           "diverging": [
            [
             0,
             "#8e0152"
            ],
            [
             0.1,
             "#c51b7d"
            ],
            [
             0.2,
             "#de77ae"
            ],
            [
             0.3,
             "#f1b6da"
            ],
            [
             0.4,
             "#fde0ef"
            ],
            [
             0.5,
             "#f7f7f7"
            ],
            [
             0.6,
             "#e6f5d0"
            ],
            [
             0.7,
             "#b8e186"
            ],
            [
             0.8,
             "#7fbc41"
            ],
            [
             0.9,
             "#4d9221"
            ],
            [
             1,
             "#276419"
            ]
           ],
           "sequential": [
            [
             0,
             "#0d0887"
            ],
            [
             0.1111111111111111,
             "#46039f"
            ],
            [
             0.2222222222222222,
             "#7201a8"
            ],
            [
             0.3333333333333333,
             "#9c179e"
            ],
            [
             0.4444444444444444,
             "#bd3786"
            ],
            [
             0.5555555555555556,
             "#d8576b"
            ],
            [
             0.6666666666666666,
             "#ed7953"
            ],
            [
             0.7777777777777778,
             "#fb9f3a"
            ],
            [
             0.8888888888888888,
             "#fdca26"
            ],
            [
             1,
             "#f0f921"
            ]
           ],
           "sequentialminus": [
            [
             0,
             "#0d0887"
            ],
            [
             0.1111111111111111,
             "#46039f"
            ],
            [
             0.2222222222222222,
             "#7201a8"
            ],
            [
             0.3333333333333333,
             "#9c179e"
            ],
            [
             0.4444444444444444,
             "#bd3786"
            ],
            [
             0.5555555555555556,
             "#d8576b"
            ],
            [
             0.6666666666666666,
             "#ed7953"
            ],
            [
             0.7777777777777778,
             "#fb9f3a"
            ],
            [
             0.8888888888888888,
             "#fdca26"
            ],
            [
             1,
             "#f0f921"
            ]
           ]
          },
          "colorway": [
           "#636efa",
           "#EF553B",
           "#00cc96",
           "#ab63fa",
           "#FFA15A",
           "#19d3f3",
           "#FF6692",
           "#B6E880",
           "#FF97FF",
           "#FECB52"
          ],
          "font": {
           "color": "#2a3f5f"
          },
          "geo": {
           "bgcolor": "white",
           "lakecolor": "white",
           "landcolor": "#E5ECF6",
           "showlakes": true,
           "showland": true,
           "subunitcolor": "white"
          },
          "hoverlabel": {
           "align": "left"
          },
          "hovermode": "closest",
          "mapbox": {
           "style": "light"
          },
          "paper_bgcolor": "white",
          "plot_bgcolor": "#E5ECF6",
          "polar": {
           "angularaxis": {
            "gridcolor": "white",
            "linecolor": "white",
            "ticks": ""
           },
           "bgcolor": "#E5ECF6",
           "radialaxis": {
            "gridcolor": "white",
            "linecolor": "white",
            "ticks": ""
           }
          },
          "scene": {
           "xaxis": {
            "backgroundcolor": "#E5ECF6",
            "gridcolor": "white",
            "gridwidth": 2,
            "linecolor": "white",
            "showbackground": true,
            "ticks": "",
            "zerolinecolor": "white"
           },
           "yaxis": {
            "backgroundcolor": "#E5ECF6",
            "gridcolor": "white",
            "gridwidth": 2,
            "linecolor": "white",
            "showbackground": true,
            "ticks": "",
            "zerolinecolor": "white"
           },
           "zaxis": {
            "backgroundcolor": "#E5ECF6",
            "gridcolor": "white",
            "gridwidth": 2,
            "linecolor": "white",
            "showbackground": true,
            "ticks": "",
            "zerolinecolor": "white"
           }
          },
          "shapedefaults": {
           "line": {
            "color": "#2a3f5f"
           }
          },
          "ternary": {
           "aaxis": {
            "gridcolor": "white",
            "linecolor": "white",
            "ticks": ""
           },
           "baxis": {
            "gridcolor": "white",
            "linecolor": "white",
            "ticks": ""
           },
           "bgcolor": "#E5ECF6",
           "caxis": {
            "gridcolor": "white",
            "linecolor": "white",
            "ticks": ""
           }
          },
          "title": {
           "x": 0.05
          },
          "xaxis": {
           "automargin": true,
           "gridcolor": "white",
           "linecolor": "white",
           "ticks": "",
           "title": {
            "standoff": 15
           },
           "zerolinecolor": "white",
           "zerolinewidth": 2
          },
          "yaxis": {
           "automargin": true,
           "gridcolor": "white",
           "linecolor": "white",
           "ticks": "",
           "title": {
            "standoff": 15
           },
           "zerolinecolor": "white",
           "zerolinewidth": 2
          }
         }
        },
        "title": {
         "text": "Comparison of Driver Acceptance Rates"
        },
        "width": 900,
        "xaxis": {
         "anchor": "y",
         "domain": [
          0,
          1
         ],
         "tickangle": 0,
         "title": {
          "text": "Category"
         }
        },
        "yaxis": {
         "anchor": "x",
         "domain": [
          0,
          1
         ],
         "title": {
          "text": "Acceptance Rate (%)"
         }
        }
       }
      },
      "text/html": [
       "<div>                            <div id=\"6b09b7d8-be98-49b2-a4a9-20575181357a\" class=\"plotly-graph-div\" style=\"height:600px; width:900px;\"></div>            <script type=\"text/javascript\">                require([\"plotly\"], function(Plotly) {                    window.PLOTLYENV=window.PLOTLYENV || {};                                    if (document.getElementById(\"6b09b7d8-be98-49b2-a4a9-20575181357a\")) {                    Plotly.newPlot(                        \"6b09b7d8-be98-49b2-a4a9-20575181357a\",                        [{\"alignmentgroup\":\"True\",\"hovertemplate\":\"Legend Description=Bar Visits \\u003e 1 per Month & Age greater than 25\\u003cbr\\u003eCategory=%{x}\\u003cbr\\u003eAcceptance Rate (%)=%{text}\\u003cextra\\u003e\\u003c\\u002fextra\\u003e\",\"legendgroup\":\"Bar Visits \\u003e 1 per Month & Age greater than 25\",\"marker\":{\"color\":\"rgb(102,194,165)\",\"pattern\":{\"shape\":\"\"}},\"name\":\"Bar Visits \\u003e 1 per Month & Age greater than 25\",\"offsetgroup\":\"Bar Visits \\u003e 1 per Month & Age greater than 25\",\"orientation\":\"v\",\"showlegend\":true,\"text\":[23.94],\"textposition\":\"outside\",\"x\":[\"Driver Group1\"],\"xaxis\":\"x\",\"y\":[23.94],\"yaxis\":\"y\",\"type\":\"bar\"},{\"alignmentgroup\":\"True\",\"hovertemplate\":\"Legend Description=Bar Visits \\u003c 1 per Month & Age under 25\\u003cbr\\u003eCategory=%{x}\\u003cbr\\u003eAcceptance Rate (%)=%{text}\\u003cextra\\u003e\\u003c\\u002fextra\\u003e\",\"legendgroup\":\"Bar Visits \\u003c 1 per Month & Age under 25\",\"marker\":{\"color\":\"rgb(252,141,98)\",\"pattern\":{\"shape\":\"\"}},\"name\":\"Bar Visits \\u003c 1 per Month & Age under 25\",\"offsetgroup\":\"Bar Visits \\u003c 1 per Month & Age under 25\",\"orientation\":\"v\",\"showlegend\":true,\"text\":[17.07],\"textposition\":\"outside\",\"x\":[\"Driver Group2\"],\"xaxis\":\"x\",\"y\":[17.07],\"yaxis\":\"y\",\"type\":\"bar\"}],                        {\"template\":{\"data\":{\"histogram2dcontour\":[{\"type\":\"histogram2dcontour\",\"colorbar\":{\"outlinewidth\":0,\"ticks\":\"\"},\"colorscale\":[[0.0,\"#0d0887\"],[0.1111111111111111,\"#46039f\"],[0.2222222222222222,\"#7201a8\"],[0.3333333333333333,\"#9c179e\"],[0.4444444444444444,\"#bd3786\"],[0.5555555555555556,\"#d8576b\"],[0.6666666666666666,\"#ed7953\"],[0.7777777777777778,\"#fb9f3a\"],[0.8888888888888888,\"#fdca26\"],[1.0,\"#f0f921\"]]}],\"choropleth\":[{\"type\":\"choropleth\",\"colorbar\":{\"outlinewidth\":0,\"ticks\":\"\"}}],\"histogram2d\":[{\"type\":\"histogram2d\",\"colorbar\":{\"outlinewidth\":0,\"ticks\":\"\"},\"colorscale\":[[0.0,\"#0d0887\"],[0.1111111111111111,\"#46039f\"],[0.2222222222222222,\"#7201a8\"],[0.3333333333333333,\"#9c179e\"],[0.4444444444444444,\"#bd3786\"],[0.5555555555555556,\"#d8576b\"],[0.6666666666666666,\"#ed7953\"],[0.7777777777777778,\"#fb9f3a\"],[0.8888888888888888,\"#fdca26\"],[1.0,\"#f0f921\"]]}],\"heatmap\":[{\"type\":\"heatmap\",\"colorbar\":{\"outlinewidth\":0,\"ticks\":\"\"},\"colorscale\":[[0.0,\"#0d0887\"],[0.1111111111111111,\"#46039f\"],[0.2222222222222222,\"#7201a8\"],[0.3333333333333333,\"#9c179e\"],[0.4444444444444444,\"#bd3786\"],[0.5555555555555556,\"#d8576b\"],[0.6666666666666666,\"#ed7953\"],[0.7777777777777778,\"#fb9f3a\"],[0.8888888888888888,\"#fdca26\"],[1.0,\"#f0f921\"]]}],\"heatmapgl\":[{\"type\":\"heatmapgl\",\"colorbar\":{\"outlinewidth\":0,\"ticks\":\"\"},\"colorscale\":[[0.0,\"#0d0887\"],[0.1111111111111111,\"#46039f\"],[0.2222222222222222,\"#7201a8\"],[0.3333333333333333,\"#9c179e\"],[0.4444444444444444,\"#bd3786\"],[0.5555555555555556,\"#d8576b\"],[0.6666666666666666,\"#ed7953\"],[0.7777777777777778,\"#fb9f3a\"],[0.8888888888888888,\"#fdca26\"],[1.0,\"#f0f921\"]]}],\"contourcarpet\":[{\"type\":\"contourcarpet\",\"colorbar\":{\"outlinewidth\":0,\"ticks\":\"\"}}],\"contour\":[{\"type\":\"contour\",\"colorbar\":{\"outlinewidth\":0,\"ticks\":\"\"},\"colorscale\":[[0.0,\"#0d0887\"],[0.1111111111111111,\"#46039f\"],[0.2222222222222222,\"#7201a8\"],[0.3333333333333333,\"#9c179e\"],[0.4444444444444444,\"#bd3786\"],[0.5555555555555556,\"#d8576b\"],[0.6666666666666666,\"#ed7953\"],[0.7777777777777778,\"#fb9f3a\"],[0.8888888888888888,\"#fdca26\"],[1.0,\"#f0f921\"]]}],\"surface\":[{\"type\":\"surface\",\"colorbar\":{\"outlinewidth\":0,\"ticks\":\"\"},\"colorscale\":[[0.0,\"#0d0887\"],[0.1111111111111111,\"#46039f\"],[0.2222222222222222,\"#7201a8\"],[0.3333333333333333,\"#9c179e\"],[0.4444444444444444,\"#bd3786\"],[0.5555555555555556,\"#d8576b\"],[0.6666666666666666,\"#ed7953\"],[0.7777777777777778,\"#fb9f3a\"],[0.8888888888888888,\"#fdca26\"],[1.0,\"#f0f921\"]]}],\"mesh3d\":[{\"type\":\"mesh3d\",\"colorbar\":{\"outlinewidth\":0,\"ticks\":\"\"}}],\"scatter\":[{\"fillpattern\":{\"fillmode\":\"overlay\",\"size\":10,\"solidity\":0.2},\"type\":\"scatter\"}],\"parcoords\":[{\"type\":\"parcoords\",\"line\":{\"colorbar\":{\"outlinewidth\":0,\"ticks\":\"\"}}}],\"scatterpolargl\":[{\"type\":\"scatterpolargl\",\"marker\":{\"colorbar\":{\"outlinewidth\":0,\"ticks\":\"\"}}}],\"bar\":[{\"error_x\":{\"color\":\"#2a3f5f\"},\"error_y\":{\"color\":\"#2a3f5f\"},\"marker\":{\"line\":{\"color\":\"#E5ECF6\",\"width\":0.5},\"pattern\":{\"fillmode\":\"overlay\",\"size\":10,\"solidity\":0.2}},\"type\":\"bar\"}],\"scattergeo\":[{\"type\":\"scattergeo\",\"marker\":{\"colorbar\":{\"outlinewidth\":0,\"ticks\":\"\"}}}],\"scatterpolar\":[{\"type\":\"scatterpolar\",\"marker\":{\"colorbar\":{\"outlinewidth\":0,\"ticks\":\"\"}}}],\"histogram\":[{\"marker\":{\"pattern\":{\"fillmode\":\"overlay\",\"size\":10,\"solidity\":0.2}},\"type\":\"histogram\"}],\"scattergl\":[{\"type\":\"scattergl\",\"marker\":{\"colorbar\":{\"outlinewidth\":0,\"ticks\":\"\"}}}],\"scatter3d\":[{\"type\":\"scatter3d\",\"line\":{\"colorbar\":{\"outlinewidth\":0,\"ticks\":\"\"}},\"marker\":{\"colorbar\":{\"outlinewidth\":0,\"ticks\":\"\"}}}],\"scattermapbox\":[{\"type\":\"scattermapbox\",\"marker\":{\"colorbar\":{\"outlinewidth\":0,\"ticks\":\"\"}}}],\"scatterternary\":[{\"type\":\"scatterternary\",\"marker\":{\"colorbar\":{\"outlinewidth\":0,\"ticks\":\"\"}}}],\"scattercarpet\":[{\"type\":\"scattercarpet\",\"marker\":{\"colorbar\":{\"outlinewidth\":0,\"ticks\":\"\"}}}],\"carpet\":[{\"aaxis\":{\"endlinecolor\":\"#2a3f5f\",\"gridcolor\":\"white\",\"linecolor\":\"white\",\"minorgridcolor\":\"white\",\"startlinecolor\":\"#2a3f5f\"},\"baxis\":{\"endlinecolor\":\"#2a3f5f\",\"gridcolor\":\"white\",\"linecolor\":\"white\",\"minorgridcolor\":\"white\",\"startlinecolor\":\"#2a3f5f\"},\"type\":\"carpet\"}],\"table\":[{\"cells\":{\"fill\":{\"color\":\"#EBF0F8\"},\"line\":{\"color\":\"white\"}},\"header\":{\"fill\":{\"color\":\"#C8D4E3\"},\"line\":{\"color\":\"white\"}},\"type\":\"table\"}],\"barpolar\":[{\"marker\":{\"line\":{\"color\":\"#E5ECF6\",\"width\":0.5},\"pattern\":{\"fillmode\":\"overlay\",\"size\":10,\"solidity\":0.2}},\"type\":\"barpolar\"}],\"pie\":[{\"automargin\":true,\"type\":\"pie\"}]},\"layout\":{\"autotypenumbers\":\"strict\",\"colorway\":[\"#636efa\",\"#EF553B\",\"#00cc96\",\"#ab63fa\",\"#FFA15A\",\"#19d3f3\",\"#FF6692\",\"#B6E880\",\"#FF97FF\",\"#FECB52\"],\"font\":{\"color\":\"#2a3f5f\"},\"hovermode\":\"closest\",\"hoverlabel\":{\"align\":\"left\"},\"paper_bgcolor\":\"white\",\"plot_bgcolor\":\"#E5ECF6\",\"polar\":{\"bgcolor\":\"#E5ECF6\",\"angularaxis\":{\"gridcolor\":\"white\",\"linecolor\":\"white\",\"ticks\":\"\"},\"radialaxis\":{\"gridcolor\":\"white\",\"linecolor\":\"white\",\"ticks\":\"\"}},\"ternary\":{\"bgcolor\":\"#E5ECF6\",\"aaxis\":{\"gridcolor\":\"white\",\"linecolor\":\"white\",\"ticks\":\"\"},\"baxis\":{\"gridcolor\":\"white\",\"linecolor\":\"white\",\"ticks\":\"\"},\"caxis\":{\"gridcolor\":\"white\",\"linecolor\":\"white\",\"ticks\":\"\"}},\"coloraxis\":{\"colorbar\":{\"outlinewidth\":0,\"ticks\":\"\"}},\"colorscale\":{\"sequential\":[[0.0,\"#0d0887\"],[0.1111111111111111,\"#46039f\"],[0.2222222222222222,\"#7201a8\"],[0.3333333333333333,\"#9c179e\"],[0.4444444444444444,\"#bd3786\"],[0.5555555555555556,\"#d8576b\"],[0.6666666666666666,\"#ed7953\"],[0.7777777777777778,\"#fb9f3a\"],[0.8888888888888888,\"#fdca26\"],[1.0,\"#f0f921\"]],\"sequentialminus\":[[0.0,\"#0d0887\"],[0.1111111111111111,\"#46039f\"],[0.2222222222222222,\"#7201a8\"],[0.3333333333333333,\"#9c179e\"],[0.4444444444444444,\"#bd3786\"],[0.5555555555555556,\"#d8576b\"],[0.6666666666666666,\"#ed7953\"],[0.7777777777777778,\"#fb9f3a\"],[0.8888888888888888,\"#fdca26\"],[1.0,\"#f0f921\"]],\"diverging\":[[0,\"#8e0152\"],[0.1,\"#c51b7d\"],[0.2,\"#de77ae\"],[0.3,\"#f1b6da\"],[0.4,\"#fde0ef\"],[0.5,\"#f7f7f7\"],[0.6,\"#e6f5d0\"],[0.7,\"#b8e186\"],[0.8,\"#7fbc41\"],[0.9,\"#4d9221\"],[1,\"#276419\"]]},\"xaxis\":{\"gridcolor\":\"white\",\"linecolor\":\"white\",\"ticks\":\"\",\"title\":{\"standoff\":15},\"zerolinecolor\":\"white\",\"automargin\":true,\"zerolinewidth\":2},\"yaxis\":{\"gridcolor\":\"white\",\"linecolor\":\"white\",\"ticks\":\"\",\"title\":{\"standoff\":15},\"zerolinecolor\":\"white\",\"automargin\":true,\"zerolinewidth\":2},\"scene\":{\"xaxis\":{\"backgroundcolor\":\"#E5ECF6\",\"gridcolor\":\"white\",\"linecolor\":\"white\",\"showbackground\":true,\"ticks\":\"\",\"zerolinecolor\":\"white\",\"gridwidth\":2},\"yaxis\":{\"backgroundcolor\":\"#E5ECF6\",\"gridcolor\":\"white\",\"linecolor\":\"white\",\"showbackground\":true,\"ticks\":\"\",\"zerolinecolor\":\"white\",\"gridwidth\":2},\"zaxis\":{\"backgroundcolor\":\"#E5ECF6\",\"gridcolor\":\"white\",\"linecolor\":\"white\",\"showbackground\":true,\"ticks\":\"\",\"zerolinecolor\":\"white\",\"gridwidth\":2}},\"shapedefaults\":{\"line\":{\"color\":\"#2a3f5f\"}},\"annotationdefaults\":{\"arrowcolor\":\"#2a3f5f\",\"arrowhead\":0,\"arrowwidth\":1},\"geo\":{\"bgcolor\":\"white\",\"landcolor\":\"#E5ECF6\",\"subunitcolor\":\"white\",\"showland\":true,\"showlakes\":true,\"lakecolor\":\"white\"},\"title\":{\"x\":0.05},\"mapbox\":{\"style\":\"light\"}}},\"xaxis\":{\"anchor\":\"y\",\"domain\":[0.0,1.0],\"title\":{\"text\":\"Category\"},\"tickangle\":0},\"yaxis\":{\"anchor\":\"x\",\"domain\":[0.0,1.0],\"title\":{\"text\":\"Acceptance Rate (%)\"}},\"legend\":{\"title\":{\"text\":\"Legend Description\"},\"tracegroupgap\":0},\"title\":{\"text\":\"Comparison of Driver Acceptance Rates\"},\"barmode\":\"relative\",\"margin\":{\"b\":80},\"width\":900,\"height\":600},                        {\"responsive\": true}                    ).then(function(){\n",
       "                            \n",
       "var gd = document.getElementById('6b09b7d8-be98-49b2-a4a9-20575181357a');\n",
       "var x = new MutationObserver(function (mutations, observer) {{\n",
       "        var display = window.getComputedStyle(gd).display;\n",
       "        if (!display || display === 'none') {{\n",
       "            console.log([gd, 'removed!']);\n",
       "            Plotly.purge(gd);\n",
       "            observer.disconnect();\n",
       "        }}\n",
       "}});\n",
       "\n",
       "// Listen for the removal of the full notebook cells\n",
       "var notebookContainer = gd.closest('#notebook-container');\n",
       "if (notebookContainer) {{\n",
       "    x.observe(notebookContainer, {childList: true});\n",
       "}}\n",
       "\n",
       "// Listen for the clearing of the current output cell\n",
       "var outputEl = gd.closest('.output');\n",
       "if (outputEl) {{\n",
       "    x.observe(outputEl, {childList: true});\n",
       "}}\n",
       "\n",
       "                        })                };                });            </script>        </div>"
      ]
     },
     "metadata": {},
     "output_type": "display_data"
    }
   ],
   "source": [
    "\n",
    "# Create a DataFrame\n",
    "data = pd.DataFrame({\n",
    "    'Category': ['Driver Group1', 'Driver Group2'],\n",
    "    'Acceptance Rate (%)': [RoundedSet1, RoundedSet2],\n",
    "    'Legend Description': ['Bar Visits > 1 per Month & Age greater than 25',\n",
    "                           'Bar Visits < 1 per Month & Age under 25']\n",
    "})\n",
    "\n",
    "# Plot the chart\n",
    "fig = px.bar(data, x='Category', y='Acceptance Rate (%)', \n",
    "             title='Comparison of Driver Acceptance Rates',\n",
    "             text='Acceptance Rate (%)', \n",
    "             color='Legend Description', \n",
    "             color_discrete_sequence=px.colors.qualitative.Set2)\n",
    "\n",
    "fig.update_traces(textposition='outside')\n",
    "\n",
    "fig.update_layout(\n",
    "    xaxis_tickangle=0,  \n",
    "    margin=dict(b=80),  \n",
    "    width=900,  \n",
    "    height=600 \n",
    ")\n",
    "\n",
    "# Show figure\n",
    "fig.show()\n"
   ]
  },
  {
   "cell_type": "markdown",
   "metadata": {
    "id": "S4RKT4PJ_qRK"
   },
   "source": [
    "5. Use the same process to compare the acceptance rate between drivers who go to bars more than once a month and had passengers that were not a kid and had occupations other than farming, fishing, or forestry.\n"
   ]
  },
  {
   "cell_type": "code",
   "execution_count": 595,
   "metadata": {
    "id": "sENaI2Tg_qRK"
   },
   "outputs": [
    {
     "data": {
      "text/html": [
       "<div>\n",
       "<style scoped>\n",
       "    .dataframe tbody tr th:only-of-type {\n",
       "        vertical-align: middle;\n",
       "    }\n",
       "\n",
       "    .dataframe tbody tr th {\n",
       "        vertical-align: top;\n",
       "    }\n",
       "\n",
       "    .dataframe thead th {\n",
       "        text-align: right;\n",
       "    }\n",
       "</style>\n",
       "<table border=\"1\" class=\"dataframe\">\n",
       "  <thead>\n",
       "    <tr style=\"text-align: right;\">\n",
       "      <th></th>\n",
       "      <th>Y</th>\n",
       "      <th>Bar</th>\n",
       "      <th>passanger</th>\n",
       "      <th>occupation</th>\n",
       "    </tr>\n",
       "  </thead>\n",
       "  <tbody>\n",
       "    <tr>\n",
       "      <th>0</th>\n",
       "      <td>1</td>\n",
       "      <td>1~3</td>\n",
       "      <td>Friend(s)</td>\n",
       "      <td>Student</td>\n",
       "    </tr>\n",
       "    <tr>\n",
       "      <th>1</th>\n",
       "      <td>1</td>\n",
       "      <td>1~3</td>\n",
       "      <td>Friend(s)</td>\n",
       "      <td>Student</td>\n",
       "    </tr>\n",
       "    <tr>\n",
       "      <th>2</th>\n",
       "      <td>1</td>\n",
       "      <td>1~3</td>\n",
       "      <td>Friend(s)</td>\n",
       "      <td>Student</td>\n",
       "    </tr>\n",
       "    <tr>\n",
       "      <th>3</th>\n",
       "      <td>1</td>\n",
       "      <td>1~3</td>\n",
       "      <td>Friend(s)</td>\n",
       "      <td>Student</td>\n",
       "    </tr>\n",
       "    <tr>\n",
       "      <th>4</th>\n",
       "      <td>1</td>\n",
       "      <td>1~3</td>\n",
       "      <td>Friend(s)</td>\n",
       "      <td>Student</td>\n",
       "    </tr>\n",
       "    <tr>\n",
       "      <th>...</th>\n",
       "      <td>...</td>\n",
       "      <td>...</td>\n",
       "      <td>...</td>\n",
       "      <td>...</td>\n",
       "    </tr>\n",
       "    <tr>\n",
       "      <th>2298</th>\n",
       "      <td>1</td>\n",
       "      <td>1~3</td>\n",
       "      <td>Friend(s)</td>\n",
       "      <td>Food Preparation &amp; Serving Related</td>\n",
       "    </tr>\n",
       "    <tr>\n",
       "      <th>2299</th>\n",
       "      <td>1</td>\n",
       "      <td>1~3</td>\n",
       "      <td>Alone</td>\n",
       "      <td>Food Preparation &amp; Serving Related</td>\n",
       "    </tr>\n",
       "    <tr>\n",
       "      <th>2300</th>\n",
       "      <td>1</td>\n",
       "      <td>1~3</td>\n",
       "      <td>Alone</td>\n",
       "      <td>Food Preparation &amp; Serving Related</td>\n",
       "    </tr>\n",
       "    <tr>\n",
       "      <th>2301</th>\n",
       "      <td>1</td>\n",
       "      <td>1~3</td>\n",
       "      <td>Alone</td>\n",
       "      <td>Food Preparation &amp; Serving Related</td>\n",
       "    </tr>\n",
       "    <tr>\n",
       "      <th>2302</th>\n",
       "      <td>1</td>\n",
       "      <td>1~3</td>\n",
       "      <td>Alone</td>\n",
       "      <td>Food Preparation &amp; Serving Related</td>\n",
       "    </tr>\n",
       "  </tbody>\n",
       "</table>\n",
       "<p>2303 rows × 4 columns</p>\n",
       "</div>"
      ],
      "text/plain": [
       "      Y  Bar  passanger                          occupation\n",
       "0     1  1~3  Friend(s)                             Student\n",
       "1     1  1~3  Friend(s)                             Student\n",
       "2     1  1~3  Friend(s)                             Student\n",
       "3     1  1~3  Friend(s)                             Student\n",
       "4     1  1~3  Friend(s)                             Student\n",
       "...  ..  ...        ...                                 ...\n",
       "2298  1  1~3  Friend(s)  Food Preparation & Serving Related\n",
       "2299  1  1~3      Alone  Food Preparation & Serving Related\n",
       "2300  1  1~3      Alone  Food Preparation & Serving Related\n",
       "2301  1  1~3      Alone  Food Preparation & Serving Related\n",
       "2302  1  1~3      Alone  Food Preparation & Serving Related\n",
       "\n",
       "[2303 rows x 4 columns]"
      ]
     },
     "execution_count": 595,
     "metadata": {},
     "output_type": "execute_result"
    }
   ],
   "source": [
    "# Drivers who go to bars more than once a month and \n",
    "# had passengers that were NOT a kid and \n",
    "# had occupations other than farming, fishing, or forestry.\n",
    "\n",
    "Driver_Set3_df = data.query(\"Y == 1 and passanger != 'Kid(s)' and occupation != 'Farming Fishing & Forestry' and (Bar == '1~3' or Bar == '4~8' or Bar == 'gt8')\")[['Y', 'Bar', 'passanger', 'occupation']]\n",
    "Driver_Set3_df.reset_index()[['Y', 'Bar', 'passanger', 'occupation']]"
   ]
  },
  {
   "cell_type": "code",
   "execution_count": 497,
   "metadata": {},
   "outputs": [
    {
     "data": {
      "text/plain": [
       "2303"
      ]
     },
     "execution_count": 497,
     "metadata": {},
     "output_type": "execute_result"
    }
   ],
   "source": [
    "Driver_Set3_df_counts = Driver_Set3_df.value_counts().sum()\n",
    "Driver_Set3_df_counts"
   ]
  },
  {
   "cell_type": "code",
   "execution_count": 498,
   "metadata": {},
   "outputs": [
    {
     "data": {
      "text/html": [
       "<div>\n",
       "<style scoped>\n",
       "    .dataframe tbody tr th:only-of-type {\n",
       "        vertical-align: middle;\n",
       "    }\n",
       "\n",
       "    .dataframe tbody tr th {\n",
       "        vertical-align: top;\n",
       "    }\n",
       "\n",
       "    .dataframe thead th {\n",
       "        text-align: right;\n",
       "    }\n",
       "</style>\n",
       "<table border=\"1\" class=\"dataframe\">\n",
       "  <thead>\n",
       "    <tr style=\"text-align: right;\">\n",
       "      <th></th>\n",
       "      <th>Y</th>\n",
       "      <th>Bar</th>\n",
       "      <th>passanger</th>\n",
       "      <th>occupation</th>\n",
       "    </tr>\n",
       "  </thead>\n",
       "  <tbody>\n",
       "    <tr>\n",
       "      <th>0</th>\n",
       "      <td>1</td>\n",
       "      <td>never</td>\n",
       "      <td>Kid(s)</td>\n",
       "      <td>Farming Fishing &amp; Forestry</td>\n",
       "    </tr>\n",
       "    <tr>\n",
       "      <th>1</th>\n",
       "      <td>1</td>\n",
       "      <td>less1</td>\n",
       "      <td>Kid(s)</td>\n",
       "      <td>Farming Fishing &amp; Forestry</td>\n",
       "    </tr>\n",
       "    <tr>\n",
       "      <th>2</th>\n",
       "      <td>1</td>\n",
       "      <td>less1</td>\n",
       "      <td>Kid(s)</td>\n",
       "      <td>Farming Fishing &amp; Forestry</td>\n",
       "    </tr>\n",
       "    <tr>\n",
       "      <th>3</th>\n",
       "      <td>1</td>\n",
       "      <td>less1</td>\n",
       "      <td>Kid(s)</td>\n",
       "      <td>Farming Fishing &amp; Forestry</td>\n",
       "    </tr>\n",
       "    <tr>\n",
       "      <th>4</th>\n",
       "      <td>1</td>\n",
       "      <td>less1</td>\n",
       "      <td>Kid(s)</td>\n",
       "      <td>Farming Fishing &amp; Forestry</td>\n",
       "    </tr>\n",
       "  </tbody>\n",
       "</table>\n",
       "</div>"
      ],
      "text/plain": [
       "   Y    Bar passanger                  occupation\n",
       "0  1  never    Kid(s)  Farming Fishing & Forestry\n",
       "1  1  less1    Kid(s)  Farming Fishing & Forestry\n",
       "2  1  less1    Kid(s)  Farming Fishing & Forestry\n",
       "3  1  less1    Kid(s)  Farming Fishing & Forestry\n",
       "4  1  less1    Kid(s)  Farming Fishing & Forestry"
      ]
     },
     "execution_count": 498,
     "metadata": {},
     "output_type": "execute_result"
    }
   ],
   "source": [
    "# All others:\n",
    "# Drivers who go to bars less than once a month and \n",
    "# had passengers that were kid(s) and \n",
    "# had occupations farming, fishing, or forestry.\n",
    "\n",
    "Driver_Set4_df = data.query(\"Y == 1 and passanger == 'Kid(s)' and occupation == 'Farming Fishing & Forestry' and (Bar == 'never' or Bar == 'less1')\")[['Y', 'Bar', 'passanger', 'occupation']]\n",
    "Driver_Set4_df.reset_index()[['Y', 'Bar', 'passanger', 'occupation']]"
   ]
  },
  {
   "cell_type": "code",
   "execution_count": 499,
   "metadata": {},
   "outputs": [
    {
     "data": {
      "text/plain": [
       "5"
      ]
     },
     "execution_count": 499,
     "metadata": {},
     "output_type": "execute_result"
    }
   ],
   "source": [
    "Driver_Set4_df_counts = Driver_Set4_df.value_counts().sum()\n",
    "Driver_Set4_df_counts"
   ]
  },
  {
   "cell_type": "code",
   "execution_count": 502,
   "metadata": {},
   "outputs": [
    {
     "data": {
      "text/plain": [
       "7210"
      ]
     },
     "execution_count": 502,
     "metadata": {},
     "output_type": "execute_result"
    }
   ],
   "source": [
    "# Total Coupons Accepeted by Drivers\n",
    "TotalCouponAccepted = df.query(\"Y == 1\").value_counts().sum()\n",
    "TotalCouponAccepted"
   ]
  },
  {
   "cell_type": "code",
   "execution_count": 598,
   "metadata": {},
   "outputs": [
    {
     "data": {
      "text/plain": [
       "31.94"
      ]
     },
     "execution_count": 598,
     "metadata": {},
     "output_type": "execute_result"
    }
   ],
   "source": [
    "# Acceptance Rate : Driver Group # 3\n",
    "\n",
    "Driver_Acceptance_Rate_Set3 = (Driver_Set3_df_counts/TotalCouponAccepted) * 100\n",
    "RoundedSet3 = Driver_Acceptance_Rate_Set3.round(2)\n",
    "RoundedSet3 \n"
   ]
  },
  {
   "cell_type": "code",
   "execution_count": 504,
   "metadata": {},
   "outputs": [
    {
     "data": {
      "text/plain": [
       "0.07"
      ]
     },
     "execution_count": 504,
     "metadata": {},
     "output_type": "execute_result"
    }
   ],
   "source": [
    "# Acceptance Rate : Driver Group # 4\n",
    "\n",
    "Driver_Acceptance_Rate_Set4 = (Driver_Set4_df_counts/TotalCouponAccepted) * 100\n",
    "RoundedSet4 = Driver_Acceptance_Rate_Set4.round(2)\n",
    "RoundedSet4 "
   ]
  },
  {
   "cell_type": "code",
   "execution_count": 615,
   "metadata": {},
   "outputs": [
    {
     "data": {
      "application/vnd.plotly.v1+json": {
       "config": {
        "plotlyServerURL": "https://plot.ly"
       },
       "data": [
        {
         "alignmentgroup": "True",
         "hovertemplate": "Legend Description=Bar Visits > 1 per Month & <br> Passenger NOT Kid(s) <br> & occupation other than <br> farming, fishing <br> or forestry<br>Category=%{x}<br>Acceptance Rate (%)=%{text}<extra></extra>",
         "legendgroup": "Bar Visits > 1 per Month & <br> Passenger NOT Kid(s) <br> & occupation other than <br> farming, fishing <br> or forestry",
         "marker": {
          "color": "blue",
          "pattern": {
           "shape": ""
          }
         },
         "name": "Bar Visits > 1 per Month & <br> Passenger NOT Kid(s) <br> & occupation other than <br> farming, fishing <br> or forestry",
         "offsetgroup": "Bar Visits > 1 per Month & <br> Passenger NOT Kid(s) <br> & occupation other than <br> farming, fishing <br> or forestry",
         "orientation": "v",
         "showlegend": true,
         "text": [
          31.94
         ],
         "textposition": "outside",
         "type": "bar",
         "x": [
          "Driver Group 3"
         ],
         "xaxis": "x",
         "y": [
          31.94
         ],
         "yaxis": "y"
        },
        {
         "alignmentgroup": "True",
         "hovertemplate": "Legend Description=All others : Bar Visits < 1 per Month & <br> Passenger ARE Kid(s) <br> & occupation is <br> farming, fishing <br> or forestry<br>Category=%{x}<br>Acceptance Rate (%)=%{text}<extra></extra>",
         "legendgroup": "All others : Bar Visits < 1 per Month & <br> Passenger ARE Kid(s) <br> & occupation is <br> farming, fishing <br> or forestry",
         "marker": {
          "color": "green",
          "pattern": {
           "shape": ""
          }
         },
         "name": "All others : Bar Visits < 1 per Month & <br> Passenger ARE Kid(s) <br> & occupation is <br> farming, fishing <br> or forestry",
         "offsetgroup": "All others : Bar Visits < 1 per Month & <br> Passenger ARE Kid(s) <br> & occupation is <br> farming, fishing <br> or forestry",
         "orientation": "v",
         "showlegend": true,
         "text": [
          0.07
         ],
         "textposition": "outside",
         "type": "bar",
         "x": [
          "Driver Group 4"
         ],
         "xaxis": "x",
         "y": [
          0.07
         ],
         "yaxis": "y"
        }
       ],
       "layout": {
        "barmode": "relative",
        "height": 600,
        "legend": {
         "title": {
          "text": "Legend Description"
         },
         "tracegroupgap": 0
        },
        "margin": {
         "b": 80
        },
        "template": {
         "data": {
          "bar": [
           {
            "error_x": {
             "color": "#2a3f5f"
            },
            "error_y": {
             "color": "#2a3f5f"
            },
            "marker": {
             "line": {
              "color": "#E5ECF6",
              "width": 0.5
             },
             "pattern": {
              "fillmode": "overlay",
              "size": 10,
              "solidity": 0.2
             }
            },
            "type": "bar"
           }
          ],
          "barpolar": [
           {
            "marker": {
             "line": {
              "color": "#E5ECF6",
              "width": 0.5
             },
             "pattern": {
              "fillmode": "overlay",
              "size": 10,
              "solidity": 0.2
             }
            },
            "type": "barpolar"
           }
          ],
          "carpet": [
           {
            "aaxis": {
             "endlinecolor": "#2a3f5f",
             "gridcolor": "white",
             "linecolor": "white",
             "minorgridcolor": "white",
             "startlinecolor": "#2a3f5f"
            },
            "baxis": {
             "endlinecolor": "#2a3f5f",
             "gridcolor": "white",
             "linecolor": "white",
             "minorgridcolor": "white",
             "startlinecolor": "#2a3f5f"
            },
            "type": "carpet"
           }
          ],
          "choropleth": [
           {
            "colorbar": {
             "outlinewidth": 0,
             "ticks": ""
            },
            "type": "choropleth"
           }
          ],
          "contour": [
           {
            "colorbar": {
             "outlinewidth": 0,
             "ticks": ""
            },
            "colorscale": [
             [
              0,
              "#0d0887"
             ],
             [
              0.1111111111111111,
              "#46039f"
             ],
             [
              0.2222222222222222,
              "#7201a8"
             ],
             [
              0.3333333333333333,
              "#9c179e"
             ],
             [
              0.4444444444444444,
              "#bd3786"
             ],
             [
              0.5555555555555556,
              "#d8576b"
             ],
             [
              0.6666666666666666,
              "#ed7953"
             ],
             [
              0.7777777777777778,
              "#fb9f3a"
             ],
             [
              0.8888888888888888,
              "#fdca26"
             ],
             [
              1,
              "#f0f921"
             ]
            ],
            "type": "contour"
           }
          ],
          "contourcarpet": [
           {
            "colorbar": {
             "outlinewidth": 0,
             "ticks": ""
            },
            "type": "contourcarpet"
           }
          ],
          "heatmap": [
           {
            "colorbar": {
             "outlinewidth": 0,
             "ticks": ""
            },
            "colorscale": [
             [
              0,
              "#0d0887"
             ],
             [
              0.1111111111111111,
              "#46039f"
             ],
             [
              0.2222222222222222,
              "#7201a8"
             ],
             [
              0.3333333333333333,
              "#9c179e"
             ],
             [
              0.4444444444444444,
              "#bd3786"
             ],
             [
              0.5555555555555556,
              "#d8576b"
             ],
             [
              0.6666666666666666,
              "#ed7953"
             ],
             [
              0.7777777777777778,
              "#fb9f3a"
             ],
             [
              0.8888888888888888,
              "#fdca26"
             ],
             [
              1,
              "#f0f921"
             ]
            ],
            "type": "heatmap"
           }
          ],
          "heatmapgl": [
           {
            "colorbar": {
             "outlinewidth": 0,
             "ticks": ""
            },
            "colorscale": [
             [
              0,
              "#0d0887"
             ],
             [
              0.1111111111111111,
              "#46039f"
             ],
             [
              0.2222222222222222,
              "#7201a8"
             ],
             [
              0.3333333333333333,
              "#9c179e"
             ],
             [
              0.4444444444444444,
              "#bd3786"
             ],
             [
              0.5555555555555556,
              "#d8576b"
             ],
             [
              0.6666666666666666,
              "#ed7953"
             ],
             [
              0.7777777777777778,
              "#fb9f3a"
             ],
             [
              0.8888888888888888,
              "#fdca26"
             ],
             [
              1,
              "#f0f921"
             ]
            ],
            "type": "heatmapgl"
           }
          ],
          "histogram": [
           {
            "marker": {
             "pattern": {
              "fillmode": "overlay",
              "size": 10,
              "solidity": 0.2
             }
            },
            "type": "histogram"
           }
          ],
          "histogram2d": [
           {
            "colorbar": {
             "outlinewidth": 0,
             "ticks": ""
            },
            "colorscale": [
             [
              0,
              "#0d0887"
             ],
             [
              0.1111111111111111,
              "#46039f"
             ],
             [
              0.2222222222222222,
              "#7201a8"
             ],
             [
              0.3333333333333333,
              "#9c179e"
             ],
             [
              0.4444444444444444,
              "#bd3786"
             ],
             [
              0.5555555555555556,
              "#d8576b"
             ],
             [
              0.6666666666666666,
              "#ed7953"
             ],
             [
              0.7777777777777778,
              "#fb9f3a"
             ],
             [
              0.8888888888888888,
              "#fdca26"
             ],
             [
              1,
              "#f0f921"
             ]
            ],
            "type": "histogram2d"
           }
          ],
          "histogram2dcontour": [
           {
            "colorbar": {
             "outlinewidth": 0,
             "ticks": ""
            },
            "colorscale": [
             [
              0,
              "#0d0887"
             ],
             [
              0.1111111111111111,
              "#46039f"
             ],
             [
              0.2222222222222222,
              "#7201a8"
             ],
             [
              0.3333333333333333,
              "#9c179e"
             ],
             [
              0.4444444444444444,
              "#bd3786"
             ],
             [
              0.5555555555555556,
              "#d8576b"
             ],
             [
              0.6666666666666666,
              "#ed7953"
             ],
             [
              0.7777777777777778,
              "#fb9f3a"
             ],
             [
              0.8888888888888888,
              "#fdca26"
             ],
             [
              1,
              "#f0f921"
             ]
            ],
            "type": "histogram2dcontour"
           }
          ],
          "mesh3d": [
           {
            "colorbar": {
             "outlinewidth": 0,
             "ticks": ""
            },
            "type": "mesh3d"
           }
          ],
          "parcoords": [
           {
            "line": {
             "colorbar": {
              "outlinewidth": 0,
              "ticks": ""
             }
            },
            "type": "parcoords"
           }
          ],
          "pie": [
           {
            "automargin": true,
            "type": "pie"
           }
          ],
          "scatter": [
           {
            "fillpattern": {
             "fillmode": "overlay",
             "size": 10,
             "solidity": 0.2
            },
            "type": "scatter"
           }
          ],
          "scatter3d": [
           {
            "line": {
             "colorbar": {
              "outlinewidth": 0,
              "ticks": ""
             }
            },
            "marker": {
             "colorbar": {
              "outlinewidth": 0,
              "ticks": ""
             }
            },
            "type": "scatter3d"
           }
          ],
          "scattercarpet": [
           {
            "marker": {
             "colorbar": {
              "outlinewidth": 0,
              "ticks": ""
             }
            },
            "type": "scattercarpet"
           }
          ],
          "scattergeo": [
           {
            "marker": {
             "colorbar": {
              "outlinewidth": 0,
              "ticks": ""
             }
            },
            "type": "scattergeo"
           }
          ],
          "scattergl": [
           {
            "marker": {
             "colorbar": {
              "outlinewidth": 0,
              "ticks": ""
             }
            },
            "type": "scattergl"
           }
          ],
          "scattermapbox": [
           {
            "marker": {
             "colorbar": {
              "outlinewidth": 0,
              "ticks": ""
             }
            },
            "type": "scattermapbox"
           }
          ],
          "scatterpolar": [
           {
            "marker": {
             "colorbar": {
              "outlinewidth": 0,
              "ticks": ""
             }
            },
            "type": "scatterpolar"
           }
          ],
          "scatterpolargl": [
           {
            "marker": {
             "colorbar": {
              "outlinewidth": 0,
              "ticks": ""
             }
            },
            "type": "scatterpolargl"
           }
          ],
          "scatterternary": [
           {
            "marker": {
             "colorbar": {
              "outlinewidth": 0,
              "ticks": ""
             }
            },
            "type": "scatterternary"
           }
          ],
          "surface": [
           {
            "colorbar": {
             "outlinewidth": 0,
             "ticks": ""
            },
            "colorscale": [
             [
              0,
              "#0d0887"
             ],
             [
              0.1111111111111111,
              "#46039f"
             ],
             [
              0.2222222222222222,
              "#7201a8"
             ],
             [
              0.3333333333333333,
              "#9c179e"
             ],
             [
              0.4444444444444444,
              "#bd3786"
             ],
             [
              0.5555555555555556,
              "#d8576b"
             ],
             [
              0.6666666666666666,
              "#ed7953"
             ],
             [
              0.7777777777777778,
              "#fb9f3a"
             ],
             [
              0.8888888888888888,
              "#fdca26"
             ],
             [
              1,
              "#f0f921"
             ]
            ],
            "type": "surface"
           }
          ],
          "table": [
           {
            "cells": {
             "fill": {
              "color": "#EBF0F8"
             },
             "line": {
              "color": "white"
             }
            },
            "header": {
             "fill": {
              "color": "#C8D4E3"
             },
             "line": {
              "color": "white"
             }
            },
            "type": "table"
           }
          ]
         },
         "layout": {
          "annotationdefaults": {
           "arrowcolor": "#2a3f5f",
           "arrowhead": 0,
           "arrowwidth": 1
          },
          "autotypenumbers": "strict",
          "coloraxis": {
           "colorbar": {
            "outlinewidth": 0,
            "ticks": ""
           }
          },
          "colorscale": {
           "diverging": [
            [
             0,
             "#8e0152"
            ],
            [
             0.1,
             "#c51b7d"
            ],
            [
             0.2,
             "#de77ae"
            ],
            [
             0.3,
             "#f1b6da"
            ],
            [
             0.4,
             "#fde0ef"
            ],
            [
             0.5,
             "#f7f7f7"
            ],
            [
             0.6,
             "#e6f5d0"
            ],
            [
             0.7,
             "#b8e186"
            ],
            [
             0.8,
             "#7fbc41"
            ],
            [
             0.9,
             "#4d9221"
            ],
            [
             1,
             "#276419"
            ]
           ],
           "sequential": [
            [
             0,
             "#0d0887"
            ],
            [
             0.1111111111111111,
             "#46039f"
            ],
            [
             0.2222222222222222,
             "#7201a8"
            ],
            [
             0.3333333333333333,
             "#9c179e"
            ],
            [
             0.4444444444444444,
             "#bd3786"
            ],
            [
             0.5555555555555556,
             "#d8576b"
            ],
            [
             0.6666666666666666,
             "#ed7953"
            ],
            [
             0.7777777777777778,
             "#fb9f3a"
            ],
            [
             0.8888888888888888,
             "#fdca26"
            ],
            [
             1,
             "#f0f921"
            ]
           ],
           "sequentialminus": [
            [
             0,
             "#0d0887"
            ],
            [
             0.1111111111111111,
             "#46039f"
            ],
            [
             0.2222222222222222,
             "#7201a8"
            ],
            [
             0.3333333333333333,
             "#9c179e"
            ],
            [
             0.4444444444444444,
             "#bd3786"
            ],
            [
             0.5555555555555556,
             "#d8576b"
            ],
            [
             0.6666666666666666,
             "#ed7953"
            ],
            [
             0.7777777777777778,
             "#fb9f3a"
            ],
            [
             0.8888888888888888,
             "#fdca26"
            ],
            [
             1,
             "#f0f921"
            ]
           ]
          },
          "colorway": [
           "#636efa",
           "#EF553B",
           "#00cc96",
           "#ab63fa",
           "#FFA15A",
           "#19d3f3",
           "#FF6692",
           "#B6E880",
           "#FF97FF",
           "#FECB52"
          ],
          "font": {
           "color": "#2a3f5f"
          },
          "geo": {
           "bgcolor": "white",
           "lakecolor": "white",
           "landcolor": "#E5ECF6",
           "showlakes": true,
           "showland": true,
           "subunitcolor": "white"
          },
          "hoverlabel": {
           "align": "left"
          },
          "hovermode": "closest",
          "mapbox": {
           "style": "light"
          },
          "paper_bgcolor": "white",
          "plot_bgcolor": "#E5ECF6",
          "polar": {
           "angularaxis": {
            "gridcolor": "white",
            "linecolor": "white",
            "ticks": ""
           },
           "bgcolor": "#E5ECF6",
           "radialaxis": {
            "gridcolor": "white",
            "linecolor": "white",
            "ticks": ""
           }
          },
          "scene": {
           "xaxis": {
            "backgroundcolor": "#E5ECF6",
            "gridcolor": "white",
            "gridwidth": 2,
            "linecolor": "white",
            "showbackground": true,
            "ticks": "",
            "zerolinecolor": "white"
           },
           "yaxis": {
            "backgroundcolor": "#E5ECF6",
            "gridcolor": "white",
            "gridwidth": 2,
            "linecolor": "white",
            "showbackground": true,
            "ticks": "",
            "zerolinecolor": "white"
           },
           "zaxis": {
            "backgroundcolor": "#E5ECF6",
            "gridcolor": "white",
            "gridwidth": 2,
            "linecolor": "white",
            "showbackground": true,
            "ticks": "",
            "zerolinecolor": "white"
           }
          },
          "shapedefaults": {
           "line": {
            "color": "#2a3f5f"
           }
          },
          "ternary": {
           "aaxis": {
            "gridcolor": "white",
            "linecolor": "white",
            "ticks": ""
           },
           "baxis": {
            "gridcolor": "white",
            "linecolor": "white",
            "ticks": ""
           },
           "bgcolor": "#E5ECF6",
           "caxis": {
            "gridcolor": "white",
            "linecolor": "white",
            "ticks": ""
           }
          },
          "title": {
           "x": 0.05
          },
          "xaxis": {
           "automargin": true,
           "gridcolor": "white",
           "linecolor": "white",
           "ticks": "",
           "title": {
            "standoff": 15
           },
           "zerolinecolor": "white",
           "zerolinewidth": 2
          },
          "yaxis": {
           "automargin": true,
           "gridcolor": "white",
           "linecolor": "white",
           "ticks": "",
           "title": {
            "standoff": 15
           },
           "zerolinecolor": "white",
           "zerolinewidth": 2
          }
         }
        },
        "title": {
         "text": "Comparison of Driver Acceptance Rates"
        },
        "width": 1000,
        "xaxis": {
         "anchor": "y",
         "domain": [
          0,
          1
         ],
         "tickangle": 0,
         "title": {
          "text": "Category"
         }
        },
        "yaxis": {
         "anchor": "x",
         "domain": [
          0,
          1
         ],
         "title": {
          "text": "Acceptance Rate (%)"
         }
        }
       }
      },
      "text/html": [
       "<div>                            <div id=\"2ec5e230-097a-4d73-91e4-e38532f20be4\" class=\"plotly-graph-div\" style=\"height:600px; width:1000px;\"></div>            <script type=\"text/javascript\">                require([\"plotly\"], function(Plotly) {                    window.PLOTLYENV=window.PLOTLYENV || {};                                    if (document.getElementById(\"2ec5e230-097a-4d73-91e4-e38532f20be4\")) {                    Plotly.newPlot(                        \"2ec5e230-097a-4d73-91e4-e38532f20be4\",                        [{\"alignmentgroup\":\"True\",\"hovertemplate\":\"Legend Description=Bar Visits \\u003e 1 per Month & \\u003cbr\\u003e Passenger NOT Kid(s) \\u003cbr\\u003e & occupation other than \\u003cbr\\u003e farming, fishing \\u003cbr\\u003e or forestry\\u003cbr\\u003eCategory=%{x}\\u003cbr\\u003eAcceptance Rate (%)=%{text}\\u003cextra\\u003e\\u003c\\u002fextra\\u003e\",\"legendgroup\":\"Bar Visits \\u003e 1 per Month & \\u003cbr\\u003e Passenger NOT Kid(s) \\u003cbr\\u003e & occupation other than \\u003cbr\\u003e farming, fishing \\u003cbr\\u003e or forestry\",\"marker\":{\"color\":\"blue\",\"pattern\":{\"shape\":\"\"}},\"name\":\"Bar Visits \\u003e 1 per Month & \\u003cbr\\u003e Passenger NOT Kid(s) \\u003cbr\\u003e & occupation other than \\u003cbr\\u003e farming, fishing \\u003cbr\\u003e or forestry\",\"offsetgroup\":\"Bar Visits \\u003e 1 per Month & \\u003cbr\\u003e Passenger NOT Kid(s) \\u003cbr\\u003e & occupation other than \\u003cbr\\u003e farming, fishing \\u003cbr\\u003e or forestry\",\"orientation\":\"v\",\"showlegend\":true,\"text\":[31.94],\"textposition\":\"outside\",\"x\":[\"Driver Group 3\"],\"xaxis\":\"x\",\"y\":[31.94],\"yaxis\":\"y\",\"type\":\"bar\"},{\"alignmentgroup\":\"True\",\"hovertemplate\":\"Legend Description=All others : Bar Visits \\u003c 1 per Month & \\u003cbr\\u003e Passenger ARE Kid(s) \\u003cbr\\u003e & occupation is \\u003cbr\\u003e farming, fishing \\u003cbr\\u003e or forestry\\u003cbr\\u003eCategory=%{x}\\u003cbr\\u003eAcceptance Rate (%)=%{text}\\u003cextra\\u003e\\u003c\\u002fextra\\u003e\",\"legendgroup\":\"All others : Bar Visits \\u003c 1 per Month & \\u003cbr\\u003e Passenger ARE Kid(s) \\u003cbr\\u003e & occupation is \\u003cbr\\u003e farming, fishing \\u003cbr\\u003e or forestry\",\"marker\":{\"color\":\"green\",\"pattern\":{\"shape\":\"\"}},\"name\":\"All others : Bar Visits \\u003c 1 per Month & \\u003cbr\\u003e Passenger ARE Kid(s) \\u003cbr\\u003e & occupation is \\u003cbr\\u003e farming, fishing \\u003cbr\\u003e or forestry\",\"offsetgroup\":\"All others : Bar Visits \\u003c 1 per Month & \\u003cbr\\u003e Passenger ARE Kid(s) \\u003cbr\\u003e & occupation is \\u003cbr\\u003e farming, fishing \\u003cbr\\u003e or forestry\",\"orientation\":\"v\",\"showlegend\":true,\"text\":[0.07],\"textposition\":\"outside\",\"x\":[\"Driver Group 4\"],\"xaxis\":\"x\",\"y\":[0.07],\"yaxis\":\"y\",\"type\":\"bar\"}],                        {\"template\":{\"data\":{\"histogram2dcontour\":[{\"type\":\"histogram2dcontour\",\"colorbar\":{\"outlinewidth\":0,\"ticks\":\"\"},\"colorscale\":[[0.0,\"#0d0887\"],[0.1111111111111111,\"#46039f\"],[0.2222222222222222,\"#7201a8\"],[0.3333333333333333,\"#9c179e\"],[0.4444444444444444,\"#bd3786\"],[0.5555555555555556,\"#d8576b\"],[0.6666666666666666,\"#ed7953\"],[0.7777777777777778,\"#fb9f3a\"],[0.8888888888888888,\"#fdca26\"],[1.0,\"#f0f921\"]]}],\"choropleth\":[{\"type\":\"choropleth\",\"colorbar\":{\"outlinewidth\":0,\"ticks\":\"\"}}],\"histogram2d\":[{\"type\":\"histogram2d\",\"colorbar\":{\"outlinewidth\":0,\"ticks\":\"\"},\"colorscale\":[[0.0,\"#0d0887\"],[0.1111111111111111,\"#46039f\"],[0.2222222222222222,\"#7201a8\"],[0.3333333333333333,\"#9c179e\"],[0.4444444444444444,\"#bd3786\"],[0.5555555555555556,\"#d8576b\"],[0.6666666666666666,\"#ed7953\"],[0.7777777777777778,\"#fb9f3a\"],[0.8888888888888888,\"#fdca26\"],[1.0,\"#f0f921\"]]}],\"heatmap\":[{\"type\":\"heatmap\",\"colorbar\":{\"outlinewidth\":0,\"ticks\":\"\"},\"colorscale\":[[0.0,\"#0d0887\"],[0.1111111111111111,\"#46039f\"],[0.2222222222222222,\"#7201a8\"],[0.3333333333333333,\"#9c179e\"],[0.4444444444444444,\"#bd3786\"],[0.5555555555555556,\"#d8576b\"],[0.6666666666666666,\"#ed7953\"],[0.7777777777777778,\"#fb9f3a\"],[0.8888888888888888,\"#fdca26\"],[1.0,\"#f0f921\"]]}],\"heatmapgl\":[{\"type\":\"heatmapgl\",\"colorbar\":{\"outlinewidth\":0,\"ticks\":\"\"},\"colorscale\":[[0.0,\"#0d0887\"],[0.1111111111111111,\"#46039f\"],[0.2222222222222222,\"#7201a8\"],[0.3333333333333333,\"#9c179e\"],[0.4444444444444444,\"#bd3786\"],[0.5555555555555556,\"#d8576b\"],[0.6666666666666666,\"#ed7953\"],[0.7777777777777778,\"#fb9f3a\"],[0.8888888888888888,\"#fdca26\"],[1.0,\"#f0f921\"]]}],\"contourcarpet\":[{\"type\":\"contourcarpet\",\"colorbar\":{\"outlinewidth\":0,\"ticks\":\"\"}}],\"contour\":[{\"type\":\"contour\",\"colorbar\":{\"outlinewidth\":0,\"ticks\":\"\"},\"colorscale\":[[0.0,\"#0d0887\"],[0.1111111111111111,\"#46039f\"],[0.2222222222222222,\"#7201a8\"],[0.3333333333333333,\"#9c179e\"],[0.4444444444444444,\"#bd3786\"],[0.5555555555555556,\"#d8576b\"],[0.6666666666666666,\"#ed7953\"],[0.7777777777777778,\"#fb9f3a\"],[0.8888888888888888,\"#fdca26\"],[1.0,\"#f0f921\"]]}],\"surface\":[{\"type\":\"surface\",\"colorbar\":{\"outlinewidth\":0,\"ticks\":\"\"},\"colorscale\":[[0.0,\"#0d0887\"],[0.1111111111111111,\"#46039f\"],[0.2222222222222222,\"#7201a8\"],[0.3333333333333333,\"#9c179e\"],[0.4444444444444444,\"#bd3786\"],[0.5555555555555556,\"#d8576b\"],[0.6666666666666666,\"#ed7953\"],[0.7777777777777778,\"#fb9f3a\"],[0.8888888888888888,\"#fdca26\"],[1.0,\"#f0f921\"]]}],\"mesh3d\":[{\"type\":\"mesh3d\",\"colorbar\":{\"outlinewidth\":0,\"ticks\":\"\"}}],\"scatter\":[{\"fillpattern\":{\"fillmode\":\"overlay\",\"size\":10,\"solidity\":0.2},\"type\":\"scatter\"}],\"parcoords\":[{\"type\":\"parcoords\",\"line\":{\"colorbar\":{\"outlinewidth\":0,\"ticks\":\"\"}}}],\"scatterpolargl\":[{\"type\":\"scatterpolargl\",\"marker\":{\"colorbar\":{\"outlinewidth\":0,\"ticks\":\"\"}}}],\"bar\":[{\"error_x\":{\"color\":\"#2a3f5f\"},\"error_y\":{\"color\":\"#2a3f5f\"},\"marker\":{\"line\":{\"color\":\"#E5ECF6\",\"width\":0.5},\"pattern\":{\"fillmode\":\"overlay\",\"size\":10,\"solidity\":0.2}},\"type\":\"bar\"}],\"scattergeo\":[{\"type\":\"scattergeo\",\"marker\":{\"colorbar\":{\"outlinewidth\":0,\"ticks\":\"\"}}}],\"scatterpolar\":[{\"type\":\"scatterpolar\",\"marker\":{\"colorbar\":{\"outlinewidth\":0,\"ticks\":\"\"}}}],\"histogram\":[{\"marker\":{\"pattern\":{\"fillmode\":\"overlay\",\"size\":10,\"solidity\":0.2}},\"type\":\"histogram\"}],\"scattergl\":[{\"type\":\"scattergl\",\"marker\":{\"colorbar\":{\"outlinewidth\":0,\"ticks\":\"\"}}}],\"scatter3d\":[{\"type\":\"scatter3d\",\"line\":{\"colorbar\":{\"outlinewidth\":0,\"ticks\":\"\"}},\"marker\":{\"colorbar\":{\"outlinewidth\":0,\"ticks\":\"\"}}}],\"scattermapbox\":[{\"type\":\"scattermapbox\",\"marker\":{\"colorbar\":{\"outlinewidth\":0,\"ticks\":\"\"}}}],\"scatterternary\":[{\"type\":\"scatterternary\",\"marker\":{\"colorbar\":{\"outlinewidth\":0,\"ticks\":\"\"}}}],\"scattercarpet\":[{\"type\":\"scattercarpet\",\"marker\":{\"colorbar\":{\"outlinewidth\":0,\"ticks\":\"\"}}}],\"carpet\":[{\"aaxis\":{\"endlinecolor\":\"#2a3f5f\",\"gridcolor\":\"white\",\"linecolor\":\"white\",\"minorgridcolor\":\"white\",\"startlinecolor\":\"#2a3f5f\"},\"baxis\":{\"endlinecolor\":\"#2a3f5f\",\"gridcolor\":\"white\",\"linecolor\":\"white\",\"minorgridcolor\":\"white\",\"startlinecolor\":\"#2a3f5f\"},\"type\":\"carpet\"}],\"table\":[{\"cells\":{\"fill\":{\"color\":\"#EBF0F8\"},\"line\":{\"color\":\"white\"}},\"header\":{\"fill\":{\"color\":\"#C8D4E3\"},\"line\":{\"color\":\"white\"}},\"type\":\"table\"}],\"barpolar\":[{\"marker\":{\"line\":{\"color\":\"#E5ECF6\",\"width\":0.5},\"pattern\":{\"fillmode\":\"overlay\",\"size\":10,\"solidity\":0.2}},\"type\":\"barpolar\"}],\"pie\":[{\"automargin\":true,\"type\":\"pie\"}]},\"layout\":{\"autotypenumbers\":\"strict\",\"colorway\":[\"#636efa\",\"#EF553B\",\"#00cc96\",\"#ab63fa\",\"#FFA15A\",\"#19d3f3\",\"#FF6692\",\"#B6E880\",\"#FF97FF\",\"#FECB52\"],\"font\":{\"color\":\"#2a3f5f\"},\"hovermode\":\"closest\",\"hoverlabel\":{\"align\":\"left\"},\"paper_bgcolor\":\"white\",\"plot_bgcolor\":\"#E5ECF6\",\"polar\":{\"bgcolor\":\"#E5ECF6\",\"angularaxis\":{\"gridcolor\":\"white\",\"linecolor\":\"white\",\"ticks\":\"\"},\"radialaxis\":{\"gridcolor\":\"white\",\"linecolor\":\"white\",\"ticks\":\"\"}},\"ternary\":{\"bgcolor\":\"#E5ECF6\",\"aaxis\":{\"gridcolor\":\"white\",\"linecolor\":\"white\",\"ticks\":\"\"},\"baxis\":{\"gridcolor\":\"white\",\"linecolor\":\"white\",\"ticks\":\"\"},\"caxis\":{\"gridcolor\":\"white\",\"linecolor\":\"white\",\"ticks\":\"\"}},\"coloraxis\":{\"colorbar\":{\"outlinewidth\":0,\"ticks\":\"\"}},\"colorscale\":{\"sequential\":[[0.0,\"#0d0887\"],[0.1111111111111111,\"#46039f\"],[0.2222222222222222,\"#7201a8\"],[0.3333333333333333,\"#9c179e\"],[0.4444444444444444,\"#bd3786\"],[0.5555555555555556,\"#d8576b\"],[0.6666666666666666,\"#ed7953\"],[0.7777777777777778,\"#fb9f3a\"],[0.8888888888888888,\"#fdca26\"],[1.0,\"#f0f921\"]],\"sequentialminus\":[[0.0,\"#0d0887\"],[0.1111111111111111,\"#46039f\"],[0.2222222222222222,\"#7201a8\"],[0.3333333333333333,\"#9c179e\"],[0.4444444444444444,\"#bd3786\"],[0.5555555555555556,\"#d8576b\"],[0.6666666666666666,\"#ed7953\"],[0.7777777777777778,\"#fb9f3a\"],[0.8888888888888888,\"#fdca26\"],[1.0,\"#f0f921\"]],\"diverging\":[[0,\"#8e0152\"],[0.1,\"#c51b7d\"],[0.2,\"#de77ae\"],[0.3,\"#f1b6da\"],[0.4,\"#fde0ef\"],[0.5,\"#f7f7f7\"],[0.6,\"#e6f5d0\"],[0.7,\"#b8e186\"],[0.8,\"#7fbc41\"],[0.9,\"#4d9221\"],[1,\"#276419\"]]},\"xaxis\":{\"gridcolor\":\"white\",\"linecolor\":\"white\",\"ticks\":\"\",\"title\":{\"standoff\":15},\"zerolinecolor\":\"white\",\"automargin\":true,\"zerolinewidth\":2},\"yaxis\":{\"gridcolor\":\"white\",\"linecolor\":\"white\",\"ticks\":\"\",\"title\":{\"standoff\":15},\"zerolinecolor\":\"white\",\"automargin\":true,\"zerolinewidth\":2},\"scene\":{\"xaxis\":{\"backgroundcolor\":\"#E5ECF6\",\"gridcolor\":\"white\",\"linecolor\":\"white\",\"showbackground\":true,\"ticks\":\"\",\"zerolinecolor\":\"white\",\"gridwidth\":2},\"yaxis\":{\"backgroundcolor\":\"#E5ECF6\",\"gridcolor\":\"white\",\"linecolor\":\"white\",\"showbackground\":true,\"ticks\":\"\",\"zerolinecolor\":\"white\",\"gridwidth\":2},\"zaxis\":{\"backgroundcolor\":\"#E5ECF6\",\"gridcolor\":\"white\",\"linecolor\":\"white\",\"showbackground\":true,\"ticks\":\"\",\"zerolinecolor\":\"white\",\"gridwidth\":2}},\"shapedefaults\":{\"line\":{\"color\":\"#2a3f5f\"}},\"annotationdefaults\":{\"arrowcolor\":\"#2a3f5f\",\"arrowhead\":0,\"arrowwidth\":1},\"geo\":{\"bgcolor\":\"white\",\"landcolor\":\"#E5ECF6\",\"subunitcolor\":\"white\",\"showland\":true,\"showlakes\":true,\"lakecolor\":\"white\"},\"title\":{\"x\":0.05},\"mapbox\":{\"style\":\"light\"}}},\"xaxis\":{\"anchor\":\"y\",\"domain\":[0.0,1.0],\"title\":{\"text\":\"Category\"},\"tickangle\":0},\"yaxis\":{\"anchor\":\"x\",\"domain\":[0.0,1.0],\"title\":{\"text\":\"Acceptance Rate (%)\"}},\"legend\":{\"title\":{\"text\":\"Legend Description\"},\"tracegroupgap\":0},\"title\":{\"text\":\"Comparison of Driver Acceptance Rates\"},\"barmode\":\"relative\",\"margin\":{\"b\":80},\"width\":1000,\"height\":600},                        {\"responsive\": true}                    ).then(function(){\n",
       "                            \n",
       "var gd = document.getElementById('2ec5e230-097a-4d73-91e4-e38532f20be4');\n",
       "var x = new MutationObserver(function (mutations, observer) {{\n",
       "        var display = window.getComputedStyle(gd).display;\n",
       "        if (!display || display === 'none') {{\n",
       "            console.log([gd, 'removed!']);\n",
       "            Plotly.purge(gd);\n",
       "            observer.disconnect();\n",
       "        }}\n",
       "}});\n",
       "\n",
       "// Listen for the removal of the full notebook cells\n",
       "var notebookContainer = gd.closest('#notebook-container');\n",
       "if (notebookContainer) {{\n",
       "    x.observe(notebookContainer, {childList: true});\n",
       "}}\n",
       "\n",
       "// Listen for the clearing of the current output cell\n",
       "var outputEl = gd.closest('.output');\n",
       "if (outputEl) {{\n",
       "    x.observe(outputEl, {childList: true});\n",
       "}}\n",
       "\n",
       "                        })                };                });            </script>        </div>"
      ]
     },
     "metadata": {},
     "output_type": "display_data"
    }
   ],
   "source": [
    "# Comparison\n",
    "\n",
    "# Create a DataFrame\n",
    "data = pd.DataFrame({\n",
    "    'Category': ['Driver Group 3', 'Driver Group 4'],\n",
    "    'Acceptance Rate (%)': [RoundedSet3, RoundedSet4],\n",
    "    'Legend Description': [\n",
    "        'Bar Visits > 1 per Month & <br> Passenger NOT Kid(s) <br> & occupation other than <br> farming, fishing <br> or forestry',\n",
    "        'All others : Bar Visits < 1 per Month & <br> Passenger ARE Kid(s) <br> & occupation is <br> farming, fishing <br> or forestry']\n",
    "})\n",
    "\n",
    "# Create bar plot using Plotly\n",
    "fig = px.bar(data, x='Category', y='Acceptance Rate (%)', \n",
    "             title='Comparison of Driver Acceptance Rates',\n",
    "             text='Acceptance Rate (%)', \n",
    "             color='Legend Description',  # Use long text in legend\n",
    "             color_discrete_sequence=['blue', 'green'])\n",
    "\n",
    "# Adjust text positions & layout\n",
    "fig.update_traces(textposition='outside')\n",
    "\n",
    "fig.update_layout(\n",
    "    xaxis_tickangle=0,  # Keep x-axis labels straight since they are now short\n",
    "    margin=dict(b=80),  # Reduce bottom margin since labels are short\n",
    "    width=1000,  # Set figure width\n",
    "    height=600  # Set figure height\n",
    ")\n",
    "\n",
    "\n",
    "fig.show()"
   ]
  },
  {
   "cell_type": "markdown",
   "metadata": {
    "id": "n2LIUTil_qRK"
   },
   "source": [
    "6. Compare the acceptance rates between those drivers who:\n",
    "\n",
    "- go to bars more than once a month, had passengers that were not a kid, and were not widowed *OR*\n",
    "- go to bars more than once a month and are under the age of 30 *OR*\n",
    "- go to cheap restaurants more than 4 times a month and income is less than 50K.\n",
    "\n"
   ]
  },
  {
   "cell_type": "code",
   "execution_count": 505,
   "metadata": {
    "id": "aK_wEzx7_qRK"
   },
   "outputs": [],
   "source": [
    "# Drivers who go to bars more than once a month and \n",
    "# had passengers that were NOT a kid and \n",
    "# and were not widowed \n",
    "\n",
    "Driver_Set5_df = data.query(\"Y == 1 and passanger != 'Kid(s)' and maritalStatus != 'Widowed' and (Bar == '1~3' or Bar == '4~8' or Bar == 'gt8')\")[['Y', 'Bar', 'passanger', 'maritalStatus']]"
   ]
  },
  {
   "cell_type": "code",
   "execution_count": 577,
   "metadata": {},
   "outputs": [
    {
     "data": {
      "text/html": [
       "<div>\n",
       "<style scoped>\n",
       "    .dataframe tbody tr th:only-of-type {\n",
       "        vertical-align: middle;\n",
       "    }\n",
       "\n",
       "    .dataframe tbody tr th {\n",
       "        vertical-align: top;\n",
       "    }\n",
       "\n",
       "    .dataframe thead th {\n",
       "        text-align: right;\n",
       "    }\n",
       "</style>\n",
       "<table border=\"1\" class=\"dataframe\">\n",
       "  <thead>\n",
       "    <tr style=\"text-align: right;\">\n",
       "      <th></th>\n",
       "      <th>Y</th>\n",
       "      <th>Bar</th>\n",
       "      <th>passanger</th>\n",
       "      <th>maritalStatus</th>\n",
       "    </tr>\n",
       "  </thead>\n",
       "  <tbody>\n",
       "    <tr>\n",
       "      <th>0</th>\n",
       "      <td>1</td>\n",
       "      <td>1~3</td>\n",
       "      <td>Friend(s)</td>\n",
       "      <td>Single</td>\n",
       "    </tr>\n",
       "    <tr>\n",
       "      <th>1</th>\n",
       "      <td>1</td>\n",
       "      <td>1~3</td>\n",
       "      <td>Friend(s)</td>\n",
       "      <td>Single</td>\n",
       "    </tr>\n",
       "    <tr>\n",
       "      <th>2</th>\n",
       "      <td>1</td>\n",
       "      <td>1~3</td>\n",
       "      <td>Friend(s)</td>\n",
       "      <td>Single</td>\n",
       "    </tr>\n",
       "    <tr>\n",
       "      <th>3</th>\n",
       "      <td>1</td>\n",
       "      <td>1~3</td>\n",
       "      <td>Friend(s)</td>\n",
       "      <td>Single</td>\n",
       "    </tr>\n",
       "    <tr>\n",
       "      <th>4</th>\n",
       "      <td>1</td>\n",
       "      <td>1~3</td>\n",
       "      <td>Friend(s)</td>\n",
       "      <td>Single</td>\n",
       "    </tr>\n",
       "    <tr>\n",
       "      <th>...</th>\n",
       "      <td>...</td>\n",
       "      <td>...</td>\n",
       "      <td>...</td>\n",
       "      <td>...</td>\n",
       "    </tr>\n",
       "    <tr>\n",
       "      <th>2298</th>\n",
       "      <td>1</td>\n",
       "      <td>1~3</td>\n",
       "      <td>Friend(s)</td>\n",
       "      <td>Unmarried partner</td>\n",
       "    </tr>\n",
       "    <tr>\n",
       "      <th>2299</th>\n",
       "      <td>1</td>\n",
       "      <td>1~3</td>\n",
       "      <td>Alone</td>\n",
       "      <td>Unmarried partner</td>\n",
       "    </tr>\n",
       "    <tr>\n",
       "      <th>2300</th>\n",
       "      <td>1</td>\n",
       "      <td>1~3</td>\n",
       "      <td>Alone</td>\n",
       "      <td>Unmarried partner</td>\n",
       "    </tr>\n",
       "    <tr>\n",
       "      <th>2301</th>\n",
       "      <td>1</td>\n",
       "      <td>1~3</td>\n",
       "      <td>Alone</td>\n",
       "      <td>Unmarried partner</td>\n",
       "    </tr>\n",
       "    <tr>\n",
       "      <th>2302</th>\n",
       "      <td>1</td>\n",
       "      <td>1~3</td>\n",
       "      <td>Alone</td>\n",
       "      <td>Unmarried partner</td>\n",
       "    </tr>\n",
       "  </tbody>\n",
       "</table>\n",
       "<p>2303 rows × 4 columns</p>\n",
       "</div>"
      ],
      "text/plain": [
       "      Y  Bar  passanger      maritalStatus\n",
       "0     1  1~3  Friend(s)             Single\n",
       "1     1  1~3  Friend(s)             Single\n",
       "2     1  1~3  Friend(s)             Single\n",
       "3     1  1~3  Friend(s)             Single\n",
       "4     1  1~3  Friend(s)             Single\n",
       "...  ..  ...        ...                ...\n",
       "2298  1  1~3  Friend(s)  Unmarried partner\n",
       "2299  1  1~3      Alone  Unmarried partner\n",
       "2300  1  1~3      Alone  Unmarried partner\n",
       "2301  1  1~3      Alone  Unmarried partner\n",
       "2302  1  1~3      Alone  Unmarried partner\n",
       "\n",
       "[2303 rows x 4 columns]"
      ]
     },
     "execution_count": 577,
     "metadata": {},
     "output_type": "execute_result"
    }
   ],
   "source": [
    "Driver_Set5_df.reset_index()[['Y', 'Bar', 'passanger', 'maritalStatus']]"
   ]
  },
  {
   "cell_type": "code",
   "execution_count": 588,
   "metadata": {},
   "outputs": [
    {
     "data": {
      "text/plain": [
       "2303"
      ]
     },
     "execution_count": 588,
     "metadata": {},
     "output_type": "execute_result"
    }
   ],
   "source": [
    "Driver_Set5_df_counts = Driver_Set5_df.value_counts().sum()\n",
    "Driver_Set5_df_counts"
   ]
  },
  {
   "cell_type": "code",
   "execution_count": 642,
   "metadata": {},
   "outputs": [],
   "source": [
    "# Drivers who go to bars more than once a month and are under the age of 30\n",
    "\n",
    "Driver_Set6_df = data.query(\"Y == 1 and (age == '21' or age == 'below21' or age == '26') and (Bar == '1~3' or Bar == '4~8' or Bar == 'gt8')\")[['Y', 'Bar', 'age']]"
   ]
  },
  {
   "cell_type": "code",
   "execution_count": 643,
   "metadata": {},
   "outputs": [
    {
     "data": {
      "text/html": [
       "<div>\n",
       "<style scoped>\n",
       "    .dataframe tbody tr th:only-of-type {\n",
       "        vertical-align: middle;\n",
       "    }\n",
       "\n",
       "    .dataframe tbody tr th {\n",
       "        vertical-align: top;\n",
       "    }\n",
       "\n",
       "    .dataframe thead th {\n",
       "        text-align: right;\n",
       "    }\n",
       "</style>\n",
       "<table border=\"1\" class=\"dataframe\">\n",
       "  <thead>\n",
       "    <tr style=\"text-align: right;\">\n",
       "      <th></th>\n",
       "      <th>Y</th>\n",
       "      <th>Bar</th>\n",
       "      <th>age</th>\n",
       "    </tr>\n",
       "  </thead>\n",
       "  <tbody>\n",
       "    <tr>\n",
       "      <th>0</th>\n",
       "      <td>1</td>\n",
       "      <td>1~3</td>\n",
       "      <td>21</td>\n",
       "    </tr>\n",
       "    <tr>\n",
       "      <th>1</th>\n",
       "      <td>1</td>\n",
       "      <td>1~3</td>\n",
       "      <td>21</td>\n",
       "    </tr>\n",
       "    <tr>\n",
       "      <th>2</th>\n",
       "      <td>1</td>\n",
       "      <td>1~3</td>\n",
       "      <td>21</td>\n",
       "    </tr>\n",
       "    <tr>\n",
       "      <th>3</th>\n",
       "      <td>1</td>\n",
       "      <td>1~3</td>\n",
       "      <td>21</td>\n",
       "    </tr>\n",
       "    <tr>\n",
       "      <th>4</th>\n",
       "      <td>1</td>\n",
       "      <td>1~3</td>\n",
       "      <td>21</td>\n",
       "    </tr>\n",
       "    <tr>\n",
       "      <th>...</th>\n",
       "      <td>...</td>\n",
       "      <td>...</td>\n",
       "      <td>...</td>\n",
       "    </tr>\n",
       "    <tr>\n",
       "      <th>1422</th>\n",
       "      <td>1</td>\n",
       "      <td>1~3</td>\n",
       "      <td>21</td>\n",
       "    </tr>\n",
       "    <tr>\n",
       "      <th>1423</th>\n",
       "      <td>1</td>\n",
       "      <td>1~3</td>\n",
       "      <td>21</td>\n",
       "    </tr>\n",
       "    <tr>\n",
       "      <th>1424</th>\n",
       "      <td>1</td>\n",
       "      <td>1~3</td>\n",
       "      <td>21</td>\n",
       "    </tr>\n",
       "    <tr>\n",
       "      <th>1425</th>\n",
       "      <td>1</td>\n",
       "      <td>1~3</td>\n",
       "      <td>21</td>\n",
       "    </tr>\n",
       "    <tr>\n",
       "      <th>1426</th>\n",
       "      <td>1</td>\n",
       "      <td>1~3</td>\n",
       "      <td>21</td>\n",
       "    </tr>\n",
       "  </tbody>\n",
       "</table>\n",
       "<p>1427 rows × 3 columns</p>\n",
       "</div>"
      ],
      "text/plain": [
       "      Y  Bar age\n",
       "0     1  1~3  21\n",
       "1     1  1~3  21\n",
       "2     1  1~3  21\n",
       "3     1  1~3  21\n",
       "4     1  1~3  21\n",
       "...  ..  ...  ..\n",
       "1422  1  1~3  21\n",
       "1423  1  1~3  21\n",
       "1424  1  1~3  21\n",
       "1425  1  1~3  21\n",
       "1426  1  1~3  21\n",
       "\n",
       "[1427 rows x 3 columns]"
      ]
     },
     "execution_count": 643,
     "metadata": {},
     "output_type": "execute_result"
    }
   ],
   "source": [
    "Driver_Set6_df.reset_index()[['Y', 'Bar', 'age']]"
   ]
  },
  {
   "cell_type": "code",
   "execution_count": 644,
   "metadata": {},
   "outputs": [
    {
     "data": {
      "text/plain": [
       "1427"
      ]
     },
     "execution_count": 644,
     "metadata": {},
     "output_type": "execute_result"
    }
   ],
   "source": [
    "Driver_Set6_df_counts = Driver_Set6_df.value_counts().sum()\n",
    "Driver_Set6_df_counts"
   ]
  },
  {
   "cell_type": "code",
   "execution_count": 522,
   "metadata": {},
   "outputs": [],
   "source": [
    "# go to cheap restaurants more than 4 times a month and income is less than 50K.\n",
    "\n",
    "Driver_Set7_df = data.query(\"Y == 1 and (RestaurantLessThan20 == '4~8' or RestaurantLessThan20 == 'gt8') and (income == '$25000 - $37499' or income == '$12500 - $24999' or income == '$37500 - $49999')\")[['Y', 'RestaurantLessThan20', 'income']]"
   ]
  },
  {
   "cell_type": "code",
   "execution_count": 523,
   "metadata": {},
   "outputs": [
    {
     "data": {
      "text/html": [
       "<div>\n",
       "<style scoped>\n",
       "    .dataframe tbody tr th:only-of-type {\n",
       "        vertical-align: middle;\n",
       "    }\n",
       "\n",
       "    .dataframe tbody tr th {\n",
       "        vertical-align: top;\n",
       "    }\n",
       "\n",
       "    .dataframe thead th {\n",
       "        text-align: right;\n",
       "    }\n",
       "</style>\n",
       "<table border=\"1\" class=\"dataframe\">\n",
       "  <thead>\n",
       "    <tr style=\"text-align: right;\">\n",
       "      <th></th>\n",
       "      <th>Y</th>\n",
       "      <th>RestaurantLessThan20</th>\n",
       "      <th>income</th>\n",
       "    </tr>\n",
       "  </thead>\n",
       "  <tbody>\n",
       "    <tr>\n",
       "      <th>0</th>\n",
       "      <td>1</td>\n",
       "      <td>4~8</td>\n",
       "      <td>$37500 - $49999</td>\n",
       "    </tr>\n",
       "    <tr>\n",
       "      <th>1</th>\n",
       "      <td>1</td>\n",
       "      <td>4~8</td>\n",
       "      <td>$37500 - $49999</td>\n",
       "    </tr>\n",
       "    <tr>\n",
       "      <th>2</th>\n",
       "      <td>1</td>\n",
       "      <td>4~8</td>\n",
       "      <td>$37500 - $49999</td>\n",
       "    </tr>\n",
       "    <tr>\n",
       "      <th>3</th>\n",
       "      <td>1</td>\n",
       "      <td>4~8</td>\n",
       "      <td>$37500 - $49999</td>\n",
       "    </tr>\n",
       "    <tr>\n",
       "      <th>4</th>\n",
       "      <td>1</td>\n",
       "      <td>4~8</td>\n",
       "      <td>$37500 - $49999</td>\n",
       "    </tr>\n",
       "    <tr>\n",
       "      <th>...</th>\n",
       "      <td>...</td>\n",
       "      <td>...</td>\n",
       "      <td>...</td>\n",
       "    </tr>\n",
       "    <tr>\n",
       "      <th>1076</th>\n",
       "      <td>1</td>\n",
       "      <td>4~8</td>\n",
       "      <td>$12500 - $24999</td>\n",
       "    </tr>\n",
       "    <tr>\n",
       "      <th>1077</th>\n",
       "      <td>1</td>\n",
       "      <td>4~8</td>\n",
       "      <td>$12500 - $24999</td>\n",
       "    </tr>\n",
       "    <tr>\n",
       "      <th>1078</th>\n",
       "      <td>1</td>\n",
       "      <td>4~8</td>\n",
       "      <td>$12500 - $24999</td>\n",
       "    </tr>\n",
       "    <tr>\n",
       "      <th>1079</th>\n",
       "      <td>1</td>\n",
       "      <td>4~8</td>\n",
       "      <td>$12500 - $24999</td>\n",
       "    </tr>\n",
       "    <tr>\n",
       "      <th>1080</th>\n",
       "      <td>1</td>\n",
       "      <td>4~8</td>\n",
       "      <td>$12500 - $24999</td>\n",
       "    </tr>\n",
       "  </tbody>\n",
       "</table>\n",
       "<p>1081 rows × 3 columns</p>\n",
       "</div>"
      ],
      "text/plain": [
       "      Y RestaurantLessThan20           income\n",
       "0     1                  4~8  $37500 - $49999\n",
       "1     1                  4~8  $37500 - $49999\n",
       "2     1                  4~8  $37500 - $49999\n",
       "3     1                  4~8  $37500 - $49999\n",
       "4     1                  4~8  $37500 - $49999\n",
       "...  ..                  ...              ...\n",
       "1076  1                  4~8  $12500 - $24999\n",
       "1077  1                  4~8  $12500 - $24999\n",
       "1078  1                  4~8  $12500 - $24999\n",
       "1079  1                  4~8  $12500 - $24999\n",
       "1080  1                  4~8  $12500 - $24999\n",
       "\n",
       "[1081 rows x 3 columns]"
      ]
     },
     "execution_count": 523,
     "metadata": {},
     "output_type": "execute_result"
    }
   ],
   "source": [
    "Driver_Set7_df.reset_index()[['Y', 'RestaurantLessThan20', 'income']]"
   ]
  },
  {
   "cell_type": "code",
   "execution_count": 579,
   "metadata": {},
   "outputs": [
    {
     "data": {
      "text/plain": [
       "1081"
      ]
     },
     "execution_count": 579,
     "metadata": {},
     "output_type": "execute_result"
    }
   ],
   "source": [
    "Driver_Set7_df_counts = Driver_Set7_df.value_counts().sum()\n",
    "Driver_Set7_df_counts"
   ]
  },
  {
   "cell_type": "code",
   "execution_count": 589,
   "metadata": {},
   "outputs": [
    {
     "data": {
      "text/plain": [
       "31.94"
      ]
     },
     "execution_count": 589,
     "metadata": {},
     "output_type": "execute_result"
    }
   ],
   "source": [
    "# Acceptance Rate : Driver Group # 5\n",
    "\n",
    "Driver_Acceptance_Rate_Set5 = (Driver_Set5_df_counts/TotalCouponAccepted) * 100\n",
    "RoundedSet5 = Driver_Acceptance_Rate_Set5.round(2)\n",
    "RoundedSet5 "
   ]
  },
  {
   "cell_type": "code",
   "execution_count": 590,
   "metadata": {},
   "outputs": [
    {
     "data": {
      "text/plain": [
       "19.79"
      ]
     },
     "execution_count": 590,
     "metadata": {},
     "output_type": "execute_result"
    }
   ],
   "source": [
    "# Acceptance Rate : Driver Group # 6\n",
    "\n",
    "Driver_Acceptance_Rate_Set6 = (Driver_Set6_df_counts/TotalCouponAccepted) * 100\n",
    "RoundedSet6 = Driver_Acceptance_Rate_Set6.round(2)\n",
    "RoundedSet6 "
   ]
  },
  {
   "cell_type": "code",
   "execution_count": 591,
   "metadata": {},
   "outputs": [
    {
     "data": {
      "text/plain": [
       "14.99"
      ]
     },
     "execution_count": 591,
     "metadata": {},
     "output_type": "execute_result"
    }
   ],
   "source": [
    "# Acceptance Rate : Driver Group # 7\n",
    "\n",
    "Driver_Acceptance_Rate_Set7 = (Driver_Set7_df_counts/TotalCouponAccepted) * 100\n",
    "RoundedSet7 = Driver_Acceptance_Rate_Set7.round(2)\n",
    "RoundedSet7 "
   ]
  },
  {
   "cell_type": "code",
   "execution_count": 614,
   "metadata": {},
   "outputs": [
    {
     "data": {
      "application/vnd.plotly.v1+json": {
       "config": {
        "plotlyServerURL": "https://plot.ly"
       },
       "data": [
        {
         "alignmentgroup": "True",
         "hovertemplate": "Legend Description=Bar Visits > 1 per Month & <br> Passengers - NOT Kid & Not Widowed<br>Category=%{x}<br>Acceptance Rate (%)=%{text}<extra></extra>",
         "legendgroup": "Bar Visits > 1 per Month & <br> Passengers - NOT Kid & Not Widowed",
         "marker": {
          "color": "rgb(251,180,174)",
          "pattern": {
           "shape": ""
          }
         },
         "name": "Bar Visits > 1 per Month & <br> Passengers - NOT Kid & Not Widowed",
         "offsetgroup": "Bar Visits > 1 per Month & <br> Passengers - NOT Kid & Not Widowed",
         "orientation": "v",
         "showlegend": true,
         "text": [
          31.94
         ],
         "textposition": "outside",
         "type": "bar",
         "x": [
          "Group 5"
         ],
         "xaxis": "x",
         "y": [
          31.94
         ],
         "yaxis": "y"
        },
        {
         "alignmentgroup": "True",
         "hovertemplate": "Legend Description=Bar Visits > 1 per Month & <br> Age under 30<br>Category=%{x}<br>Acceptance Rate (%)=%{text}<extra></extra>",
         "legendgroup": "Bar Visits > 1 per Month & <br> Age under 30",
         "marker": {
          "color": "rgb(179,205,227)",
          "pattern": {
           "shape": ""
          }
         },
         "name": "Bar Visits > 1 per Month & <br> Age under 30",
         "offsetgroup": "Bar Visits > 1 per Month & <br> Age under 30",
         "orientation": "v",
         "showlegend": true,
         "text": [
          19.79
         ],
         "textposition": "outside",
         "type": "bar",
         "x": [
          "Group 6"
         ],
         "xaxis": "x",
         "y": [
          19.79
         ],
         "yaxis": "y"
        },
        {
         "alignmentgroup": "True",
         "hovertemplate": "Legend Description=Cheap Restaurant Visits < 4 times per month & <br> Income less than 50K<br>Category=%{x}<br>Acceptance Rate (%)=%{text}<extra></extra>",
         "legendgroup": "Cheap Restaurant Visits < 4 times per month & <br> Income less than 50K",
         "marker": {
          "color": "rgb(204,235,197)",
          "pattern": {
           "shape": ""
          }
         },
         "name": "Cheap Restaurant Visits < 4 times per month & <br> Income less than 50K",
         "offsetgroup": "Cheap Restaurant Visits < 4 times per month & <br> Income less than 50K",
         "orientation": "v",
         "showlegend": true,
         "text": [
          14.99
         ],
         "textposition": "outside",
         "type": "bar",
         "x": [
          "Group 7"
         ],
         "xaxis": "x",
         "y": [
          14.99
         ],
         "yaxis": "y"
        }
       ],
       "layout": {
        "barmode": "relative",
        "height": 600,
        "legend": {
         "title": {
          "text": "Legend Description"
         },
         "tracegroupgap": 0
        },
        "margin": {
         "b": 80
        },
        "template": {
         "data": {
          "bar": [
           {
            "error_x": {
             "color": "#2a3f5f"
            },
            "error_y": {
             "color": "#2a3f5f"
            },
            "marker": {
             "line": {
              "color": "#E5ECF6",
              "width": 0.5
             },
             "pattern": {
              "fillmode": "overlay",
              "size": 10,
              "solidity": 0.2
             }
            },
            "type": "bar"
           }
          ],
          "barpolar": [
           {
            "marker": {
             "line": {
              "color": "#E5ECF6",
              "width": 0.5
             },
             "pattern": {
              "fillmode": "overlay",
              "size": 10,
              "solidity": 0.2
             }
            },
            "type": "barpolar"
           }
          ],
          "carpet": [
           {
            "aaxis": {
             "endlinecolor": "#2a3f5f",
             "gridcolor": "white",
             "linecolor": "white",
             "minorgridcolor": "white",
             "startlinecolor": "#2a3f5f"
            },
            "baxis": {
             "endlinecolor": "#2a3f5f",
             "gridcolor": "white",
             "linecolor": "white",
             "minorgridcolor": "white",
             "startlinecolor": "#2a3f5f"
            },
            "type": "carpet"
           }
          ],
          "choropleth": [
           {
            "colorbar": {
             "outlinewidth": 0,
             "ticks": ""
            },
            "type": "choropleth"
           }
          ],
          "contour": [
           {
            "colorbar": {
             "outlinewidth": 0,
             "ticks": ""
            },
            "colorscale": [
             [
              0,
              "#0d0887"
             ],
             [
              0.1111111111111111,
              "#46039f"
             ],
             [
              0.2222222222222222,
              "#7201a8"
             ],
             [
              0.3333333333333333,
              "#9c179e"
             ],
             [
              0.4444444444444444,
              "#bd3786"
             ],
             [
              0.5555555555555556,
              "#d8576b"
             ],
             [
              0.6666666666666666,
              "#ed7953"
             ],
             [
              0.7777777777777778,
              "#fb9f3a"
             ],
             [
              0.8888888888888888,
              "#fdca26"
             ],
             [
              1,
              "#f0f921"
             ]
            ],
            "type": "contour"
           }
          ],
          "contourcarpet": [
           {
            "colorbar": {
             "outlinewidth": 0,
             "ticks": ""
            },
            "type": "contourcarpet"
           }
          ],
          "heatmap": [
           {
            "colorbar": {
             "outlinewidth": 0,
             "ticks": ""
            },
            "colorscale": [
             [
              0,
              "#0d0887"
             ],
             [
              0.1111111111111111,
              "#46039f"
             ],
             [
              0.2222222222222222,
              "#7201a8"
             ],
             [
              0.3333333333333333,
              "#9c179e"
             ],
             [
              0.4444444444444444,
              "#bd3786"
             ],
             [
              0.5555555555555556,
              "#d8576b"
             ],
             [
              0.6666666666666666,
              "#ed7953"
             ],
             [
              0.7777777777777778,
              "#fb9f3a"
             ],
             [
              0.8888888888888888,
              "#fdca26"
             ],
             [
              1,
              "#f0f921"
             ]
            ],
            "type": "heatmap"
           }
          ],
          "heatmapgl": [
           {
            "colorbar": {
             "outlinewidth": 0,
             "ticks": ""
            },
            "colorscale": [
             [
              0,
              "#0d0887"
             ],
             [
              0.1111111111111111,
              "#46039f"
             ],
             [
              0.2222222222222222,
              "#7201a8"
             ],
             [
              0.3333333333333333,
              "#9c179e"
             ],
             [
              0.4444444444444444,
              "#bd3786"
             ],
             [
              0.5555555555555556,
              "#d8576b"
             ],
             [
              0.6666666666666666,
              "#ed7953"
             ],
             [
              0.7777777777777778,
              "#fb9f3a"
             ],
             [
              0.8888888888888888,
              "#fdca26"
             ],
             [
              1,
              "#f0f921"
             ]
            ],
            "type": "heatmapgl"
           }
          ],
          "histogram": [
           {
            "marker": {
             "pattern": {
              "fillmode": "overlay",
              "size": 10,
              "solidity": 0.2
             }
            },
            "type": "histogram"
           }
          ],
          "histogram2d": [
           {
            "colorbar": {
             "outlinewidth": 0,
             "ticks": ""
            },
            "colorscale": [
             [
              0,
              "#0d0887"
             ],
             [
              0.1111111111111111,
              "#46039f"
             ],
             [
              0.2222222222222222,
              "#7201a8"
             ],
             [
              0.3333333333333333,
              "#9c179e"
             ],
             [
              0.4444444444444444,
              "#bd3786"
             ],
             [
              0.5555555555555556,
              "#d8576b"
             ],
             [
              0.6666666666666666,
              "#ed7953"
             ],
             [
              0.7777777777777778,
              "#fb9f3a"
             ],
             [
              0.8888888888888888,
              "#fdca26"
             ],
             [
              1,
              "#f0f921"
             ]
            ],
            "type": "histogram2d"
           }
          ],
          "histogram2dcontour": [
           {
            "colorbar": {
             "outlinewidth": 0,
             "ticks": ""
            },
            "colorscale": [
             [
              0,
              "#0d0887"
             ],
             [
              0.1111111111111111,
              "#46039f"
             ],
             [
              0.2222222222222222,
              "#7201a8"
             ],
             [
              0.3333333333333333,
              "#9c179e"
             ],
             [
              0.4444444444444444,
              "#bd3786"
             ],
             [
              0.5555555555555556,
              "#d8576b"
             ],
             [
              0.6666666666666666,
              "#ed7953"
             ],
             [
              0.7777777777777778,
              "#fb9f3a"
             ],
             [
              0.8888888888888888,
              "#fdca26"
             ],
             [
              1,
              "#f0f921"
             ]
            ],
            "type": "histogram2dcontour"
           }
          ],
          "mesh3d": [
           {
            "colorbar": {
             "outlinewidth": 0,
             "ticks": ""
            },
            "type": "mesh3d"
           }
          ],
          "parcoords": [
           {
            "line": {
             "colorbar": {
              "outlinewidth": 0,
              "ticks": ""
             }
            },
            "type": "parcoords"
           }
          ],
          "pie": [
           {
            "automargin": true,
            "type": "pie"
           }
          ],
          "scatter": [
           {
            "fillpattern": {
             "fillmode": "overlay",
             "size": 10,
             "solidity": 0.2
            },
            "type": "scatter"
           }
          ],
          "scatter3d": [
           {
            "line": {
             "colorbar": {
              "outlinewidth": 0,
              "ticks": ""
             }
            },
            "marker": {
             "colorbar": {
              "outlinewidth": 0,
              "ticks": ""
             }
            },
            "type": "scatter3d"
           }
          ],
          "scattercarpet": [
           {
            "marker": {
             "colorbar": {
              "outlinewidth": 0,
              "ticks": ""
             }
            },
            "type": "scattercarpet"
           }
          ],
          "scattergeo": [
           {
            "marker": {
             "colorbar": {
              "outlinewidth": 0,
              "ticks": ""
             }
            },
            "type": "scattergeo"
           }
          ],
          "scattergl": [
           {
            "marker": {
             "colorbar": {
              "outlinewidth": 0,
              "ticks": ""
             }
            },
            "type": "scattergl"
           }
          ],
          "scattermapbox": [
           {
            "marker": {
             "colorbar": {
              "outlinewidth": 0,
              "ticks": ""
             }
            },
            "type": "scattermapbox"
           }
          ],
          "scatterpolar": [
           {
            "marker": {
             "colorbar": {
              "outlinewidth": 0,
              "ticks": ""
             }
            },
            "type": "scatterpolar"
           }
          ],
          "scatterpolargl": [
           {
            "marker": {
             "colorbar": {
              "outlinewidth": 0,
              "ticks": ""
             }
            },
            "type": "scatterpolargl"
           }
          ],
          "scatterternary": [
           {
            "marker": {
             "colorbar": {
              "outlinewidth": 0,
              "ticks": ""
             }
            },
            "type": "scatterternary"
           }
          ],
          "surface": [
           {
            "colorbar": {
             "outlinewidth": 0,
             "ticks": ""
            },
            "colorscale": [
             [
              0,
              "#0d0887"
             ],
             [
              0.1111111111111111,
              "#46039f"
             ],
             [
              0.2222222222222222,
              "#7201a8"
             ],
             [
              0.3333333333333333,
              "#9c179e"
             ],
             [
              0.4444444444444444,
              "#bd3786"
             ],
             [
              0.5555555555555556,
              "#d8576b"
             ],
             [
              0.6666666666666666,
              "#ed7953"
             ],
             [
              0.7777777777777778,
              "#fb9f3a"
             ],
             [
              0.8888888888888888,
              "#fdca26"
             ],
             [
              1,
              "#f0f921"
             ]
            ],
            "type": "surface"
           }
          ],
          "table": [
           {
            "cells": {
             "fill": {
              "color": "#EBF0F8"
             },
             "line": {
              "color": "white"
             }
            },
            "header": {
             "fill": {
              "color": "#C8D4E3"
             },
             "line": {
              "color": "white"
             }
            },
            "type": "table"
           }
          ]
         },
         "layout": {
          "annotationdefaults": {
           "arrowcolor": "#2a3f5f",
           "arrowhead": 0,
           "arrowwidth": 1
          },
          "autotypenumbers": "strict",
          "coloraxis": {
           "colorbar": {
            "outlinewidth": 0,
            "ticks": ""
           }
          },
          "colorscale": {
           "diverging": [
            [
             0,
             "#8e0152"
            ],
            [
             0.1,
             "#c51b7d"
            ],
            [
             0.2,
             "#de77ae"
            ],
            [
             0.3,
             "#f1b6da"
            ],
            [
             0.4,
             "#fde0ef"
            ],
            [
             0.5,
             "#f7f7f7"
            ],
            [
             0.6,
             "#e6f5d0"
            ],
            [
             0.7,
             "#b8e186"
            ],
            [
             0.8,
             "#7fbc41"
            ],
            [
             0.9,
             "#4d9221"
            ],
            [
             1,
             "#276419"
            ]
           ],
           "sequential": [
            [
             0,
             "#0d0887"
            ],
            [
             0.1111111111111111,
             "#46039f"
            ],
            [
             0.2222222222222222,
             "#7201a8"
            ],
            [
             0.3333333333333333,
             "#9c179e"
            ],
            [
             0.4444444444444444,
             "#bd3786"
            ],
            [
             0.5555555555555556,
             "#d8576b"
            ],
            [
             0.6666666666666666,
             "#ed7953"
            ],
            [
             0.7777777777777778,
             "#fb9f3a"
            ],
            [
             0.8888888888888888,
             "#fdca26"
            ],
            [
             1,
             "#f0f921"
            ]
           ],
           "sequentialminus": [
            [
             0,
             "#0d0887"
            ],
            [
             0.1111111111111111,
             "#46039f"
            ],
            [
             0.2222222222222222,
             "#7201a8"
            ],
            [
             0.3333333333333333,
             "#9c179e"
            ],
            [
             0.4444444444444444,
             "#bd3786"
            ],
            [
             0.5555555555555556,
             "#d8576b"
            ],
            [
             0.6666666666666666,
             "#ed7953"
            ],
            [
             0.7777777777777778,
             "#fb9f3a"
            ],
            [
             0.8888888888888888,
             "#fdca26"
            ],
            [
             1,
             "#f0f921"
            ]
           ]
          },
          "colorway": [
           "#636efa",
           "#EF553B",
           "#00cc96",
           "#ab63fa",
           "#FFA15A",
           "#19d3f3",
           "#FF6692",
           "#B6E880",
           "#FF97FF",
           "#FECB52"
          ],
          "font": {
           "color": "#2a3f5f"
          },
          "geo": {
           "bgcolor": "white",
           "lakecolor": "white",
           "landcolor": "#E5ECF6",
           "showlakes": true,
           "showland": true,
           "subunitcolor": "white"
          },
          "hoverlabel": {
           "align": "left"
          },
          "hovermode": "closest",
          "mapbox": {
           "style": "light"
          },
          "paper_bgcolor": "white",
          "plot_bgcolor": "#E5ECF6",
          "polar": {
           "angularaxis": {
            "gridcolor": "white",
            "linecolor": "white",
            "ticks": ""
           },
           "bgcolor": "#E5ECF6",
           "radialaxis": {
            "gridcolor": "white",
            "linecolor": "white",
            "ticks": ""
           }
          },
          "scene": {
           "xaxis": {
            "backgroundcolor": "#E5ECF6",
            "gridcolor": "white",
            "gridwidth": 2,
            "linecolor": "white",
            "showbackground": true,
            "ticks": "",
            "zerolinecolor": "white"
           },
           "yaxis": {
            "backgroundcolor": "#E5ECF6",
            "gridcolor": "white",
            "gridwidth": 2,
            "linecolor": "white",
            "showbackground": true,
            "ticks": "",
            "zerolinecolor": "white"
           },
           "zaxis": {
            "backgroundcolor": "#E5ECF6",
            "gridcolor": "white",
            "gridwidth": 2,
            "linecolor": "white",
            "showbackground": true,
            "ticks": "",
            "zerolinecolor": "white"
           }
          },
          "shapedefaults": {
           "line": {
            "color": "#2a3f5f"
           }
          },
          "ternary": {
           "aaxis": {
            "gridcolor": "white",
            "linecolor": "white",
            "ticks": ""
           },
           "baxis": {
            "gridcolor": "white",
            "linecolor": "white",
            "ticks": ""
           },
           "bgcolor": "#E5ECF6",
           "caxis": {
            "gridcolor": "white",
            "linecolor": "white",
            "ticks": ""
           }
          },
          "title": {
           "x": 0.05
          },
          "xaxis": {
           "automargin": true,
           "gridcolor": "white",
           "linecolor": "white",
           "ticks": "",
           "title": {
            "standoff": 15
           },
           "zerolinecolor": "white",
           "zerolinewidth": 2
          },
          "yaxis": {
           "automargin": true,
           "gridcolor": "white",
           "linecolor": "white",
           "ticks": "",
           "title": {
            "standoff": 15
           },
           "zerolinecolor": "white",
           "zerolinewidth": 2
          }
         }
        },
        "title": {
         "text": "Comparison of Driver Acceptance Rates"
        },
        "width": 900,
        "xaxis": {
         "anchor": "y",
         "domain": [
          0,
          1
         ],
         "tickangle": 0,
         "title": {
          "text": "Category"
         }
        },
        "yaxis": {
         "anchor": "x",
         "domain": [
          0,
          1
         ],
         "title": {
          "text": "Acceptance Rate (%)"
         }
        }
       }
      },
      "text/html": [
       "<div>                            <div id=\"4ffd3601-378d-4322-83df-0dcea80ba150\" class=\"plotly-graph-div\" style=\"height:600px; width:900px;\"></div>            <script type=\"text/javascript\">                require([\"plotly\"], function(Plotly) {                    window.PLOTLYENV=window.PLOTLYENV || {};                                    if (document.getElementById(\"4ffd3601-378d-4322-83df-0dcea80ba150\")) {                    Plotly.newPlot(                        \"4ffd3601-378d-4322-83df-0dcea80ba150\",                        [{\"alignmentgroup\":\"True\",\"hovertemplate\":\"Legend Description=Bar Visits \\u003e 1 per Month & \\u003cbr\\u003e Passengers - NOT Kid & Not Widowed\\u003cbr\\u003eCategory=%{x}\\u003cbr\\u003eAcceptance Rate (%)=%{text}\\u003cextra\\u003e\\u003c\\u002fextra\\u003e\",\"legendgroup\":\"Bar Visits \\u003e 1 per Month & \\u003cbr\\u003e Passengers - NOT Kid & Not Widowed\",\"marker\":{\"color\":\"rgb(251,180,174)\",\"pattern\":{\"shape\":\"\"}},\"name\":\"Bar Visits \\u003e 1 per Month & \\u003cbr\\u003e Passengers - NOT Kid & Not Widowed\",\"offsetgroup\":\"Bar Visits \\u003e 1 per Month & \\u003cbr\\u003e Passengers - NOT Kid & Not Widowed\",\"orientation\":\"v\",\"showlegend\":true,\"text\":[31.94],\"textposition\":\"outside\",\"x\":[\"Group 5\"],\"xaxis\":\"x\",\"y\":[31.94],\"yaxis\":\"y\",\"type\":\"bar\"},{\"alignmentgroup\":\"True\",\"hovertemplate\":\"Legend Description=Bar Visits \\u003e 1 per Month & \\u003cbr\\u003e Age under 30\\u003cbr\\u003eCategory=%{x}\\u003cbr\\u003eAcceptance Rate (%)=%{text}\\u003cextra\\u003e\\u003c\\u002fextra\\u003e\",\"legendgroup\":\"Bar Visits \\u003e 1 per Month & \\u003cbr\\u003e Age under 30\",\"marker\":{\"color\":\"rgb(179,205,227)\",\"pattern\":{\"shape\":\"\"}},\"name\":\"Bar Visits \\u003e 1 per Month & \\u003cbr\\u003e Age under 30\",\"offsetgroup\":\"Bar Visits \\u003e 1 per Month & \\u003cbr\\u003e Age under 30\",\"orientation\":\"v\",\"showlegend\":true,\"text\":[19.79],\"textposition\":\"outside\",\"x\":[\"Group 6\"],\"xaxis\":\"x\",\"y\":[19.79],\"yaxis\":\"y\",\"type\":\"bar\"},{\"alignmentgroup\":\"True\",\"hovertemplate\":\"Legend Description=Cheap Restaurant Visits \\u003c 4 times per month & \\u003cbr\\u003e Income less than 50K\\u003cbr\\u003eCategory=%{x}\\u003cbr\\u003eAcceptance Rate (%)=%{text}\\u003cextra\\u003e\\u003c\\u002fextra\\u003e\",\"legendgroup\":\"Cheap Restaurant Visits \\u003c 4 times per month & \\u003cbr\\u003e Income less than 50K\",\"marker\":{\"color\":\"rgb(204,235,197)\",\"pattern\":{\"shape\":\"\"}},\"name\":\"Cheap Restaurant Visits \\u003c 4 times per month & \\u003cbr\\u003e Income less than 50K\",\"offsetgroup\":\"Cheap Restaurant Visits \\u003c 4 times per month & \\u003cbr\\u003e Income less than 50K\",\"orientation\":\"v\",\"showlegend\":true,\"text\":[14.99],\"textposition\":\"outside\",\"x\":[\"Group 7\"],\"xaxis\":\"x\",\"y\":[14.99],\"yaxis\":\"y\",\"type\":\"bar\"}],                        {\"template\":{\"data\":{\"histogram2dcontour\":[{\"type\":\"histogram2dcontour\",\"colorbar\":{\"outlinewidth\":0,\"ticks\":\"\"},\"colorscale\":[[0.0,\"#0d0887\"],[0.1111111111111111,\"#46039f\"],[0.2222222222222222,\"#7201a8\"],[0.3333333333333333,\"#9c179e\"],[0.4444444444444444,\"#bd3786\"],[0.5555555555555556,\"#d8576b\"],[0.6666666666666666,\"#ed7953\"],[0.7777777777777778,\"#fb9f3a\"],[0.8888888888888888,\"#fdca26\"],[1.0,\"#f0f921\"]]}],\"choropleth\":[{\"type\":\"choropleth\",\"colorbar\":{\"outlinewidth\":0,\"ticks\":\"\"}}],\"histogram2d\":[{\"type\":\"histogram2d\",\"colorbar\":{\"outlinewidth\":0,\"ticks\":\"\"},\"colorscale\":[[0.0,\"#0d0887\"],[0.1111111111111111,\"#46039f\"],[0.2222222222222222,\"#7201a8\"],[0.3333333333333333,\"#9c179e\"],[0.4444444444444444,\"#bd3786\"],[0.5555555555555556,\"#d8576b\"],[0.6666666666666666,\"#ed7953\"],[0.7777777777777778,\"#fb9f3a\"],[0.8888888888888888,\"#fdca26\"],[1.0,\"#f0f921\"]]}],\"heatmap\":[{\"type\":\"heatmap\",\"colorbar\":{\"outlinewidth\":0,\"ticks\":\"\"},\"colorscale\":[[0.0,\"#0d0887\"],[0.1111111111111111,\"#46039f\"],[0.2222222222222222,\"#7201a8\"],[0.3333333333333333,\"#9c179e\"],[0.4444444444444444,\"#bd3786\"],[0.5555555555555556,\"#d8576b\"],[0.6666666666666666,\"#ed7953\"],[0.7777777777777778,\"#fb9f3a\"],[0.8888888888888888,\"#fdca26\"],[1.0,\"#f0f921\"]]}],\"heatmapgl\":[{\"type\":\"heatmapgl\",\"colorbar\":{\"outlinewidth\":0,\"ticks\":\"\"},\"colorscale\":[[0.0,\"#0d0887\"],[0.1111111111111111,\"#46039f\"],[0.2222222222222222,\"#7201a8\"],[0.3333333333333333,\"#9c179e\"],[0.4444444444444444,\"#bd3786\"],[0.5555555555555556,\"#d8576b\"],[0.6666666666666666,\"#ed7953\"],[0.7777777777777778,\"#fb9f3a\"],[0.8888888888888888,\"#fdca26\"],[1.0,\"#f0f921\"]]}],\"contourcarpet\":[{\"type\":\"contourcarpet\",\"colorbar\":{\"outlinewidth\":0,\"ticks\":\"\"}}],\"contour\":[{\"type\":\"contour\",\"colorbar\":{\"outlinewidth\":0,\"ticks\":\"\"},\"colorscale\":[[0.0,\"#0d0887\"],[0.1111111111111111,\"#46039f\"],[0.2222222222222222,\"#7201a8\"],[0.3333333333333333,\"#9c179e\"],[0.4444444444444444,\"#bd3786\"],[0.5555555555555556,\"#d8576b\"],[0.6666666666666666,\"#ed7953\"],[0.7777777777777778,\"#fb9f3a\"],[0.8888888888888888,\"#fdca26\"],[1.0,\"#f0f921\"]]}],\"surface\":[{\"type\":\"surface\",\"colorbar\":{\"outlinewidth\":0,\"ticks\":\"\"},\"colorscale\":[[0.0,\"#0d0887\"],[0.1111111111111111,\"#46039f\"],[0.2222222222222222,\"#7201a8\"],[0.3333333333333333,\"#9c179e\"],[0.4444444444444444,\"#bd3786\"],[0.5555555555555556,\"#d8576b\"],[0.6666666666666666,\"#ed7953\"],[0.7777777777777778,\"#fb9f3a\"],[0.8888888888888888,\"#fdca26\"],[1.0,\"#f0f921\"]]}],\"mesh3d\":[{\"type\":\"mesh3d\",\"colorbar\":{\"outlinewidth\":0,\"ticks\":\"\"}}],\"scatter\":[{\"fillpattern\":{\"fillmode\":\"overlay\",\"size\":10,\"solidity\":0.2},\"type\":\"scatter\"}],\"parcoords\":[{\"type\":\"parcoords\",\"line\":{\"colorbar\":{\"outlinewidth\":0,\"ticks\":\"\"}}}],\"scatterpolargl\":[{\"type\":\"scatterpolargl\",\"marker\":{\"colorbar\":{\"outlinewidth\":0,\"ticks\":\"\"}}}],\"bar\":[{\"error_x\":{\"color\":\"#2a3f5f\"},\"error_y\":{\"color\":\"#2a3f5f\"},\"marker\":{\"line\":{\"color\":\"#E5ECF6\",\"width\":0.5},\"pattern\":{\"fillmode\":\"overlay\",\"size\":10,\"solidity\":0.2}},\"type\":\"bar\"}],\"scattergeo\":[{\"type\":\"scattergeo\",\"marker\":{\"colorbar\":{\"outlinewidth\":0,\"ticks\":\"\"}}}],\"scatterpolar\":[{\"type\":\"scatterpolar\",\"marker\":{\"colorbar\":{\"outlinewidth\":0,\"ticks\":\"\"}}}],\"histogram\":[{\"marker\":{\"pattern\":{\"fillmode\":\"overlay\",\"size\":10,\"solidity\":0.2}},\"type\":\"histogram\"}],\"scattergl\":[{\"type\":\"scattergl\",\"marker\":{\"colorbar\":{\"outlinewidth\":0,\"ticks\":\"\"}}}],\"scatter3d\":[{\"type\":\"scatter3d\",\"line\":{\"colorbar\":{\"outlinewidth\":0,\"ticks\":\"\"}},\"marker\":{\"colorbar\":{\"outlinewidth\":0,\"ticks\":\"\"}}}],\"scattermapbox\":[{\"type\":\"scattermapbox\",\"marker\":{\"colorbar\":{\"outlinewidth\":0,\"ticks\":\"\"}}}],\"scatterternary\":[{\"type\":\"scatterternary\",\"marker\":{\"colorbar\":{\"outlinewidth\":0,\"ticks\":\"\"}}}],\"scattercarpet\":[{\"type\":\"scattercarpet\",\"marker\":{\"colorbar\":{\"outlinewidth\":0,\"ticks\":\"\"}}}],\"carpet\":[{\"aaxis\":{\"endlinecolor\":\"#2a3f5f\",\"gridcolor\":\"white\",\"linecolor\":\"white\",\"minorgridcolor\":\"white\",\"startlinecolor\":\"#2a3f5f\"},\"baxis\":{\"endlinecolor\":\"#2a3f5f\",\"gridcolor\":\"white\",\"linecolor\":\"white\",\"minorgridcolor\":\"white\",\"startlinecolor\":\"#2a3f5f\"},\"type\":\"carpet\"}],\"table\":[{\"cells\":{\"fill\":{\"color\":\"#EBF0F8\"},\"line\":{\"color\":\"white\"}},\"header\":{\"fill\":{\"color\":\"#C8D4E3\"},\"line\":{\"color\":\"white\"}},\"type\":\"table\"}],\"barpolar\":[{\"marker\":{\"line\":{\"color\":\"#E5ECF6\",\"width\":0.5},\"pattern\":{\"fillmode\":\"overlay\",\"size\":10,\"solidity\":0.2}},\"type\":\"barpolar\"}],\"pie\":[{\"automargin\":true,\"type\":\"pie\"}]},\"layout\":{\"autotypenumbers\":\"strict\",\"colorway\":[\"#636efa\",\"#EF553B\",\"#00cc96\",\"#ab63fa\",\"#FFA15A\",\"#19d3f3\",\"#FF6692\",\"#B6E880\",\"#FF97FF\",\"#FECB52\"],\"font\":{\"color\":\"#2a3f5f\"},\"hovermode\":\"closest\",\"hoverlabel\":{\"align\":\"left\"},\"paper_bgcolor\":\"white\",\"plot_bgcolor\":\"#E5ECF6\",\"polar\":{\"bgcolor\":\"#E5ECF6\",\"angularaxis\":{\"gridcolor\":\"white\",\"linecolor\":\"white\",\"ticks\":\"\"},\"radialaxis\":{\"gridcolor\":\"white\",\"linecolor\":\"white\",\"ticks\":\"\"}},\"ternary\":{\"bgcolor\":\"#E5ECF6\",\"aaxis\":{\"gridcolor\":\"white\",\"linecolor\":\"white\",\"ticks\":\"\"},\"baxis\":{\"gridcolor\":\"white\",\"linecolor\":\"white\",\"ticks\":\"\"},\"caxis\":{\"gridcolor\":\"white\",\"linecolor\":\"white\",\"ticks\":\"\"}},\"coloraxis\":{\"colorbar\":{\"outlinewidth\":0,\"ticks\":\"\"}},\"colorscale\":{\"sequential\":[[0.0,\"#0d0887\"],[0.1111111111111111,\"#46039f\"],[0.2222222222222222,\"#7201a8\"],[0.3333333333333333,\"#9c179e\"],[0.4444444444444444,\"#bd3786\"],[0.5555555555555556,\"#d8576b\"],[0.6666666666666666,\"#ed7953\"],[0.7777777777777778,\"#fb9f3a\"],[0.8888888888888888,\"#fdca26\"],[1.0,\"#f0f921\"]],\"sequentialminus\":[[0.0,\"#0d0887\"],[0.1111111111111111,\"#46039f\"],[0.2222222222222222,\"#7201a8\"],[0.3333333333333333,\"#9c179e\"],[0.4444444444444444,\"#bd3786\"],[0.5555555555555556,\"#d8576b\"],[0.6666666666666666,\"#ed7953\"],[0.7777777777777778,\"#fb9f3a\"],[0.8888888888888888,\"#fdca26\"],[1.0,\"#f0f921\"]],\"diverging\":[[0,\"#8e0152\"],[0.1,\"#c51b7d\"],[0.2,\"#de77ae\"],[0.3,\"#f1b6da\"],[0.4,\"#fde0ef\"],[0.5,\"#f7f7f7\"],[0.6,\"#e6f5d0\"],[0.7,\"#b8e186\"],[0.8,\"#7fbc41\"],[0.9,\"#4d9221\"],[1,\"#276419\"]]},\"xaxis\":{\"gridcolor\":\"white\",\"linecolor\":\"white\",\"ticks\":\"\",\"title\":{\"standoff\":15},\"zerolinecolor\":\"white\",\"automargin\":true,\"zerolinewidth\":2},\"yaxis\":{\"gridcolor\":\"white\",\"linecolor\":\"white\",\"ticks\":\"\",\"title\":{\"standoff\":15},\"zerolinecolor\":\"white\",\"automargin\":true,\"zerolinewidth\":2},\"scene\":{\"xaxis\":{\"backgroundcolor\":\"#E5ECF6\",\"gridcolor\":\"white\",\"linecolor\":\"white\",\"showbackground\":true,\"ticks\":\"\",\"zerolinecolor\":\"white\",\"gridwidth\":2},\"yaxis\":{\"backgroundcolor\":\"#E5ECF6\",\"gridcolor\":\"white\",\"linecolor\":\"white\",\"showbackground\":true,\"ticks\":\"\",\"zerolinecolor\":\"white\",\"gridwidth\":2},\"zaxis\":{\"backgroundcolor\":\"#E5ECF6\",\"gridcolor\":\"white\",\"linecolor\":\"white\",\"showbackground\":true,\"ticks\":\"\",\"zerolinecolor\":\"white\",\"gridwidth\":2}},\"shapedefaults\":{\"line\":{\"color\":\"#2a3f5f\"}},\"annotationdefaults\":{\"arrowcolor\":\"#2a3f5f\",\"arrowhead\":0,\"arrowwidth\":1},\"geo\":{\"bgcolor\":\"white\",\"landcolor\":\"#E5ECF6\",\"subunitcolor\":\"white\",\"showland\":true,\"showlakes\":true,\"lakecolor\":\"white\"},\"title\":{\"x\":0.05},\"mapbox\":{\"style\":\"light\"}}},\"xaxis\":{\"anchor\":\"y\",\"domain\":[0.0,1.0],\"title\":{\"text\":\"Category\"},\"tickangle\":0},\"yaxis\":{\"anchor\":\"x\",\"domain\":[0.0,1.0],\"title\":{\"text\":\"Acceptance Rate (%)\"}},\"legend\":{\"title\":{\"text\":\"Legend Description\"},\"tracegroupgap\":0},\"title\":{\"text\":\"Comparison of Driver Acceptance Rates\"},\"barmode\":\"relative\",\"margin\":{\"b\":80},\"width\":900,\"height\":600},                        {\"responsive\": true}                    ).then(function(){\n",
       "                            \n",
       "var gd = document.getElementById('4ffd3601-378d-4322-83df-0dcea80ba150');\n",
       "var x = new MutationObserver(function (mutations, observer) {{\n",
       "        var display = window.getComputedStyle(gd).display;\n",
       "        if (!display || display === 'none') {{\n",
       "            console.log([gd, 'removed!']);\n",
       "            Plotly.purge(gd);\n",
       "            observer.disconnect();\n",
       "        }}\n",
       "}});\n",
       "\n",
       "// Listen for the removal of the full notebook cells\n",
       "var notebookContainer = gd.closest('#notebook-container');\n",
       "if (notebookContainer) {{\n",
       "    x.observe(notebookContainer, {childList: true});\n",
       "}}\n",
       "\n",
       "// Listen for the clearing of the current output cell\n",
       "var outputEl = gd.closest('.output');\n",
       "if (outputEl) {{\n",
       "    x.observe(outputEl, {childList: true});\n",
       "}}\n",
       "\n",
       "                        })                };                });            </script>        </div>"
      ]
     },
     "metadata": {},
     "output_type": "display_data"
    }
   ],
   "source": [
    "# Comparison:\n",
    "# Group 5: go to bars more than once a month, had passengers that were not a kid, and were not widowed OR\n",
    "# Group 6: go to bars more than once a month and are under the age of 30 OR\n",
    "# Group 7: go to cheap restaurants more than 4 times a month and income is less than 50K\n",
    "\n",
    "# Create DataFrame \n",
    "data = pd.DataFrame({\n",
    "    'Category': ['Group 5', 'Group 6', 'Group 7'],  \n",
    "    'Acceptance Rate (%)': [RoundedSet5, RoundedSet6, RoundedSet7],\n",
    "    'Legend Description': [\n",
    "        'Bar Visits > 1 per Month & <br> Passengers - NOT Kid & Not Widowed',\n",
    "        'Bar Visits > 1 per Month & <br> Age under 30',\n",
    "        'Cheap Restaurant Visits < 4 times per month & <br> Income less than 50K'\n",
    "    ] \n",
    "})\n",
    "\n",
    "# Create bar plot using Plotly\n",
    "fig = px.bar(data, x='Category', y='Acceptance Rate (%)', \n",
    "             title='Comparison of Driver Acceptance Rates',\n",
    "             text='Acceptance Rate (%)', \n",
    "             color='Legend Description',  # Use long text in legend\n",
    "             color_discrete_sequence=px.colors.qualitative.Pastel1)\n",
    "\n",
    "\n",
    "fig.update_traces(textposition='outside')\n",
    "\n",
    "fig.update_layout(\n",
    "    xaxis_tickangle=0,  \n",
    "    margin=dict(b=80),  \n",
    "    width=900,  \n",
    "    height=600 \n",
    ")\n",
    "\n",
    "# Show figure\n",
    "fig.show()\n"
   ]
  },
  {
   "cell_type": "code",
   "execution_count": null,
   "metadata": {},
   "outputs": [],
   "source": []
  },
  {
   "cell_type": "markdown",
   "metadata": {
    "id": "v3fL3QkO_qRK"
   },
   "source": [
    "7.  Based on these observations, what do you hypothesize about drivers who accepted the bar coupons?"
   ]
  },
  {
   "cell_type": "code",
   "execution_count": 633,
   "metadata": {},
   "outputs": [
    {
     "data": {
      "application/vnd.plotly.v1+json": {
       "config": {
        "plotlyServerURL": "https://plot.ly"
       },
       "data": [
        {
         "alignmentgroup": "True",
         "hovertemplate": "Legend Description=Bar Visits > 1 per Month and Age <br> greater than 25<br><br>Category=%{x}<br>Acceptance Rate (%)=%{text}<extra></extra>",
         "legendgroup": "Bar Visits > 1 per Month and Age <br> greater than 25<br>",
         "marker": {
          "color": "rgb(102,194,165)",
          "pattern": {
           "shape": ""
          }
         },
         "name": "Bar Visits > 1 per Month and Age <br> greater than 25<br>",
         "offsetgroup": "Bar Visits > 1 per Month and Age <br> greater than 25<br>",
         "orientation": "v",
         "showlegend": true,
         "text": [
          23.94
         ],
         "textposition": "outside",
         "type": "bar",
         "x": [
          "Group 1"
         ],
         "xaxis": "x",
         "y": [
          23.94
         ],
         "yaxis": "y"
        },
        {
         "alignmentgroup": "True",
         "hovertemplate": "Legend Description=Bar Visits < 1 per month and Age under 25<br><br>Category=%{x}<br>Acceptance Rate (%)=%{text}<extra></extra>",
         "legendgroup": "Bar Visits < 1 per month and Age under 25<br>",
         "marker": {
          "color": "rgb(252,141,98)",
          "pattern": {
           "shape": ""
          }
         },
         "name": "Bar Visits < 1 per month and Age under 25<br>",
         "offsetgroup": "Bar Visits < 1 per month and Age under 25<br>",
         "orientation": "v",
         "showlegend": true,
         "text": [
          17.07
         ],
         "textposition": "outside",
         "type": "bar",
         "x": [
          "Group 2"
         ],
         "xaxis": "x",
         "y": [
          17.07
         ],
         "yaxis": "y"
        },
        {
         "alignmentgroup": "True",
         "hovertemplate": "Legend Description=Bar Visits > 1 per Month & Passengers<br> NOT Kid(s) & Driver occupation <br> other than <br> farming, fishing or<br> forestry<br><br>Category=%{x}<br>Acceptance Rate (%)=%{text}<extra></extra>",
         "legendgroup": "Bar Visits > 1 per Month & Passengers<br> NOT Kid(s) & Driver occupation <br> other than <br> farming, fishing or<br> forestry<br>",
         "marker": {
          "color": "rgb(141,160,203)",
          "pattern": {
           "shape": ""
          }
         },
         "name": "Bar Visits > 1 per Month & Passengers<br> NOT Kid(s) & Driver occupation <br> other than <br> farming, fishing or<br> forestry<br>",
         "offsetgroup": "Bar Visits > 1 per Month & Passengers<br> NOT Kid(s) & Driver occupation <br> other than <br> farming, fishing or<br> forestry<br>",
         "orientation": "v",
         "showlegend": true,
         "text": [
          31.94
         ],
         "textposition": "outside",
         "type": "bar",
         "x": [
          "Group 3"
         ],
         "xaxis": "x",
         "y": [
          31.94
         ],
         "yaxis": "y"
        },
        {
         "alignmentgroup": "True",
         "hovertemplate": "Legend Description=Bar Visits < 1 per Month & <br> Passengers ARE Kid(s) <br> & Driver occupation is farming, fishing <br><br>Category=%{x}<br>Acceptance Rate (%)=%{text}<extra></extra>",
         "legendgroup": "Bar Visits < 1 per Month & <br> Passengers ARE Kid(s) <br> & Driver occupation is farming, fishing <br>",
         "marker": {
          "color": "rgb(231,138,195)",
          "pattern": {
           "shape": ""
          }
         },
         "name": "Bar Visits < 1 per Month & <br> Passengers ARE Kid(s) <br> & Driver occupation is farming, fishing <br>",
         "offsetgroup": "Bar Visits < 1 per Month & <br> Passengers ARE Kid(s) <br> & Driver occupation is farming, fishing <br>",
         "orientation": "v",
         "showlegend": true,
         "text": [
          0.07
         ],
         "textposition": "outside",
         "type": "bar",
         "x": [
          "Group 4"
         ],
         "xaxis": "x",
         "y": [
          0.07
         ],
         "yaxis": "y"
        },
        {
         "alignmentgroup": "True",
         "hovertemplate": "Legend Description=Bar Visits > 1 per Month & <br> Passengers - NOT Kid & Drivers<br> Not Widowed<br><br>Category=%{x}<br>Acceptance Rate (%)=%{text}<extra></extra>",
         "legendgroup": "Bar Visits > 1 per Month & <br> Passengers - NOT Kid & Drivers<br> Not Widowed<br>",
         "marker": {
          "color": "rgb(166,216,84)",
          "pattern": {
           "shape": ""
          }
         },
         "name": "Bar Visits > 1 per Month & <br> Passengers - NOT Kid & Drivers<br> Not Widowed<br>",
         "offsetgroup": "Bar Visits > 1 per Month & <br> Passengers - NOT Kid & Drivers<br> Not Widowed<br>",
         "orientation": "v",
         "showlegend": true,
         "text": [
          31.94
         ],
         "textposition": "outside",
         "type": "bar",
         "x": [
          "Group 5"
         ],
         "xaxis": "x",
         "y": [
          31.94
         ],
         "yaxis": "y"
        },
        {
         "alignmentgroup": "True",
         "hovertemplate": "Legend Description=Bar Visits > 1 per Month & <br> Age under 30 <br><br>Category=%{x}<br>Acceptance Rate (%)=%{text}<extra></extra>",
         "legendgroup": "Bar Visits > 1 per Month & <br> Age under 30 <br>",
         "marker": {
          "color": "rgb(255,217,47)",
          "pattern": {
           "shape": ""
          }
         },
         "name": "Bar Visits > 1 per Month & <br> Age under 30 <br>",
         "offsetgroup": "Bar Visits > 1 per Month & <br> Age under 30 <br>",
         "orientation": "v",
         "showlegend": true,
         "text": [
          19.79
         ],
         "textposition": "outside",
         "type": "bar",
         "x": [
          "Group 6"
         ],
         "xaxis": "x",
         "y": [
          19.79
         ],
         "yaxis": "y"
        },
        {
         "alignmentgroup": "True",
         "hovertemplate": "Legend Description=Cheap Restaurant Visit < 4 times per month & <br> and Income < 50K<br>Category=%{x}<br>Acceptance Rate (%)=%{text}<extra></extra>",
         "legendgroup": "Cheap Restaurant Visit < 4 times per month & <br> and Income < 50K",
         "marker": {
          "color": "rgb(229,196,148)",
          "pattern": {
           "shape": ""
          }
         },
         "name": "Cheap Restaurant Visit < 4 times per month & <br> and Income < 50K",
         "offsetgroup": "Cheap Restaurant Visit < 4 times per month & <br> and Income < 50K",
         "orientation": "v",
         "showlegend": true,
         "text": [
          14.99
         ],
         "textposition": "outside",
         "type": "bar",
         "x": [
          "Group 7"
         ],
         "xaxis": "x",
         "y": [
          14.99
         ],
         "yaxis": "y"
        }
       ],
       "layout": {
        "barmode": "relative",
        "height": 700,
        "legend": {
         "title": {
          "text": "Legend Description"
         },
         "tracegroupgap": 0
        },
        "margin": {
         "b": 80
        },
        "template": {
         "data": {
          "bar": [
           {
            "error_x": {
             "color": "#2a3f5f"
            },
            "error_y": {
             "color": "#2a3f5f"
            },
            "marker": {
             "line": {
              "color": "#E5ECF6",
              "width": 0.5
             },
             "pattern": {
              "fillmode": "overlay",
              "size": 10,
              "solidity": 0.2
             }
            },
            "type": "bar"
           }
          ],
          "barpolar": [
           {
            "marker": {
             "line": {
              "color": "#E5ECF6",
              "width": 0.5
             },
             "pattern": {
              "fillmode": "overlay",
              "size": 10,
              "solidity": 0.2
             }
            },
            "type": "barpolar"
           }
          ],
          "carpet": [
           {
            "aaxis": {
             "endlinecolor": "#2a3f5f",
             "gridcolor": "white",
             "linecolor": "white",
             "minorgridcolor": "white",
             "startlinecolor": "#2a3f5f"
            },
            "baxis": {
             "endlinecolor": "#2a3f5f",
             "gridcolor": "white",
             "linecolor": "white",
             "minorgridcolor": "white",
             "startlinecolor": "#2a3f5f"
            },
            "type": "carpet"
           }
          ],
          "choropleth": [
           {
            "colorbar": {
             "outlinewidth": 0,
             "ticks": ""
            },
            "type": "choropleth"
           }
          ],
          "contour": [
           {
            "colorbar": {
             "outlinewidth": 0,
             "ticks": ""
            },
            "colorscale": [
             [
              0,
              "#0d0887"
             ],
             [
              0.1111111111111111,
              "#46039f"
             ],
             [
              0.2222222222222222,
              "#7201a8"
             ],
             [
              0.3333333333333333,
              "#9c179e"
             ],
             [
              0.4444444444444444,
              "#bd3786"
             ],
             [
              0.5555555555555556,
              "#d8576b"
             ],
             [
              0.6666666666666666,
              "#ed7953"
             ],
             [
              0.7777777777777778,
              "#fb9f3a"
             ],
             [
              0.8888888888888888,
              "#fdca26"
             ],
             [
              1,
              "#f0f921"
             ]
            ],
            "type": "contour"
           }
          ],
          "contourcarpet": [
           {
            "colorbar": {
             "outlinewidth": 0,
             "ticks": ""
            },
            "type": "contourcarpet"
           }
          ],
          "heatmap": [
           {
            "colorbar": {
             "outlinewidth": 0,
             "ticks": ""
            },
            "colorscale": [
             [
              0,
              "#0d0887"
             ],
             [
              0.1111111111111111,
              "#46039f"
             ],
             [
              0.2222222222222222,
              "#7201a8"
             ],
             [
              0.3333333333333333,
              "#9c179e"
             ],
             [
              0.4444444444444444,
              "#bd3786"
             ],
             [
              0.5555555555555556,
              "#d8576b"
             ],
             [
              0.6666666666666666,
              "#ed7953"
             ],
             [
              0.7777777777777778,
              "#fb9f3a"
             ],
             [
              0.8888888888888888,
              "#fdca26"
             ],
             [
              1,
              "#f0f921"
             ]
            ],
            "type": "heatmap"
           }
          ],
          "heatmapgl": [
           {
            "colorbar": {
             "outlinewidth": 0,
             "ticks": ""
            },
            "colorscale": [
             [
              0,
              "#0d0887"
             ],
             [
              0.1111111111111111,
              "#46039f"
             ],
             [
              0.2222222222222222,
              "#7201a8"
             ],
             [
              0.3333333333333333,
              "#9c179e"
             ],
             [
              0.4444444444444444,
              "#bd3786"
             ],
             [
              0.5555555555555556,
              "#d8576b"
             ],
             [
              0.6666666666666666,
              "#ed7953"
             ],
             [
              0.7777777777777778,
              "#fb9f3a"
             ],
             [
              0.8888888888888888,
              "#fdca26"
             ],
             [
              1,
              "#f0f921"
             ]
            ],
            "type": "heatmapgl"
           }
          ],
          "histogram": [
           {
            "marker": {
             "pattern": {
              "fillmode": "overlay",
              "size": 10,
              "solidity": 0.2
             }
            },
            "type": "histogram"
           }
          ],
          "histogram2d": [
           {
            "colorbar": {
             "outlinewidth": 0,
             "ticks": ""
            },
            "colorscale": [
             [
              0,
              "#0d0887"
             ],
             [
              0.1111111111111111,
              "#46039f"
             ],
             [
              0.2222222222222222,
              "#7201a8"
             ],
             [
              0.3333333333333333,
              "#9c179e"
             ],
             [
              0.4444444444444444,
              "#bd3786"
             ],
             [
              0.5555555555555556,
              "#d8576b"
             ],
             [
              0.6666666666666666,
              "#ed7953"
             ],
             [
              0.7777777777777778,
              "#fb9f3a"
             ],
             [
              0.8888888888888888,
              "#fdca26"
             ],
             [
              1,
              "#f0f921"
             ]
            ],
            "type": "histogram2d"
           }
          ],
          "histogram2dcontour": [
           {
            "colorbar": {
             "outlinewidth": 0,
             "ticks": ""
            },
            "colorscale": [
             [
              0,
              "#0d0887"
             ],
             [
              0.1111111111111111,
              "#46039f"
             ],
             [
              0.2222222222222222,
              "#7201a8"
             ],
             [
              0.3333333333333333,
              "#9c179e"
             ],
             [
              0.4444444444444444,
              "#bd3786"
             ],
             [
              0.5555555555555556,
              "#d8576b"
             ],
             [
              0.6666666666666666,
              "#ed7953"
             ],
             [
              0.7777777777777778,
              "#fb9f3a"
             ],
             [
              0.8888888888888888,
              "#fdca26"
             ],
             [
              1,
              "#f0f921"
             ]
            ],
            "type": "histogram2dcontour"
           }
          ],
          "mesh3d": [
           {
            "colorbar": {
             "outlinewidth": 0,
             "ticks": ""
            },
            "type": "mesh3d"
           }
          ],
          "parcoords": [
           {
            "line": {
             "colorbar": {
              "outlinewidth": 0,
              "ticks": ""
             }
            },
            "type": "parcoords"
           }
          ],
          "pie": [
           {
            "automargin": true,
            "type": "pie"
           }
          ],
          "scatter": [
           {
            "fillpattern": {
             "fillmode": "overlay",
             "size": 10,
             "solidity": 0.2
            },
            "type": "scatter"
           }
          ],
          "scatter3d": [
           {
            "line": {
             "colorbar": {
              "outlinewidth": 0,
              "ticks": ""
             }
            },
            "marker": {
             "colorbar": {
              "outlinewidth": 0,
              "ticks": ""
             }
            },
            "type": "scatter3d"
           }
          ],
          "scattercarpet": [
           {
            "marker": {
             "colorbar": {
              "outlinewidth": 0,
              "ticks": ""
             }
            },
            "type": "scattercarpet"
           }
          ],
          "scattergeo": [
           {
            "marker": {
             "colorbar": {
              "outlinewidth": 0,
              "ticks": ""
             }
            },
            "type": "scattergeo"
           }
          ],
          "scattergl": [
           {
            "marker": {
             "colorbar": {
              "outlinewidth": 0,
              "ticks": ""
             }
            },
            "type": "scattergl"
           }
          ],
          "scattermapbox": [
           {
            "marker": {
             "colorbar": {
              "outlinewidth": 0,
              "ticks": ""
             }
            },
            "type": "scattermapbox"
           }
          ],
          "scatterpolar": [
           {
            "marker": {
             "colorbar": {
              "outlinewidth": 0,
              "ticks": ""
             }
            },
            "type": "scatterpolar"
           }
          ],
          "scatterpolargl": [
           {
            "marker": {
             "colorbar": {
              "outlinewidth": 0,
              "ticks": ""
             }
            },
            "type": "scatterpolargl"
           }
          ],
          "scatterternary": [
           {
            "marker": {
             "colorbar": {
              "outlinewidth": 0,
              "ticks": ""
             }
            },
            "type": "scatterternary"
           }
          ],
          "surface": [
           {
            "colorbar": {
             "outlinewidth": 0,
             "ticks": ""
            },
            "colorscale": [
             [
              0,
              "#0d0887"
             ],
             [
              0.1111111111111111,
              "#46039f"
             ],
             [
              0.2222222222222222,
              "#7201a8"
             ],
             [
              0.3333333333333333,
              "#9c179e"
             ],
             [
              0.4444444444444444,
              "#bd3786"
             ],
             [
              0.5555555555555556,
              "#d8576b"
             ],
             [
              0.6666666666666666,
              "#ed7953"
             ],
             [
              0.7777777777777778,
              "#fb9f3a"
             ],
             [
              0.8888888888888888,
              "#fdca26"
             ],
             [
              1,
              "#f0f921"
             ]
            ],
            "type": "surface"
           }
          ],
          "table": [
           {
            "cells": {
             "fill": {
              "color": "#EBF0F8"
             },
             "line": {
              "color": "white"
             }
            },
            "header": {
             "fill": {
              "color": "#C8D4E3"
             },
             "line": {
              "color": "white"
             }
            },
            "type": "table"
           }
          ]
         },
         "layout": {
          "annotationdefaults": {
           "arrowcolor": "#2a3f5f",
           "arrowhead": 0,
           "arrowwidth": 1
          },
          "autotypenumbers": "strict",
          "coloraxis": {
           "colorbar": {
            "outlinewidth": 0,
            "ticks": ""
           }
          },
          "colorscale": {
           "diverging": [
            [
             0,
             "#8e0152"
            ],
            [
             0.1,
             "#c51b7d"
            ],
            [
             0.2,
             "#de77ae"
            ],
            [
             0.3,
             "#f1b6da"
            ],
            [
             0.4,
             "#fde0ef"
            ],
            [
             0.5,
             "#f7f7f7"
            ],
            [
             0.6,
             "#e6f5d0"
            ],
            [
             0.7,
             "#b8e186"
            ],
            [
             0.8,
             "#7fbc41"
            ],
            [
             0.9,
             "#4d9221"
            ],
            [
             1,
             "#276419"
            ]
           ],
           "sequential": [
            [
             0,
             "#0d0887"
            ],
            [
             0.1111111111111111,
             "#46039f"
            ],
            [
             0.2222222222222222,
             "#7201a8"
            ],
            [
             0.3333333333333333,
             "#9c179e"
            ],
            [
             0.4444444444444444,
             "#bd3786"
            ],
            [
             0.5555555555555556,
             "#d8576b"
            ],
            [
             0.6666666666666666,
             "#ed7953"
            ],
            [
             0.7777777777777778,
             "#fb9f3a"
            ],
            [
             0.8888888888888888,
             "#fdca26"
            ],
            [
             1,
             "#f0f921"
            ]
           ],
           "sequentialminus": [
            [
             0,
             "#0d0887"
            ],
            [
             0.1111111111111111,
             "#46039f"
            ],
            [
             0.2222222222222222,
             "#7201a8"
            ],
            [
             0.3333333333333333,
             "#9c179e"
            ],
            [
             0.4444444444444444,
             "#bd3786"
            ],
            [
             0.5555555555555556,
             "#d8576b"
            ],
            [
             0.6666666666666666,
             "#ed7953"
            ],
            [
             0.7777777777777778,
             "#fb9f3a"
            ],
            [
             0.8888888888888888,
             "#fdca26"
            ],
            [
             1,
             "#f0f921"
            ]
           ]
          },
          "colorway": [
           "#636efa",
           "#EF553B",
           "#00cc96",
           "#ab63fa",
           "#FFA15A",
           "#19d3f3",
           "#FF6692",
           "#B6E880",
           "#FF97FF",
           "#FECB52"
          ],
          "font": {
           "color": "#2a3f5f"
          },
          "geo": {
           "bgcolor": "white",
           "lakecolor": "white",
           "landcolor": "#E5ECF6",
           "showlakes": true,
           "showland": true,
           "subunitcolor": "white"
          },
          "hoverlabel": {
           "align": "left"
          },
          "hovermode": "closest",
          "mapbox": {
           "style": "light"
          },
          "paper_bgcolor": "white",
          "plot_bgcolor": "#E5ECF6",
          "polar": {
           "angularaxis": {
            "gridcolor": "white",
            "linecolor": "white",
            "ticks": ""
           },
           "bgcolor": "#E5ECF6",
           "radialaxis": {
            "gridcolor": "white",
            "linecolor": "white",
            "ticks": ""
           }
          },
          "scene": {
           "xaxis": {
            "backgroundcolor": "#E5ECF6",
            "gridcolor": "white",
            "gridwidth": 2,
            "linecolor": "white",
            "showbackground": true,
            "ticks": "",
            "zerolinecolor": "white"
           },
           "yaxis": {
            "backgroundcolor": "#E5ECF6",
            "gridcolor": "white",
            "gridwidth": 2,
            "linecolor": "white",
            "showbackground": true,
            "ticks": "",
            "zerolinecolor": "white"
           },
           "zaxis": {
            "backgroundcolor": "#E5ECF6",
            "gridcolor": "white",
            "gridwidth": 2,
            "linecolor": "white",
            "showbackground": true,
            "ticks": "",
            "zerolinecolor": "white"
           }
          },
          "shapedefaults": {
           "line": {
            "color": "#2a3f5f"
           }
          },
          "ternary": {
           "aaxis": {
            "gridcolor": "white",
            "linecolor": "white",
            "ticks": ""
           },
           "baxis": {
            "gridcolor": "white",
            "linecolor": "white",
            "ticks": ""
           },
           "bgcolor": "#E5ECF6",
           "caxis": {
            "gridcolor": "white",
            "linecolor": "white",
            "ticks": ""
           }
          },
          "title": {
           "x": 0.05
          },
          "xaxis": {
           "automargin": true,
           "gridcolor": "white",
           "linecolor": "white",
           "ticks": "",
           "title": {
            "standoff": 15
           },
           "zerolinecolor": "white",
           "zerolinewidth": 2
          },
          "yaxis": {
           "automargin": true,
           "gridcolor": "white",
           "linecolor": "white",
           "ticks": "",
           "title": {
            "standoff": 15
           },
           "zerolinecolor": "white",
           "zerolinewidth": 2
          }
         }
        },
        "title": {
         "text": "Comparison of Driver Acceptance Rates"
        },
        "width": 900,
        "xaxis": {
         "anchor": "y",
         "domain": [
          0,
          1
         ],
         "tickangle": 0,
         "title": {
          "text": "Category"
         }
        },
        "yaxis": {
         "anchor": "x",
         "domain": [
          0,
          1
         ],
         "title": {
          "text": "Acceptance Rate (%)"
         }
        }
       }
      },
      "text/html": [
       "<div>                            <div id=\"92e16459-f915-4115-9c15-addc4b4fa904\" class=\"plotly-graph-div\" style=\"height:700px; width:900px;\"></div>            <script type=\"text/javascript\">                require([\"plotly\"], function(Plotly) {                    window.PLOTLYENV=window.PLOTLYENV || {};                                    if (document.getElementById(\"92e16459-f915-4115-9c15-addc4b4fa904\")) {                    Plotly.newPlot(                        \"92e16459-f915-4115-9c15-addc4b4fa904\",                        [{\"alignmentgroup\":\"True\",\"hovertemplate\":\"Legend Description=Bar Visits \\u003e 1 per Month and Age \\u003cbr\\u003e greater than 25\\u003cbr\\u003e\\u003cbr\\u003eCategory=%{x}\\u003cbr\\u003eAcceptance Rate (%)=%{text}\\u003cextra\\u003e\\u003c\\u002fextra\\u003e\",\"legendgroup\":\"Bar Visits \\u003e 1 per Month and Age \\u003cbr\\u003e greater than 25\\u003cbr\\u003e\",\"marker\":{\"color\":\"rgb(102,194,165)\",\"pattern\":{\"shape\":\"\"}},\"name\":\"Bar Visits \\u003e 1 per Month and Age \\u003cbr\\u003e greater than 25\\u003cbr\\u003e\",\"offsetgroup\":\"Bar Visits \\u003e 1 per Month and Age \\u003cbr\\u003e greater than 25\\u003cbr\\u003e\",\"orientation\":\"v\",\"showlegend\":true,\"text\":[23.94],\"textposition\":\"outside\",\"x\":[\"Group 1\"],\"xaxis\":\"x\",\"y\":[23.94],\"yaxis\":\"y\",\"type\":\"bar\"},{\"alignmentgroup\":\"True\",\"hovertemplate\":\"Legend Description=Bar Visits \\u003c 1 per month and Age under 25\\u003cbr\\u003e\\u003cbr\\u003eCategory=%{x}\\u003cbr\\u003eAcceptance Rate (%)=%{text}\\u003cextra\\u003e\\u003c\\u002fextra\\u003e\",\"legendgroup\":\"Bar Visits \\u003c 1 per month and Age under 25\\u003cbr\\u003e\",\"marker\":{\"color\":\"rgb(252,141,98)\",\"pattern\":{\"shape\":\"\"}},\"name\":\"Bar Visits \\u003c 1 per month and Age under 25\\u003cbr\\u003e\",\"offsetgroup\":\"Bar Visits \\u003c 1 per month and Age under 25\\u003cbr\\u003e\",\"orientation\":\"v\",\"showlegend\":true,\"text\":[17.07],\"textposition\":\"outside\",\"x\":[\"Group 2\"],\"xaxis\":\"x\",\"y\":[17.07],\"yaxis\":\"y\",\"type\":\"bar\"},{\"alignmentgroup\":\"True\",\"hovertemplate\":\"Legend Description=Bar Visits \\u003e 1 per Month & Passengers\\u003cbr\\u003e NOT Kid(s) & Driver occupation \\u003cbr\\u003e other than \\u003cbr\\u003e farming, fishing or\\u003cbr\\u003e forestry\\u003cbr\\u003e\\u003cbr\\u003eCategory=%{x}\\u003cbr\\u003eAcceptance Rate (%)=%{text}\\u003cextra\\u003e\\u003c\\u002fextra\\u003e\",\"legendgroup\":\"Bar Visits \\u003e 1 per Month & Passengers\\u003cbr\\u003e NOT Kid(s) & Driver occupation \\u003cbr\\u003e other than \\u003cbr\\u003e farming, fishing or\\u003cbr\\u003e forestry\\u003cbr\\u003e\",\"marker\":{\"color\":\"rgb(141,160,203)\",\"pattern\":{\"shape\":\"\"}},\"name\":\"Bar Visits \\u003e 1 per Month & Passengers\\u003cbr\\u003e NOT Kid(s) & Driver occupation \\u003cbr\\u003e other than \\u003cbr\\u003e farming, fishing or\\u003cbr\\u003e forestry\\u003cbr\\u003e\",\"offsetgroup\":\"Bar Visits \\u003e 1 per Month & Passengers\\u003cbr\\u003e NOT Kid(s) & Driver occupation \\u003cbr\\u003e other than \\u003cbr\\u003e farming, fishing or\\u003cbr\\u003e forestry\\u003cbr\\u003e\",\"orientation\":\"v\",\"showlegend\":true,\"text\":[31.94],\"textposition\":\"outside\",\"x\":[\"Group 3\"],\"xaxis\":\"x\",\"y\":[31.94],\"yaxis\":\"y\",\"type\":\"bar\"},{\"alignmentgroup\":\"True\",\"hovertemplate\":\"Legend Description=Bar Visits \\u003c 1 per Month & \\u003cbr\\u003e Passengers ARE Kid(s) \\u003cbr\\u003e & Driver occupation is farming, fishing \\u003cbr\\u003e\\u003cbr\\u003eCategory=%{x}\\u003cbr\\u003eAcceptance Rate (%)=%{text}\\u003cextra\\u003e\\u003c\\u002fextra\\u003e\",\"legendgroup\":\"Bar Visits \\u003c 1 per Month & \\u003cbr\\u003e Passengers ARE Kid(s) \\u003cbr\\u003e & Driver occupation is farming, fishing \\u003cbr\\u003e\",\"marker\":{\"color\":\"rgb(231,138,195)\",\"pattern\":{\"shape\":\"\"}},\"name\":\"Bar Visits \\u003c 1 per Month & \\u003cbr\\u003e Passengers ARE Kid(s) \\u003cbr\\u003e & Driver occupation is farming, fishing \\u003cbr\\u003e\",\"offsetgroup\":\"Bar Visits \\u003c 1 per Month & \\u003cbr\\u003e Passengers ARE Kid(s) \\u003cbr\\u003e & Driver occupation is farming, fishing \\u003cbr\\u003e\",\"orientation\":\"v\",\"showlegend\":true,\"text\":[0.07],\"textposition\":\"outside\",\"x\":[\"Group 4\"],\"xaxis\":\"x\",\"y\":[0.07],\"yaxis\":\"y\",\"type\":\"bar\"},{\"alignmentgroup\":\"True\",\"hovertemplate\":\"Legend Description=Bar Visits \\u003e 1 per Month & \\u003cbr\\u003e Passengers - NOT Kid & Drivers\\u003cbr\\u003e Not Widowed\\u003cbr\\u003e\\u003cbr\\u003eCategory=%{x}\\u003cbr\\u003eAcceptance Rate (%)=%{text}\\u003cextra\\u003e\\u003c\\u002fextra\\u003e\",\"legendgroup\":\"Bar Visits \\u003e 1 per Month & \\u003cbr\\u003e Passengers - NOT Kid & Drivers\\u003cbr\\u003e Not Widowed\\u003cbr\\u003e\",\"marker\":{\"color\":\"rgb(166,216,84)\",\"pattern\":{\"shape\":\"\"}},\"name\":\"Bar Visits \\u003e 1 per Month & \\u003cbr\\u003e Passengers - NOT Kid & Drivers\\u003cbr\\u003e Not Widowed\\u003cbr\\u003e\",\"offsetgroup\":\"Bar Visits \\u003e 1 per Month & \\u003cbr\\u003e Passengers - NOT Kid & Drivers\\u003cbr\\u003e Not Widowed\\u003cbr\\u003e\",\"orientation\":\"v\",\"showlegend\":true,\"text\":[31.94],\"textposition\":\"outside\",\"x\":[\"Group 5\"],\"xaxis\":\"x\",\"y\":[31.94],\"yaxis\":\"y\",\"type\":\"bar\"},{\"alignmentgroup\":\"True\",\"hovertemplate\":\"Legend Description=Bar Visits \\u003e 1 per Month & \\u003cbr\\u003e Age under 30 \\u003cbr\\u003e\\u003cbr\\u003eCategory=%{x}\\u003cbr\\u003eAcceptance Rate (%)=%{text}\\u003cextra\\u003e\\u003c\\u002fextra\\u003e\",\"legendgroup\":\"Bar Visits \\u003e 1 per Month & \\u003cbr\\u003e Age under 30 \\u003cbr\\u003e\",\"marker\":{\"color\":\"rgb(255,217,47)\",\"pattern\":{\"shape\":\"\"}},\"name\":\"Bar Visits \\u003e 1 per Month & \\u003cbr\\u003e Age under 30 \\u003cbr\\u003e\",\"offsetgroup\":\"Bar Visits \\u003e 1 per Month & \\u003cbr\\u003e Age under 30 \\u003cbr\\u003e\",\"orientation\":\"v\",\"showlegend\":true,\"text\":[19.79],\"textposition\":\"outside\",\"x\":[\"Group 6\"],\"xaxis\":\"x\",\"y\":[19.79],\"yaxis\":\"y\",\"type\":\"bar\"},{\"alignmentgroup\":\"True\",\"hovertemplate\":\"Legend Description=Cheap Restaurant Visit \\u003c 4 times per month & \\u003cbr\\u003e and Income \\u003c 50K\\u003cbr\\u003eCategory=%{x}\\u003cbr\\u003eAcceptance Rate (%)=%{text}\\u003cextra\\u003e\\u003c\\u002fextra\\u003e\",\"legendgroup\":\"Cheap Restaurant Visit \\u003c 4 times per month & \\u003cbr\\u003e and Income \\u003c 50K\",\"marker\":{\"color\":\"rgb(229,196,148)\",\"pattern\":{\"shape\":\"\"}},\"name\":\"Cheap Restaurant Visit \\u003c 4 times per month & \\u003cbr\\u003e and Income \\u003c 50K\",\"offsetgroup\":\"Cheap Restaurant Visit \\u003c 4 times per month & \\u003cbr\\u003e and Income \\u003c 50K\",\"orientation\":\"v\",\"showlegend\":true,\"text\":[14.99],\"textposition\":\"outside\",\"x\":[\"Group 7\"],\"xaxis\":\"x\",\"y\":[14.99],\"yaxis\":\"y\",\"type\":\"bar\"}],                        {\"template\":{\"data\":{\"histogram2dcontour\":[{\"type\":\"histogram2dcontour\",\"colorbar\":{\"outlinewidth\":0,\"ticks\":\"\"},\"colorscale\":[[0.0,\"#0d0887\"],[0.1111111111111111,\"#46039f\"],[0.2222222222222222,\"#7201a8\"],[0.3333333333333333,\"#9c179e\"],[0.4444444444444444,\"#bd3786\"],[0.5555555555555556,\"#d8576b\"],[0.6666666666666666,\"#ed7953\"],[0.7777777777777778,\"#fb9f3a\"],[0.8888888888888888,\"#fdca26\"],[1.0,\"#f0f921\"]]}],\"choropleth\":[{\"type\":\"choropleth\",\"colorbar\":{\"outlinewidth\":0,\"ticks\":\"\"}}],\"histogram2d\":[{\"type\":\"histogram2d\",\"colorbar\":{\"outlinewidth\":0,\"ticks\":\"\"},\"colorscale\":[[0.0,\"#0d0887\"],[0.1111111111111111,\"#46039f\"],[0.2222222222222222,\"#7201a8\"],[0.3333333333333333,\"#9c179e\"],[0.4444444444444444,\"#bd3786\"],[0.5555555555555556,\"#d8576b\"],[0.6666666666666666,\"#ed7953\"],[0.7777777777777778,\"#fb9f3a\"],[0.8888888888888888,\"#fdca26\"],[1.0,\"#f0f921\"]]}],\"heatmap\":[{\"type\":\"heatmap\",\"colorbar\":{\"outlinewidth\":0,\"ticks\":\"\"},\"colorscale\":[[0.0,\"#0d0887\"],[0.1111111111111111,\"#46039f\"],[0.2222222222222222,\"#7201a8\"],[0.3333333333333333,\"#9c179e\"],[0.4444444444444444,\"#bd3786\"],[0.5555555555555556,\"#d8576b\"],[0.6666666666666666,\"#ed7953\"],[0.7777777777777778,\"#fb9f3a\"],[0.8888888888888888,\"#fdca26\"],[1.0,\"#f0f921\"]]}],\"heatmapgl\":[{\"type\":\"heatmapgl\",\"colorbar\":{\"outlinewidth\":0,\"ticks\":\"\"},\"colorscale\":[[0.0,\"#0d0887\"],[0.1111111111111111,\"#46039f\"],[0.2222222222222222,\"#7201a8\"],[0.3333333333333333,\"#9c179e\"],[0.4444444444444444,\"#bd3786\"],[0.5555555555555556,\"#d8576b\"],[0.6666666666666666,\"#ed7953\"],[0.7777777777777778,\"#fb9f3a\"],[0.8888888888888888,\"#fdca26\"],[1.0,\"#f0f921\"]]}],\"contourcarpet\":[{\"type\":\"contourcarpet\",\"colorbar\":{\"outlinewidth\":0,\"ticks\":\"\"}}],\"contour\":[{\"type\":\"contour\",\"colorbar\":{\"outlinewidth\":0,\"ticks\":\"\"},\"colorscale\":[[0.0,\"#0d0887\"],[0.1111111111111111,\"#46039f\"],[0.2222222222222222,\"#7201a8\"],[0.3333333333333333,\"#9c179e\"],[0.4444444444444444,\"#bd3786\"],[0.5555555555555556,\"#d8576b\"],[0.6666666666666666,\"#ed7953\"],[0.7777777777777778,\"#fb9f3a\"],[0.8888888888888888,\"#fdca26\"],[1.0,\"#f0f921\"]]}],\"surface\":[{\"type\":\"surface\",\"colorbar\":{\"outlinewidth\":0,\"ticks\":\"\"},\"colorscale\":[[0.0,\"#0d0887\"],[0.1111111111111111,\"#46039f\"],[0.2222222222222222,\"#7201a8\"],[0.3333333333333333,\"#9c179e\"],[0.4444444444444444,\"#bd3786\"],[0.5555555555555556,\"#d8576b\"],[0.6666666666666666,\"#ed7953\"],[0.7777777777777778,\"#fb9f3a\"],[0.8888888888888888,\"#fdca26\"],[1.0,\"#f0f921\"]]}],\"mesh3d\":[{\"type\":\"mesh3d\",\"colorbar\":{\"outlinewidth\":0,\"ticks\":\"\"}}],\"scatter\":[{\"fillpattern\":{\"fillmode\":\"overlay\",\"size\":10,\"solidity\":0.2},\"type\":\"scatter\"}],\"parcoords\":[{\"type\":\"parcoords\",\"line\":{\"colorbar\":{\"outlinewidth\":0,\"ticks\":\"\"}}}],\"scatterpolargl\":[{\"type\":\"scatterpolargl\",\"marker\":{\"colorbar\":{\"outlinewidth\":0,\"ticks\":\"\"}}}],\"bar\":[{\"error_x\":{\"color\":\"#2a3f5f\"},\"error_y\":{\"color\":\"#2a3f5f\"},\"marker\":{\"line\":{\"color\":\"#E5ECF6\",\"width\":0.5},\"pattern\":{\"fillmode\":\"overlay\",\"size\":10,\"solidity\":0.2}},\"type\":\"bar\"}],\"scattergeo\":[{\"type\":\"scattergeo\",\"marker\":{\"colorbar\":{\"outlinewidth\":0,\"ticks\":\"\"}}}],\"scatterpolar\":[{\"type\":\"scatterpolar\",\"marker\":{\"colorbar\":{\"outlinewidth\":0,\"ticks\":\"\"}}}],\"histogram\":[{\"marker\":{\"pattern\":{\"fillmode\":\"overlay\",\"size\":10,\"solidity\":0.2}},\"type\":\"histogram\"}],\"scattergl\":[{\"type\":\"scattergl\",\"marker\":{\"colorbar\":{\"outlinewidth\":0,\"ticks\":\"\"}}}],\"scatter3d\":[{\"type\":\"scatter3d\",\"line\":{\"colorbar\":{\"outlinewidth\":0,\"ticks\":\"\"}},\"marker\":{\"colorbar\":{\"outlinewidth\":0,\"ticks\":\"\"}}}],\"scattermapbox\":[{\"type\":\"scattermapbox\",\"marker\":{\"colorbar\":{\"outlinewidth\":0,\"ticks\":\"\"}}}],\"scatterternary\":[{\"type\":\"scatterternary\",\"marker\":{\"colorbar\":{\"outlinewidth\":0,\"ticks\":\"\"}}}],\"scattercarpet\":[{\"type\":\"scattercarpet\",\"marker\":{\"colorbar\":{\"outlinewidth\":0,\"ticks\":\"\"}}}],\"carpet\":[{\"aaxis\":{\"endlinecolor\":\"#2a3f5f\",\"gridcolor\":\"white\",\"linecolor\":\"white\",\"minorgridcolor\":\"white\",\"startlinecolor\":\"#2a3f5f\"},\"baxis\":{\"endlinecolor\":\"#2a3f5f\",\"gridcolor\":\"white\",\"linecolor\":\"white\",\"minorgridcolor\":\"white\",\"startlinecolor\":\"#2a3f5f\"},\"type\":\"carpet\"}],\"table\":[{\"cells\":{\"fill\":{\"color\":\"#EBF0F8\"},\"line\":{\"color\":\"white\"}},\"header\":{\"fill\":{\"color\":\"#C8D4E3\"},\"line\":{\"color\":\"white\"}},\"type\":\"table\"}],\"barpolar\":[{\"marker\":{\"line\":{\"color\":\"#E5ECF6\",\"width\":0.5},\"pattern\":{\"fillmode\":\"overlay\",\"size\":10,\"solidity\":0.2}},\"type\":\"barpolar\"}],\"pie\":[{\"automargin\":true,\"type\":\"pie\"}]},\"layout\":{\"autotypenumbers\":\"strict\",\"colorway\":[\"#636efa\",\"#EF553B\",\"#00cc96\",\"#ab63fa\",\"#FFA15A\",\"#19d3f3\",\"#FF6692\",\"#B6E880\",\"#FF97FF\",\"#FECB52\"],\"font\":{\"color\":\"#2a3f5f\"},\"hovermode\":\"closest\",\"hoverlabel\":{\"align\":\"left\"},\"paper_bgcolor\":\"white\",\"plot_bgcolor\":\"#E5ECF6\",\"polar\":{\"bgcolor\":\"#E5ECF6\",\"angularaxis\":{\"gridcolor\":\"white\",\"linecolor\":\"white\",\"ticks\":\"\"},\"radialaxis\":{\"gridcolor\":\"white\",\"linecolor\":\"white\",\"ticks\":\"\"}},\"ternary\":{\"bgcolor\":\"#E5ECF6\",\"aaxis\":{\"gridcolor\":\"white\",\"linecolor\":\"white\",\"ticks\":\"\"},\"baxis\":{\"gridcolor\":\"white\",\"linecolor\":\"white\",\"ticks\":\"\"},\"caxis\":{\"gridcolor\":\"white\",\"linecolor\":\"white\",\"ticks\":\"\"}},\"coloraxis\":{\"colorbar\":{\"outlinewidth\":0,\"ticks\":\"\"}},\"colorscale\":{\"sequential\":[[0.0,\"#0d0887\"],[0.1111111111111111,\"#46039f\"],[0.2222222222222222,\"#7201a8\"],[0.3333333333333333,\"#9c179e\"],[0.4444444444444444,\"#bd3786\"],[0.5555555555555556,\"#d8576b\"],[0.6666666666666666,\"#ed7953\"],[0.7777777777777778,\"#fb9f3a\"],[0.8888888888888888,\"#fdca26\"],[1.0,\"#f0f921\"]],\"sequentialminus\":[[0.0,\"#0d0887\"],[0.1111111111111111,\"#46039f\"],[0.2222222222222222,\"#7201a8\"],[0.3333333333333333,\"#9c179e\"],[0.4444444444444444,\"#bd3786\"],[0.5555555555555556,\"#d8576b\"],[0.6666666666666666,\"#ed7953\"],[0.7777777777777778,\"#fb9f3a\"],[0.8888888888888888,\"#fdca26\"],[1.0,\"#f0f921\"]],\"diverging\":[[0,\"#8e0152\"],[0.1,\"#c51b7d\"],[0.2,\"#de77ae\"],[0.3,\"#f1b6da\"],[0.4,\"#fde0ef\"],[0.5,\"#f7f7f7\"],[0.6,\"#e6f5d0\"],[0.7,\"#b8e186\"],[0.8,\"#7fbc41\"],[0.9,\"#4d9221\"],[1,\"#276419\"]]},\"xaxis\":{\"gridcolor\":\"white\",\"linecolor\":\"white\",\"ticks\":\"\",\"title\":{\"standoff\":15},\"zerolinecolor\":\"white\",\"automargin\":true,\"zerolinewidth\":2},\"yaxis\":{\"gridcolor\":\"white\",\"linecolor\":\"white\",\"ticks\":\"\",\"title\":{\"standoff\":15},\"zerolinecolor\":\"white\",\"automargin\":true,\"zerolinewidth\":2},\"scene\":{\"xaxis\":{\"backgroundcolor\":\"#E5ECF6\",\"gridcolor\":\"white\",\"linecolor\":\"white\",\"showbackground\":true,\"ticks\":\"\",\"zerolinecolor\":\"white\",\"gridwidth\":2},\"yaxis\":{\"backgroundcolor\":\"#E5ECF6\",\"gridcolor\":\"white\",\"linecolor\":\"white\",\"showbackground\":true,\"ticks\":\"\",\"zerolinecolor\":\"white\",\"gridwidth\":2},\"zaxis\":{\"backgroundcolor\":\"#E5ECF6\",\"gridcolor\":\"white\",\"linecolor\":\"white\",\"showbackground\":true,\"ticks\":\"\",\"zerolinecolor\":\"white\",\"gridwidth\":2}},\"shapedefaults\":{\"line\":{\"color\":\"#2a3f5f\"}},\"annotationdefaults\":{\"arrowcolor\":\"#2a3f5f\",\"arrowhead\":0,\"arrowwidth\":1},\"geo\":{\"bgcolor\":\"white\",\"landcolor\":\"#E5ECF6\",\"subunitcolor\":\"white\",\"showland\":true,\"showlakes\":true,\"lakecolor\":\"white\"},\"title\":{\"x\":0.05},\"mapbox\":{\"style\":\"light\"}}},\"xaxis\":{\"anchor\":\"y\",\"domain\":[0.0,1.0],\"title\":{\"text\":\"Category\"},\"tickangle\":0},\"yaxis\":{\"anchor\":\"x\",\"domain\":[0.0,1.0],\"title\":{\"text\":\"Acceptance Rate (%)\"}},\"legend\":{\"title\":{\"text\":\"Legend Description\"},\"tracegroupgap\":0},\"title\":{\"text\":\"Comparison of Driver Acceptance Rates\"},\"barmode\":\"relative\",\"margin\":{\"b\":80},\"width\":900,\"height\":700},                        {\"responsive\": true}                    ).then(function(){\n",
       "                            \n",
       "var gd = document.getElementById('92e16459-f915-4115-9c15-addc4b4fa904');\n",
       "var x = new MutationObserver(function (mutations, observer) {{\n",
       "        var display = window.getComputedStyle(gd).display;\n",
       "        if (!display || display === 'none') {{\n",
       "            console.log([gd, 'removed!']);\n",
       "            Plotly.purge(gd);\n",
       "            observer.disconnect();\n",
       "        }}\n",
       "}});\n",
       "\n",
       "// Listen for the removal of the full notebook cells\n",
       "var notebookContainer = gd.closest('#notebook-container');\n",
       "if (notebookContainer) {{\n",
       "    x.observe(notebookContainer, {childList: true});\n",
       "}}\n",
       "\n",
       "// Listen for the clearing of the current output cell\n",
       "var outputEl = gd.closest('.output');\n",
       "if (outputEl) {{\n",
       "    x.observe(outputEl, {childList: true});\n",
       "}}\n",
       "\n",
       "                        })                };                });            </script>        </div>"
      ]
     },
     "metadata": {},
     "output_type": "display_data"
    }
   ],
   "source": [
    "# Create DataFrame \n",
    "data = pd.DataFrame({\n",
    "    'Category': ['Group 1','Group 2', 'Group 3','Group 4', 'Group 5', 'Group 6','Group 7'],  \n",
    "    'Acceptance Rate (%)': [RoundedSet1, RoundedSet2, RoundedSet3, RoundedSet4, RoundedSet5, RoundedSet6, RoundedSet7],\n",
    "    'Legend Description': [ 'Bar Visits > 1 per Month and Age <br> greater than 25<br>',\n",
    "                            'Bar Visits < 1 per month and Age under 25<br>',\n",
    "                            'Bar Visits > 1 per Month & Passengers<br> NOT Kid(s) & Driver occupation <br> other than <br> farming, fishing or<br> forestry<br>',\n",
    "                            'Bar Visits < 1 per Month & <br> Passengers ARE Kid(s) <br> & Driver occupation is farming, fishing <br>',\n",
    "                            'Bar Visits > 1 per Month & <br> Passengers - NOT Kid & Drivers<br> Not Widowed<br>',\n",
    "                            'Bar Visits > 1 per Month & <br> Age under 30 <br>',\n",
    "                            'Cheap Restaurant Visit < 4 times per month & <br> and Income < 50K'] \n",
    "        })\n",
    "\n",
    "# Create bar plot using Plotly\n",
    "fig = px.bar(data, x='Category', y='Acceptance Rate (%)', \n",
    "             title='Comparison of Driver Acceptance Rates',\n",
    "             text='Acceptance Rate (%)', \n",
    "             color='Legend Description',  \n",
    "             color_discrete_sequence=px.colors.qualitative.Set2)\n",
    "\n",
    "\n",
    "fig.update_traces(textposition='outside')\n",
    "\n",
    "fig.update_layout(\n",
    "    xaxis_tickangle=0,  \n",
    "    margin=dict(b=80),  \n",
    "    width=900,  \n",
    "    height=700 \n",
    ")\n",
    "\n",
    "# Show figure\n",
    "fig.show()"
   ]
  },
  {
   "cell_type": "markdown",
   "metadata": {},
   "source": [
    "<!-- # Based on the above chart, I can infer what influences a driver's likelihood of accepting a bar coupon. \n",
    "Here's my hypothesis about drivers who will be accepting the bar coupons:\n",
    "\n",
    "1. FREQUENT BAR GOERS ARE MOST LIKELY TO ACCEPT BAR COUPONS: \n",
    "Based on Driver Group 3 (31.94 %) and 5 (31.94 %), drivers who already visit bars frequenyly or greater than once a month, and who do NOT have Kids as passengers are MORE LIKELY TO ACCEPT bar related coupons, as it aligns with their leisure activities. \n",
    "2. Based on Driver Group 4, Drivers who have children as passengers might be less likely to accept bar coupons, as they are more likely to choose family-friendly destinations over bars.\n",
    "3. Based on Driver Group 3 & 4, Drivers in rural occupations (farming, fishing, forestry) might not frequent bars as much, possibly due to less accessibility, cultural factors, work schedules or healthy habits.\n",
    "4.Based on Driver Group 6, Younger drivers perhaps are more open to bar visits and drinking as a social activity, making them more likely to accept a bar coupon. \n",
    "5. Based on Driver Group 7, Drivers with lower income seem more budget-conscious and are more likely to spend money at cheap restaurants. This also hyposthesize that they are less likely to spend money at bars, even with a bar coupon. They may prioritize essential spending over leisure activities.\n"
   ]
  },
  {
   "cell_type": "markdown",
   "metadata": {
    "id": "r4Hu1zOb_qRL"
   },
   "source": [
    "### Independent Investigation\n",
    "\n",
    "Using the bar coupon example as motivation, you are to explore one of the other coupon groups and try to determine the characteristics of passengers who accept the coupons.  "
   ]
  },
  {
   "cell_type": "code",
   "execution_count": 656,
   "metadata": {
    "id": "0c71cQhu_qRL"
   },
   "outputs": [
    {
     "data": {
      "text/html": [
       "<div>\n",
       "<style scoped>\n",
       "    .dataframe tbody tr th:only-of-type {\n",
       "        vertical-align: middle;\n",
       "    }\n",
       "\n",
       "    .dataframe tbody tr th {\n",
       "        vertical-align: top;\n",
       "    }\n",
       "\n",
       "    .dataframe thead th {\n",
       "        text-align: right;\n",
       "    }\n",
       "</style>\n",
       "<table border=\"1\" class=\"dataframe\">\n",
       "  <thead>\n",
       "    <tr style=\"text-align: right;\">\n",
       "      <th></th>\n",
       "      <th>Y</th>\n",
       "      <th>CoffeeHouse</th>\n",
       "      <th>age</th>\n",
       "      <th>maritalStatus</th>\n",
       "    </tr>\n",
       "  </thead>\n",
       "  <tbody>\n",
       "    <tr>\n",
       "      <th>0</th>\n",
       "      <td>1</td>\n",
       "      <td>gt8</td>\n",
       "      <td>26</td>\n",
       "      <td>Single</td>\n",
       "    </tr>\n",
       "    <tr>\n",
       "      <th>1</th>\n",
       "      <td>1</td>\n",
       "      <td>gt8</td>\n",
       "      <td>26</td>\n",
       "      <td>Single</td>\n",
       "    </tr>\n",
       "    <tr>\n",
       "      <th>2</th>\n",
       "      <td>1</td>\n",
       "      <td>gt8</td>\n",
       "      <td>26</td>\n",
       "      <td>Single</td>\n",
       "    </tr>\n",
       "    <tr>\n",
       "      <th>3</th>\n",
       "      <td>1</td>\n",
       "      <td>gt8</td>\n",
       "      <td>26</td>\n",
       "      <td>Single</td>\n",
       "    </tr>\n",
       "    <tr>\n",
       "      <th>4</th>\n",
       "      <td>1</td>\n",
       "      <td>gt8</td>\n",
       "      <td>26</td>\n",
       "      <td>Single</td>\n",
       "    </tr>\n",
       "    <tr>\n",
       "      <th>...</th>\n",
       "      <td>...</td>\n",
       "      <td>...</td>\n",
       "      <td>...</td>\n",
       "      <td>...</td>\n",
       "    </tr>\n",
       "    <tr>\n",
       "      <th>1115</th>\n",
       "      <td>1</td>\n",
       "      <td>gt8</td>\n",
       "      <td>26</td>\n",
       "      <td>Single</td>\n",
       "    </tr>\n",
       "    <tr>\n",
       "      <th>1116</th>\n",
       "      <td>1</td>\n",
       "      <td>gt8</td>\n",
       "      <td>26</td>\n",
       "      <td>Single</td>\n",
       "    </tr>\n",
       "    <tr>\n",
       "      <th>1117</th>\n",
       "      <td>1</td>\n",
       "      <td>gt8</td>\n",
       "      <td>26</td>\n",
       "      <td>Single</td>\n",
       "    </tr>\n",
       "    <tr>\n",
       "      <th>1118</th>\n",
       "      <td>1</td>\n",
       "      <td>gt8</td>\n",
       "      <td>26</td>\n",
       "      <td>Single</td>\n",
       "    </tr>\n",
       "    <tr>\n",
       "      <th>1119</th>\n",
       "      <td>1</td>\n",
       "      <td>gt8</td>\n",
       "      <td>26</td>\n",
       "      <td>Single</td>\n",
       "    </tr>\n",
       "  </tbody>\n",
       "</table>\n",
       "<p>1120 rows × 4 columns</p>\n",
       "</div>"
      ],
      "text/plain": [
       "      Y CoffeeHouse age maritalStatus\n",
       "0     1         gt8  26        Single\n",
       "1     1         gt8  26        Single\n",
       "2     1         gt8  26        Single\n",
       "3     1         gt8  26        Single\n",
       "4     1         gt8  26        Single\n",
       "...  ..         ...  ..           ...\n",
       "1115  1         gt8  26        Single\n",
       "1116  1         gt8  26        Single\n",
       "1117  1         gt8  26        Single\n",
       "1118  1         gt8  26        Single\n",
       "1119  1         gt8  26        Single\n",
       "\n",
       "[1120 rows x 4 columns]"
      ]
     },
     "execution_count": 656,
     "metadata": {},
     "output_type": "execute_result"
    }
   ],
   "source": [
    "# Drivers who go to CoffeeHouse more than once a month and are Single and are under the age of 30\n",
    "\n",
    "\n",
    "Driver_Set8_df = data.query(\"Y == 1 and (age == '21' or age == 'below21' or age == '26') and maritalStatus == 'Single' and (CoffeeHouse  == '1~3' or CoffeeHouse  == '4~8' or CoffeeHouse == 'gt8')\")[['Y', 'CoffeeHouse', 'age' , 'maritalStatus']]\n",
    "Driver_Set8_df.reset_index()[['Y', 'CoffeeHouse', 'age', 'maritalStatus']]"
   ]
  },
  {
   "cell_type": "code",
   "execution_count": 684,
   "metadata": {},
   "outputs": [
    {
     "data": {
      "text/plain": [
       "1120"
      ]
     },
     "execution_count": 684,
     "metadata": {},
     "output_type": "execute_result"
    }
   ],
   "source": [
    "Driver_Set8_df_counts = Driver_Set8_df.value_counts().sum()\n",
    "Driver_Set8_df_counts"
   ]
  },
  {
   "cell_type": "code",
   "execution_count": 685,
   "metadata": {
    "id": "QEsBkvIN_qRL"
   },
   "outputs": [
    {
     "data": {
      "text/plain": [
       "15.53"
      ]
     },
     "execution_count": 685,
     "metadata": {},
     "output_type": "execute_result"
    }
   ],
   "source": [
    "# Acceptance Rate : Driver Group # 8\n",
    "Driver_Acceptance_Rate_Set8 = (Driver_Set8_df_counts/TotalCouponAccepted) * 100\n",
    "RoundedSet8 = Driver_Acceptance_Rate_Set8.round(2)\n",
    "RoundedSet8 "
   ]
  },
  {
   "cell_type": "code",
   "execution_count": 689,
   "metadata": {
    "id": "fTC2WGE3_qRL"
   },
   "outputs": [
    {
     "data": {
      "text/html": [
       "<div>\n",
       "<style scoped>\n",
       "    .dataframe tbody tr th:only-of-type {\n",
       "        vertical-align: middle;\n",
       "    }\n",
       "\n",
       "    .dataframe tbody tr th {\n",
       "        vertical-align: top;\n",
       "    }\n",
       "\n",
       "    .dataframe thead th {\n",
       "        text-align: right;\n",
       "    }\n",
       "</style>\n",
       "<table border=\"1\" class=\"dataframe\">\n",
       "  <thead>\n",
       "    <tr style=\"text-align: right;\">\n",
       "      <th></th>\n",
       "      <th>Y</th>\n",
       "      <th>CoffeeHouse</th>\n",
       "      <th>age</th>\n",
       "      <th>maritalStatus</th>\n",
       "    </tr>\n",
       "  </thead>\n",
       "  <tbody>\n",
       "    <tr>\n",
       "      <th>0</th>\n",
       "      <td>1</td>\n",
       "      <td>less1</td>\n",
       "      <td>26</td>\n",
       "      <td>Married partner</td>\n",
       "    </tr>\n",
       "    <tr>\n",
       "      <th>1</th>\n",
       "      <td>1</td>\n",
       "      <td>less1</td>\n",
       "      <td>26</td>\n",
       "      <td>Married partner</td>\n",
       "    </tr>\n",
       "    <tr>\n",
       "      <th>2</th>\n",
       "      <td>1</td>\n",
       "      <td>less1</td>\n",
       "      <td>26</td>\n",
       "      <td>Married partner</td>\n",
       "    </tr>\n",
       "    <tr>\n",
       "      <th>3</th>\n",
       "      <td>1</td>\n",
       "      <td>less1</td>\n",
       "      <td>26</td>\n",
       "      <td>Married partner</td>\n",
       "    </tr>\n",
       "    <tr>\n",
       "      <th>4</th>\n",
       "      <td>1</td>\n",
       "      <td>less1</td>\n",
       "      <td>26</td>\n",
       "      <td>Married partner</td>\n",
       "    </tr>\n",
       "    <tr>\n",
       "      <th>...</th>\n",
       "      <td>...</td>\n",
       "      <td>...</td>\n",
       "      <td>...</td>\n",
       "      <td>...</td>\n",
       "    </tr>\n",
       "    <tr>\n",
       "      <th>1195</th>\n",
       "      <td>1</td>\n",
       "      <td>less1</td>\n",
       "      <td>50plus</td>\n",
       "      <td>Divorced</td>\n",
       "    </tr>\n",
       "    <tr>\n",
       "      <th>1196</th>\n",
       "      <td>1</td>\n",
       "      <td>less1</td>\n",
       "      <td>50plus</td>\n",
       "      <td>Divorced</td>\n",
       "    </tr>\n",
       "    <tr>\n",
       "      <th>1197</th>\n",
       "      <td>1</td>\n",
       "      <td>less1</td>\n",
       "      <td>50plus</td>\n",
       "      <td>Divorced</td>\n",
       "    </tr>\n",
       "    <tr>\n",
       "      <th>1198</th>\n",
       "      <td>1</td>\n",
       "      <td>less1</td>\n",
       "      <td>50plus</td>\n",
       "      <td>Divorced</td>\n",
       "    </tr>\n",
       "    <tr>\n",
       "      <th>1199</th>\n",
       "      <td>1</td>\n",
       "      <td>less1</td>\n",
       "      <td>50plus</td>\n",
       "      <td>Divorced</td>\n",
       "    </tr>\n",
       "  </tbody>\n",
       "</table>\n",
       "<p>1200 rows × 4 columns</p>\n",
       "</div>"
      ],
      "text/plain": [
       "      Y CoffeeHouse     age    maritalStatus\n",
       "0     1       less1      26  Married partner\n",
       "1     1       less1      26  Married partner\n",
       "2     1       less1      26  Married partner\n",
       "3     1       less1      26  Married partner\n",
       "4     1       less1      26  Married partner\n",
       "...  ..         ...     ...              ...\n",
       "1195  1       less1  50plus         Divorced\n",
       "1196  1       less1  50plus         Divorced\n",
       "1197  1       less1  50plus         Divorced\n",
       "1198  1       less1  50plus         Divorced\n",
       "1199  1       less1  50plus         Divorced\n",
       "\n",
       "[1200 rows x 4 columns]"
      ]
     },
     "execution_count": 689,
     "metadata": {},
     "output_type": "execute_result"
    }
   ],
   "source": [
    "# Drivers who go to CoffeeHouse less than once a month and are NOT Single and are over the age of 30\n",
    "\n",
    "Driver_Set9_df = data.query(\"Y == 1 and (age != '21' or age != 'below21' or age != '26') and maritalStatus != 'Single' and (CoffeeHouse  == 'less1')\")[['Y', 'CoffeeHouse', 'age' , 'maritalStatus']]\n",
    "Driver_Set9_df.reset_index()[['Y', 'CoffeeHouse', 'age', 'maritalStatus']]"
   ]
  },
  {
   "cell_type": "code",
   "execution_count": 690,
   "metadata": {
    "id": "RrqUWn7d_qRL"
   },
   "outputs": [
    {
     "data": {
      "text/plain": [
       "1200"
      ]
     },
     "execution_count": 690,
     "metadata": {},
     "output_type": "execute_result"
    }
   ],
   "source": [
    "Driver_Set9_df_counts = Driver_Set9_df.value_counts().sum()\n",
    "Driver_Set9_df_counts"
   ]
  },
  {
   "cell_type": "code",
   "execution_count": 691,
   "metadata": {
    "id": "_oykf8YP_qRL"
   },
   "outputs": [
    {
     "data": {
      "text/plain": [
       "16.64"
      ]
     },
     "execution_count": 691,
     "metadata": {},
     "output_type": "execute_result"
    }
   ],
   "source": [
    "# Acceptance Rate : Driver Group # 9\n",
    "Driver_Acceptance_Rate_Set9 = (Driver_Set9_df_counts/TotalCouponAccepted) * 100\n",
    "RoundedSet9 = Driver_Acceptance_Rate_Set9.round(2)\n",
    "RoundedSet9 "
   ]
  },
  {
   "cell_type": "code",
   "execution_count": 692,
   "metadata": {},
   "outputs": [
    {
     "data": {
      "text/html": [
       "<div>\n",
       "<style scoped>\n",
       "    .dataframe tbody tr th:only-of-type {\n",
       "        vertical-align: middle;\n",
       "    }\n",
       "\n",
       "    .dataframe tbody tr th {\n",
       "        vertical-align: top;\n",
       "    }\n",
       "\n",
       "    .dataframe thead th {\n",
       "        text-align: right;\n",
       "    }\n",
       "</style>\n",
       "<table border=\"1\" class=\"dataframe\">\n",
       "  <thead>\n",
       "    <tr style=\"text-align: right;\">\n",
       "      <th></th>\n",
       "      <th>Y</th>\n",
       "      <th>CoffeeHouse</th>\n",
       "      <th>age</th>\n",
       "      <th>maritalStatus</th>\n",
       "    </tr>\n",
       "  </thead>\n",
       "  <tbody>\n",
       "    <tr>\n",
       "      <th>0</th>\n",
       "      <td>1</td>\n",
       "      <td>less1</td>\n",
       "      <td>26</td>\n",
       "      <td>Married partner</td>\n",
       "    </tr>\n",
       "    <tr>\n",
       "      <th>1</th>\n",
       "      <td>1</td>\n",
       "      <td>less1</td>\n",
       "      <td>26</td>\n",
       "      <td>Married partner</td>\n",
       "    </tr>\n",
       "    <tr>\n",
       "      <th>2</th>\n",
       "      <td>1</td>\n",
       "      <td>less1</td>\n",
       "      <td>26</td>\n",
       "      <td>Married partner</td>\n",
       "    </tr>\n",
       "    <tr>\n",
       "      <th>3</th>\n",
       "      <td>1</td>\n",
       "      <td>less1</td>\n",
       "      <td>26</td>\n",
       "      <td>Married partner</td>\n",
       "    </tr>\n",
       "    <tr>\n",
       "      <th>4</th>\n",
       "      <td>1</td>\n",
       "      <td>less1</td>\n",
       "      <td>26</td>\n",
       "      <td>Married partner</td>\n",
       "    </tr>\n",
       "    <tr>\n",
       "      <th>...</th>\n",
       "      <td>...</td>\n",
       "      <td>...</td>\n",
       "      <td>...</td>\n",
       "      <td>...</td>\n",
       "    </tr>\n",
       "    <tr>\n",
       "      <th>359</th>\n",
       "      <td>1</td>\n",
       "      <td>less1</td>\n",
       "      <td>26</td>\n",
       "      <td>Married partner</td>\n",
       "    </tr>\n",
       "    <tr>\n",
       "      <th>360</th>\n",
       "      <td>1</td>\n",
       "      <td>less1</td>\n",
       "      <td>26</td>\n",
       "      <td>Married partner</td>\n",
       "    </tr>\n",
       "    <tr>\n",
       "      <th>361</th>\n",
       "      <td>1</td>\n",
       "      <td>less1</td>\n",
       "      <td>26</td>\n",
       "      <td>Married partner</td>\n",
       "    </tr>\n",
       "    <tr>\n",
       "      <th>362</th>\n",
       "      <td>1</td>\n",
       "      <td>less1</td>\n",
       "      <td>26</td>\n",
       "      <td>Married partner</td>\n",
       "    </tr>\n",
       "    <tr>\n",
       "      <th>363</th>\n",
       "      <td>1</td>\n",
       "      <td>less1</td>\n",
       "      <td>26</td>\n",
       "      <td>Married partner</td>\n",
       "    </tr>\n",
       "  </tbody>\n",
       "</table>\n",
       "<p>364 rows × 4 columns</p>\n",
       "</div>"
      ],
      "text/plain": [
       "     Y CoffeeHouse age    maritalStatus\n",
       "0    1       less1  26  Married partner\n",
       "1    1       less1  26  Married partner\n",
       "2    1       less1  26  Married partner\n",
       "3    1       less1  26  Married partner\n",
       "4    1       less1  26  Married partner\n",
       "..  ..         ...  ..              ...\n",
       "359  1       less1  26  Married partner\n",
       "360  1       less1  26  Married partner\n",
       "361  1       less1  26  Married partner\n",
       "362  1       less1  26  Married partner\n",
       "363  1       less1  26  Married partner\n",
       "\n",
       "[364 rows x 4 columns]"
      ]
     },
     "execution_count": 692,
     "metadata": {},
     "output_type": "execute_result"
    }
   ],
   "source": [
    "# Drivers who go to CoffeeHouse less than once a month and are NOT Single and are below the age of 30\n",
    "\n",
    "\n",
    "Driver_Set10_df = data.query(\"Y == 1 and (age == '21' or age == 'below21' or age == '26') and maritalStatus != 'Single' and (CoffeeHouse  == 'less1')\")[['Y', 'CoffeeHouse', 'age' , 'maritalStatus']]\n",
    "Driver_Set10_df.reset_index()[['Y', 'CoffeeHouse', 'age', 'maritalStatus']]"
   ]
  },
  {
   "cell_type": "code",
   "execution_count": 693,
   "metadata": {},
   "outputs": [
    {
     "data": {
      "text/plain": [
       "364"
      ]
     },
     "execution_count": 693,
     "metadata": {},
     "output_type": "execute_result"
    }
   ],
   "source": [
    "Driver_Set10_df_counts = Driver_Set10_df.value_counts().sum()\n",
    "Driver_Set10_df_counts"
   ]
  },
  {
   "cell_type": "code",
   "execution_count": 694,
   "metadata": {},
   "outputs": [
    {
     "data": {
      "text/plain": [
       "5.05"
      ]
     },
     "execution_count": 694,
     "metadata": {},
     "output_type": "execute_result"
    }
   ],
   "source": [
    "# Acceptance Rate : Driver Group # 10\n",
    "Driver_Acceptance_Rate_Set10 = (Driver_Set10_df_counts/TotalCouponAccepted) * 100\n",
    "RoundedSet10 = Driver_Acceptance_Rate_Set10.round(2)\n",
    "RoundedSet10"
   ]
  },
  {
   "cell_type": "code",
   "execution_count": 695,
   "metadata": {},
   "outputs": [
    {
     "data": {
      "text/html": [
       "<div>\n",
       "<style scoped>\n",
       "    .dataframe tbody tr th:only-of-type {\n",
       "        vertical-align: middle;\n",
       "    }\n",
       "\n",
       "    .dataframe tbody tr th {\n",
       "        vertical-align: top;\n",
       "    }\n",
       "\n",
       "    .dataframe thead th {\n",
       "        text-align: right;\n",
       "    }\n",
       "</style>\n",
       "<table border=\"1\" class=\"dataframe\">\n",
       "  <thead>\n",
       "    <tr style=\"text-align: right;\">\n",
       "      <th></th>\n",
       "      <th>Y</th>\n",
       "      <th>CoffeeHouse</th>\n",
       "      <th>age</th>\n",
       "      <th>maritalStatus</th>\n",
       "    </tr>\n",
       "  </thead>\n",
       "  <tbody>\n",
       "    <tr>\n",
       "      <th>0</th>\n",
       "      <td>1</td>\n",
       "      <td>1~3</td>\n",
       "      <td>46</td>\n",
       "      <td>Married partner</td>\n",
       "    </tr>\n",
       "    <tr>\n",
       "      <th>1</th>\n",
       "      <td>1</td>\n",
       "      <td>1~3</td>\n",
       "      <td>46</td>\n",
       "      <td>Married partner</td>\n",
       "    </tr>\n",
       "    <tr>\n",
       "      <th>2</th>\n",
       "      <td>1</td>\n",
       "      <td>1~3</td>\n",
       "      <td>46</td>\n",
       "      <td>Married partner</td>\n",
       "    </tr>\n",
       "    <tr>\n",
       "      <th>3</th>\n",
       "      <td>1</td>\n",
       "      <td>1~3</td>\n",
       "      <td>46</td>\n",
       "      <td>Married partner</td>\n",
       "    </tr>\n",
       "    <tr>\n",
       "      <th>4</th>\n",
       "      <td>1</td>\n",
       "      <td>1~3</td>\n",
       "      <td>46</td>\n",
       "      <td>Married partner</td>\n",
       "    </tr>\n",
       "    <tr>\n",
       "      <th>...</th>\n",
       "      <td>...</td>\n",
       "      <td>...</td>\n",
       "      <td>...</td>\n",
       "      <td>...</td>\n",
       "    </tr>\n",
       "    <tr>\n",
       "      <th>2240</th>\n",
       "      <td>1</td>\n",
       "      <td>4~8</td>\n",
       "      <td>21</td>\n",
       "      <td>Unmarried partner</td>\n",
       "    </tr>\n",
       "    <tr>\n",
       "      <th>2241</th>\n",
       "      <td>1</td>\n",
       "      <td>4~8</td>\n",
       "      <td>21</td>\n",
       "      <td>Unmarried partner</td>\n",
       "    </tr>\n",
       "    <tr>\n",
       "      <th>2242</th>\n",
       "      <td>1</td>\n",
       "      <td>4~8</td>\n",
       "      <td>21</td>\n",
       "      <td>Unmarried partner</td>\n",
       "    </tr>\n",
       "    <tr>\n",
       "      <th>2243</th>\n",
       "      <td>1</td>\n",
       "      <td>4~8</td>\n",
       "      <td>21</td>\n",
       "      <td>Unmarried partner</td>\n",
       "    </tr>\n",
       "    <tr>\n",
       "      <th>2244</th>\n",
       "      <td>1</td>\n",
       "      <td>4~8</td>\n",
       "      <td>21</td>\n",
       "      <td>Unmarried partner</td>\n",
       "    </tr>\n",
       "  </tbody>\n",
       "</table>\n",
       "<p>2245 rows × 4 columns</p>\n",
       "</div>"
      ],
      "text/plain": [
       "      Y CoffeeHouse age      maritalStatus\n",
       "0     1         1~3  46    Married partner\n",
       "1     1         1~3  46    Married partner\n",
       "2     1         1~3  46    Married partner\n",
       "3     1         1~3  46    Married partner\n",
       "4     1         1~3  46    Married partner\n",
       "...  ..         ...  ..                ...\n",
       "2240  1         4~8  21  Unmarried partner\n",
       "2241  1         4~8  21  Unmarried partner\n",
       "2242  1         4~8  21  Unmarried partner\n",
       "2243  1         4~8  21  Unmarried partner\n",
       "2244  1         4~8  21  Unmarried partner\n",
       "\n",
       "[2245 rows x 4 columns]"
      ]
     },
     "execution_count": 695,
     "metadata": {},
     "output_type": "execute_result"
    }
   ],
   "source": [
    "# Drivers who go to CoffeeHouse more than once a month and are NOT Single and are over the age of 30\n",
    "\n",
    "Driver_Set11_df = data.query(\"Y == 1 and (age != '21' or age != 'below21' or age != '26') and maritalStatus != 'Single' and (CoffeeHouse  == '1~3' or CoffeeHouse  == '4~8' or CoffeeHouse == 'gt8')\")[['Y', 'CoffeeHouse', 'age' , 'maritalStatus']]\n",
    "Driver_Set11_df.reset_index()[['Y', 'CoffeeHouse', 'age', 'maritalStatus']]"
   ]
  },
  {
   "cell_type": "code",
   "execution_count": 697,
   "metadata": {},
   "outputs": [
    {
     "data": {
      "text/plain": [
       "2245"
      ]
     },
     "execution_count": 697,
     "metadata": {},
     "output_type": "execute_result"
    }
   ],
   "source": [
    "Driver_Set11_df_counts = Driver_Set11_df.value_counts().sum()\n",
    "Driver_Set11_df_counts"
   ]
  },
  {
   "cell_type": "code",
   "execution_count": 698,
   "metadata": {},
   "outputs": [
    {
     "data": {
      "text/plain": [
       "31.14"
      ]
     },
     "execution_count": 698,
     "metadata": {},
     "output_type": "execute_result"
    }
   ],
   "source": [
    "# Acceptance Rate : Driver Group # 11\n",
    "Driver_Acceptance_Rate_Set11 = (Driver_Set11_df_counts/TotalCouponAccepted) * 100\n",
    "RoundedSet11 = Driver_Acceptance_Rate_Set11.round(2)\n",
    "RoundedSet11"
   ]
  },
  {
   "cell_type": "code",
   "execution_count": 705,
   "metadata": {},
   "outputs": [
    {
     "data": {
      "text/html": [
       "<div>\n",
       "<style scoped>\n",
       "    .dataframe tbody tr th:only-of-type {\n",
       "        vertical-align: middle;\n",
       "    }\n",
       "\n",
       "    .dataframe tbody tr th {\n",
       "        vertical-align: top;\n",
       "    }\n",
       "\n",
       "    .dataframe thead th {\n",
       "        text-align: right;\n",
       "    }\n",
       "</style>\n",
       "<table border=\"1\" class=\"dataframe\">\n",
       "  <thead>\n",
       "    <tr style=\"text-align: right;\">\n",
       "      <th></th>\n",
       "      <th>Y</th>\n",
       "      <th>CoffeeHouse</th>\n",
       "      <th>age</th>\n",
       "      <th>maritalStatus</th>\n",
       "    </tr>\n",
       "  </thead>\n",
       "  <tbody>\n",
       "    <tr>\n",
       "      <th>0</th>\n",
       "      <td>1</td>\n",
       "      <td>less1</td>\n",
       "      <td>21</td>\n",
       "      <td>Single</td>\n",
       "    </tr>\n",
       "    <tr>\n",
       "      <th>1</th>\n",
       "      <td>1</td>\n",
       "      <td>less1</td>\n",
       "      <td>21</td>\n",
       "      <td>Single</td>\n",
       "    </tr>\n",
       "    <tr>\n",
       "      <th>2</th>\n",
       "      <td>1</td>\n",
       "      <td>less1</td>\n",
       "      <td>21</td>\n",
       "      <td>Single</td>\n",
       "    </tr>\n",
       "    <tr>\n",
       "      <th>3</th>\n",
       "      <td>1</td>\n",
       "      <td>less1</td>\n",
       "      <td>21</td>\n",
       "      <td>Single</td>\n",
       "    </tr>\n",
       "    <tr>\n",
       "      <th>4</th>\n",
       "      <td>1</td>\n",
       "      <td>less1</td>\n",
       "      <td>21</td>\n",
       "      <td>Single</td>\n",
       "    </tr>\n",
       "    <tr>\n",
       "      <th>...</th>\n",
       "      <td>...</td>\n",
       "      <td>...</td>\n",
       "      <td>...</td>\n",
       "      <td>...</td>\n",
       "    </tr>\n",
       "    <tr>\n",
       "      <th>431</th>\n",
       "      <td>1</td>\n",
       "      <td>less1</td>\n",
       "      <td>26</td>\n",
       "      <td>Single</td>\n",
       "    </tr>\n",
       "    <tr>\n",
       "      <th>432</th>\n",
       "      <td>1</td>\n",
       "      <td>less1</td>\n",
       "      <td>26</td>\n",
       "      <td>Single</td>\n",
       "    </tr>\n",
       "    <tr>\n",
       "      <th>433</th>\n",
       "      <td>1</td>\n",
       "      <td>less1</td>\n",
       "      <td>26</td>\n",
       "      <td>Single</td>\n",
       "    </tr>\n",
       "    <tr>\n",
       "      <th>434</th>\n",
       "      <td>1</td>\n",
       "      <td>less1</td>\n",
       "      <td>26</td>\n",
       "      <td>Single</td>\n",
       "    </tr>\n",
       "    <tr>\n",
       "      <th>435</th>\n",
       "      <td>1</td>\n",
       "      <td>less1</td>\n",
       "      <td>26</td>\n",
       "      <td>Single</td>\n",
       "    </tr>\n",
       "  </tbody>\n",
       "</table>\n",
       "<p>436 rows × 4 columns</p>\n",
       "</div>"
      ],
      "text/plain": [
       "     Y CoffeeHouse age maritalStatus\n",
       "0    1       less1  21        Single\n",
       "1    1       less1  21        Single\n",
       "2    1       less1  21        Single\n",
       "3    1       less1  21        Single\n",
       "4    1       less1  21        Single\n",
       "..  ..         ...  ..           ...\n",
       "431  1       less1  26        Single\n",
       "432  1       less1  26        Single\n",
       "433  1       less1  26        Single\n",
       "434  1       less1  26        Single\n",
       "435  1       less1  26        Single\n",
       "\n",
       "[436 rows x 4 columns]"
      ]
     },
     "execution_count": 705,
     "metadata": {},
     "output_type": "execute_result"
    }
   ],
   "source": [
    "## Drivers who go to CoffeeHouse less than once a month and are Single and are below the age of 30\n",
    "\n",
    "Driver_Set12_df = data.query(\"Y == 1 and (age == '21' or age == 'below21' or age == '26') and maritalStatus == 'Single' and (CoffeeHouse  == 'less1')\")[['Y', 'CoffeeHouse', 'age' , 'maritalStatus']]\n",
    "Driver_Set12_df.reset_index()[['Y', 'CoffeeHouse', 'age', 'maritalStatus']]\n"
   ]
  },
  {
   "cell_type": "code",
   "execution_count": 706,
   "metadata": {},
   "outputs": [
    {
     "data": {
      "text/plain": [
       "436"
      ]
     },
     "execution_count": 706,
     "metadata": {},
     "output_type": "execute_result"
    }
   ],
   "source": [
    "Driver_Set12_df_counts = Driver_Set12_df.value_counts().sum()\n",
    "Driver_Set12_df_counts"
   ]
  },
  {
   "cell_type": "code",
   "execution_count": 707,
   "metadata": {},
   "outputs": [
    {
     "data": {
      "text/plain": [
       "6.05"
      ]
     },
     "execution_count": 707,
     "metadata": {},
     "output_type": "execute_result"
    }
   ],
   "source": [
    "# Acceptance Rate : Driver Group # 12\n",
    "Driver_Acceptance_Rate_Set12 = (Driver_Set12_df_counts/TotalCouponAccepted) * 100\n",
    "RoundedSet12 = Driver_Acceptance_Rate_Set12.round(2)\n",
    "RoundedSet12"
   ]
  },
  {
   "cell_type": "code",
   "execution_count": 714,
   "metadata": {},
   "outputs": [
    {
     "data": {
      "application/vnd.plotly.v1+json": {
       "config": {
        "plotlyServerURL": "https://plot.ly"
       },
       "data": [
        {
         "alignmentgroup": "True",
         "hovertemplate": "Legend Description=CoffeeHouse Visits > 1 per Month and <br> Age below 30 and Single<br><br>Category=%{x}<br>Acceptance Rate (%)=%{text}<extra></extra>",
         "legendgroup": "CoffeeHouse Visits > 1 per Month and <br> Age below 30 and Single<br>",
         "marker": {
          "color": "rgb(102,194,165)",
          "pattern": {
           "shape": ""
          }
         },
         "name": "CoffeeHouse Visits > 1 per Month and <br> Age below 30 and Single<br>",
         "offsetgroup": "CoffeeHouse Visits > 1 per Month and <br> Age below 30 and Single<br>",
         "orientation": "v",
         "showlegend": true,
         "text": [
          15.53
         ],
         "textposition": "outside",
         "type": "bar",
         "x": [
          "Group 8"
         ],
         "xaxis": "x",
         "y": [
          15.53
         ],
         "yaxis": "y"
        },
        {
         "alignmentgroup": "True",
         "hovertemplate": "Legend Description=CoffeeHouse Visits < 1 per month and <br> Age over 30 and Not Single<br><br>Category=%{x}<br>Acceptance Rate (%)=%{text}<extra></extra>",
         "legendgroup": "CoffeeHouse Visits < 1 per month and <br> Age over 30 and Not Single<br>",
         "marker": {
          "color": "rgb(252,141,98)",
          "pattern": {
           "shape": ""
          }
         },
         "name": "CoffeeHouse Visits < 1 per month and <br> Age over 30 and Not Single<br>",
         "offsetgroup": "CoffeeHouse Visits < 1 per month and <br> Age over 30 and Not Single<br>",
         "orientation": "v",
         "showlegend": true,
         "text": [
          16.64
         ],
         "textposition": "outside",
         "type": "bar",
         "x": [
          "Group 9"
         ],
         "xaxis": "x",
         "y": [
          16.64
         ],
         "yaxis": "y"
        },
        {
         "alignmentgroup": "True",
         "hovertemplate": "Legend Description=CoffeeHouse Visits < 1 per month and <br> Age below 30 and Not Single<br><br>Category=%{x}<br>Acceptance Rate (%)=%{text}<extra></extra>",
         "legendgroup": "CoffeeHouse Visits < 1 per month and <br> Age below 30 and Not Single<br>",
         "marker": {
          "color": "rgb(141,160,203)",
          "pattern": {
           "shape": ""
          }
         },
         "name": "CoffeeHouse Visits < 1 per month and <br> Age below 30 and Not Single<br>",
         "offsetgroup": "CoffeeHouse Visits < 1 per month and <br> Age below 30 and Not Single<br>",
         "orientation": "v",
         "showlegend": true,
         "text": [
          5.05
         ],
         "textposition": "outside",
         "type": "bar",
         "x": [
          "Group 10"
         ],
         "xaxis": "x",
         "y": [
          5.05
         ],
         "yaxis": "y"
        },
        {
         "alignmentgroup": "True",
         "hovertemplate": "Legend Description=CoffeeHouse Visits > 1 per month and <br> Age over30 and Not Single<br><br>Category=%{x}<br>Acceptance Rate (%)=%{text}<extra></extra>",
         "legendgroup": "CoffeeHouse Visits > 1 per month and <br> Age over30 and Not Single<br>",
         "marker": {
          "color": "rgb(231,138,195)",
          "pattern": {
           "shape": ""
          }
         },
         "name": "CoffeeHouse Visits > 1 per month and <br> Age over30 and Not Single<br>",
         "offsetgroup": "CoffeeHouse Visits > 1 per month and <br> Age over30 and Not Single<br>",
         "orientation": "v",
         "showlegend": true,
         "text": [
          31.14
         ],
         "textposition": "outside",
         "type": "bar",
         "x": [
          "Group 11"
         ],
         "xaxis": "x",
         "y": [
          31.14
         ],
         "yaxis": "y"
        },
        {
         "alignmentgroup": "True",
         "hovertemplate": "Legend Description=CoffeeHouse Visits < 1 per month and <br> Age below 30 and Single<br><br>Category=%{x}<br>Acceptance Rate (%)=%{text}<extra></extra>",
         "legendgroup": "CoffeeHouse Visits < 1 per month and <br> Age below 30 and Single<br>",
         "marker": {
          "color": "rgb(166,216,84)",
          "pattern": {
           "shape": ""
          }
         },
         "name": "CoffeeHouse Visits < 1 per month and <br> Age below 30 and Single<br>",
         "offsetgroup": "CoffeeHouse Visits < 1 per month and <br> Age below 30 and Single<br>",
         "orientation": "v",
         "showlegend": true,
         "text": [
          6.05
         ],
         "textposition": "outside",
         "type": "bar",
         "x": [
          "Group12"
         ],
         "xaxis": "x",
         "y": [
          6.05
         ],
         "yaxis": "y"
        }
       ],
       "layout": {
        "barmode": "relative",
        "height": 700,
        "legend": {
         "title": {
          "text": "Legend Description"
         },
         "tracegroupgap": 0
        },
        "margin": {
         "b": 80
        },
        "template": {
         "data": {
          "bar": [
           {
            "error_x": {
             "color": "#2a3f5f"
            },
            "error_y": {
             "color": "#2a3f5f"
            },
            "marker": {
             "line": {
              "color": "#E5ECF6",
              "width": 0.5
             },
             "pattern": {
              "fillmode": "overlay",
              "size": 10,
              "solidity": 0.2
             }
            },
            "type": "bar"
           }
          ],
          "barpolar": [
           {
            "marker": {
             "line": {
              "color": "#E5ECF6",
              "width": 0.5
             },
             "pattern": {
              "fillmode": "overlay",
              "size": 10,
              "solidity": 0.2
             }
            },
            "type": "barpolar"
           }
          ],
          "carpet": [
           {
            "aaxis": {
             "endlinecolor": "#2a3f5f",
             "gridcolor": "white",
             "linecolor": "white",
             "minorgridcolor": "white",
             "startlinecolor": "#2a3f5f"
            },
            "baxis": {
             "endlinecolor": "#2a3f5f",
             "gridcolor": "white",
             "linecolor": "white",
             "minorgridcolor": "white",
             "startlinecolor": "#2a3f5f"
            },
            "type": "carpet"
           }
          ],
          "choropleth": [
           {
            "colorbar": {
             "outlinewidth": 0,
             "ticks": ""
            },
            "type": "choropleth"
           }
          ],
          "contour": [
           {
            "colorbar": {
             "outlinewidth": 0,
             "ticks": ""
            },
            "colorscale": [
             [
              0,
              "#0d0887"
             ],
             [
              0.1111111111111111,
              "#46039f"
             ],
             [
              0.2222222222222222,
              "#7201a8"
             ],
             [
              0.3333333333333333,
              "#9c179e"
             ],
             [
              0.4444444444444444,
              "#bd3786"
             ],
             [
              0.5555555555555556,
              "#d8576b"
             ],
             [
              0.6666666666666666,
              "#ed7953"
             ],
             [
              0.7777777777777778,
              "#fb9f3a"
             ],
             [
              0.8888888888888888,
              "#fdca26"
             ],
             [
              1,
              "#f0f921"
             ]
            ],
            "type": "contour"
           }
          ],
          "contourcarpet": [
           {
            "colorbar": {
             "outlinewidth": 0,
             "ticks": ""
            },
            "type": "contourcarpet"
           }
          ],
          "heatmap": [
           {
            "colorbar": {
             "outlinewidth": 0,
             "ticks": ""
            },
            "colorscale": [
             [
              0,
              "#0d0887"
             ],
             [
              0.1111111111111111,
              "#46039f"
             ],
             [
              0.2222222222222222,
              "#7201a8"
             ],
             [
              0.3333333333333333,
              "#9c179e"
             ],
             [
              0.4444444444444444,
              "#bd3786"
             ],
             [
              0.5555555555555556,
              "#d8576b"
             ],
             [
              0.6666666666666666,
              "#ed7953"
             ],
             [
              0.7777777777777778,
              "#fb9f3a"
             ],
             [
              0.8888888888888888,
              "#fdca26"
             ],
             [
              1,
              "#f0f921"
             ]
            ],
            "type": "heatmap"
           }
          ],
          "heatmapgl": [
           {
            "colorbar": {
             "outlinewidth": 0,
             "ticks": ""
            },
            "colorscale": [
             [
              0,
              "#0d0887"
             ],
             [
              0.1111111111111111,
              "#46039f"
             ],
             [
              0.2222222222222222,
              "#7201a8"
             ],
             [
              0.3333333333333333,
              "#9c179e"
             ],
             [
              0.4444444444444444,
              "#bd3786"
             ],
             [
              0.5555555555555556,
              "#d8576b"
             ],
             [
              0.6666666666666666,
              "#ed7953"
             ],
             [
              0.7777777777777778,
              "#fb9f3a"
             ],
             [
              0.8888888888888888,
              "#fdca26"
             ],
             [
              1,
              "#f0f921"
             ]
            ],
            "type": "heatmapgl"
           }
          ],
          "histogram": [
           {
            "marker": {
             "pattern": {
              "fillmode": "overlay",
              "size": 10,
              "solidity": 0.2
             }
            },
            "type": "histogram"
           }
          ],
          "histogram2d": [
           {
            "colorbar": {
             "outlinewidth": 0,
             "ticks": ""
            },
            "colorscale": [
             [
              0,
              "#0d0887"
             ],
             [
              0.1111111111111111,
              "#46039f"
             ],
             [
              0.2222222222222222,
              "#7201a8"
             ],
             [
              0.3333333333333333,
              "#9c179e"
             ],
             [
              0.4444444444444444,
              "#bd3786"
             ],
             [
              0.5555555555555556,
              "#d8576b"
             ],
             [
              0.6666666666666666,
              "#ed7953"
             ],
             [
              0.7777777777777778,
              "#fb9f3a"
             ],
             [
              0.8888888888888888,
              "#fdca26"
             ],
             [
              1,
              "#f0f921"
             ]
            ],
            "type": "histogram2d"
           }
          ],
          "histogram2dcontour": [
           {
            "colorbar": {
             "outlinewidth": 0,
             "ticks": ""
            },
            "colorscale": [
             [
              0,
              "#0d0887"
             ],
             [
              0.1111111111111111,
              "#46039f"
             ],
             [
              0.2222222222222222,
              "#7201a8"
             ],
             [
              0.3333333333333333,
              "#9c179e"
             ],
             [
              0.4444444444444444,
              "#bd3786"
             ],
             [
              0.5555555555555556,
              "#d8576b"
             ],
             [
              0.6666666666666666,
              "#ed7953"
             ],
             [
              0.7777777777777778,
              "#fb9f3a"
             ],
             [
              0.8888888888888888,
              "#fdca26"
             ],
             [
              1,
              "#f0f921"
             ]
            ],
            "type": "histogram2dcontour"
           }
          ],
          "mesh3d": [
           {
            "colorbar": {
             "outlinewidth": 0,
             "ticks": ""
            },
            "type": "mesh3d"
           }
          ],
          "parcoords": [
           {
            "line": {
             "colorbar": {
              "outlinewidth": 0,
              "ticks": ""
             }
            },
            "type": "parcoords"
           }
          ],
          "pie": [
           {
            "automargin": true,
            "type": "pie"
           }
          ],
          "scatter": [
           {
            "fillpattern": {
             "fillmode": "overlay",
             "size": 10,
             "solidity": 0.2
            },
            "type": "scatter"
           }
          ],
          "scatter3d": [
           {
            "line": {
             "colorbar": {
              "outlinewidth": 0,
              "ticks": ""
             }
            },
            "marker": {
             "colorbar": {
              "outlinewidth": 0,
              "ticks": ""
             }
            },
            "type": "scatter3d"
           }
          ],
          "scattercarpet": [
           {
            "marker": {
             "colorbar": {
              "outlinewidth": 0,
              "ticks": ""
             }
            },
            "type": "scattercarpet"
           }
          ],
          "scattergeo": [
           {
            "marker": {
             "colorbar": {
              "outlinewidth": 0,
              "ticks": ""
             }
            },
            "type": "scattergeo"
           }
          ],
          "scattergl": [
           {
            "marker": {
             "colorbar": {
              "outlinewidth": 0,
              "ticks": ""
             }
            },
            "type": "scattergl"
           }
          ],
          "scattermapbox": [
           {
            "marker": {
             "colorbar": {
              "outlinewidth": 0,
              "ticks": ""
             }
            },
            "type": "scattermapbox"
           }
          ],
          "scatterpolar": [
           {
            "marker": {
             "colorbar": {
              "outlinewidth": 0,
              "ticks": ""
             }
            },
            "type": "scatterpolar"
           }
          ],
          "scatterpolargl": [
           {
            "marker": {
             "colorbar": {
              "outlinewidth": 0,
              "ticks": ""
             }
            },
            "type": "scatterpolargl"
           }
          ],
          "scatterternary": [
           {
            "marker": {
             "colorbar": {
              "outlinewidth": 0,
              "ticks": ""
             }
            },
            "type": "scatterternary"
           }
          ],
          "surface": [
           {
            "colorbar": {
             "outlinewidth": 0,
             "ticks": ""
            },
            "colorscale": [
             [
              0,
              "#0d0887"
             ],
             [
              0.1111111111111111,
              "#46039f"
             ],
             [
              0.2222222222222222,
              "#7201a8"
             ],
             [
              0.3333333333333333,
              "#9c179e"
             ],
             [
              0.4444444444444444,
              "#bd3786"
             ],
             [
              0.5555555555555556,
              "#d8576b"
             ],
             [
              0.6666666666666666,
              "#ed7953"
             ],
             [
              0.7777777777777778,
              "#fb9f3a"
             ],
             [
              0.8888888888888888,
              "#fdca26"
             ],
             [
              1,
              "#f0f921"
             ]
            ],
            "type": "surface"
           }
          ],
          "table": [
           {
            "cells": {
             "fill": {
              "color": "#EBF0F8"
             },
             "line": {
              "color": "white"
             }
            },
            "header": {
             "fill": {
              "color": "#C8D4E3"
             },
             "line": {
              "color": "white"
             }
            },
            "type": "table"
           }
          ]
         },
         "layout": {
          "annotationdefaults": {
           "arrowcolor": "#2a3f5f",
           "arrowhead": 0,
           "arrowwidth": 1
          },
          "autotypenumbers": "strict",
          "coloraxis": {
           "colorbar": {
            "outlinewidth": 0,
            "ticks": ""
           }
          },
          "colorscale": {
           "diverging": [
            [
             0,
             "#8e0152"
            ],
            [
             0.1,
             "#c51b7d"
            ],
            [
             0.2,
             "#de77ae"
            ],
            [
             0.3,
             "#f1b6da"
            ],
            [
             0.4,
             "#fde0ef"
            ],
            [
             0.5,
             "#f7f7f7"
            ],
            [
             0.6,
             "#e6f5d0"
            ],
            [
             0.7,
             "#b8e186"
            ],
            [
             0.8,
             "#7fbc41"
            ],
            [
             0.9,
             "#4d9221"
            ],
            [
             1,
             "#276419"
            ]
           ],
           "sequential": [
            [
             0,
             "#0d0887"
            ],
            [
             0.1111111111111111,
             "#46039f"
            ],
            [
             0.2222222222222222,
             "#7201a8"
            ],
            [
             0.3333333333333333,
             "#9c179e"
            ],
            [
             0.4444444444444444,
             "#bd3786"
            ],
            [
             0.5555555555555556,
             "#d8576b"
            ],
            [
             0.6666666666666666,
             "#ed7953"
            ],
            [
             0.7777777777777778,
             "#fb9f3a"
            ],
            [
             0.8888888888888888,
             "#fdca26"
            ],
            [
             1,
             "#f0f921"
            ]
           ],
           "sequentialminus": [
            [
             0,
             "#0d0887"
            ],
            [
             0.1111111111111111,
             "#46039f"
            ],
            [
             0.2222222222222222,
             "#7201a8"
            ],
            [
             0.3333333333333333,
             "#9c179e"
            ],
            [
             0.4444444444444444,
             "#bd3786"
            ],
            [
             0.5555555555555556,
             "#d8576b"
            ],
            [
             0.6666666666666666,
             "#ed7953"
            ],
            [
             0.7777777777777778,
             "#fb9f3a"
            ],
            [
             0.8888888888888888,
             "#fdca26"
            ],
            [
             1,
             "#f0f921"
            ]
           ]
          },
          "colorway": [
           "#636efa",
           "#EF553B",
           "#00cc96",
           "#ab63fa",
           "#FFA15A",
           "#19d3f3",
           "#FF6692",
           "#B6E880",
           "#FF97FF",
           "#FECB52"
          ],
          "font": {
           "color": "#2a3f5f"
          },
          "geo": {
           "bgcolor": "white",
           "lakecolor": "white",
           "landcolor": "#E5ECF6",
           "showlakes": true,
           "showland": true,
           "subunitcolor": "white"
          },
          "hoverlabel": {
           "align": "left"
          },
          "hovermode": "closest",
          "mapbox": {
           "style": "light"
          },
          "paper_bgcolor": "white",
          "plot_bgcolor": "#E5ECF6",
          "polar": {
           "angularaxis": {
            "gridcolor": "white",
            "linecolor": "white",
            "ticks": ""
           },
           "bgcolor": "#E5ECF6",
           "radialaxis": {
            "gridcolor": "white",
            "linecolor": "white",
            "ticks": ""
           }
          },
          "scene": {
           "xaxis": {
            "backgroundcolor": "#E5ECF6",
            "gridcolor": "white",
            "gridwidth": 2,
            "linecolor": "white",
            "showbackground": true,
            "ticks": "",
            "zerolinecolor": "white"
           },
           "yaxis": {
            "backgroundcolor": "#E5ECF6",
            "gridcolor": "white",
            "gridwidth": 2,
            "linecolor": "white",
            "showbackground": true,
            "ticks": "",
            "zerolinecolor": "white"
           },
           "zaxis": {
            "backgroundcolor": "#E5ECF6",
            "gridcolor": "white",
            "gridwidth": 2,
            "linecolor": "white",
            "showbackground": true,
            "ticks": "",
            "zerolinecolor": "white"
           }
          },
          "shapedefaults": {
           "line": {
            "color": "#2a3f5f"
           }
          },
          "ternary": {
           "aaxis": {
            "gridcolor": "white",
            "linecolor": "white",
            "ticks": ""
           },
           "baxis": {
            "gridcolor": "white",
            "linecolor": "white",
            "ticks": ""
           },
           "bgcolor": "#E5ECF6",
           "caxis": {
            "gridcolor": "white",
            "linecolor": "white",
            "ticks": ""
           }
          },
          "title": {
           "x": 0.05
          },
          "xaxis": {
           "automargin": true,
           "gridcolor": "white",
           "linecolor": "white",
           "ticks": "",
           "title": {
            "standoff": 15
           },
           "zerolinecolor": "white",
           "zerolinewidth": 2
          },
          "yaxis": {
           "automargin": true,
           "gridcolor": "white",
           "linecolor": "white",
           "ticks": "",
           "title": {
            "standoff": 15
           },
           "zerolinecolor": "white",
           "zerolinewidth": 2
          }
         }
        },
        "title": {
         "text": "Comparison of Driver Acceptance Rates"
        },
        "width": 900,
        "xaxis": {
         "anchor": "y",
         "domain": [
          0,
          1
         ],
         "tickangle": 0,
         "title": {
          "text": "Category"
         }
        },
        "yaxis": {
         "anchor": "x",
         "domain": [
          0,
          1
         ],
         "title": {
          "text": "Acceptance Rate (%)"
         }
        }
       }
      },
      "text/html": [
       "<div>                            <div id=\"4e4e0f8f-3ad8-4e44-9ff2-afb31c8bb685\" class=\"plotly-graph-div\" style=\"height:700px; width:900px;\"></div>            <script type=\"text/javascript\">                require([\"plotly\"], function(Plotly) {                    window.PLOTLYENV=window.PLOTLYENV || {};                                    if (document.getElementById(\"4e4e0f8f-3ad8-4e44-9ff2-afb31c8bb685\")) {                    Plotly.newPlot(                        \"4e4e0f8f-3ad8-4e44-9ff2-afb31c8bb685\",                        [{\"alignmentgroup\":\"True\",\"hovertemplate\":\"Legend Description=CoffeeHouse Visits \\u003e 1 per Month and \\u003cbr\\u003e Age below 30 and Single\\u003cbr\\u003e\\u003cbr\\u003eCategory=%{x}\\u003cbr\\u003eAcceptance Rate (%)=%{text}\\u003cextra\\u003e\\u003c\\u002fextra\\u003e\",\"legendgroup\":\"CoffeeHouse Visits \\u003e 1 per Month and \\u003cbr\\u003e Age below 30 and Single\\u003cbr\\u003e\",\"marker\":{\"color\":\"rgb(102,194,165)\",\"pattern\":{\"shape\":\"\"}},\"name\":\"CoffeeHouse Visits \\u003e 1 per Month and \\u003cbr\\u003e Age below 30 and Single\\u003cbr\\u003e\",\"offsetgroup\":\"CoffeeHouse Visits \\u003e 1 per Month and \\u003cbr\\u003e Age below 30 and Single\\u003cbr\\u003e\",\"orientation\":\"v\",\"showlegend\":true,\"text\":[15.53],\"textposition\":\"outside\",\"x\":[\"Group 8\"],\"xaxis\":\"x\",\"y\":[15.53],\"yaxis\":\"y\",\"type\":\"bar\"},{\"alignmentgroup\":\"True\",\"hovertemplate\":\"Legend Description=CoffeeHouse Visits \\u003c 1 per month and \\u003cbr\\u003e Age over 30 and Not Single\\u003cbr\\u003e\\u003cbr\\u003eCategory=%{x}\\u003cbr\\u003eAcceptance Rate (%)=%{text}\\u003cextra\\u003e\\u003c\\u002fextra\\u003e\",\"legendgroup\":\"CoffeeHouse Visits \\u003c 1 per month and \\u003cbr\\u003e Age over 30 and Not Single\\u003cbr\\u003e\",\"marker\":{\"color\":\"rgb(252,141,98)\",\"pattern\":{\"shape\":\"\"}},\"name\":\"CoffeeHouse Visits \\u003c 1 per month and \\u003cbr\\u003e Age over 30 and Not Single\\u003cbr\\u003e\",\"offsetgroup\":\"CoffeeHouse Visits \\u003c 1 per month and \\u003cbr\\u003e Age over 30 and Not Single\\u003cbr\\u003e\",\"orientation\":\"v\",\"showlegend\":true,\"text\":[16.64],\"textposition\":\"outside\",\"x\":[\"Group 9\"],\"xaxis\":\"x\",\"y\":[16.64],\"yaxis\":\"y\",\"type\":\"bar\"},{\"alignmentgroup\":\"True\",\"hovertemplate\":\"Legend Description=CoffeeHouse Visits \\u003c 1 per month and \\u003cbr\\u003e Age below 30 and Not Single\\u003cbr\\u003e\\u003cbr\\u003eCategory=%{x}\\u003cbr\\u003eAcceptance Rate (%)=%{text}\\u003cextra\\u003e\\u003c\\u002fextra\\u003e\",\"legendgroup\":\"CoffeeHouse Visits \\u003c 1 per month and \\u003cbr\\u003e Age below 30 and Not Single\\u003cbr\\u003e\",\"marker\":{\"color\":\"rgb(141,160,203)\",\"pattern\":{\"shape\":\"\"}},\"name\":\"CoffeeHouse Visits \\u003c 1 per month and \\u003cbr\\u003e Age below 30 and Not Single\\u003cbr\\u003e\",\"offsetgroup\":\"CoffeeHouse Visits \\u003c 1 per month and \\u003cbr\\u003e Age below 30 and Not Single\\u003cbr\\u003e\",\"orientation\":\"v\",\"showlegend\":true,\"text\":[5.05],\"textposition\":\"outside\",\"x\":[\"Group 10\"],\"xaxis\":\"x\",\"y\":[5.05],\"yaxis\":\"y\",\"type\":\"bar\"},{\"alignmentgroup\":\"True\",\"hovertemplate\":\"Legend Description=CoffeeHouse Visits \\u003e 1 per month and \\u003cbr\\u003e Age over30 and Not Single\\u003cbr\\u003e\\u003cbr\\u003eCategory=%{x}\\u003cbr\\u003eAcceptance Rate (%)=%{text}\\u003cextra\\u003e\\u003c\\u002fextra\\u003e\",\"legendgroup\":\"CoffeeHouse Visits \\u003e 1 per month and \\u003cbr\\u003e Age over30 and Not Single\\u003cbr\\u003e\",\"marker\":{\"color\":\"rgb(231,138,195)\",\"pattern\":{\"shape\":\"\"}},\"name\":\"CoffeeHouse Visits \\u003e 1 per month and \\u003cbr\\u003e Age over30 and Not Single\\u003cbr\\u003e\",\"offsetgroup\":\"CoffeeHouse Visits \\u003e 1 per month and \\u003cbr\\u003e Age over30 and Not Single\\u003cbr\\u003e\",\"orientation\":\"v\",\"showlegend\":true,\"text\":[31.14],\"textposition\":\"outside\",\"x\":[\"Group 11\"],\"xaxis\":\"x\",\"y\":[31.14],\"yaxis\":\"y\",\"type\":\"bar\"},{\"alignmentgroup\":\"True\",\"hovertemplate\":\"Legend Description=CoffeeHouse Visits \\u003c 1 per month and \\u003cbr\\u003e Age below 30 and Single\\u003cbr\\u003e\\u003cbr\\u003eCategory=%{x}\\u003cbr\\u003eAcceptance Rate (%)=%{text}\\u003cextra\\u003e\\u003c\\u002fextra\\u003e\",\"legendgroup\":\"CoffeeHouse Visits \\u003c 1 per month and \\u003cbr\\u003e Age below 30 and Single\\u003cbr\\u003e\",\"marker\":{\"color\":\"rgb(166,216,84)\",\"pattern\":{\"shape\":\"\"}},\"name\":\"CoffeeHouse Visits \\u003c 1 per month and \\u003cbr\\u003e Age below 30 and Single\\u003cbr\\u003e\",\"offsetgroup\":\"CoffeeHouse Visits \\u003c 1 per month and \\u003cbr\\u003e Age below 30 and Single\\u003cbr\\u003e\",\"orientation\":\"v\",\"showlegend\":true,\"text\":[6.05],\"textposition\":\"outside\",\"x\":[\"Group12\"],\"xaxis\":\"x\",\"y\":[6.05],\"yaxis\":\"y\",\"type\":\"bar\"}],                        {\"template\":{\"data\":{\"histogram2dcontour\":[{\"type\":\"histogram2dcontour\",\"colorbar\":{\"outlinewidth\":0,\"ticks\":\"\"},\"colorscale\":[[0.0,\"#0d0887\"],[0.1111111111111111,\"#46039f\"],[0.2222222222222222,\"#7201a8\"],[0.3333333333333333,\"#9c179e\"],[0.4444444444444444,\"#bd3786\"],[0.5555555555555556,\"#d8576b\"],[0.6666666666666666,\"#ed7953\"],[0.7777777777777778,\"#fb9f3a\"],[0.8888888888888888,\"#fdca26\"],[1.0,\"#f0f921\"]]}],\"choropleth\":[{\"type\":\"choropleth\",\"colorbar\":{\"outlinewidth\":0,\"ticks\":\"\"}}],\"histogram2d\":[{\"type\":\"histogram2d\",\"colorbar\":{\"outlinewidth\":0,\"ticks\":\"\"},\"colorscale\":[[0.0,\"#0d0887\"],[0.1111111111111111,\"#46039f\"],[0.2222222222222222,\"#7201a8\"],[0.3333333333333333,\"#9c179e\"],[0.4444444444444444,\"#bd3786\"],[0.5555555555555556,\"#d8576b\"],[0.6666666666666666,\"#ed7953\"],[0.7777777777777778,\"#fb9f3a\"],[0.8888888888888888,\"#fdca26\"],[1.0,\"#f0f921\"]]}],\"heatmap\":[{\"type\":\"heatmap\",\"colorbar\":{\"outlinewidth\":0,\"ticks\":\"\"},\"colorscale\":[[0.0,\"#0d0887\"],[0.1111111111111111,\"#46039f\"],[0.2222222222222222,\"#7201a8\"],[0.3333333333333333,\"#9c179e\"],[0.4444444444444444,\"#bd3786\"],[0.5555555555555556,\"#d8576b\"],[0.6666666666666666,\"#ed7953\"],[0.7777777777777778,\"#fb9f3a\"],[0.8888888888888888,\"#fdca26\"],[1.0,\"#f0f921\"]]}],\"heatmapgl\":[{\"type\":\"heatmapgl\",\"colorbar\":{\"outlinewidth\":0,\"ticks\":\"\"},\"colorscale\":[[0.0,\"#0d0887\"],[0.1111111111111111,\"#46039f\"],[0.2222222222222222,\"#7201a8\"],[0.3333333333333333,\"#9c179e\"],[0.4444444444444444,\"#bd3786\"],[0.5555555555555556,\"#d8576b\"],[0.6666666666666666,\"#ed7953\"],[0.7777777777777778,\"#fb9f3a\"],[0.8888888888888888,\"#fdca26\"],[1.0,\"#f0f921\"]]}],\"contourcarpet\":[{\"type\":\"contourcarpet\",\"colorbar\":{\"outlinewidth\":0,\"ticks\":\"\"}}],\"contour\":[{\"type\":\"contour\",\"colorbar\":{\"outlinewidth\":0,\"ticks\":\"\"},\"colorscale\":[[0.0,\"#0d0887\"],[0.1111111111111111,\"#46039f\"],[0.2222222222222222,\"#7201a8\"],[0.3333333333333333,\"#9c179e\"],[0.4444444444444444,\"#bd3786\"],[0.5555555555555556,\"#d8576b\"],[0.6666666666666666,\"#ed7953\"],[0.7777777777777778,\"#fb9f3a\"],[0.8888888888888888,\"#fdca26\"],[1.0,\"#f0f921\"]]}],\"surface\":[{\"type\":\"surface\",\"colorbar\":{\"outlinewidth\":0,\"ticks\":\"\"},\"colorscale\":[[0.0,\"#0d0887\"],[0.1111111111111111,\"#46039f\"],[0.2222222222222222,\"#7201a8\"],[0.3333333333333333,\"#9c179e\"],[0.4444444444444444,\"#bd3786\"],[0.5555555555555556,\"#d8576b\"],[0.6666666666666666,\"#ed7953\"],[0.7777777777777778,\"#fb9f3a\"],[0.8888888888888888,\"#fdca26\"],[1.0,\"#f0f921\"]]}],\"mesh3d\":[{\"type\":\"mesh3d\",\"colorbar\":{\"outlinewidth\":0,\"ticks\":\"\"}}],\"scatter\":[{\"fillpattern\":{\"fillmode\":\"overlay\",\"size\":10,\"solidity\":0.2},\"type\":\"scatter\"}],\"parcoords\":[{\"type\":\"parcoords\",\"line\":{\"colorbar\":{\"outlinewidth\":0,\"ticks\":\"\"}}}],\"scatterpolargl\":[{\"type\":\"scatterpolargl\",\"marker\":{\"colorbar\":{\"outlinewidth\":0,\"ticks\":\"\"}}}],\"bar\":[{\"error_x\":{\"color\":\"#2a3f5f\"},\"error_y\":{\"color\":\"#2a3f5f\"},\"marker\":{\"line\":{\"color\":\"#E5ECF6\",\"width\":0.5},\"pattern\":{\"fillmode\":\"overlay\",\"size\":10,\"solidity\":0.2}},\"type\":\"bar\"}],\"scattergeo\":[{\"type\":\"scattergeo\",\"marker\":{\"colorbar\":{\"outlinewidth\":0,\"ticks\":\"\"}}}],\"scatterpolar\":[{\"type\":\"scatterpolar\",\"marker\":{\"colorbar\":{\"outlinewidth\":0,\"ticks\":\"\"}}}],\"histogram\":[{\"marker\":{\"pattern\":{\"fillmode\":\"overlay\",\"size\":10,\"solidity\":0.2}},\"type\":\"histogram\"}],\"scattergl\":[{\"type\":\"scattergl\",\"marker\":{\"colorbar\":{\"outlinewidth\":0,\"ticks\":\"\"}}}],\"scatter3d\":[{\"type\":\"scatter3d\",\"line\":{\"colorbar\":{\"outlinewidth\":0,\"ticks\":\"\"}},\"marker\":{\"colorbar\":{\"outlinewidth\":0,\"ticks\":\"\"}}}],\"scattermapbox\":[{\"type\":\"scattermapbox\",\"marker\":{\"colorbar\":{\"outlinewidth\":0,\"ticks\":\"\"}}}],\"scatterternary\":[{\"type\":\"scatterternary\",\"marker\":{\"colorbar\":{\"outlinewidth\":0,\"ticks\":\"\"}}}],\"scattercarpet\":[{\"type\":\"scattercarpet\",\"marker\":{\"colorbar\":{\"outlinewidth\":0,\"ticks\":\"\"}}}],\"carpet\":[{\"aaxis\":{\"endlinecolor\":\"#2a3f5f\",\"gridcolor\":\"white\",\"linecolor\":\"white\",\"minorgridcolor\":\"white\",\"startlinecolor\":\"#2a3f5f\"},\"baxis\":{\"endlinecolor\":\"#2a3f5f\",\"gridcolor\":\"white\",\"linecolor\":\"white\",\"minorgridcolor\":\"white\",\"startlinecolor\":\"#2a3f5f\"},\"type\":\"carpet\"}],\"table\":[{\"cells\":{\"fill\":{\"color\":\"#EBF0F8\"},\"line\":{\"color\":\"white\"}},\"header\":{\"fill\":{\"color\":\"#C8D4E3\"},\"line\":{\"color\":\"white\"}},\"type\":\"table\"}],\"barpolar\":[{\"marker\":{\"line\":{\"color\":\"#E5ECF6\",\"width\":0.5},\"pattern\":{\"fillmode\":\"overlay\",\"size\":10,\"solidity\":0.2}},\"type\":\"barpolar\"}],\"pie\":[{\"automargin\":true,\"type\":\"pie\"}]},\"layout\":{\"autotypenumbers\":\"strict\",\"colorway\":[\"#636efa\",\"#EF553B\",\"#00cc96\",\"#ab63fa\",\"#FFA15A\",\"#19d3f3\",\"#FF6692\",\"#B6E880\",\"#FF97FF\",\"#FECB52\"],\"font\":{\"color\":\"#2a3f5f\"},\"hovermode\":\"closest\",\"hoverlabel\":{\"align\":\"left\"},\"paper_bgcolor\":\"white\",\"plot_bgcolor\":\"#E5ECF6\",\"polar\":{\"bgcolor\":\"#E5ECF6\",\"angularaxis\":{\"gridcolor\":\"white\",\"linecolor\":\"white\",\"ticks\":\"\"},\"radialaxis\":{\"gridcolor\":\"white\",\"linecolor\":\"white\",\"ticks\":\"\"}},\"ternary\":{\"bgcolor\":\"#E5ECF6\",\"aaxis\":{\"gridcolor\":\"white\",\"linecolor\":\"white\",\"ticks\":\"\"},\"baxis\":{\"gridcolor\":\"white\",\"linecolor\":\"white\",\"ticks\":\"\"},\"caxis\":{\"gridcolor\":\"white\",\"linecolor\":\"white\",\"ticks\":\"\"}},\"coloraxis\":{\"colorbar\":{\"outlinewidth\":0,\"ticks\":\"\"}},\"colorscale\":{\"sequential\":[[0.0,\"#0d0887\"],[0.1111111111111111,\"#46039f\"],[0.2222222222222222,\"#7201a8\"],[0.3333333333333333,\"#9c179e\"],[0.4444444444444444,\"#bd3786\"],[0.5555555555555556,\"#d8576b\"],[0.6666666666666666,\"#ed7953\"],[0.7777777777777778,\"#fb9f3a\"],[0.8888888888888888,\"#fdca26\"],[1.0,\"#f0f921\"]],\"sequentialminus\":[[0.0,\"#0d0887\"],[0.1111111111111111,\"#46039f\"],[0.2222222222222222,\"#7201a8\"],[0.3333333333333333,\"#9c179e\"],[0.4444444444444444,\"#bd3786\"],[0.5555555555555556,\"#d8576b\"],[0.6666666666666666,\"#ed7953\"],[0.7777777777777778,\"#fb9f3a\"],[0.8888888888888888,\"#fdca26\"],[1.0,\"#f0f921\"]],\"diverging\":[[0,\"#8e0152\"],[0.1,\"#c51b7d\"],[0.2,\"#de77ae\"],[0.3,\"#f1b6da\"],[0.4,\"#fde0ef\"],[0.5,\"#f7f7f7\"],[0.6,\"#e6f5d0\"],[0.7,\"#b8e186\"],[0.8,\"#7fbc41\"],[0.9,\"#4d9221\"],[1,\"#276419\"]]},\"xaxis\":{\"gridcolor\":\"white\",\"linecolor\":\"white\",\"ticks\":\"\",\"title\":{\"standoff\":15},\"zerolinecolor\":\"white\",\"automargin\":true,\"zerolinewidth\":2},\"yaxis\":{\"gridcolor\":\"white\",\"linecolor\":\"white\",\"ticks\":\"\",\"title\":{\"standoff\":15},\"zerolinecolor\":\"white\",\"automargin\":true,\"zerolinewidth\":2},\"scene\":{\"xaxis\":{\"backgroundcolor\":\"#E5ECF6\",\"gridcolor\":\"white\",\"linecolor\":\"white\",\"showbackground\":true,\"ticks\":\"\",\"zerolinecolor\":\"white\",\"gridwidth\":2},\"yaxis\":{\"backgroundcolor\":\"#E5ECF6\",\"gridcolor\":\"white\",\"linecolor\":\"white\",\"showbackground\":true,\"ticks\":\"\",\"zerolinecolor\":\"white\",\"gridwidth\":2},\"zaxis\":{\"backgroundcolor\":\"#E5ECF6\",\"gridcolor\":\"white\",\"linecolor\":\"white\",\"showbackground\":true,\"ticks\":\"\",\"zerolinecolor\":\"white\",\"gridwidth\":2}},\"shapedefaults\":{\"line\":{\"color\":\"#2a3f5f\"}},\"annotationdefaults\":{\"arrowcolor\":\"#2a3f5f\",\"arrowhead\":0,\"arrowwidth\":1},\"geo\":{\"bgcolor\":\"white\",\"landcolor\":\"#E5ECF6\",\"subunitcolor\":\"white\",\"showland\":true,\"showlakes\":true,\"lakecolor\":\"white\"},\"title\":{\"x\":0.05},\"mapbox\":{\"style\":\"light\"}}},\"xaxis\":{\"anchor\":\"y\",\"domain\":[0.0,1.0],\"title\":{\"text\":\"Category\"},\"tickangle\":0},\"yaxis\":{\"anchor\":\"x\",\"domain\":[0.0,1.0],\"title\":{\"text\":\"Acceptance Rate (%)\"}},\"legend\":{\"title\":{\"text\":\"Legend Description\"},\"tracegroupgap\":0},\"title\":{\"text\":\"Comparison of Driver Acceptance Rates\"},\"barmode\":\"relative\",\"margin\":{\"b\":80},\"width\":900,\"height\":700},                        {\"responsive\": true}                    ).then(function(){\n",
       "                            \n",
       "var gd = document.getElementById('4e4e0f8f-3ad8-4e44-9ff2-afb31c8bb685');\n",
       "var x = new MutationObserver(function (mutations, observer) {{\n",
       "        var display = window.getComputedStyle(gd).display;\n",
       "        if (!display || display === 'none') {{\n",
       "            console.log([gd, 'removed!']);\n",
       "            Plotly.purge(gd);\n",
       "            observer.disconnect();\n",
       "        }}\n",
       "}});\n",
       "\n",
       "// Listen for the removal of the full notebook cells\n",
       "var notebookContainer = gd.closest('#notebook-container');\n",
       "if (notebookContainer) {{\n",
       "    x.observe(notebookContainer, {childList: true});\n",
       "}}\n",
       "\n",
       "// Listen for the clearing of the current output cell\n",
       "var outputEl = gd.closest('.output');\n",
       "if (outputEl) {{\n",
       "    x.observe(outputEl, {childList: true});\n",
       "}}\n",
       "\n",
       "                        })                };                });            </script>        </div>"
      ]
     },
     "metadata": {},
     "output_type": "display_data"
    }
   ],
   "source": [
    "# Create DataFrame \n",
    "data = pd.DataFrame({\n",
    "    'Category': ['Group 8','Group 9','Group 10', 'Group 11', 'Group12'],  \n",
    "    'Acceptance Rate (%)': [RoundedSet8, RoundedSet9,RoundedSet10,RoundedSet11,RoundedSet12],\n",
    "    'Legend Description': [ 'CoffeeHouse Visits > 1 per Month and <br> Age below 30 and Single<br>',\n",
    "                            'CoffeeHouse Visits < 1 per month and <br> Age over 30 and Not Single<br>',\n",
    "                            'CoffeeHouse Visits < 1 per month and <br> Age below 30 and Not Single<br>',\n",
    "                            'CoffeeHouse Visits > 1 per month and <br> Age over30 and Not Single<br>',\n",
    "                            'CoffeeHouse Visits < 1 per month and <br> Age below 30 and Single<br>'\n",
    "                          ] \n",
    "        })\n",
    "\n",
    "# Create bar plot using Plotly\n",
    "fig = px.bar(data, x='Category', y='Acceptance Rate (%)', \n",
    "             title='Comparison of Driver Acceptance Rates',\n",
    "             text='Acceptance Rate (%)', \n",
    "             color='Legend Description', \n",
    "             color_discrete_sequence=px.colors.qualitative.Set2)\n",
    "\n",
    "\n",
    "fig.update_traces(textposition='outside')\n",
    "\n",
    "fig.update_layout(\n",
    "    xaxis_tickangle=0,  \n",
    "    margin=dict(b=80),  \n",
    "    width=900,  \n",
    "    height=700 \n",
    ")\n",
    "\n",
    "# Show figure\n",
    "fig.show()"
   ]
  },
  {
   "cell_type": "markdown",
   "metadata": {},
   "source": [
    "<!-- Hypothessis: \n",
    "\n",
    "1. Group 11: CoffeeHouse Visits > 1 per Month, Age > 30, Not Single) has the highest acceptance rate at 31.14%. Older individuals who are not Single and frequently visit coffee houses are HIGHLY RECEPTIVE to COFFEE coupons. They value their coffee consumption habits over drinking alcoholic beverages on their social gatherings. They probably enjoy coffee during breakfast with family than night outs.\n",
    "\n",
    "2.Group 8: (CoffeeHouse Visits > 1 per Month, Age < 30, Single) has an acceptance rate of 15.53%. Young and single individuals who frequently visit coffeehouses may be SOMEWHAT MOTIVATED by coffee coupons BUT not as much as older, frequent visitors.They may already buy coffee regularly and don’t feel a strong need for discounts. They may be inclined towards specific brands or premium drinks that are likely NOT COVERED by the coupon.\n",
    "\n",
    "Group 10 and Group 12: Group 10 (CoffeeHouse Visits < 1 per Month, Age < 30, Not Single) has the lowest acceptance rate at 5.05%.Group 12 (CoffeeHouse Visits < 1 per Month, Age < 30, Single) also has a low acceptance rate of 6.05%. They are less likely to visit coffeehouses and coffee coupons may not be enticing enough to change their drinking habits. Also, they may not be the morning people, and may prefer other beverages (alcoholic or non-alcoholic) over coffee.\n",
    "\n",
    "Group 9 (CoffeeHouse Visits < 1 per Month, Age > 30, Not Single) has a 16.64% acceptance rate. \n",
    "Even though these individuals do not visit coffeehouses frequently, their COUPON ACCEPTANCE RATE is still HIGHER than younger rare visitors.They may view coffee outings as a special occasion and appreciate a discount.\n",
    "Being NOT SINGLE, they might see coffee as a social or professional activity.\n",
    "\n",
    " \n"
   ]
  }
 ],
 "metadata": {
  "colab": {
   "provenance": []
  },
  "kernelspec": {
   "display_name": "Python 3 (ipykernel)",
   "language": "python",
   "name": "python3"
  },
  "language_info": {
   "codemirror_mode": {
    "name": "ipython",
    "version": 3
   },
   "file_extension": ".py",
   "mimetype": "text/x-python",
   "name": "python",
   "nbconvert_exporter": "python",
   "pygments_lexer": "ipython3",
   "version": "3.11.7"
  }
 },
 "nbformat": 4,
 "nbformat_minor": 1
}
